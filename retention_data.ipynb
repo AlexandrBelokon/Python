{
  "nbformat": 4,
  "nbformat_minor": 0,
  "metadata": {
    "colab": {
      "name": "retention_data.ipynb",
      "provenance": []
    },
    "kernelspec": {
      "name": "python3",
      "display_name": "Python 3"
    },
    "language_info": {
      "name": "python"
    }
  },
  "cells": [
    {
      "cell_type": "code",
      "metadata": {
        "colab": {
          "base_uri": "https://localhost:8080/"
        },
        "id": "UK_xNwApEh81",
        "outputId": "5b431bcf-3095-4e57-b207-419d17ef5181"
      },
      "source": [
        "!gdown --id 1BSHIKQ7rFw5BpTq5nw1UZfjPK_7Mpnbi\n",
        "!mv _sqlite3.cpython-37m-x86_64-linux-gnu.so /usr/lib/python3.7/lib-dynload/\n",
        "import os\n",
        "os.kill(os.getpid(), 9)"
      ],
      "execution_count": null,
      "outputs": [
        {
          "output_type": "stream",
          "name": "stdout",
          "text": [
            "Downloading...\n",
            "From: https://drive.google.com/uc?id=1BSHIKQ7rFw5BpTq5nw1UZfjPK_7Mpnbi\n",
            "To: /content/_sqlite3.cpython-37m-x86_64-linux-gnu.so\n",
            "\r  0% 0.00/6.33M [00:00<?, ?B/s]\r100% 6.33M/6.33M [00:00<00:00, 55.5MB/s]\n"
          ]
        }
      ]
    },
    {
      "cell_type": "markdown",
      "metadata": {
        "id": "SxahPI1QJqcp"
      },
      "source": [
        "Работа с данными\n",
        "\n",
        "В июле провели специальную акцию, направленную на улучшение ретеншена. Новым юзерам слали письмо с купоном. Сработала ли акция?"
      ]
    },
    {
      "cell_type": "markdown",
      "metadata": {
        "id": "oPxbV5H_GX1E"
      },
      "source": [
        "# Import и подключение"
      ]
    },
    {
      "cell_type": "code",
      "metadata": {
        "id": "kVQkAT_-Eid-"
      },
      "source": [
        "import sqlite3\n",
        "import pandas as pd\n",
        "import numpy as np"
      ],
      "execution_count": null,
      "outputs": []
    },
    {
      "cell_type": "code",
      "metadata": {
        "id": "_AXiehtDEigE"
      },
      "source": [
        "con = sqlite3.connect('db')"
      ],
      "execution_count": null,
      "outputs": []
    },
    {
      "cell_type": "code",
      "metadata": {
        "id": "p7ZYLs32EikU"
      },
      "source": [
        "cur = con.cursor()"
      ],
      "execution_count": null,
      "outputs": []
    },
    {
      "cell_type": "code",
      "metadata": {
        "id": "1VgartV6Eimb"
      },
      "source": [
        "def select(sql):\n",
        "  return pd.read_sql(sql,con)"
      ],
      "execution_count": null,
      "outputs": []
    },
    {
      "cell_type": "markdown",
      "metadata": {
        "id": "a-qTGeuZG_he"
      },
      "source": [
        "https://drive.google.com/file/d/1efmNDUGsMpyHTTXK2PXl_32Exk4IdmRX/view?usp=sharing"
      ]
    },
    {
      "cell_type": "markdown",
      "metadata": {
        "id": "swL7IdoVHhys"
      },
      "source": [
        "# Загрузка и обработка данных"
      ]
    },
    {
      "cell_type": "code",
      "metadata": {
        "colab": {
          "base_uri": "https://localhost:8080/"
        },
        "id": "d9dihq1rEios",
        "outputId": "76a0c1c6-982f-4d71-b39c-ce153dd95acf"
      },
      "source": [
        "! gdown --id 1efmNDUGsMpyHTTXK2PXl_32Exk4IdmRX"
      ],
      "execution_count": null,
      "outputs": [
        {
          "output_type": "stream",
          "name": "stdout",
          "text": [
            "Downloading...\n",
            "From: https://drive.google.com/uc?id=1efmNDUGsMpyHTTXK2PXl_32Exk4IdmRX\n",
            "To: /content/analyst_test_transactions_db.csv\n",
            "\r  0% 0.00/3.07M [00:00<?, ?B/s]\r100% 3.07M/3.07M [00:00<00:00, 48.3MB/s]\n"
          ]
        }
      ]
    },
    {
      "cell_type": "code",
      "metadata": {
        "id": "CKY371pfEiq9"
      },
      "source": [
        "df = pd.read_csv('/content/analyst_test_transactions_db.csv')"
      ],
      "execution_count": null,
      "outputs": []
    },
    {
      "cell_type": "code",
      "metadata": {
        "colab": {
          "base_uri": "https://localhost:8080/",
          "height": 206
        },
        "id": "UYmDFr80Eis8",
        "outputId": "03ad243d-176f-4030-ab09-9b32e847ebe8"
      },
      "source": [
        "df.head()"
      ],
      "execution_count": null,
      "outputs": [
        {
          "output_type": "execute_result",
          "data": {
            "text/html": [
              "<div>\n",
              "<style scoped>\n",
              "    .dataframe tbody tr th:only-of-type {\n",
              "        vertical-align: middle;\n",
              "    }\n",
              "\n",
              "    .dataframe tbody tr th {\n",
              "        vertical-align: top;\n",
              "    }\n",
              "\n",
              "    .dataframe thead th {\n",
              "        text-align: right;\n",
              "    }\n",
              "</style>\n",
              "<table border=\"1\" class=\"dataframe\">\n",
              "  <thead>\n",
              "    <tr style=\"text-align: right;\">\n",
              "      <th></th>\n",
              "      <th>user_id</th>\n",
              "      <th>order_id</th>\n",
              "      <th>reg_date</th>\n",
              "      <th>transaction_date</th>\n",
              "      <th>revenue</th>\n",
              "    </tr>\n",
              "  </thead>\n",
              "  <tbody>\n",
              "    <tr>\n",
              "      <th>0</th>\n",
              "      <td>57562</td>\n",
              "      <td>94545.0</td>\n",
              "      <td>2013-12-22</td>\n",
              "      <td>2015-07-16</td>\n",
              "      <td>1088</td>\n",
              "    </tr>\n",
              "    <tr>\n",
              "      <th>1</th>\n",
              "      <td>40047</td>\n",
              "      <td>81824.0</td>\n",
              "      <td>2013-11-24</td>\n",
              "      <td>2015-01-19</td>\n",
              "      <td>1027</td>\n",
              "    </tr>\n",
              "    <tr>\n",
              "      <th>2</th>\n",
              "      <td>48153</td>\n",
              "      <td>144851.0</td>\n",
              "      <td>2015-07-03</td>\n",
              "      <td>2015-10-29</td>\n",
              "      <td>601</td>\n",
              "    </tr>\n",
              "    <tr>\n",
              "      <th>3</th>\n",
              "      <td>54591</td>\n",
              "      <td>116111.0</td>\n",
              "      <td>2013-07-12</td>\n",
              "      <td>2015-04-30</td>\n",
              "      <td>881</td>\n",
              "    </tr>\n",
              "    <tr>\n",
              "      <th>4</th>\n",
              "      <td>39789</td>\n",
              "      <td>134943.0</td>\n",
              "      <td>2013-05-25</td>\n",
              "      <td>2015-07-21</td>\n",
              "      <td>984</td>\n",
              "    </tr>\n",
              "  </tbody>\n",
              "</table>\n",
              "</div>"
            ],
            "text/plain": [
              "   user_id  order_id    reg_date transaction_date  revenue\n",
              "0    57562   94545.0  2013-12-22       2015-07-16     1088\n",
              "1    40047   81824.0  2013-11-24       2015-01-19     1027\n",
              "2    48153  144851.0  2015-07-03       2015-10-29      601\n",
              "3    54591  116111.0  2013-07-12       2015-04-30      881\n",
              "4    39789  134943.0  2013-05-25       2015-07-21      984"
            ]
          },
          "metadata": {},
          "execution_count": 7
        }
      ]
    },
    {
      "cell_type": "code",
      "metadata": {
        "colab": {
          "base_uri": "https://localhost:8080/"
        },
        "id": "M0K4QMe5EivN",
        "outputId": "a69dc33c-c1b7-45c6-eb3d-4874cfe34782"
      },
      "source": [
        "df.info()"
      ],
      "execution_count": null,
      "outputs": [
        {
          "output_type": "stream",
          "name": "stdout",
          "text": [
            "<class 'pandas.core.frame.DataFrame'>\n",
            "RangeIndex: 76857 entries, 0 to 76856\n",
            "Data columns (total 5 columns):\n",
            " #   Column            Non-Null Count  Dtype  \n",
            "---  ------            --------------  -----  \n",
            " 0   user_id           76857 non-null  int64  \n",
            " 1   order_id          76857 non-null  float64\n",
            " 2   reg_date          76857 non-null  object \n",
            " 3   transaction_date  76857 non-null  object \n",
            " 4   revenue           76857 non-null  int64  \n",
            "dtypes: float64(1), int64(2), object(2)\n",
            "memory usage: 2.9+ MB\n"
          ]
        }
      ]
    },
    {
      "cell_type": "code",
      "metadata": {
        "colab": {
          "base_uri": "https://localhost:8080/"
        },
        "id": "Y6H7y1AeEixL",
        "outputId": "5f210443-7391-4eb9-ca78-1cd2363c2051"
      },
      "source": [
        "df['reg_date'].agg(['min','max'])"
      ],
      "execution_count": null,
      "outputs": [
        {
          "output_type": "execute_result",
          "data": {
            "text/plain": [
              "min    1900-01-01\n",
              "max    2015-11-20\n",
              "Name: reg_date, dtype: object"
            ]
          },
          "metadata": {},
          "execution_count": 9
        }
      ]
    },
    {
      "cell_type": "markdown",
      "metadata": {
        "id": "RHbiV3LGH_BN"
      },
      "source": [
        "Переведем даты в нужный формат"
      ]
    },
    {
      "cell_type": "code",
      "metadata": {
        "id": "WM7KpwHsEizi"
      },
      "source": [
        "df['reg_date'] = pd.to_datetime(df['reg_date'],format='%Y-%m-%d')\n",
        "df['transaction_date'] = pd.to_datetime(df['transaction_date'],format='%Y-%m-%d')"
      ],
      "execution_count": null,
      "outputs": []
    },
    {
      "cell_type": "markdown",
      "metadata": {
        "id": "uwngkf0gIFwI"
      },
      "source": [
        "Новый столбец - Месяц регистрации пользователя"
      ]
    },
    {
      "cell_type": "code",
      "metadata": {
        "id": "_FMG16XNEi1t"
      },
      "source": [
        "df['reg_month'] = df['reg_date'].astype('datetime64[M]')"
      ],
      "execution_count": null,
      "outputs": []
    },
    {
      "cell_type": "markdown",
      "metadata": {
        "id": "KfIeIOgQIVmu"
      },
      "source": [
        "Количество регистраций и уникальных юзеров"
      ]
    },
    {
      "cell_type": "code",
      "metadata": {
        "colab": {
          "base_uri": "https://localhost:8080/",
          "height": 1000
        },
        "id": "fwYqedmcEi30",
        "outputId": "0e0128aa-93bd-4ea9-d93a-d6cad9c9ad2f"
      },
      "source": [
        "df.groupby(['reg_month'])['user_id'].agg(['count','nunique'])"
      ],
      "execution_count": null,
      "outputs": [
        {
          "output_type": "execute_result",
          "data": {
            "text/html": [
              "<div>\n",
              "<style scoped>\n",
              "    .dataframe tbody tr th:only-of-type {\n",
              "        vertical-align: middle;\n",
              "    }\n",
              "\n",
              "    .dataframe tbody tr th {\n",
              "        vertical-align: top;\n",
              "    }\n",
              "\n",
              "    .dataframe thead th {\n",
              "        text-align: right;\n",
              "    }\n",
              "</style>\n",
              "<table border=\"1\" class=\"dataframe\">\n",
              "  <thead>\n",
              "    <tr style=\"text-align: right;\">\n",
              "      <th></th>\n",
              "      <th>count</th>\n",
              "      <th>nunique</th>\n",
              "    </tr>\n",
              "    <tr>\n",
              "      <th>reg_month</th>\n",
              "      <th></th>\n",
              "      <th></th>\n",
              "    </tr>\n",
              "  </thead>\n",
              "  <tbody>\n",
              "    <tr>\n",
              "      <th>1900-01-01</th>\n",
              "      <td>53</td>\n",
              "      <td>53</td>\n",
              "    </tr>\n",
              "    <tr>\n",
              "      <th>2012-02-01</th>\n",
              "      <td>9</td>\n",
              "      <td>9</td>\n",
              "    </tr>\n",
              "    <tr>\n",
              "      <th>2012-03-01</th>\n",
              "      <td>362</td>\n",
              "      <td>361</td>\n",
              "    </tr>\n",
              "    <tr>\n",
              "      <th>2012-04-01</th>\n",
              "      <td>370</td>\n",
              "      <td>370</td>\n",
              "    </tr>\n",
              "    <tr>\n",
              "      <th>2012-05-01</th>\n",
              "      <td>301</td>\n",
              "      <td>301</td>\n",
              "    </tr>\n",
              "    <tr>\n",
              "      <th>2012-06-01</th>\n",
              "      <td>445</td>\n",
              "      <td>443</td>\n",
              "    </tr>\n",
              "    <tr>\n",
              "      <th>2012-07-01</th>\n",
              "      <td>370</td>\n",
              "      <td>369</td>\n",
              "    </tr>\n",
              "    <tr>\n",
              "      <th>2012-08-01</th>\n",
              "      <td>271</td>\n",
              "      <td>269</td>\n",
              "    </tr>\n",
              "    <tr>\n",
              "      <th>2012-09-01</th>\n",
              "      <td>356</td>\n",
              "      <td>355</td>\n",
              "    </tr>\n",
              "    <tr>\n",
              "      <th>2012-10-01</th>\n",
              "      <td>367</td>\n",
              "      <td>367</td>\n",
              "    </tr>\n",
              "    <tr>\n",
              "      <th>2012-11-01</th>\n",
              "      <td>272</td>\n",
              "      <td>272</td>\n",
              "    </tr>\n",
              "    <tr>\n",
              "      <th>2012-12-01</th>\n",
              "      <td>538</td>\n",
              "      <td>535</td>\n",
              "    </tr>\n",
              "    <tr>\n",
              "      <th>2013-01-01</th>\n",
              "      <td>418</td>\n",
              "      <td>418</td>\n",
              "    </tr>\n",
              "    <tr>\n",
              "      <th>2013-02-01</th>\n",
              "      <td>654</td>\n",
              "      <td>653</td>\n",
              "    </tr>\n",
              "    <tr>\n",
              "      <th>2013-03-01</th>\n",
              "      <td>1161</td>\n",
              "      <td>1158</td>\n",
              "    </tr>\n",
              "    <tr>\n",
              "      <th>2013-04-01</th>\n",
              "      <td>844</td>\n",
              "      <td>837</td>\n",
              "    </tr>\n",
              "    <tr>\n",
              "      <th>2013-05-01</th>\n",
              "      <td>1081</td>\n",
              "      <td>1076</td>\n",
              "    </tr>\n",
              "    <tr>\n",
              "      <th>2013-06-01</th>\n",
              "      <td>941</td>\n",
              "      <td>931</td>\n",
              "    </tr>\n",
              "    <tr>\n",
              "      <th>2013-07-01</th>\n",
              "      <td>1103</td>\n",
              "      <td>1097</td>\n",
              "    </tr>\n",
              "    <tr>\n",
              "      <th>2013-08-01</th>\n",
              "      <td>1201</td>\n",
              "      <td>1191</td>\n",
              "    </tr>\n",
              "    <tr>\n",
              "      <th>2013-09-01</th>\n",
              "      <td>1004</td>\n",
              "      <td>994</td>\n",
              "    </tr>\n",
              "    <tr>\n",
              "      <th>2013-10-01</th>\n",
              "      <td>822</td>\n",
              "      <td>815</td>\n",
              "    </tr>\n",
              "    <tr>\n",
              "      <th>2013-11-01</th>\n",
              "      <td>1136</td>\n",
              "      <td>1124</td>\n",
              "    </tr>\n",
              "    <tr>\n",
              "      <th>2013-12-01</th>\n",
              "      <td>1584</td>\n",
              "      <td>1566</td>\n",
              "    </tr>\n",
              "    <tr>\n",
              "      <th>2014-01-01</th>\n",
              "      <td>1424</td>\n",
              "      <td>1406</td>\n",
              "    </tr>\n",
              "    <tr>\n",
              "      <th>2014-02-01</th>\n",
              "      <td>1339</td>\n",
              "      <td>1329</td>\n",
              "    </tr>\n",
              "    <tr>\n",
              "      <th>2014-03-01</th>\n",
              "      <td>1520</td>\n",
              "      <td>1505</td>\n",
              "    </tr>\n",
              "    <tr>\n",
              "      <th>2014-04-01</th>\n",
              "      <td>1625</td>\n",
              "      <td>1602</td>\n",
              "    </tr>\n",
              "    <tr>\n",
              "      <th>2014-05-01</th>\n",
              "      <td>1514</td>\n",
              "      <td>1493</td>\n",
              "    </tr>\n",
              "    <tr>\n",
              "      <th>2014-06-01</th>\n",
              "      <td>1911</td>\n",
              "      <td>1892</td>\n",
              "    </tr>\n",
              "    <tr>\n",
              "      <th>2014-07-01</th>\n",
              "      <td>1811</td>\n",
              "      <td>1793</td>\n",
              "    </tr>\n",
              "    <tr>\n",
              "      <th>2014-08-01</th>\n",
              "      <td>2395</td>\n",
              "      <td>2348</td>\n",
              "    </tr>\n",
              "    <tr>\n",
              "      <th>2014-09-01</th>\n",
              "      <td>2593</td>\n",
              "      <td>2544</td>\n",
              "    </tr>\n",
              "    <tr>\n",
              "      <th>2014-10-01</th>\n",
              "      <td>2967</td>\n",
              "      <td>2909</td>\n",
              "    </tr>\n",
              "    <tr>\n",
              "      <th>2014-11-01</th>\n",
              "      <td>2946</td>\n",
              "      <td>2883</td>\n",
              "    </tr>\n",
              "    <tr>\n",
              "      <th>2014-12-01</th>\n",
              "      <td>4713</td>\n",
              "      <td>4556</td>\n",
              "    </tr>\n",
              "    <tr>\n",
              "      <th>2015-01-01</th>\n",
              "      <td>4195</td>\n",
              "      <td>4083</td>\n",
              "    </tr>\n",
              "    <tr>\n",
              "      <th>2015-02-01</th>\n",
              "      <td>3652</td>\n",
              "      <td>3570</td>\n",
              "    </tr>\n",
              "    <tr>\n",
              "      <th>2015-03-01</th>\n",
              "      <td>3646</td>\n",
              "      <td>3557</td>\n",
              "    </tr>\n",
              "    <tr>\n",
              "      <th>2015-04-01</th>\n",
              "      <td>3411</td>\n",
              "      <td>3327</td>\n",
              "    </tr>\n",
              "    <tr>\n",
              "      <th>2015-05-01</th>\n",
              "      <td>2706</td>\n",
              "      <td>2652</td>\n",
              "    </tr>\n",
              "    <tr>\n",
              "      <th>2015-06-01</th>\n",
              "      <td>3568</td>\n",
              "      <td>3477</td>\n",
              "    </tr>\n",
              "    <tr>\n",
              "      <th>2015-07-01</th>\n",
              "      <td>4376</td>\n",
              "      <td>4236</td>\n",
              "    </tr>\n",
              "    <tr>\n",
              "      <th>2015-08-01</th>\n",
              "      <td>3319</td>\n",
              "      <td>3230</td>\n",
              "    </tr>\n",
              "    <tr>\n",
              "      <th>2015-09-01</th>\n",
              "      <td>2422</td>\n",
              "      <td>2398</td>\n",
              "    </tr>\n",
              "    <tr>\n",
              "      <th>2015-10-01</th>\n",
              "      <td>2239</td>\n",
              "      <td>2209</td>\n",
              "    </tr>\n",
              "    <tr>\n",
              "      <th>2015-11-01</th>\n",
              "      <td>902</td>\n",
              "      <td>898</td>\n",
              "    </tr>\n",
              "  </tbody>\n",
              "</table>\n",
              "</div>"
            ],
            "text/plain": [
              "            count  nunique\n",
              "reg_month                 \n",
              "1900-01-01     53       53\n",
              "2012-02-01      9        9\n",
              "2012-03-01    362      361\n",
              "2012-04-01    370      370\n",
              "2012-05-01    301      301\n",
              "2012-06-01    445      443\n",
              "2012-07-01    370      369\n",
              "2012-08-01    271      269\n",
              "2012-09-01    356      355\n",
              "2012-10-01    367      367\n",
              "2012-11-01    272      272\n",
              "2012-12-01    538      535\n",
              "2013-01-01    418      418\n",
              "2013-02-01    654      653\n",
              "2013-03-01   1161     1158\n",
              "2013-04-01    844      837\n",
              "2013-05-01   1081     1076\n",
              "2013-06-01    941      931\n",
              "2013-07-01   1103     1097\n",
              "2013-08-01   1201     1191\n",
              "2013-09-01   1004      994\n",
              "2013-10-01    822      815\n",
              "2013-11-01   1136     1124\n",
              "2013-12-01   1584     1566\n",
              "2014-01-01   1424     1406\n",
              "2014-02-01   1339     1329\n",
              "2014-03-01   1520     1505\n",
              "2014-04-01   1625     1602\n",
              "2014-05-01   1514     1493\n",
              "2014-06-01   1911     1892\n",
              "2014-07-01   1811     1793\n",
              "2014-08-01   2395     2348\n",
              "2014-09-01   2593     2544\n",
              "2014-10-01   2967     2909\n",
              "2014-11-01   2946     2883\n",
              "2014-12-01   4713     4556\n",
              "2015-01-01   4195     4083\n",
              "2015-02-01   3652     3570\n",
              "2015-03-01   3646     3557\n",
              "2015-04-01   3411     3327\n",
              "2015-05-01   2706     2652\n",
              "2015-06-01   3568     3477\n",
              "2015-07-01   4376     4236\n",
              "2015-08-01   3319     3230\n",
              "2015-09-01   2422     2398\n",
              "2015-10-01   2239     2209\n",
              "2015-11-01    902      898"
            ]
          },
          "metadata": {},
          "execution_count": 12
        }
      ]
    },
    {
      "cell_type": "markdown",
      "metadata": {
        "id": "jCzx4gSvIxwL"
      },
      "source": [
        "Месяц транзакции"
      ]
    },
    {
      "cell_type": "code",
      "metadata": {
        "id": "sPjjI34hEi58"
      },
      "source": [
        "df['transaction_month'] = df['transaction_date'].astype('datetime64[M]')"
      ],
      "execution_count": null,
      "outputs": []
    },
    {
      "cell_type": "markdown",
      "metadata": {
        "id": "0NUs13JGKsyX"
      },
      "source": [
        "Количество покупок и покупателей"
      ]
    },
    {
      "cell_type": "code",
      "metadata": {
        "colab": {
          "base_uri": "https://localhost:8080/",
          "height": 426
        },
        "id": "9zq5SwkTEi8E",
        "outputId": "ad1bb7e2-6d1c-4a37-cfb3-62d78cf00a3c"
      },
      "source": [
        "df.groupby(['transaction_month'])['user_id'].agg(['count','nunique'])"
      ],
      "execution_count": null,
      "outputs": [
        {
          "output_type": "execute_result",
          "data": {
            "text/html": [
              "<div>\n",
              "<style scoped>\n",
              "    .dataframe tbody tr th:only-of-type {\n",
              "        vertical-align: middle;\n",
              "    }\n",
              "\n",
              "    .dataframe tbody tr th {\n",
              "        vertical-align: top;\n",
              "    }\n",
              "\n",
              "    .dataframe thead th {\n",
              "        text-align: right;\n",
              "    }\n",
              "</style>\n",
              "<table border=\"1\" class=\"dataframe\">\n",
              "  <thead>\n",
              "    <tr style=\"text-align: right;\">\n",
              "      <th></th>\n",
              "      <th>count</th>\n",
              "      <th>nunique</th>\n",
              "    </tr>\n",
              "    <tr>\n",
              "      <th>transaction_month</th>\n",
              "      <th></th>\n",
              "      <th></th>\n",
              "    </tr>\n",
              "  </thead>\n",
              "  <tbody>\n",
              "    <tr>\n",
              "      <th>2015-01-01</th>\n",
              "      <td>4058</td>\n",
              "      <td>3951</td>\n",
              "    </tr>\n",
              "    <tr>\n",
              "      <th>2015-02-01</th>\n",
              "      <td>4932</td>\n",
              "      <td>4777</td>\n",
              "    </tr>\n",
              "    <tr>\n",
              "      <th>2015-03-01</th>\n",
              "      <td>5824</td>\n",
              "      <td>5599</td>\n",
              "    </tr>\n",
              "    <tr>\n",
              "      <th>2015-04-01</th>\n",
              "      <td>6102</td>\n",
              "      <td>5862</td>\n",
              "    </tr>\n",
              "    <tr>\n",
              "      <th>2015-05-01</th>\n",
              "      <td>6339</td>\n",
              "      <td>6063</td>\n",
              "    </tr>\n",
              "    <tr>\n",
              "      <th>2015-06-01</th>\n",
              "      <td>6829</td>\n",
              "      <td>6480</td>\n",
              "    </tr>\n",
              "    <tr>\n",
              "      <th>2015-07-01</th>\n",
              "      <td>7520</td>\n",
              "      <td>7166</td>\n",
              "    </tr>\n",
              "    <tr>\n",
              "      <th>2015-08-01</th>\n",
              "      <td>8598</td>\n",
              "      <td>8110</td>\n",
              "    </tr>\n",
              "    <tr>\n",
              "      <th>2015-09-01</th>\n",
              "      <td>8468</td>\n",
              "      <td>7964</td>\n",
              "    </tr>\n",
              "    <tr>\n",
              "      <th>2015-10-01</th>\n",
              "      <td>10492</td>\n",
              "      <td>9743</td>\n",
              "    </tr>\n",
              "    <tr>\n",
              "      <th>2015-11-01</th>\n",
              "      <td>7695</td>\n",
              "      <td>7317</td>\n",
              "    </tr>\n",
              "  </tbody>\n",
              "</table>\n",
              "</div>"
            ],
            "text/plain": [
              "                   count  nunique\n",
              "transaction_month                \n",
              "2015-01-01          4058     3951\n",
              "2015-02-01          4932     4777\n",
              "2015-03-01          5824     5599\n",
              "2015-04-01          6102     5862\n",
              "2015-05-01          6339     6063\n",
              "2015-06-01          6829     6480\n",
              "2015-07-01          7520     7166\n",
              "2015-08-01          8598     8110\n",
              "2015-09-01          8468     7964\n",
              "2015-10-01         10492     9743\n",
              "2015-11-01          7695     7317"
            ]
          },
          "metadata": {},
          "execution_count": 14
        }
      ]
    },
    {
      "cell_type": "markdown",
      "metadata": {
        "id": "IGa38b4CLZ0r"
      },
      "source": [
        "Уникальные users"
      ]
    },
    {
      "cell_type": "code",
      "metadata": {
        "colab": {
          "base_uri": "https://localhost:8080/"
        },
        "id": "Wuab8fhvEi-U",
        "outputId": "b1c6b5b2-1784-4879-e969-de015d428f8f"
      },
      "source": [
        "df['user_id'].nunique()"
      ],
      "execution_count": null,
      "outputs": [
        {
          "output_type": "execute_result",
          "data": {
            "text/plain": [
              "48214"
            ]
          },
          "metadata": {},
          "execution_count": 15
        }
      ]
    },
    {
      "cell_type": "markdown",
      "metadata": {
        "id": "uy3FD9rMLcAv"
      },
      "source": [
        "Количество месяцев"
      ]
    },
    {
      "cell_type": "code",
      "metadata": {
        "colab": {
          "base_uri": "https://localhost:8080/"
        },
        "id": "aXE3iol_EjAn",
        "outputId": "1664378c-367c-4376-8dce-16358eca03cd"
      },
      "source": [
        "len(df.groupby(['reg_month'])['user_id'].agg(['count','nunique']))"
      ],
      "execution_count": null,
      "outputs": [
        {
          "output_type": "execute_result",
          "data": {
            "text/plain": [
              "47"
            ]
          },
          "metadata": {},
          "execution_count": 16
        }
      ]
    },
    {
      "cell_type": "markdown",
      "metadata": {
        "id": "I5fggTHbLiJ1"
      },
      "source": [
        "Количество записей при cross join. Каждый месяц жизни пользователя"
      ]
    },
    {
      "cell_type": "code",
      "metadata": {
        "colab": {
          "base_uri": "https://localhost:8080/"
        },
        "id": "CNrqMDBrLA3j",
        "outputId": "d4c53ee5-ef71-4e81-eb32-16c08bc824e8"
      },
      "source": [
        "48214 * 47"
      ],
      "execution_count": null,
      "outputs": [
        {
          "output_type": "execute_result",
          "data": {
            "text/plain": [
              "2266058"
            ]
          },
          "metadata": {},
          "execution_count": 17
        }
      ]
    },
    {
      "cell_type": "code",
      "metadata": {
        "colab": {
          "base_uri": "https://localhost:8080/",
          "height": 282
        },
        "id": "kadFjxumEjC2",
        "outputId": "7cef0027-db3c-4a39-d014-a761ada3f015"
      },
      "source": [
        "df['user_id'].hist(bins=50)"
      ],
      "execution_count": null,
      "outputs": [
        {
          "output_type": "execute_result",
          "data": {
            "text/plain": [
              "<matplotlib.axes._subplots.AxesSubplot at 0x7f8dbd793310>"
            ]
          },
          "metadata": {},
          "execution_count": 18
        },
        {
          "output_type": "display_data",
          "data": {
            "image/png": "[encoded data removed]",
            "text/plain": [
              "<Figure size 432x288 with 1 Axes>"
            ]
          },
          "metadata": {
            "needs_background": "light"
          }
        }
      ]
    },
    {
      "cell_type": "code",
      "metadata": {
        "colab": {
          "base_uri": "https://localhost:8080/",
          "height": 424
        },
        "id": "BhsKK4R7KzbC",
        "outputId": "7f9c7d57-01ee-441e-bf2c-47d6dbd11aab"
      },
      "source": [
        "df[df['user_id']<0]"
      ],
      "execution_count": null,
      "outputs": [
        {
          "output_type": "execute_result",
          "data": {
            "text/html": [
              "<div>\n",
              "<style scoped>\n",
              "    .dataframe tbody tr th:only-of-type {\n",
              "        vertical-align: middle;\n",
              "    }\n",
              "\n",
              "    .dataframe tbody tr th {\n",
              "        vertical-align: top;\n",
              "    }\n",
              "\n",
              "    .dataframe thead th {\n",
              "        text-align: right;\n",
              "    }\n",
              "</style>\n",
              "<table border=\"1\" class=\"dataframe\">\n",
              "  <thead>\n",
              "    <tr style=\"text-align: right;\">\n",
              "      <th></th>\n",
              "      <th>user_id</th>\n",
              "      <th>order_id</th>\n",
              "      <th>reg_date</th>\n",
              "      <th>transaction_date</th>\n",
              "      <th>revenue</th>\n",
              "      <th>reg_month</th>\n",
              "      <th>transaction_month</th>\n",
              "    </tr>\n",
              "  </thead>\n",
              "  <tbody>\n",
              "    <tr>\n",
              "      <th>117</th>\n",
              "      <td>-7670</td>\n",
              "      <td>84002.0</td>\n",
              "      <td>2015-02-09</td>\n",
              "      <td>2015-02-22</td>\n",
              "      <td>808</td>\n",
              "      <td>2015-02-01</td>\n",
              "      <td>2015-02-01</td>\n",
              "    </tr>\n",
              "    <tr>\n",
              "      <th>144</th>\n",
              "      <td>-4741</td>\n",
              "      <td>141322.0</td>\n",
              "      <td>2015-06-15</td>\n",
              "      <td>2015-10-07</td>\n",
              "      <td>728</td>\n",
              "      <td>2015-06-01</td>\n",
              "      <td>2015-10-01</td>\n",
              "    </tr>\n",
              "    <tr>\n",
              "      <th>339</th>\n",
              "      <td>-16994</td>\n",
              "      <td>22456.0</td>\n",
              "      <td>2015-06-13</td>\n",
              "      <td>2015-07-25</td>\n",
              "      <td>878</td>\n",
              "      <td>2015-06-01</td>\n",
              "      <td>2015-07-01</td>\n",
              "    </tr>\n",
              "    <tr>\n",
              "      <th>380</th>\n",
              "      <td>-6927</td>\n",
              "      <td>157109.0</td>\n",
              "      <td>2015-02-07</td>\n",
              "      <td>2015-06-12</td>\n",
              "      <td>727</td>\n",
              "      <td>2015-02-01</td>\n",
              "      <td>2015-06-01</td>\n",
              "    </tr>\n",
              "    <tr>\n",
              "      <th>503</th>\n",
              "      <td>-5446</td>\n",
              "      <td>74254.0</td>\n",
              "      <td>2014-08-08</td>\n",
              "      <td>2015-03-05</td>\n",
              "      <td>711</td>\n",
              "      <td>2014-08-01</td>\n",
              "      <td>2015-03-01</td>\n",
              "    </tr>\n",
              "    <tr>\n",
              "      <th>...</th>\n",
              "      <td>...</td>\n",
              "      <td>...</td>\n",
              "      <td>...</td>\n",
              "      <td>...</td>\n",
              "      <td>...</td>\n",
              "      <td>...</td>\n",
              "      <td>...</td>\n",
              "    </tr>\n",
              "    <tr>\n",
              "      <th>76104</th>\n",
              "      <td>-10718</td>\n",
              "      <td>85345.0</td>\n",
              "      <td>2014-09-12</td>\n",
              "      <td>2015-09-25</td>\n",
              "      <td>783</td>\n",
              "      <td>2014-09-01</td>\n",
              "      <td>2015-09-01</td>\n",
              "    </tr>\n",
              "    <tr>\n",
              "      <th>76133</th>\n",
              "      <td>-2931</td>\n",
              "      <td>137163.0</td>\n",
              "      <td>2014-11-30</td>\n",
              "      <td>2015-05-13</td>\n",
              "      <td>952</td>\n",
              "      <td>2014-11-01</td>\n",
              "      <td>2015-05-01</td>\n",
              "    </tr>\n",
              "    <tr>\n",
              "      <th>76302</th>\n",
              "      <td>-2156</td>\n",
              "      <td>78342.0</td>\n",
              "      <td>2014-09-15</td>\n",
              "      <td>2015-03-11</td>\n",
              "      <td>834</td>\n",
              "      <td>2014-09-01</td>\n",
              "      <td>2015-03-01</td>\n",
              "    </tr>\n",
              "    <tr>\n",
              "      <th>76585</th>\n",
              "      <td>-5397</td>\n",
              "      <td>30581.0</td>\n",
              "      <td>2012-03-11</td>\n",
              "      <td>2015-11-20</td>\n",
              "      <td>1054</td>\n",
              "      <td>2012-03-01</td>\n",
              "      <td>2015-11-01</td>\n",
              "    </tr>\n",
              "    <tr>\n",
              "      <th>76783</th>\n",
              "      <td>-4260</td>\n",
              "      <td>114039.0</td>\n",
              "      <td>2014-06-01</td>\n",
              "      <td>2015-05-15</td>\n",
              "      <td>1093</td>\n",
              "      <td>2014-06-01</td>\n",
              "      <td>2015-05-01</td>\n",
              "    </tr>\n",
              "  </tbody>\n",
              "</table>\n",
              "<p>461 rows × 7 columns</p>\n",
              "</div>"
            ],
            "text/plain": [
              "       user_id  order_id   reg_date  ... revenue  reg_month transaction_month\n",
              "117      -7670   84002.0 2015-02-09  ...     808 2015-02-01        2015-02-01\n",
              "144      -4741  141322.0 2015-06-15  ...     728 2015-06-01        2015-10-01\n",
              "339     -16994   22456.0 2015-06-13  ...     878 2015-06-01        2015-07-01\n",
              "380      -6927  157109.0 2015-02-07  ...     727 2015-02-01        2015-06-01\n",
              "503      -5446   74254.0 2014-08-08  ...     711 2014-08-01        2015-03-01\n",
              "...        ...       ...        ...  ...     ...        ...               ...\n",
              "76104   -10718   85345.0 2014-09-12  ...     783 2014-09-01        2015-09-01\n",
              "76133    -2931  137163.0 2014-11-30  ...     952 2014-11-01        2015-05-01\n",
              "76302    -2156   78342.0 2014-09-15  ...     834 2014-09-01        2015-03-01\n",
              "76585    -5397   30581.0 2012-03-11  ...    1054 2012-03-01        2015-11-01\n",
              "76783    -4260  114039.0 2014-06-01  ...    1093 2014-06-01        2015-05-01\n",
              "\n",
              "[461 rows x 7 columns]"
            ]
          },
          "metadata": {},
          "execution_count": 19
        }
      ]
    },
    {
      "cell_type": "code",
      "metadata": {
        "colab": {
          "base_uri": "https://localhost:8080/",
          "height": 282
        },
        "id": "HHIdKAi1KzYm",
        "outputId": "b17274d9-f1fe-4681-bcd1-5f886e38781d"
      },
      "source": [
        "df['revenue'].hist(bins=50)"
      ],
      "execution_count": null,
      "outputs": [
        {
          "output_type": "execute_result",
          "data": {
            "text/plain": [
              "<matplotlib.axes._subplots.AxesSubplot at 0x7f8dbd1ef990>"
            ]
          },
          "metadata": {},
          "execution_count": 20
        },
        {
          "output_type": "display_data",
          "data": {
            "image/png": "[encoded data removed]",
            "text/plain": [
              "<Figure size 432x288 with 1 Axes>"
            ]
          },
          "metadata": {
            "needs_background": "light"
          }
        }
      ]
    },
    {
      "cell_type": "code",
      "metadata": {
        "colab": {
          "base_uri": "https://localhost:8080/",
          "height": 282
        },
        "id": "S5X0LelWKzW9",
        "outputId": "cb4be948-903e-41f9-f2a2-c9875a0007f9"
      },
      "source": [
        "df['order_id'].hist(bins=50)"
      ],
      "execution_count": null,
      "outputs": [
        {
          "output_type": "execute_result",
          "data": {
            "text/plain": [
              "<matplotlib.axes._subplots.AxesSubplot at 0x7f8dbc642f90>"
            ]
          },
          "metadata": {},
          "execution_count": 21
        },
        {
          "output_type": "display_data",
          "data": {
            "image/png": "[encoded data removed]",
            "text/plain": [
              "<Figure size 432x288 with 1 Axes>"
            ]
          },
          "metadata": {
            "needs_background": "light"
          }
        }
      ]
    },
    {
      "cell_type": "markdown",
      "metadata": {
        "id": "dma7BxIyMM66"
      },
      "source": [
        "Все данные имеют нормальное распределение. Есть отрицательные значения. Данные сгенерированы."
      ]
    },
    {
      "cell_type": "code",
      "metadata": {
        "id": "gNBTArP7KzUm"
      },
      "source": [
        "user = df.groupby('user_id')['reg_month'].min().reset_index()"
      ],
      "execution_count": null,
      "outputs": []
    },
    {
      "cell_type": "code",
      "metadata": {
        "colab": {
          "base_uri": "https://localhost:8080/",
          "height": 424
        },
        "id": "7rAZFoGQKzRq",
        "outputId": "aba05734-2c8a-4d7a-8fa0-01e9a5d743ab"
      },
      "source": [
        "user"
      ],
      "execution_count": null,
      "outputs": [
        {
          "output_type": "execute_result",
          "data": {
            "text/html": [
              "<div>\n",
              "<style scoped>\n",
              "    .dataframe tbody tr th:only-of-type {\n",
              "        vertical-align: middle;\n",
              "    }\n",
              "\n",
              "    .dataframe tbody tr th {\n",
              "        vertical-align: top;\n",
              "    }\n",
              "\n",
              "    .dataframe thead th {\n",
              "        text-align: right;\n",
              "    }\n",
              "</style>\n",
              "<table border=\"1\" class=\"dataframe\">\n",
              "  <thead>\n",
              "    <tr style=\"text-align: right;\">\n",
              "      <th></th>\n",
              "      <th>user_id</th>\n",
              "      <th>reg_month</th>\n",
              "    </tr>\n",
              "  </thead>\n",
              "  <tbody>\n",
              "    <tr>\n",
              "      <th>0</th>\n",
              "      <td>-37599</td>\n",
              "      <td>2015-01-01</td>\n",
              "    </tr>\n",
              "    <tr>\n",
              "      <th>1</th>\n",
              "      <td>-32239</td>\n",
              "      <td>2015-11-01</td>\n",
              "    </tr>\n",
              "    <tr>\n",
              "      <th>2</th>\n",
              "      <td>-29822</td>\n",
              "      <td>2015-07-01</td>\n",
              "    </tr>\n",
              "    <tr>\n",
              "      <th>3</th>\n",
              "      <td>-29531</td>\n",
              "      <td>2014-09-01</td>\n",
              "    </tr>\n",
              "    <tr>\n",
              "      <th>4</th>\n",
              "      <td>-25337</td>\n",
              "      <td>2015-04-01</td>\n",
              "    </tr>\n",
              "    <tr>\n",
              "      <th>...</th>\n",
              "      <td>...</td>\n",
              "      <td>...</td>\n",
              "    </tr>\n",
              "    <tr>\n",
              "      <th>48209</th>\n",
              "      <td>128964</td>\n",
              "      <td>2015-10-01</td>\n",
              "    </tr>\n",
              "    <tr>\n",
              "      <th>48210</th>\n",
              "      <td>130617</td>\n",
              "      <td>2015-02-01</td>\n",
              "    </tr>\n",
              "    <tr>\n",
              "      <th>48211</th>\n",
              "      <td>131071</td>\n",
              "      <td>2012-04-01</td>\n",
              "    </tr>\n",
              "    <tr>\n",
              "      <th>48212</th>\n",
              "      <td>132484</td>\n",
              "      <td>2015-06-01</td>\n",
              "    </tr>\n",
              "    <tr>\n",
              "      <th>48213</th>\n",
              "      <td>138987</td>\n",
              "      <td>2014-10-01</td>\n",
              "    </tr>\n",
              "  </tbody>\n",
              "</table>\n",
              "<p>48214 rows × 2 columns</p>\n",
              "</div>"
            ],
            "text/plain": [
              "       user_id  reg_month\n",
              "0       -37599 2015-01-01\n",
              "1       -32239 2015-11-01\n",
              "2       -29822 2015-07-01\n",
              "3       -29531 2014-09-01\n",
              "4       -25337 2015-04-01\n",
              "...        ...        ...\n",
              "48209   128964 2015-10-01\n",
              "48210   130617 2015-02-01\n",
              "48211   131071 2012-04-01\n",
              "48212   132484 2015-06-01\n",
              "48213   138987 2014-10-01\n",
              "\n",
              "[48214 rows x 2 columns]"
            ]
          },
          "metadata": {},
          "execution_count": 23
        }
      ]
    },
    {
      "cell_type": "code",
      "metadata": {
        "colab": {
          "base_uri": "https://localhost:8080/"
        },
        "id": "M3h6PRw9KzPC",
        "outputId": "a6838e69-6a25-425f-f084-8b2dcade8921"
      },
      "source": [
        "len(df.groupby(['transaction_month'])['user_id'].agg(['count','nunique']))"
      ],
      "execution_count": null,
      "outputs": [
        {
          "output_type": "execute_result",
          "data": {
            "text/plain": [
              "11"
            ]
          },
          "metadata": {},
          "execution_count": 24
        }
      ]
    },
    {
      "cell_type": "code",
      "metadata": {
        "id": "57PLRbWfKzLi"
      },
      "source": [
        "min_date = df['transaction_month'].min()\n",
        "max_date = df['transaction_month'].max()"
      ],
      "execution_count": null,
      "outputs": []
    },
    {
      "cell_type": "markdown",
      "metadata": {
        "id": "5UnOcu_ANalY"
      },
      "source": [
        "Создаем диапазон дат (календарь), чтобы не пропустить ни одного месяца"
      ]
    },
    {
      "cell_type": "code",
      "metadata": {
        "id": "qxqKeQ1UKzIz"
      },
      "source": [
        "month = pd.DataFrame(pd.date_range(min_date,max_date,freq='MS'))"
      ],
      "execution_count": null,
      "outputs": []
    },
    {
      "cell_type": "code",
      "metadata": {
        "colab": {
          "base_uri": "https://localhost:8080/",
          "height": 394
        },
        "id": "kyVjoYe-Nu8L",
        "outputId": "82dd8b6c-9a29-408a-eb18-3442653fc828"
      },
      "source": [
        "month"
      ],
      "execution_count": null,
      "outputs": [
        {
          "output_type": "execute_result",
          "data": {
            "text/html": [
              "<div>\n",
              "<style scoped>\n",
              "    .dataframe tbody tr th:only-of-type {\n",
              "        vertical-align: middle;\n",
              "    }\n",
              "\n",
              "    .dataframe tbody tr th {\n",
              "        vertical-align: top;\n",
              "    }\n",
              "\n",
              "    .dataframe thead th {\n",
              "        text-align: right;\n",
              "    }\n",
              "</style>\n",
              "<table border=\"1\" class=\"dataframe\">\n",
              "  <thead>\n",
              "    <tr style=\"text-align: right;\">\n",
              "      <th></th>\n",
              "      <th>0</th>\n",
              "    </tr>\n",
              "  </thead>\n",
              "  <tbody>\n",
              "    <tr>\n",
              "      <th>0</th>\n",
              "      <td>2015-01-01</td>\n",
              "    </tr>\n",
              "    <tr>\n",
              "      <th>1</th>\n",
              "      <td>2015-02-01</td>\n",
              "    </tr>\n",
              "    <tr>\n",
              "      <th>2</th>\n",
              "      <td>2015-03-01</td>\n",
              "    </tr>\n",
              "    <tr>\n",
              "      <th>3</th>\n",
              "      <td>2015-04-01</td>\n",
              "    </tr>\n",
              "    <tr>\n",
              "      <th>4</th>\n",
              "      <td>2015-05-01</td>\n",
              "    </tr>\n",
              "    <tr>\n",
              "      <th>5</th>\n",
              "      <td>2015-06-01</td>\n",
              "    </tr>\n",
              "    <tr>\n",
              "      <th>6</th>\n",
              "      <td>2015-07-01</td>\n",
              "    </tr>\n",
              "    <tr>\n",
              "      <th>7</th>\n",
              "      <td>2015-08-01</td>\n",
              "    </tr>\n",
              "    <tr>\n",
              "      <th>8</th>\n",
              "      <td>2015-09-01</td>\n",
              "    </tr>\n",
              "    <tr>\n",
              "      <th>9</th>\n",
              "      <td>2015-10-01</td>\n",
              "    </tr>\n",
              "    <tr>\n",
              "      <th>10</th>\n",
              "      <td>2015-11-01</td>\n",
              "    </tr>\n",
              "  </tbody>\n",
              "</table>\n",
              "</div>"
            ],
            "text/plain": [
              "            0\n",
              "0  2015-01-01\n",
              "1  2015-02-01\n",
              "2  2015-03-01\n",
              "3  2015-04-01\n",
              "4  2015-05-01\n",
              "5  2015-06-01\n",
              "6  2015-07-01\n",
              "7  2015-08-01\n",
              "8  2015-09-01\n",
              "9  2015-10-01\n",
              "10 2015-11-01"
            ]
          },
          "metadata": {},
          "execution_count": 27
        }
      ]
    },
    {
      "cell_type": "code",
      "metadata": {
        "id": "ll-_eMN_KzHU"
      },
      "source": [
        "month.columns = ['month']"
      ],
      "execution_count": null,
      "outputs": []
    },
    {
      "cell_type": "markdown",
      "metadata": {
        "id": "2r04VVAROC-v"
      },
      "source": [
        "Ключи для cross join"
      ]
    },
    {
      "cell_type": "code",
      "metadata": {
        "id": "FBilmvSOKzEz"
      },
      "source": [
        "user['key'] = 1\n",
        "month['key'] = 1"
      ],
      "execution_count": null,
      "outputs": []
    },
    {
      "cell_type": "code",
      "metadata": {
        "colab": {
          "base_uri": "https://localhost:8080/",
          "height": 424
        },
        "id": "KtN6BolKN5Wm",
        "outputId": "792447a7-07c3-4dcd-c762-fa3485fba370"
      },
      "source": [
        "user"
      ],
      "execution_count": null,
      "outputs": [
        {
          "output_type": "execute_result",
          "data": {
            "text/html": [
              "<div>\n",
              "<style scoped>\n",
              "    .dataframe tbody tr th:only-of-type {\n",
              "        vertical-align: middle;\n",
              "    }\n",
              "\n",
              "    .dataframe tbody tr th {\n",
              "        vertical-align: top;\n",
              "    }\n",
              "\n",
              "    .dataframe thead th {\n",
              "        text-align: right;\n",
              "    }\n",
              "</style>\n",
              "<table border=\"1\" class=\"dataframe\">\n",
              "  <thead>\n",
              "    <tr style=\"text-align: right;\">\n",
              "      <th></th>\n",
              "      <th>user_id</th>\n",
              "      <th>reg_month</th>\n",
              "      <th>key</th>\n",
              "    </tr>\n",
              "  </thead>\n",
              "  <tbody>\n",
              "    <tr>\n",
              "      <th>0</th>\n",
              "      <td>-37599</td>\n",
              "      <td>2015-01-01</td>\n",
              "      <td>1</td>\n",
              "    </tr>\n",
              "    <tr>\n",
              "      <th>1</th>\n",
              "      <td>-32239</td>\n",
              "      <td>2015-11-01</td>\n",
              "      <td>1</td>\n",
              "    </tr>\n",
              "    <tr>\n",
              "      <th>2</th>\n",
              "      <td>-29822</td>\n",
              "      <td>2015-07-01</td>\n",
              "      <td>1</td>\n",
              "    </tr>\n",
              "    <tr>\n",
              "      <th>3</th>\n",
              "      <td>-29531</td>\n",
              "      <td>2014-09-01</td>\n",
              "      <td>1</td>\n",
              "    </tr>\n",
              "    <tr>\n",
              "      <th>4</th>\n",
              "      <td>-25337</td>\n",
              "      <td>2015-04-01</td>\n",
              "      <td>1</td>\n",
              "    </tr>\n",
              "    <tr>\n",
              "      <th>...</th>\n",
              "      <td>...</td>\n",
              "      <td>...</td>\n",
              "      <td>...</td>\n",
              "    </tr>\n",
              "    <tr>\n",
              "      <th>48209</th>\n",
              "      <td>128964</td>\n",
              "      <td>2015-10-01</td>\n",
              "      <td>1</td>\n",
              "    </tr>\n",
              "    <tr>\n",
              "      <th>48210</th>\n",
              "      <td>130617</td>\n",
              "      <td>2015-02-01</td>\n",
              "      <td>1</td>\n",
              "    </tr>\n",
              "    <tr>\n",
              "      <th>48211</th>\n",
              "      <td>131071</td>\n",
              "      <td>2012-04-01</td>\n",
              "      <td>1</td>\n",
              "    </tr>\n",
              "    <tr>\n",
              "      <th>48212</th>\n",
              "      <td>132484</td>\n",
              "      <td>2015-06-01</td>\n",
              "      <td>1</td>\n",
              "    </tr>\n",
              "    <tr>\n",
              "      <th>48213</th>\n",
              "      <td>138987</td>\n",
              "      <td>2014-10-01</td>\n",
              "      <td>1</td>\n",
              "    </tr>\n",
              "  </tbody>\n",
              "</table>\n",
              "<p>48214 rows × 3 columns</p>\n",
              "</div>"
            ],
            "text/plain": [
              "       user_id  reg_month  key\n",
              "0       -37599 2015-01-01    1\n",
              "1       -32239 2015-11-01    1\n",
              "2       -29822 2015-07-01    1\n",
              "3       -29531 2014-09-01    1\n",
              "4       -25337 2015-04-01    1\n",
              "...        ...        ...  ...\n",
              "48209   128964 2015-10-01    1\n",
              "48210   130617 2015-02-01    1\n",
              "48211   131071 2012-04-01    1\n",
              "48212   132484 2015-06-01    1\n",
              "48213   138987 2014-10-01    1\n",
              "\n",
              "[48214 rows x 3 columns]"
            ]
          },
          "metadata": {},
          "execution_count": 30
        }
      ]
    },
    {
      "cell_type": "code",
      "metadata": {
        "colab": {
          "base_uri": "https://localhost:8080/",
          "height": 394
        },
        "id": "UDwyUO0xN3gG",
        "outputId": "17c0f819-f9af-42cf-98a1-9442dfb1cb0d"
      },
      "source": [
        "month"
      ],
      "execution_count": null,
      "outputs": [
        {
          "output_type": "execute_result",
          "data": {
            "text/html": [
              "<div>\n",
              "<style scoped>\n",
              "    .dataframe tbody tr th:only-of-type {\n",
              "        vertical-align: middle;\n",
              "    }\n",
              "\n",
              "    .dataframe tbody tr th {\n",
              "        vertical-align: top;\n",
              "    }\n",
              "\n",
              "    .dataframe thead th {\n",
              "        text-align: right;\n",
              "    }\n",
              "</style>\n",
              "<table border=\"1\" class=\"dataframe\">\n",
              "  <thead>\n",
              "    <tr style=\"text-align: right;\">\n",
              "      <th></th>\n",
              "      <th>month</th>\n",
              "      <th>key</th>\n",
              "    </tr>\n",
              "  </thead>\n",
              "  <tbody>\n",
              "    <tr>\n",
              "      <th>0</th>\n",
              "      <td>2015-01-01</td>\n",
              "      <td>1</td>\n",
              "    </tr>\n",
              "    <tr>\n",
              "      <th>1</th>\n",
              "      <td>2015-02-01</td>\n",
              "      <td>1</td>\n",
              "    </tr>\n",
              "    <tr>\n",
              "      <th>2</th>\n",
              "      <td>2015-03-01</td>\n",
              "      <td>1</td>\n",
              "    </tr>\n",
              "    <tr>\n",
              "      <th>3</th>\n",
              "      <td>2015-04-01</td>\n",
              "      <td>1</td>\n",
              "    </tr>\n",
              "    <tr>\n",
              "      <th>4</th>\n",
              "      <td>2015-05-01</td>\n",
              "      <td>1</td>\n",
              "    </tr>\n",
              "    <tr>\n",
              "      <th>5</th>\n",
              "      <td>2015-06-01</td>\n",
              "      <td>1</td>\n",
              "    </tr>\n",
              "    <tr>\n",
              "      <th>6</th>\n",
              "      <td>2015-07-01</td>\n",
              "      <td>1</td>\n",
              "    </tr>\n",
              "    <tr>\n",
              "      <th>7</th>\n",
              "      <td>2015-08-01</td>\n",
              "      <td>1</td>\n",
              "    </tr>\n",
              "    <tr>\n",
              "      <th>8</th>\n",
              "      <td>2015-09-01</td>\n",
              "      <td>1</td>\n",
              "    </tr>\n",
              "    <tr>\n",
              "      <th>9</th>\n",
              "      <td>2015-10-01</td>\n",
              "      <td>1</td>\n",
              "    </tr>\n",
              "    <tr>\n",
              "      <th>10</th>\n",
              "      <td>2015-11-01</td>\n",
              "      <td>1</td>\n",
              "    </tr>\n",
              "  </tbody>\n",
              "</table>\n",
              "</div>"
            ],
            "text/plain": [
              "        month  key\n",
              "0  2015-01-01    1\n",
              "1  2015-02-01    1\n",
              "2  2015-03-01    1\n",
              "3  2015-04-01    1\n",
              "4  2015-05-01    1\n",
              "5  2015-06-01    1\n",
              "6  2015-07-01    1\n",
              "7  2015-08-01    1\n",
              "8  2015-09-01    1\n",
              "9  2015-10-01    1\n",
              "10 2015-11-01    1"
            ]
          },
          "metadata": {},
          "execution_count": 31
        }
      ]
    },
    {
      "cell_type": "code",
      "metadata": {
        "id": "ox0Y29ySMkpt"
      },
      "source": [
        "template = user.merge(month,on='key')[['user_id','reg_month','month']]"
      ],
      "execution_count": null,
      "outputs": []
    },
    {
      "cell_type": "code",
      "metadata": {
        "colab": {
          "base_uri": "https://localhost:8080/",
          "height": 424
        },
        "id": "M1f0RrK6OjwW",
        "outputId": "0f0c37dc-60ee-4e1c-ce9f-f6c7833357c6"
      },
      "source": [
        "template"
      ],
      "execution_count": null,
      "outputs": [
        {
          "output_type": "execute_result",
          "data": {
            "text/html": [
              "<div>\n",
              "<style scoped>\n",
              "    .dataframe tbody tr th:only-of-type {\n",
              "        vertical-align: middle;\n",
              "    }\n",
              "\n",
              "    .dataframe tbody tr th {\n",
              "        vertical-align: top;\n",
              "    }\n",
              "\n",
              "    .dataframe thead th {\n",
              "        text-align: right;\n",
              "    }\n",
              "</style>\n",
              "<table border=\"1\" class=\"dataframe\">\n",
              "  <thead>\n",
              "    <tr style=\"text-align: right;\">\n",
              "      <th></th>\n",
              "      <th>user_id</th>\n",
              "      <th>reg_month</th>\n",
              "      <th>month</th>\n",
              "    </tr>\n",
              "  </thead>\n",
              "  <tbody>\n",
              "    <tr>\n",
              "      <th>0</th>\n",
              "      <td>-37599</td>\n",
              "      <td>2015-01-01</td>\n",
              "      <td>2015-01-01</td>\n",
              "    </tr>\n",
              "    <tr>\n",
              "      <th>1</th>\n",
              "      <td>-37599</td>\n",
              "      <td>2015-01-01</td>\n",
              "      <td>2015-02-01</td>\n",
              "    </tr>\n",
              "    <tr>\n",
              "      <th>2</th>\n",
              "      <td>-37599</td>\n",
              "      <td>2015-01-01</td>\n",
              "      <td>2015-03-01</td>\n",
              "    </tr>\n",
              "    <tr>\n",
              "      <th>3</th>\n",
              "      <td>-37599</td>\n",
              "      <td>2015-01-01</td>\n",
              "      <td>2015-04-01</td>\n",
              "    </tr>\n",
              "    <tr>\n",
              "      <th>4</th>\n",
              "      <td>-37599</td>\n",
              "      <td>2015-01-01</td>\n",
              "      <td>2015-05-01</td>\n",
              "    </tr>\n",
              "    <tr>\n",
              "      <th>...</th>\n",
              "      <td>...</td>\n",
              "      <td>...</td>\n",
              "      <td>...</td>\n",
              "    </tr>\n",
              "    <tr>\n",
              "      <th>530349</th>\n",
              "      <td>138987</td>\n",
              "      <td>2014-10-01</td>\n",
              "      <td>2015-07-01</td>\n",
              "    </tr>\n",
              "    <tr>\n",
              "      <th>530350</th>\n",
              "      <td>138987</td>\n",
              "      <td>2014-10-01</td>\n",
              "      <td>2015-08-01</td>\n",
              "    </tr>\n",
              "    <tr>\n",
              "      <th>530351</th>\n",
              "      <td>138987</td>\n",
              "      <td>2014-10-01</td>\n",
              "      <td>2015-09-01</td>\n",
              "    </tr>\n",
              "    <tr>\n",
              "      <th>530352</th>\n",
              "      <td>138987</td>\n",
              "      <td>2014-10-01</td>\n",
              "      <td>2015-10-01</td>\n",
              "    </tr>\n",
              "    <tr>\n",
              "      <th>530353</th>\n",
              "      <td>138987</td>\n",
              "      <td>2014-10-01</td>\n",
              "      <td>2015-11-01</td>\n",
              "    </tr>\n",
              "  </tbody>\n",
              "</table>\n",
              "<p>530354 rows × 3 columns</p>\n",
              "</div>"
            ],
            "text/plain": [
              "        user_id  reg_month      month\n",
              "0        -37599 2015-01-01 2015-01-01\n",
              "1        -37599 2015-01-01 2015-02-01\n",
              "2        -37599 2015-01-01 2015-03-01\n",
              "3        -37599 2015-01-01 2015-04-01\n",
              "4        -37599 2015-01-01 2015-05-01\n",
              "...         ...        ...        ...\n",
              "530349   138987 2014-10-01 2015-07-01\n",
              "530350   138987 2014-10-01 2015-08-01\n",
              "530351   138987 2014-10-01 2015-09-01\n",
              "530352   138987 2014-10-01 2015-10-01\n",
              "530353   138987 2014-10-01 2015-11-01\n",
              "\n",
              "[530354 rows x 3 columns]"
            ]
          },
          "metadata": {},
          "execution_count": 33
        }
      ]
    },
    {
      "cell_type": "code",
      "metadata": {
        "colab": {
          "base_uri": "https://localhost:8080/"
        },
        "id": "bhpO14OvMknW",
        "outputId": "3d236418-72b8-4f85-da7f-30e8bfd140e7"
      },
      "source": [
        "len(template)"
      ],
      "execution_count": null,
      "outputs": [
        {
          "output_type": "execute_result",
          "data": {
            "text/plain": [
              "530354"
            ]
          },
          "metadata": {},
          "execution_count": 34
        }
      ]
    },
    {
      "cell_type": "code",
      "metadata": {
        "id": "dqwQglHyMklX"
      },
      "source": [
        "template = template[template['month'] >= template['reg_month']]"
      ],
      "execution_count": null,
      "outputs": []
    },
    {
      "cell_type": "code",
      "metadata": {
        "colab": {
          "base_uri": "https://localhost:8080/"
        },
        "id": "iXfx4Zd8Mki-",
        "outputId": "7ab0a19c-b8e7-449f-c790-ce8468016a21"
      },
      "source": [
        "len(template)"
      ],
      "execution_count": null,
      "outputs": [
        {
          "output_type": "execute_result",
          "data": {
            "text/plain": [
              "467625"
            ]
          },
          "metadata": {},
          "execution_count": 36
        }
      ]
    },
    {
      "cell_type": "markdown",
      "metadata": {
        "id": "FdT-mMS3O-4f"
      },
      "source": [
        "Транзакции по месяцу"
      ]
    },
    {
      "cell_type": "code",
      "metadata": {
        "id": "IMDFOaCVMkg4"
      },
      "source": [
        "trans_month = df.groupby(['user_id','transaction_month'])['revenue'].sum().reset_index()"
      ],
      "execution_count": null,
      "outputs": []
    },
    {
      "cell_type": "code",
      "metadata": {
        "id": "ObvwYrskMkej"
      },
      "source": [
        "trans_month.columns = ['user_id','month','revenue']"
      ],
      "execution_count": null,
      "outputs": []
    },
    {
      "cell_type": "code",
      "metadata": {
        "colab": {
          "base_uri": "https://localhost:8080/",
          "height": 424
        },
        "id": "3Te98t2NO4N7",
        "outputId": "f5475e72-5aa7-4438-f34d-9e7389f61c50"
      },
      "source": [
        "trans_month"
      ],
      "execution_count": null,
      "outputs": [
        {
          "output_type": "execute_result",
          "data": {
            "text/html": [
              "<div>\n",
              "<style scoped>\n",
              "    .dataframe tbody tr th:only-of-type {\n",
              "        vertical-align: middle;\n",
              "    }\n",
              "\n",
              "    .dataframe tbody tr th {\n",
              "        vertical-align: top;\n",
              "    }\n",
              "\n",
              "    .dataframe thead th {\n",
              "        text-align: right;\n",
              "    }\n",
              "</style>\n",
              "<table border=\"1\" class=\"dataframe\">\n",
              "  <thead>\n",
              "    <tr style=\"text-align: right;\">\n",
              "      <th></th>\n",
              "      <th>user_id</th>\n",
              "      <th>month</th>\n",
              "      <th>revenue</th>\n",
              "    </tr>\n",
              "  </thead>\n",
              "  <tbody>\n",
              "    <tr>\n",
              "      <th>0</th>\n",
              "      <td>-37599</td>\n",
              "      <td>2015-03-01</td>\n",
              "      <td>1182</td>\n",
              "    </tr>\n",
              "    <tr>\n",
              "      <th>1</th>\n",
              "      <td>-32239</td>\n",
              "      <td>2015-11-01</td>\n",
              "      <td>727</td>\n",
              "    </tr>\n",
              "    <tr>\n",
              "      <th>2</th>\n",
              "      <td>-29822</td>\n",
              "      <td>2015-09-01</td>\n",
              "      <td>908</td>\n",
              "    </tr>\n",
              "    <tr>\n",
              "      <th>3</th>\n",
              "      <td>-29531</td>\n",
              "      <td>2015-06-01</td>\n",
              "      <td>1462</td>\n",
              "    </tr>\n",
              "    <tr>\n",
              "      <th>4</th>\n",
              "      <td>-25337</td>\n",
              "      <td>2015-07-01</td>\n",
              "      <td>899</td>\n",
              "    </tr>\n",
              "    <tr>\n",
              "      <th>...</th>\n",
              "      <td>...</td>\n",
              "      <td>...</td>\n",
              "      <td>...</td>\n",
              "    </tr>\n",
              "    <tr>\n",
              "      <th>73027</th>\n",
              "      <td>128964</td>\n",
              "      <td>2015-10-01</td>\n",
              "      <td>1049</td>\n",
              "    </tr>\n",
              "    <tr>\n",
              "      <th>73028</th>\n",
              "      <td>130617</td>\n",
              "      <td>2015-06-01</td>\n",
              "      <td>1295</td>\n",
              "    </tr>\n",
              "    <tr>\n",
              "      <th>73029</th>\n",
              "      <td>131071</td>\n",
              "      <td>2015-10-01</td>\n",
              "      <td>856</td>\n",
              "    </tr>\n",
              "    <tr>\n",
              "      <th>73030</th>\n",
              "      <td>132484</td>\n",
              "      <td>2015-08-01</td>\n",
              "      <td>747</td>\n",
              "    </tr>\n",
              "    <tr>\n",
              "      <th>73031</th>\n",
              "      <td>138987</td>\n",
              "      <td>2015-06-01</td>\n",
              "      <td>1034</td>\n",
              "    </tr>\n",
              "  </tbody>\n",
              "</table>\n",
              "<p>73032 rows × 3 columns</p>\n",
              "</div>"
            ],
            "text/plain": [
              "       user_id      month  revenue\n",
              "0       -37599 2015-03-01     1182\n",
              "1       -32239 2015-11-01      727\n",
              "2       -29822 2015-09-01      908\n",
              "3       -29531 2015-06-01     1462\n",
              "4       -25337 2015-07-01      899\n",
              "...        ...        ...      ...\n",
              "73027   128964 2015-10-01     1049\n",
              "73028   130617 2015-06-01     1295\n",
              "73029   131071 2015-10-01      856\n",
              "73030   132484 2015-08-01      747\n",
              "73031   138987 2015-06-01     1034\n",
              "\n",
              "[73032 rows x 3 columns]"
            ]
          },
          "metadata": {},
          "execution_count": 39
        }
      ]
    },
    {
      "cell_type": "markdown",
      "metadata": {
        "id": "y6lgtOJ9PQUU"
      },
      "source": [
        "Соеденяем таблицы left join, чтобы у пользователя, который не совершал покупок был Nan(пропуск) в revenue"
      ]
    },
    {
      "cell_type": "code",
      "metadata": {
        "id": "c2d9s9PWMkca"
      },
      "source": [
        "report = template.merge(trans_month,on=['user_id','month'],how='left')"
      ],
      "execution_count": null,
      "outputs": []
    },
    {
      "cell_type": "markdown",
      "metadata": {
        "id": "xh5EzXP-PoZc"
      },
      "source": [
        "Добавлю маркер активности"
      ]
    },
    {
      "cell_type": "code",
      "metadata": {
        "id": "mnfxpesGMkaL"
      },
      "source": [
        "report['active'] = (report['revenue'] > 0)*1"
      ],
      "execution_count": null,
      "outputs": []
    },
    {
      "cell_type": "code",
      "metadata": {
        "colab": {
          "base_uri": "https://localhost:8080/",
          "height": 424
        },
        "id": "yJhHcwY4KzB8",
        "outputId": "c9722d94-1948-4a4c-b89d-b36749958e81"
      },
      "source": [
        "report"
      ],
      "execution_count": null,
      "outputs": [
        {
          "output_type": "execute_result",
          "data": {
            "text/html": [
              "<div>\n",
              "<style scoped>\n",
              "    .dataframe tbody tr th:only-of-type {\n",
              "        vertical-align: middle;\n",
              "    }\n",
              "\n",
              "    .dataframe tbody tr th {\n",
              "        vertical-align: top;\n",
              "    }\n",
              "\n",
              "    .dataframe thead th {\n",
              "        text-align: right;\n",
              "    }\n",
              "</style>\n",
              "<table border=\"1\" class=\"dataframe\">\n",
              "  <thead>\n",
              "    <tr style=\"text-align: right;\">\n",
              "      <th></th>\n",
              "      <th>user_id</th>\n",
              "      <th>reg_month</th>\n",
              "      <th>month</th>\n",
              "      <th>revenue</th>\n",
              "      <th>active</th>\n",
              "    </tr>\n",
              "  </thead>\n",
              "  <tbody>\n",
              "    <tr>\n",
              "      <th>0</th>\n",
              "      <td>-37599</td>\n",
              "      <td>2015-01-01</td>\n",
              "      <td>2015-01-01</td>\n",
              "      <td>NaN</td>\n",
              "      <td>0</td>\n",
              "    </tr>\n",
              "    <tr>\n",
              "      <th>1</th>\n",
              "      <td>-37599</td>\n",
              "      <td>2015-01-01</td>\n",
              "      <td>2015-02-01</td>\n",
              "      <td>NaN</td>\n",
              "      <td>0</td>\n",
              "    </tr>\n",
              "    <tr>\n",
              "      <th>2</th>\n",
              "      <td>-37599</td>\n",
              "      <td>2015-01-01</td>\n",
              "      <td>2015-03-01</td>\n",
              "      <td>1182.0</td>\n",
              "      <td>1</td>\n",
              "    </tr>\n",
              "    <tr>\n",
              "      <th>3</th>\n",
              "      <td>-37599</td>\n",
              "      <td>2015-01-01</td>\n",
              "      <td>2015-04-01</td>\n",
              "      <td>NaN</td>\n",
              "      <td>0</td>\n",
              "    </tr>\n",
              "    <tr>\n",
              "      <th>4</th>\n",
              "      <td>-37599</td>\n",
              "      <td>2015-01-01</td>\n",
              "      <td>2015-05-01</td>\n",
              "      <td>NaN</td>\n",
              "      <td>0</td>\n",
              "    </tr>\n",
              "    <tr>\n",
              "      <th>...</th>\n",
              "      <td>...</td>\n",
              "      <td>...</td>\n",
              "      <td>...</td>\n",
              "      <td>...</td>\n",
              "      <td>...</td>\n",
              "    </tr>\n",
              "    <tr>\n",
              "      <th>467620</th>\n",
              "      <td>138987</td>\n",
              "      <td>2014-10-01</td>\n",
              "      <td>2015-07-01</td>\n",
              "      <td>NaN</td>\n",
              "      <td>0</td>\n",
              "    </tr>\n",
              "    <tr>\n",
              "      <th>467621</th>\n",
              "      <td>138987</td>\n",
              "      <td>2014-10-01</td>\n",
              "      <td>2015-08-01</td>\n",
              "      <td>NaN</td>\n",
              "      <td>0</td>\n",
              "    </tr>\n",
              "    <tr>\n",
              "      <th>467622</th>\n",
              "      <td>138987</td>\n",
              "      <td>2014-10-01</td>\n",
              "      <td>2015-09-01</td>\n",
              "      <td>NaN</td>\n",
              "      <td>0</td>\n",
              "    </tr>\n",
              "    <tr>\n",
              "      <th>467623</th>\n",
              "      <td>138987</td>\n",
              "      <td>2014-10-01</td>\n",
              "      <td>2015-10-01</td>\n",
              "      <td>NaN</td>\n",
              "      <td>0</td>\n",
              "    </tr>\n",
              "    <tr>\n",
              "      <th>467624</th>\n",
              "      <td>138987</td>\n",
              "      <td>2014-10-01</td>\n",
              "      <td>2015-11-01</td>\n",
              "      <td>NaN</td>\n",
              "      <td>0</td>\n",
              "    </tr>\n",
              "  </tbody>\n",
              "</table>\n",
              "<p>467625 rows × 5 columns</p>\n",
              "</div>"
            ],
            "text/plain": [
              "        user_id  reg_month      month  revenue  active\n",
              "0        -37599 2015-01-01 2015-01-01      NaN       0\n",
              "1        -37599 2015-01-01 2015-02-01      NaN       0\n",
              "2        -37599 2015-01-01 2015-03-01   1182.0       1\n",
              "3        -37599 2015-01-01 2015-04-01      NaN       0\n",
              "4        -37599 2015-01-01 2015-05-01      NaN       0\n",
              "...         ...        ...        ...      ...     ...\n",
              "467620   138987 2014-10-01 2015-07-01      NaN       0\n",
              "467621   138987 2014-10-01 2015-08-01      NaN       0\n",
              "467622   138987 2014-10-01 2015-09-01      NaN       0\n",
              "467623   138987 2014-10-01 2015-10-01      NaN       0\n",
              "467624   138987 2014-10-01 2015-11-01      NaN       0\n",
              "\n",
              "[467625 rows x 5 columns]"
            ]
          },
          "metadata": {},
          "execution_count": 42
        }
      ]
    },
    {
      "cell_type": "markdown",
      "metadata": {
        "id": "MV12YyrfSufj"
      },
      "source": [
        "Процент активных пользователей (retention)\n",
        "Оставляю данные >= 2015-01-01, поскольку остальные данные не имеют значения при решении задачи"
      ]
    },
    {
      "cell_type": "code",
      "metadata": {
        "id": "g3ji8px6OqGk"
      },
      "source": [
        "retention = report[report['reg_month'] >= '2015-01-01'].pivot_table(index='reg_month',columns='month',values='active',aggfunc='mean')"
      ],
      "execution_count": null,
      "outputs": []
    },
    {
      "cell_type": "code",
      "metadata": {
        "colab": {
          "base_uri": "https://localhost:8080/",
          "height": 426
        },
        "id": "n-bH1FN5QnlQ",
        "outputId": "42804ff1-c6ca-440d-f513-157ad21ae181"
      },
      "source": [
        "retention"
      ],
      "execution_count": null,
      "outputs": [
        {
          "output_type": "execute_result",
          "data": {
            "text/html": [
              "<div>\n",
              "<style scoped>\n",
              "    .dataframe tbody tr th:only-of-type {\n",
              "        vertical-align: middle;\n",
              "    }\n",
              "\n",
              "    .dataframe tbody tr th {\n",
              "        vertical-align: top;\n",
              "    }\n",
              "\n",
              "    .dataframe thead th {\n",
              "        text-align: right;\n",
              "    }\n",
              "</style>\n",
              "<table border=\"1\" class=\"dataframe\">\n",
              "  <thead>\n",
              "    <tr style=\"text-align: right;\">\n",
              "      <th>month</th>\n",
              "      <th>2015-01-01</th>\n",
              "      <th>2015-02-01</th>\n",
              "      <th>2015-03-01</th>\n",
              "      <th>2015-04-01</th>\n",
              "      <th>2015-05-01</th>\n",
              "      <th>2015-06-01</th>\n",
              "      <th>2015-07-01</th>\n",
              "      <th>2015-08-01</th>\n",
              "      <th>2015-09-01</th>\n",
              "      <th>2015-10-01</th>\n",
              "      <th>2015-11-01</th>\n",
              "    </tr>\n",
              "    <tr>\n",
              "      <th>reg_month</th>\n",
              "      <th></th>\n",
              "      <th></th>\n",
              "      <th></th>\n",
              "      <th></th>\n",
              "      <th></th>\n",
              "      <th></th>\n",
              "      <th></th>\n",
              "      <th></th>\n",
              "      <th></th>\n",
              "      <th></th>\n",
              "      <th></th>\n",
              "    </tr>\n",
              "  </thead>\n",
              "  <tbody>\n",
              "    <tr>\n",
              "      <th>2015-01-01</th>\n",
              "      <td>0.116928</td>\n",
              "      <td>0.116056</td>\n",
              "      <td>0.129581</td>\n",
              "      <td>0.116492</td>\n",
              "      <td>0.115183</td>\n",
              "      <td>0.124782</td>\n",
              "      <td>0.118237</td>\n",
              "      <td>0.131326</td>\n",
              "      <td>0.126091</td>\n",
              "      <td>0.148778</td>\n",
              "      <td>0.114311</td>\n",
              "    </tr>\n",
              "    <tr>\n",
              "      <th>2015-02-01</th>\n",
              "      <td>NaN</td>\n",
              "      <td>0.132856</td>\n",
              "      <td>0.141543</td>\n",
              "      <td>0.135922</td>\n",
              "      <td>0.121615</td>\n",
              "      <td>0.122126</td>\n",
              "      <td>0.119571</td>\n",
              "      <td>0.123659</td>\n",
              "      <td>0.149208</td>\n",
              "      <td>0.163005</td>\n",
              "      <td>0.105263</td>\n",
              "    </tr>\n",
              "    <tr>\n",
              "      <th>2015-03-01</th>\n",
              "      <td>NaN</td>\n",
              "      <td>NaN</td>\n",
              "      <td>0.164114</td>\n",
              "      <td>0.138403</td>\n",
              "      <td>0.129650</td>\n",
              "      <td>0.127462</td>\n",
              "      <td>0.138403</td>\n",
              "      <td>0.145514</td>\n",
              "      <td>0.138950</td>\n",
              "      <td>0.170678</td>\n",
              "      <td>0.117068</td>\n",
              "    </tr>\n",
              "    <tr>\n",
              "      <th>2015-04-01</th>\n",
              "      <td>NaN</td>\n",
              "      <td>NaN</td>\n",
              "      <td>NaN</td>\n",
              "      <td>0.193627</td>\n",
              "      <td>0.158088</td>\n",
              "      <td>0.144608</td>\n",
              "      <td>0.136029</td>\n",
              "      <td>0.161152</td>\n",
              "      <td>0.137255</td>\n",
              "      <td>0.167892</td>\n",
              "      <td>0.127451</td>\n",
              "    </tr>\n",
              "    <tr>\n",
              "      <th>2015-05-01</th>\n",
              "      <td>NaN</td>\n",
              "      <td>NaN</td>\n",
              "      <td>NaN</td>\n",
              "      <td>NaN</td>\n",
              "      <td>0.246457</td>\n",
              "      <td>0.184252</td>\n",
              "      <td>0.154331</td>\n",
              "      <td>0.136220</td>\n",
              "      <td>0.152756</td>\n",
              "      <td>0.159055</td>\n",
              "      <td>0.132283</td>\n",
              "    </tr>\n",
              "    <tr>\n",
              "      <th>2015-06-01</th>\n",
              "      <td>NaN</td>\n",
              "      <td>NaN</td>\n",
              "      <td>NaN</td>\n",
              "      <td>NaN</td>\n",
              "      <td>NaN</td>\n",
              "      <td>0.257924</td>\n",
              "      <td>0.216283</td>\n",
              "      <td>0.180236</td>\n",
              "      <td>0.168428</td>\n",
              "      <td>0.189559</td>\n",
              "      <td>0.141703</td>\n",
              "    </tr>\n",
              "    <tr>\n",
              "      <th>2015-07-01</th>\n",
              "      <td>NaN</td>\n",
              "      <td>NaN</td>\n",
              "      <td>NaN</td>\n",
              "      <td>NaN</td>\n",
              "      <td>NaN</td>\n",
              "      <td>NaN</td>\n",
              "      <td>0.283110</td>\n",
              "      <td>0.331367</td>\n",
              "      <td>0.179088</td>\n",
              "      <td>0.181769</td>\n",
              "      <td>0.124397</td>\n",
              "    </tr>\n",
              "    <tr>\n",
              "      <th>2015-08-01</th>\n",
              "      <td>NaN</td>\n",
              "      <td>NaN</td>\n",
              "      <td>NaN</td>\n",
              "      <td>NaN</td>\n",
              "      <td>NaN</td>\n",
              "      <td>NaN</td>\n",
              "      <td>NaN</td>\n",
              "      <td>0.423358</td>\n",
              "      <td>0.268613</td>\n",
              "      <td>0.222628</td>\n",
              "      <td>0.157664</td>\n",
              "    </tr>\n",
              "    <tr>\n",
              "      <th>2015-09-01</th>\n",
              "      <td>NaN</td>\n",
              "      <td>NaN</td>\n",
              "      <td>NaN</td>\n",
              "      <td>NaN</td>\n",
              "      <td>NaN</td>\n",
              "      <td>NaN</td>\n",
              "      <td>NaN</td>\n",
              "      <td>NaN</td>\n",
              "      <td>0.429314</td>\n",
              "      <td>0.381497</td>\n",
              "      <td>0.221414</td>\n",
              "    </tr>\n",
              "    <tr>\n",
              "      <th>2015-10-01</th>\n",
              "      <td>NaN</td>\n",
              "      <td>NaN</td>\n",
              "      <td>NaN</td>\n",
              "      <td>NaN</td>\n",
              "      <td>NaN</td>\n",
              "      <td>NaN</td>\n",
              "      <td>NaN</td>\n",
              "      <td>NaN</td>\n",
              "      <td>NaN</td>\n",
              "      <td>0.561974</td>\n",
              "      <td>0.448857</td>\n",
              "    </tr>\n",
              "    <tr>\n",
              "      <th>2015-11-01</th>\n",
              "      <td>NaN</td>\n",
              "      <td>NaN</td>\n",
              "      <td>NaN</td>\n",
              "      <td>NaN</td>\n",
              "      <td>NaN</td>\n",
              "      <td>NaN</td>\n",
              "      <td>NaN</td>\n",
              "      <td>NaN</td>\n",
              "      <td>NaN</td>\n",
              "      <td>NaN</td>\n",
              "      <td>1.000000</td>\n",
              "    </tr>\n",
              "  </tbody>\n",
              "</table>\n",
              "</div>"
            ],
            "text/plain": [
              "month       2015-01-01  2015-02-01  ...  2015-10-01  2015-11-01\n",
              "reg_month                           ...                        \n",
              "2015-01-01    0.116928    0.116056  ...    0.148778    0.114311\n",
              "2015-02-01         NaN    0.132856  ...    0.163005    0.105263\n",
              "2015-03-01         NaN         NaN  ...    0.170678    0.117068\n",
              "2015-04-01         NaN         NaN  ...    0.167892    0.127451\n",
              "2015-05-01         NaN         NaN  ...    0.159055    0.132283\n",
              "2015-06-01         NaN         NaN  ...    0.189559    0.141703\n",
              "2015-07-01         NaN         NaN  ...    0.181769    0.124397\n",
              "2015-08-01         NaN         NaN  ...    0.222628    0.157664\n",
              "2015-09-01         NaN         NaN  ...    0.381497    0.221414\n",
              "2015-10-01         NaN         NaN  ...    0.561974    0.448857\n",
              "2015-11-01         NaN         NaN  ...         NaN    1.000000\n",
              "\n",
              "[11 rows x 11 columns]"
            ]
          },
          "metadata": {},
          "execution_count": 44
        }
      ]
    },
    {
      "cell_type": "code",
      "metadata": {
        "colab": {
          "base_uri": "https://localhost:8080/",
          "height": 265
        },
        "id": "UN28NyjdOqEV",
        "outputId": "80695cb1-fddf-465e-f62d-e11278487d7d"
      },
      "source": [
        "import seaborn as sns\n",
        "uniform_data = np.random.rand(10, 12)\n",
        "ax = sns.heatmap(uniform_data)"
      ],
      "execution_count": null,
      "outputs": [
        {
          "output_type": "display_data",
          "data": {
            "image/png": "[encoded data removed]",
            "text/plain": [
              "<Figure size 432x288 with 2 Axes>"
            ]
          },
          "metadata": {
            "needs_background": "light"
          }
        }
      ]
    },
    {
      "cell_type": "markdown",
      "metadata": {
        "id": "fua0Ai11SYUO"
      },
      "source": [
        "Считаю lifetime (месячный). Месяц покупки - месяц регистрации."
      ]
    },
    {
      "cell_type": "code",
      "metadata": {
        "id": "2XcBP4I3SKVO"
      },
      "source": [
        "report['lifetime'] = ((report['month'] - report['reg_month'])/np.timedelta64(1, 'M')).round().astype(int)"
      ],
      "execution_count": null,
      "outputs": []
    },
    {
      "cell_type": "code",
      "metadata": {
        "colab": {
          "base_uri": "https://localhost:8080/",
          "height": 394
        },
        "id": "hSERG2yqSKTB",
        "outputId": "19cf5fef-02fa-42b4-f462-28eb456ac857"
      },
      "source": [
        "report[report['user_id'] == 128006]"
      ],
      "execution_count": null,
      "outputs": [
        {
          "output_type": "execute_result",
          "data": {
            "text/html": [
              "<div>\n",
              "<style scoped>\n",
              "    .dataframe tbody tr th:only-of-type {\n",
              "        vertical-align: middle;\n",
              "    }\n",
              "\n",
              "    .dataframe tbody tr th {\n",
              "        vertical-align: top;\n",
              "    }\n",
              "\n",
              "    .dataframe thead th {\n",
              "        text-align: right;\n",
              "    }\n",
              "</style>\n",
              "<table border=\"1\" class=\"dataframe\">\n",
              "  <thead>\n",
              "    <tr style=\"text-align: right;\">\n",
              "      <th></th>\n",
              "      <th>user_id</th>\n",
              "      <th>reg_month</th>\n",
              "      <th>month</th>\n",
              "      <th>revenue</th>\n",
              "      <th>active</th>\n",
              "      <th>lifetime</th>\n",
              "    </tr>\n",
              "  </thead>\n",
              "  <tbody>\n",
              "    <tr>\n",
              "      <th>467563</th>\n",
              "      <td>128006</td>\n",
              "      <td>2015-01-01</td>\n",
              "      <td>2015-01-01</td>\n",
              "      <td>NaN</td>\n",
              "      <td>0</td>\n",
              "      <td>0</td>\n",
              "    </tr>\n",
              "    <tr>\n",
              "      <th>467564</th>\n",
              "      <td>128006</td>\n",
              "      <td>2015-01-01</td>\n",
              "      <td>2015-02-01</td>\n",
              "      <td>539.0</td>\n",
              "      <td>1</td>\n",
              "      <td>1</td>\n",
              "    </tr>\n",
              "    <tr>\n",
              "      <th>467565</th>\n",
              "      <td>128006</td>\n",
              "      <td>2015-01-01</td>\n",
              "      <td>2015-03-01</td>\n",
              "      <td>NaN</td>\n",
              "      <td>0</td>\n",
              "      <td>2</td>\n",
              "    </tr>\n",
              "    <tr>\n",
              "      <th>467566</th>\n",
              "      <td>128006</td>\n",
              "      <td>2015-01-01</td>\n",
              "      <td>2015-04-01</td>\n",
              "      <td>NaN</td>\n",
              "      <td>0</td>\n",
              "      <td>3</td>\n",
              "    </tr>\n",
              "    <tr>\n",
              "      <th>467567</th>\n",
              "      <td>128006</td>\n",
              "      <td>2015-01-01</td>\n",
              "      <td>2015-05-01</td>\n",
              "      <td>NaN</td>\n",
              "      <td>0</td>\n",
              "      <td>4</td>\n",
              "    </tr>\n",
              "    <tr>\n",
              "      <th>467568</th>\n",
              "      <td>128006</td>\n",
              "      <td>2015-01-01</td>\n",
              "      <td>2015-06-01</td>\n",
              "      <td>NaN</td>\n",
              "      <td>0</td>\n",
              "      <td>5</td>\n",
              "    </tr>\n",
              "    <tr>\n",
              "      <th>467569</th>\n",
              "      <td>128006</td>\n",
              "      <td>2015-01-01</td>\n",
              "      <td>2015-07-01</td>\n",
              "      <td>NaN</td>\n",
              "      <td>0</td>\n",
              "      <td>6</td>\n",
              "    </tr>\n",
              "    <tr>\n",
              "      <th>467570</th>\n",
              "      <td>128006</td>\n",
              "      <td>2015-01-01</td>\n",
              "      <td>2015-08-01</td>\n",
              "      <td>NaN</td>\n",
              "      <td>0</td>\n",
              "      <td>7</td>\n",
              "    </tr>\n",
              "    <tr>\n",
              "      <th>467571</th>\n",
              "      <td>128006</td>\n",
              "      <td>2015-01-01</td>\n",
              "      <td>2015-09-01</td>\n",
              "      <td>NaN</td>\n",
              "      <td>0</td>\n",
              "      <td>8</td>\n",
              "    </tr>\n",
              "    <tr>\n",
              "      <th>467572</th>\n",
              "      <td>128006</td>\n",
              "      <td>2015-01-01</td>\n",
              "      <td>2015-10-01</td>\n",
              "      <td>NaN</td>\n",
              "      <td>0</td>\n",
              "      <td>9</td>\n",
              "    </tr>\n",
              "    <tr>\n",
              "      <th>467573</th>\n",
              "      <td>128006</td>\n",
              "      <td>2015-01-01</td>\n",
              "      <td>2015-11-01</td>\n",
              "      <td>NaN</td>\n",
              "      <td>0</td>\n",
              "      <td>10</td>\n",
              "    </tr>\n",
              "  </tbody>\n",
              "</table>\n",
              "</div>"
            ],
            "text/plain": [
              "        user_id  reg_month      month  revenue  active  lifetime\n",
              "467563   128006 2015-01-01 2015-01-01      NaN       0         0\n",
              "467564   128006 2015-01-01 2015-02-01    539.0       1         1\n",
              "467565   128006 2015-01-01 2015-03-01      NaN       0         2\n",
              "467566   128006 2015-01-01 2015-04-01      NaN       0         3\n",
              "467567   128006 2015-01-01 2015-05-01      NaN       0         4\n",
              "467568   128006 2015-01-01 2015-06-01      NaN       0         5\n",
              "467569   128006 2015-01-01 2015-07-01      NaN       0         6\n",
              "467570   128006 2015-01-01 2015-08-01      NaN       0         7\n",
              "467571   128006 2015-01-01 2015-09-01      NaN       0         8\n",
              "467572   128006 2015-01-01 2015-10-01      NaN       0         9\n",
              "467573   128006 2015-01-01 2015-11-01      NaN       0        10"
            ]
          },
          "metadata": {},
          "execution_count": 47
        }
      ]
    },
    {
      "cell_type": "markdown",
      "metadata": {
        "id": "z8vCunjxSn2q"
      },
      "source": [
        "Для корректного отображения записей на графике переведу дату в строчный формат"
      ]
    },
    {
      "cell_type": "code",
      "metadata": {
        "id": "yXBStv9rSKQk"
      },
      "source": [
        "report['reg_month_str'] = report['reg_month'].dt.strftime('%Y-%m')"
      ],
      "execution_count": null,
      "outputs": []
    },
    {
      "cell_type": "code",
      "metadata": {
        "id": "zQQZsMgpSKNy"
      },
      "source": [
        "retention_str = report.pivot_table(index='reg_month_str',columns='lifetime',values='active',aggfunc='mean')"
      ],
      "execution_count": null,
      "outputs": []
    },
    {
      "cell_type": "code",
      "metadata": {
        "colab": {
          "base_uri": "https://localhost:8080/",
          "height": 426
        },
        "id": "mhIUgP19SKLG",
        "outputId": "7ea75596-86aa-4cbe-8552-d40937d9b394"
      },
      "source": [
        "retention_str"
      ],
      "execution_count": null,
      "outputs": [
        {
          "output_type": "execute_result",
          "data": {
            "text/html": [
              "<div>\n",
              "<style scoped>\n",
              "    .dataframe tbody tr th:only-of-type {\n",
              "        vertical-align: middle;\n",
              "    }\n",
              "\n",
              "    .dataframe tbody tr th {\n",
              "        vertical-align: top;\n",
              "    }\n",
              "\n",
              "    .dataframe thead th {\n",
              "        text-align: right;\n",
              "    }\n",
              "</style>\n",
              "<table border=\"1\" class=\"dataframe\">\n",
              "  <thead>\n",
              "    <tr style=\"text-align: right;\">\n",
              "      <th>lifetime</th>\n",
              "      <th>0</th>\n",
              "      <th>1</th>\n",
              "      <th>2</th>\n",
              "      <th>3</th>\n",
              "      <th>4</th>\n",
              "      <th>5</th>\n",
              "      <th>6</th>\n",
              "      <th>7</th>\n",
              "      <th>8</th>\n",
              "      <th>9</th>\n",
              "      <th>10</th>\n",
              "    </tr>\n",
              "    <tr>\n",
              "      <th>reg_month_str</th>\n",
              "      <th></th>\n",
              "      <th></th>\n",
              "      <th></th>\n",
              "      <th></th>\n",
              "      <th></th>\n",
              "      <th></th>\n",
              "      <th></th>\n",
              "      <th></th>\n",
              "      <th></th>\n",
              "      <th></th>\n",
              "      <th></th>\n",
              "    </tr>\n",
              "  </thead>\n",
              "  <tbody>\n",
              "    <tr>\n",
              "      <th>2015-01</th>\n",
              "      <td>0.116928</td>\n",
              "      <td>0.116056</td>\n",
              "      <td>0.129581</td>\n",
              "      <td>0.116492</td>\n",
              "      <td>0.115183</td>\n",
              "      <td>0.124782</td>\n",
              "      <td>0.118237</td>\n",
              "      <td>0.131326</td>\n",
              "      <td>0.126091</td>\n",
              "      <td>0.148778</td>\n",
              "      <td>0.114311</td>\n",
              "    </tr>\n",
              "    <tr>\n",
              "      <th>2015-02</th>\n",
              "      <td>0.132856</td>\n",
              "      <td>0.141543</td>\n",
              "      <td>0.135922</td>\n",
              "      <td>0.121615</td>\n",
              "      <td>0.122126</td>\n",
              "      <td>0.119571</td>\n",
              "      <td>0.123659</td>\n",
              "      <td>0.149208</td>\n",
              "      <td>0.163005</td>\n",
              "      <td>0.105263</td>\n",
              "      <td>NaN</td>\n",
              "    </tr>\n",
              "    <tr>\n",
              "      <th>2015-03</th>\n",
              "      <td>0.164114</td>\n",
              "      <td>0.138403</td>\n",
              "      <td>0.129650</td>\n",
              "      <td>0.127462</td>\n",
              "      <td>0.138403</td>\n",
              "      <td>0.145514</td>\n",
              "      <td>0.138950</td>\n",
              "      <td>0.170678</td>\n",
              "      <td>0.117068</td>\n",
              "      <td>NaN</td>\n",
              "      <td>NaN</td>\n",
              "    </tr>\n",
              "    <tr>\n",
              "      <th>2015-04</th>\n",
              "      <td>0.193627</td>\n",
              "      <td>0.158088</td>\n",
              "      <td>0.144608</td>\n",
              "      <td>0.136029</td>\n",
              "      <td>0.161152</td>\n",
              "      <td>0.137255</td>\n",
              "      <td>0.167892</td>\n",
              "      <td>0.127451</td>\n",
              "      <td>NaN</td>\n",
              "      <td>NaN</td>\n",
              "      <td>NaN</td>\n",
              "    </tr>\n",
              "    <tr>\n",
              "      <th>2015-05</th>\n",
              "      <td>0.246457</td>\n",
              "      <td>0.184252</td>\n",
              "      <td>0.154331</td>\n",
              "      <td>0.136220</td>\n",
              "      <td>0.152756</td>\n",
              "      <td>0.159055</td>\n",
              "      <td>0.132283</td>\n",
              "      <td>NaN</td>\n",
              "      <td>NaN</td>\n",
              "      <td>NaN</td>\n",
              "      <td>NaN</td>\n",
              "    </tr>\n",
              "    <tr>\n",
              "      <th>2015-06</th>\n",
              "      <td>0.257924</td>\n",
              "      <td>0.216283</td>\n",
              "      <td>0.180236</td>\n",
              "      <td>0.168428</td>\n",
              "      <td>0.189559</td>\n",
              "      <td>0.141703</td>\n",
              "      <td>NaN</td>\n",
              "      <td>NaN</td>\n",
              "      <td>NaN</td>\n",
              "      <td>NaN</td>\n",
              "      <td>NaN</td>\n",
              "    </tr>\n",
              "    <tr>\n",
              "      <th>2015-07</th>\n",
              "      <td>0.283110</td>\n",
              "      <td>0.331367</td>\n",
              "      <td>0.179088</td>\n",
              "      <td>0.181769</td>\n",
              "      <td>0.124397</td>\n",
              "      <td>NaN</td>\n",
              "      <td>NaN</td>\n",
              "      <td>NaN</td>\n",
              "      <td>NaN</td>\n",
              "      <td>NaN</td>\n",
              "      <td>NaN</td>\n",
              "    </tr>\n",
              "    <tr>\n",
              "      <th>2015-08</th>\n",
              "      <td>0.423358</td>\n",
              "      <td>0.268613</td>\n",
              "      <td>0.222628</td>\n",
              "      <td>0.157664</td>\n",
              "      <td>NaN</td>\n",
              "      <td>NaN</td>\n",
              "      <td>NaN</td>\n",
              "      <td>NaN</td>\n",
              "      <td>NaN</td>\n",
              "      <td>NaN</td>\n",
              "      <td>NaN</td>\n",
              "    </tr>\n",
              "    <tr>\n",
              "      <th>2015-09</th>\n",
              "      <td>0.429314</td>\n",
              "      <td>0.381497</td>\n",
              "      <td>0.221414</td>\n",
              "      <td>NaN</td>\n",
              "      <td>NaN</td>\n",
              "      <td>NaN</td>\n",
              "      <td>NaN</td>\n",
              "      <td>NaN</td>\n",
              "      <td>NaN</td>\n",
              "      <td>NaN</td>\n",
              "      <td>NaN</td>\n",
              "    </tr>\n",
              "    <tr>\n",
              "      <th>2015-10</th>\n",
              "      <td>0.561974</td>\n",
              "      <td>0.448857</td>\n",
              "      <td>NaN</td>\n",
              "      <td>NaN</td>\n",
              "      <td>NaN</td>\n",
              "      <td>NaN</td>\n",
              "      <td>NaN</td>\n",
              "      <td>NaN</td>\n",
              "      <td>NaN</td>\n",
              "      <td>NaN</td>\n",
              "      <td>NaN</td>\n",
              "    </tr>\n",
              "    <tr>\n",
              "      <th>2015-11</th>\n",
              "      <td>1.000000</td>\n",
              "      <td>NaN</td>\n",
              "      <td>NaN</td>\n",
              "      <td>NaN</td>\n",
              "      <td>NaN</td>\n",
              "      <td>NaN</td>\n",
              "      <td>NaN</td>\n",
              "      <td>NaN</td>\n",
              "      <td>NaN</td>\n",
              "      <td>NaN</td>\n",
              "      <td>NaN</td>\n",
              "    </tr>\n",
              "  </tbody>\n",
              "</table>\n",
              "</div>"
            ],
            "text/plain": [
              "lifetime             0         1         2   ...        8         9         10\n",
              "reg_month_str                                ...                              \n",
              "2015-01        0.116928  0.116056  0.129581  ...  0.126091  0.148778  0.114311\n",
              "2015-02        0.132856  0.141543  0.135922  ...  0.163005  0.105263       NaN\n",
              "2015-03        0.164114  0.138403  0.129650  ...  0.117068       NaN       NaN\n",
              "2015-04        0.193627  0.158088  0.144608  ...       NaN       NaN       NaN\n",
              "2015-05        0.246457  0.184252  0.154331  ...       NaN       NaN       NaN\n",
              "2015-06        0.257924  0.216283  0.180236  ...       NaN       NaN       NaN\n",
              "2015-07        0.283110  0.331367  0.179088  ...       NaN       NaN       NaN\n",
              "2015-08        0.423358  0.268613  0.222628  ...       NaN       NaN       NaN\n",
              "2015-09        0.429314  0.381497  0.221414  ...       NaN       NaN       NaN\n",
              "2015-10        0.561974  0.448857       NaN  ...       NaN       NaN       NaN\n",
              "2015-11        1.000000       NaN       NaN  ...       NaN       NaN       NaN\n",
              "\n",
              "[11 rows x 11 columns]"
            ]
          },
          "metadata": {},
          "execution_count": 50
        }
      ]
    },
    {
      "cell_type": "markdown",
      "metadata": {
        "id": "1EWjZviuYHsX"
      },
      "source": [
        "Стоит отметить, что 0 lifetime не имеет 100% retention, потому что активность пользователя определяли по revenue > 0. Пользователь мог зарегистрироваться, но не совершить покупки. "
      ]
    },
    {
      "cell_type": "code",
      "metadata": {
        "id": "rX0ozt5bOqCW"
      },
      "source": [
        "sns.set(font_scale=2,style=\"whitegrid\",rc={'figure.figsize':(12,6)})"
      ],
      "execution_count": null,
      "outputs": []
    },
    {
      "cell_type": "code",
      "metadata": {
        "colab": {
          "base_uri": "https://localhost:8080/",
          "height": 440
        },
        "id": "g0xAv63UOp-E",
        "outputId": "1c7650ff-3f4d-45ab-8fac-23c94b6ce398"
      },
      "source": [
        "sns.heatmap(retention_str)"
      ],
      "execution_count": null,
      "outputs": [
        {
          "output_type": "execute_result",
          "data": {
            "text/plain": [
              "<matplotlib.axes._subplots.AxesSubplot at 0x7f8da34eae50>"
            ]
          },
          "metadata": {},
          "execution_count": 52
        },
        {
          "output_type": "display_data",
          "data": {
            "image/png": "[encoded data removed]",
            "text/plain": [
              "<Figure size 864x432 with 2 Axes>"
            ]
          },
          "metadata": {}
        }
      ]
    },
    {
      "cell_type": "markdown",
      "metadata": {
        "id": "sqN4pKKvY_iq"
      },
      "source": [
        "На хитмэпе заметно, что акция (рассылка) оказала положительный эффект на пользователей, которые зарегистрировались в июле 2015. Потому что на следующий месяц после регистрации retention имеет более высокий показатель."
      ]
    }
  ]
}