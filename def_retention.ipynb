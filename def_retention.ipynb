{
  "nbformat": 4,
  "nbformat_minor": 0,
  "metadata": {
    "colab": {
      "name": "def_retention.ipynb",
      "provenance": [],
      "authorship_tag": "ABX9TyMRYf6bZDbUUmeVOsOhxXnO"
    },
    "kernelspec": {
      "name": "python3",
      "display_name": "Python 3"
    },
    "language_info": {
      "name": "python"
    }
  },
  "cells": [
    {
      "cell_type": "code",
      "metadata": {
        "id": "v3KUwabUcEAO"
      },
      "source": [
        "def retention(data, start_date, end_date, periods, cohort_type='monthly_cohorts', cohort_intervals='month'):\n",
        "    '''\n",
        "    Функция для подсчета retention\n",
        "    \n",
        "        Параметры:\n",
        "            data: Датафрейм с данными, где\n",
        "                auth_ts - Дата авторизации в приложении в формате timestamp\n",
        "                reg_ts - Дата регистрации в приложении в формате timestamp\n",
        "                start_date: Начало периода\n",
        "                end_date: Конец периода\n",
        "                cohort_type: Тип когорты(по дням/неделям/месяцам)\n",
        "                cohort_intervals: Интервалы(дни/недели/месяцы)\n",
        "        \n",
        "        Возвращает таблицу с retention для выбраного типа когорты и интервала\n",
        "             \n",
        "    '''\n",
        "    \n",
        "    data.auth_ts = pd.to_datetime(data.auth_ts, unit='s')\n",
        "    data.reg_ts = pd.to_datetime(data.reg_ts, unit='s') \n",
        "    \n",
        "    if cohort_intervals == 'month':\n",
        "        data['month'] = (data.auth_ts - data.reg_ts).div(np.timedelta64(1, 'M')).astype(int)        \n",
        "    elif cohort_intervals == 'week':\n",
        "        data['week'] = (data.auth_ts - data.reg_ts).dt.days.div(7).astype(int)         \n",
        "    elif cohort_intervals == 'day':\n",
        "        data['day'] = (data.auth_ts - data.reg_ts).dt.days\n",
        "     \n",
        "    if cohort_type == 'monthly_cohorts':\n",
        "        data['monthly_cohorts'] = data.reg_ts.dt.to_period('M')\n",
        "    elif cohort_type == 'weekly_cohorts':     \n",
        "        data['weekly_cohorts'] = data.reg_ts.dt.to_period('W')\n",
        "    elif cohort_type == 'dayly_cohorts':\n",
        "        data['dayly_cohorts'] = data.reg_ts.dt.to_period('d')\n",
        "    \n",
        "    grouped = data.query('reg_ts >=  @start_date &  reg_ts <= @end_date ')\\\n",
        "                  .groupby([cohort_type, cohort_intervals], as_index=False)\\\n",
        "                  .agg({'uid': 'nunique'})\n",
        "    \n",
        "    t_pivot = grouped.pivot(index=cohort_type, columns=cohort_intervals, values='uid')\n",
        "    t_pivot = t_pivot[periods]\n",
        "    return round(t_pivot.div(t_pivot[0].values, axis=0), 3)"
      ],
      "execution_count": null,
      "outputs": []
    }
  ]
}