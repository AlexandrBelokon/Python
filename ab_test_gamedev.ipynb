{
  "nbformat": 4,
  "nbformat_minor": 0,
  "metadata": {
    "colab": {
      "name": "ab_test_gamedev.ipynb",
      "provenance": []
    },
    "kernelspec": {
      "name": "python3",
      "display_name": "Python 3"
    },
    "language_info": {
      "name": "python"
    },
    "widgets": {
      "application/vnd.jupyter.widget-state+json": {
        "8a6d80250def47298dbd86473414e5c6": {
          "model_module": "@jupyter-widgets/controls",
          "model_name": "HBoxModel",
          "model_module_version": "1.5.0",
          "state": {
            "_view_name": "HBoxView",
            "_dom_classes": [],
            "_model_name": "HBoxModel",
            "_view_module": "@jupyter-widgets/controls",
            "_model_module_version": "1.5.0",
            "_view_count": null,
            "_view_module_version": "1.5.0",
            "box_style": "",
            "layout": "IPY_MODEL_a7c356a9c7ab497db8a9f9f3f28e6535",
            "_model_module": "@jupyter-widgets/controls",
            "children": [
              "IPY_MODEL_1072224cf47041e7939e5db2851f6de4",
              "IPY_MODEL_589e7e00f5c84fe5a061b8746a4f674d",
              "IPY_MODEL_d4143109f30a4d4d8b5d2ef99f130582"
            ]
          }
        },
        "a7c356a9c7ab497db8a9f9f3f28e6535": {
          "model_module": "@jupyter-widgets/base",
          "model_name": "LayoutModel",
          "model_module_version": "1.2.0",
          "state": {
            "_view_name": "LayoutView",
            "grid_template_rows": null,
            "right": null,
            "justify_content": null,
            "_view_module": "@jupyter-widgets/base",
            "overflow": null,
            "_model_module_version": "1.2.0",
            "_view_count": null,
            "flex_flow": null,
            "width": null,
            "min_width": null,
            "border": null,
            "align_items": null,
            "bottom": null,
            "_model_module": "@jupyter-widgets/base",
            "top": null,
            "grid_column": null,
            "overflow_y": null,
            "overflow_x": null,
            "grid_auto_flow": null,
            "grid_area": null,
            "grid_template_columns": null,
            "flex": null,
            "_model_name": "LayoutModel",
            "justify_items": null,
            "grid_row": null,
            "max_height": null,
            "align_content": null,
            "visibility": null,
            "align_self": null,
            "height": null,
            "min_height": null,
            "padding": null,
            "grid_auto_rows": null,
            "grid_gap": null,
            "max_width": null,
            "order": null,
            "_view_module_version": "1.2.0",
            "grid_template_areas": null,
            "object_position": null,
            "object_fit": null,
            "grid_auto_columns": null,
            "margin": null,
            "display": null,
            "left": null
          }
        },
        "1072224cf47041e7939e5db2851f6de4": {
          "model_module": "@jupyter-widgets/controls",
          "model_name": "HTMLModel",
          "model_module_version": "1.5.0",
          "state": {
            "_view_name": "HTMLView",
            "style": "IPY_MODEL_879c902055104819901e0a053c549659",
            "_dom_classes": [],
            "description": "",
            "_model_name": "HTMLModel",
            "placeholder": "​",
            "_view_module": "@jupyter-widgets/controls",
            "_model_module_version": "1.5.0",
            "value": "100%",
            "_view_count": null,
            "_view_module_version": "1.5.0",
            "description_tooltip": null,
            "_model_module": "@jupyter-widgets/controls",
            "layout": "IPY_MODEL_1519c1130d4a4cb5ac7caed2684f9e35"
          }
        },
        "589e7e00f5c84fe5a061b8746a4f674d": {
          "model_module": "@jupyter-widgets/controls",
          "model_name": "FloatProgressModel",
          "model_module_version": "1.5.0",
          "state": {
            "_view_name": "ProgressView",
            "style": "IPY_MODEL_82c0ed3848a84a77bc26fc1701f61a0b",
            "_dom_classes": [],
            "description": "",
            "_model_name": "FloatProgressModel",
            "bar_style": "success",
            "max": 1000,
            "_view_module": "@jupyter-widgets/controls",
            "_model_module_version": "1.5.0",
            "value": 1000,
            "_view_count": null,
            "_view_module_version": "1.5.0",
            "orientation": "horizontal",
            "min": 0,
            "description_tooltip": null,
            "_model_module": "@jupyter-widgets/controls",
            "layout": "IPY_MODEL_12fe74e8fca94ab7bcc46ff98360a97f"
          }
        },
        "d4143109f30a4d4d8b5d2ef99f130582": {
          "model_module": "@jupyter-widgets/controls",
          "model_name": "HTMLModel",
          "model_module_version": "1.5.0",
          "state": {
            "_view_name": "HTMLView",
            "style": "IPY_MODEL_de56cbcc02144e459035bc5df22e2b58",
            "_dom_classes": [],
            "description": "",
            "_model_name": "HTMLModel",
            "placeholder": "​",
            "_view_module": "@jupyter-widgets/controls",
            "_model_module_version": "1.5.0",
            "value": " 1000/1000 [03:53&lt;00:00,  4.28it/s]",
            "_view_count": null,
            "_view_module_version": "1.5.0",
            "description_tooltip": null,
            "_model_module": "@jupyter-widgets/controls",
            "layout": "IPY_MODEL_0c2d1a6dca0a4f7a8fbeb187e36d98d7"
          }
        },
        "879c902055104819901e0a053c549659": {
          "model_module": "@jupyter-widgets/controls",
          "model_name": "DescriptionStyleModel",
          "model_module_version": "1.5.0",
          "state": {
            "_view_name": "StyleView",
            "_model_name": "DescriptionStyleModel",
            "description_width": "",
            "_view_module": "@jupyter-widgets/base",
            "_model_module_version": "1.5.0",
            "_view_count": null,
            "_view_module_version": "1.2.0",
            "_model_module": "@jupyter-widgets/controls"
          }
        },
        "1519c1130d4a4cb5ac7caed2684f9e35": {
          "model_module": "@jupyter-widgets/base",
          "model_name": "LayoutModel",
          "model_module_version": "1.2.0",
          "state": {
            "_view_name": "LayoutView",
            "grid_template_rows": null,
            "right": null,
            "justify_content": null,
            "_view_module": "@jupyter-widgets/base",
            "overflow": null,
            "_model_module_version": "1.2.0",
            "_view_count": null,
            "flex_flow": null,
            "width": null,
            "min_width": null,
            "border": null,
            "align_items": null,
            "bottom": null,
            "_model_module": "@jupyter-widgets/base",
            "top": null,
            "grid_column": null,
            "overflow_y": null,
            "overflow_x": null,
            "grid_auto_flow": null,
            "grid_area": null,
            "grid_template_columns": null,
            "flex": null,
            "_model_name": "LayoutModel",
            "justify_items": null,
            "grid_row": null,
            "max_height": null,
            "align_content": null,
            "visibility": null,
            "align_self": null,
            "height": null,
            "min_height": null,
            "padding": null,
            "grid_auto_rows": null,
            "grid_gap": null,
            "max_width": null,
            "order": null,
            "_view_module_version": "1.2.0",
            "grid_template_areas": null,
            "object_position": null,
            "object_fit": null,
            "grid_auto_columns": null,
            "margin": null,
            "display": null,
            "left": null
          }
        },
        "82c0ed3848a84a77bc26fc1701f61a0b": {
          "model_module": "@jupyter-widgets/controls",
          "model_name": "ProgressStyleModel",
          "model_module_version": "1.5.0",
          "state": {
            "_view_name": "StyleView",
            "_model_name": "ProgressStyleModel",
            "description_width": "",
            "_view_module": "@jupyter-widgets/base",
            "_model_module_version": "1.5.0",
            "_view_count": null,
            "_view_module_version": "1.2.0",
            "bar_color": null,
            "_model_module": "@jupyter-widgets/controls"
          }
        },
        "12fe74e8fca94ab7bcc46ff98360a97f": {
          "model_module": "@jupyter-widgets/base",
          "model_name": "LayoutModel",
          "model_module_version": "1.2.0",
          "state": {
            "_view_name": "LayoutView",
            "grid_template_rows": null,
            "right": null,
            "justify_content": null,
            "_view_module": "@jupyter-widgets/base",
            "overflow": null,
            "_model_module_version": "1.2.0",
            "_view_count": null,
            "flex_flow": null,
            "width": null,
            "min_width": null,
            "border": null,
            "align_items": null,
            "bottom": null,
            "_model_module": "@jupyter-widgets/base",
            "top": null,
            "grid_column": null,
            "overflow_y": null,
            "overflow_x": null,
            "grid_auto_flow": null,
            "grid_area": null,
            "grid_template_columns": null,
            "flex": null,
            "_model_name": "LayoutModel",
            "justify_items": null,
            "grid_row": null,
            "max_height": null,
            "align_content": null,
            "visibility": null,
            "align_self": null,
            "height": null,
            "min_height": null,
            "padding": null,
            "grid_auto_rows": null,
            "grid_gap": null,
            "max_width": null,
            "order": null,
            "_view_module_version": "1.2.0",
            "grid_template_areas": null,
            "object_position": null,
            "object_fit": null,
            "grid_auto_columns": null,
            "margin": null,
            "display": null,
            "left": null
          }
        },
        "de56cbcc02144e459035bc5df22e2b58": {
          "model_module": "@jupyter-widgets/controls",
          "model_name": "DescriptionStyleModel",
          "model_module_version": "1.5.0",
          "state": {
            "_view_name": "StyleView",
            "_model_name": "DescriptionStyleModel",
            "description_width": "",
            "_view_module": "@jupyter-widgets/base",
            "_model_module_version": "1.5.0",
            "_view_count": null,
            "_view_module_version": "1.2.0",
            "_model_module": "@jupyter-widgets/controls"
          }
        },
        "0c2d1a6dca0a4f7a8fbeb187e36d98d7": {
          "model_module": "@jupyter-widgets/base",
          "model_name": "LayoutModel",
          "model_module_version": "1.2.0",
          "state": {
            "_view_name": "LayoutView",
            "grid_template_rows": null,
            "right": null,
            "justify_content": null,
            "_view_module": "@jupyter-widgets/base",
            "overflow": null,
            "_model_module_version": "1.2.0",
            "_view_count": null,
            "flex_flow": null,
            "width": null,
            "min_width": null,
            "border": null,
            "align_items": null,
            "bottom": null,
            "_model_module": "@jupyter-widgets/base",
            "top": null,
            "grid_column": null,
            "overflow_y": null,
            "overflow_x": null,
            "grid_auto_flow": null,
            "grid_area": null,
            "grid_template_columns": null,
            "flex": null,
            "_model_name": "LayoutModel",
            "justify_items": null,
            "grid_row": null,
            "max_height": null,
            "align_content": null,
            "visibility": null,
            "align_self": null,
            "height": null,
            "min_height": null,
            "padding": null,
            "grid_auto_rows": null,
            "grid_gap": null,
            "max_width": null,
            "order": null,
            "_view_module_version": "1.2.0",
            "grid_template_areas": null,
            "object_position": null,
            "object_fit": null,
            "grid_auto_columns": null,
            "margin": null,
            "display": null,
            "left": null
          }
        },
        "829856f919ae4ef6a35c9b4819d33749": {
          "model_module": "@jupyter-widgets/controls",
          "model_name": "HBoxModel",
          "model_module_version": "1.5.0",
          "state": {
            "_view_name": "HBoxView",
            "_dom_classes": [],
            "_model_name": "HBoxModel",
            "_view_module": "@jupyter-widgets/controls",
            "_model_module_version": "1.5.0",
            "_view_count": null,
            "_view_module_version": "1.5.0",
            "box_style": "",
            "layout": "IPY_MODEL_63c0c41b464d401ead56334853a98572",
            "_model_module": "@jupyter-widgets/controls",
            "children": [
              "IPY_MODEL_14e0ff30765c40d7af4958f37f98208a",
              "IPY_MODEL_720254e7850345c9a129dd416feb2988",
              "IPY_MODEL_abc1b42d4aac4ef2b3ab81f8bf5c5516"
            ]
          }
        },
        "63c0c41b464d401ead56334853a98572": {
          "model_module": "@jupyter-widgets/base",
          "model_name": "LayoutModel",
          "model_module_version": "1.2.0",
          "state": {
            "_view_name": "LayoutView",
            "grid_template_rows": null,
            "right": null,
            "justify_content": null,
            "_view_module": "@jupyter-widgets/base",
            "overflow": null,
            "_model_module_version": "1.2.0",
            "_view_count": null,
            "flex_flow": null,
            "width": null,
            "min_width": null,
            "border": null,
            "align_items": null,
            "bottom": null,
            "_model_module": "@jupyter-widgets/base",
            "top": null,
            "grid_column": null,
            "overflow_y": null,
            "overflow_x": null,
            "grid_auto_flow": null,
            "grid_area": null,
            "grid_template_columns": null,
            "flex": null,
            "_model_name": "LayoutModel",
            "justify_items": null,
            "grid_row": null,
            "max_height": null,
            "align_content": null,
            "visibility": null,
            "align_self": null,
            "height": null,
            "min_height": null,
            "padding": null,
            "grid_auto_rows": null,
            "grid_gap": null,
            "max_width": null,
            "order": null,
            "_view_module_version": "1.2.0",
            "grid_template_areas": null,
            "object_position": null,
            "object_fit": null,
            "grid_auto_columns": null,
            "margin": null,
            "display": null,
            "left": null
          }
        },
        "14e0ff30765c40d7af4958f37f98208a": {
          "model_module": "@jupyter-widgets/controls",
          "model_name": "HTMLModel",
          "model_module_version": "1.5.0",
          "state": {
            "_view_name": "HTMLView",
            "style": "IPY_MODEL_19ea9c267bf745ed980f1582d0fd3908",
            "_dom_classes": [],
            "description": "",
            "_model_name": "HTMLModel",
            "placeholder": "​",
            "_view_module": "@jupyter-widgets/controls",
            "_model_module_version": "1.5.0",
            "value": "100%",
            "_view_count": null,
            "_view_module_version": "1.5.0",
            "description_tooltip": null,
            "_model_module": "@jupyter-widgets/controls",
            "layout": "IPY_MODEL_e85f975a9cf24fd0a5aba2157afff990"
          }
        },
        "720254e7850345c9a129dd416feb2988": {
          "model_module": "@jupyter-widgets/controls",
          "model_name": "FloatProgressModel",
          "model_module_version": "1.5.0",
          "state": {
            "_view_name": "ProgressView",
            "style": "IPY_MODEL_ff49a7784a57459f886caea2b2c07464",
            "_dom_classes": [],
            "description": "",
            "_model_name": "FloatProgressModel",
            "bar_style": "success",
            "max": 1000,
            "_view_module": "@jupyter-widgets/controls",
            "_model_module_version": "1.5.0",
            "value": 1000,
            "_view_count": null,
            "_view_module_version": "1.5.0",
            "orientation": "horizontal",
            "min": 0,
            "description_tooltip": null,
            "_model_module": "@jupyter-widgets/controls",
            "layout": "IPY_MODEL_786273673fa44c7ead2e27b4e1a94054"
          }
        },
        "abc1b42d4aac4ef2b3ab81f8bf5c5516": {
          "model_module": "@jupyter-widgets/controls",
          "model_name": "HTMLModel",
          "model_module_version": "1.5.0",
          "state": {
            "_view_name": "HTMLView",
            "style": "IPY_MODEL_389740779f2f4731b594b578858f5d20",
            "_dom_classes": [],
            "description": "",
            "_model_name": "HTMLModel",
            "placeholder": "​",
            "_view_module": "@jupyter-widgets/controls",
            "_model_module_version": "1.5.0",
            "value": " 1000/1000 [03:48&lt;00:00,  4.52it/s]",
            "_view_count": null,
            "_view_module_version": "1.5.0",
            "description_tooltip": null,
            "_model_module": "@jupyter-widgets/controls",
            "layout": "IPY_MODEL_e756db9d866948aab4977acec07b896d"
          }
        },
        "19ea9c267bf745ed980f1582d0fd3908": {
          "model_module": "@jupyter-widgets/controls",
          "model_name": "DescriptionStyleModel",
          "model_module_version": "1.5.0",
          "state": {
            "_view_name": "StyleView",
            "_model_name": "DescriptionStyleModel",
            "description_width": "",
            "_view_module": "@jupyter-widgets/base",
            "_model_module_version": "1.5.0",
            "_view_count": null,
            "_view_module_version": "1.2.0",
            "_model_module": "@jupyter-widgets/controls"
          }
        },
        "e85f975a9cf24fd0a5aba2157afff990": {
          "model_module": "@jupyter-widgets/base",
          "model_name": "LayoutModel",
          "model_module_version": "1.2.0",
          "state": {
            "_view_name": "LayoutView",
            "grid_template_rows": null,
            "right": null,
            "justify_content": null,
            "_view_module": "@jupyter-widgets/base",
            "overflow": null,
            "_model_module_version": "1.2.0",
            "_view_count": null,
            "flex_flow": null,
            "width": null,
            "min_width": null,
            "border": null,
            "align_items": null,
            "bottom": null,
            "_model_module": "@jupyter-widgets/base",
            "top": null,
            "grid_column": null,
            "overflow_y": null,
            "overflow_x": null,
            "grid_auto_flow": null,
            "grid_area": null,
            "grid_template_columns": null,
            "flex": null,
            "_model_name": "LayoutModel",
            "justify_items": null,
            "grid_row": null,
            "max_height": null,
            "align_content": null,
            "visibility": null,
            "align_self": null,
            "height": null,
            "min_height": null,
            "padding": null,
            "grid_auto_rows": null,
            "grid_gap": null,
            "max_width": null,
            "order": null,
            "_view_module_version": "1.2.0",
            "grid_template_areas": null,
            "object_position": null,
            "object_fit": null,
            "grid_auto_columns": null,
            "margin": null,
            "display": null,
            "left": null
          }
        },
        "ff49a7784a57459f886caea2b2c07464": {
          "model_module": "@jupyter-widgets/controls",
          "model_name": "ProgressStyleModel",
          "model_module_version": "1.5.0",
          "state": {
            "_view_name": "StyleView",
            "_model_name": "ProgressStyleModel",
            "description_width": "",
            "_view_module": "@jupyter-widgets/base",
            "_model_module_version": "1.5.0",
            "_view_count": null,
            "_view_module_version": "1.2.0",
            "bar_color": null,
            "_model_module": "@jupyter-widgets/controls"
          }
        },
        "786273673fa44c7ead2e27b4e1a94054": {
          "model_module": "@jupyter-widgets/base",
          "model_name": "LayoutModel",
          "model_module_version": "1.2.0",
          "state": {
            "_view_name": "LayoutView",
            "grid_template_rows": null,
            "right": null,
            "justify_content": null,
            "_view_module": "@jupyter-widgets/base",
            "overflow": null,
            "_model_module_version": "1.2.0",
            "_view_count": null,
            "flex_flow": null,
            "width": null,
            "min_width": null,
            "border": null,
            "align_items": null,
            "bottom": null,
            "_model_module": "@jupyter-widgets/base",
            "top": null,
            "grid_column": null,
            "overflow_y": null,
            "overflow_x": null,
            "grid_auto_flow": null,
            "grid_area": null,
            "grid_template_columns": null,
            "flex": null,
            "_model_name": "LayoutModel",
            "justify_items": null,
            "grid_row": null,
            "max_height": null,
            "align_content": null,
            "visibility": null,
            "align_self": null,
            "height": null,
            "min_height": null,
            "padding": null,
            "grid_auto_rows": null,
            "grid_gap": null,
            "max_width": null,
            "order": null,
            "_view_module_version": "1.2.0",
            "grid_template_areas": null,
            "object_position": null,
            "object_fit": null,
            "grid_auto_columns": null,
            "margin": null,
            "display": null,
            "left": null
          }
        },
        "389740779f2f4731b594b578858f5d20": {
          "model_module": "@jupyter-widgets/controls",
          "model_name": "DescriptionStyleModel",
          "model_module_version": "1.5.0",
          "state": {
            "_view_name": "StyleView",
            "_model_name": "DescriptionStyleModel",
            "description_width": "",
            "_view_module": "@jupyter-widgets/base",
            "_model_module_version": "1.5.0",
            "_view_count": null,
            "_view_module_version": "1.2.0",
            "_model_module": "@jupyter-widgets/controls"
          }
        },
        "e756db9d866948aab4977acec07b896d": {
          "model_module": "@jupyter-widgets/base",
          "model_name": "LayoutModel",
          "model_module_version": "1.2.0",
          "state": {
            "_view_name": "LayoutView",
            "grid_template_rows": null,
            "right": null,
            "justify_content": null,
            "_view_module": "@jupyter-widgets/base",
            "overflow": null,
            "_model_module_version": "1.2.0",
            "_view_count": null,
            "flex_flow": null,
            "width": null,
            "min_width": null,
            "border": null,
            "align_items": null,
            "bottom": null,
            "_model_module": "@jupyter-widgets/base",
            "top": null,
            "grid_column": null,
            "overflow_y": null,
            "overflow_x": null,
            "grid_auto_flow": null,
            "grid_area": null,
            "grid_template_columns": null,
            "flex": null,
            "_model_name": "LayoutModel",
            "justify_items": null,
            "grid_row": null,
            "max_height": null,
            "align_content": null,
            "visibility": null,
            "align_self": null,
            "height": null,
            "min_height": null,
            "padding": null,
            "grid_auto_rows": null,
            "grid_gap": null,
            "max_width": null,
            "order": null,
            "_view_module_version": "1.2.0",
            "grid_template_areas": null,
            "object_position": null,
            "object_fit": null,
            "grid_auto_columns": null,
            "margin": null,
            "display": null,
            "left": null
          }
        },
        "1ea6dd9cc5534b6ba4a27e64196387b0": {
          "model_module": "@jupyter-widgets/controls",
          "model_name": "HBoxModel",
          "model_module_version": "1.5.0",
          "state": {
            "_view_name": "HBoxView",
            "_dom_classes": [],
            "_model_name": "HBoxModel",
            "_view_module": "@jupyter-widgets/controls",
            "_model_module_version": "1.5.0",
            "_view_count": null,
            "_view_module_version": "1.5.0",
            "box_style": "",
            "layout": "IPY_MODEL_ff1d5be2973d433692738a9ad848d34c",
            "_model_module": "@jupyter-widgets/controls",
            "children": [
              "IPY_MODEL_dad6fd61de2c4baa91d3f193a8a71f2b",
              "IPY_MODEL_58db88335a594035b1c6099f12ceaf9d",
              "IPY_MODEL_4a849a2bfac44a41853ca9360573e0c8"
            ]
          }
        },
        "ff1d5be2973d433692738a9ad848d34c": {
          "model_module": "@jupyter-widgets/base",
          "model_name": "LayoutModel",
          "model_module_version": "1.2.0",
          "state": {
            "_view_name": "LayoutView",
            "grid_template_rows": null,
            "right": null,
            "justify_content": null,
            "_view_module": "@jupyter-widgets/base",
            "overflow": null,
            "_model_module_version": "1.2.0",
            "_view_count": null,
            "flex_flow": null,
            "width": null,
            "min_width": null,
            "border": null,
            "align_items": null,
            "bottom": null,
            "_model_module": "@jupyter-widgets/base",
            "top": null,
            "grid_column": null,
            "overflow_y": null,
            "overflow_x": null,
            "grid_auto_flow": null,
            "grid_area": null,
            "grid_template_columns": null,
            "flex": null,
            "_model_name": "LayoutModel",
            "justify_items": null,
            "grid_row": null,
            "max_height": null,
            "align_content": null,
            "visibility": null,
            "align_self": null,
            "height": null,
            "min_height": null,
            "padding": null,
            "grid_auto_rows": null,
            "grid_gap": null,
            "max_width": null,
            "order": null,
            "_view_module_version": "1.2.0",
            "grid_template_areas": null,
            "object_position": null,
            "object_fit": null,
            "grid_auto_columns": null,
            "margin": null,
            "display": null,
            "left": null
          }
        },
        "dad6fd61de2c4baa91d3f193a8a71f2b": {
          "model_module": "@jupyter-widgets/controls",
          "model_name": "HTMLModel",
          "model_module_version": "1.5.0",
          "state": {
            "_view_name": "HTMLView",
            "style": "IPY_MODEL_434e19ff47194ea4a1d5b761f3c83d2a",
            "_dom_classes": [],
            "description": "",
            "_model_name": "HTMLModel",
            "placeholder": "​",
            "_view_module": "@jupyter-widgets/controls",
            "_model_module_version": "1.5.0",
            "value": "100%",
            "_view_count": null,
            "_view_module_version": "1.5.0",
            "description_tooltip": null,
            "_model_module": "@jupyter-widgets/controls",
            "layout": "IPY_MODEL_9d4a8cad2f044067808da6f1ccad4bd5"
          }
        },
        "58db88335a594035b1c6099f12ceaf9d": {
          "model_module": "@jupyter-widgets/controls",
          "model_name": "FloatProgressModel",
          "model_module_version": "1.5.0",
          "state": {
            "_view_name": "ProgressView",
            "style": "IPY_MODEL_351415deb99545aaa30135497b09d490",
            "_dom_classes": [],
            "description": "",
            "_model_name": "FloatProgressModel",
            "bar_style": "success",
            "max": 1000,
            "_view_module": "@jupyter-widgets/controls",
            "_model_module_version": "1.5.0",
            "value": 1000,
            "_view_count": null,
            "_view_module_version": "1.5.0",
            "orientation": "horizontal",
            "min": 0,
            "description_tooltip": null,
            "_model_module": "@jupyter-widgets/controls",
            "layout": "IPY_MODEL_34e95f4e466a45199e9f28c93f87055b"
          }
        },
        "4a849a2bfac44a41853ca9360573e0c8": {
          "model_module": "@jupyter-widgets/controls",
          "model_name": "HTMLModel",
          "model_module_version": "1.5.0",
          "state": {
            "_view_name": "HTMLView",
            "style": "IPY_MODEL_d662bea787cc43c682cbfc7f4a2a3a01",
            "_dom_classes": [],
            "description": "",
            "_model_name": "HTMLModel",
            "placeholder": "​",
            "_view_module": "@jupyter-widgets/controls",
            "_model_module_version": "1.5.0",
            "value": " 1000/1000 [03:54&lt;00:00,  4.29it/s]",
            "_view_count": null,
            "_view_module_version": "1.5.0",
            "description_tooltip": null,
            "_model_module": "@jupyter-widgets/controls",
            "layout": "IPY_MODEL_442e67b083544d42956d01eacb54508b"
          }
        },
        "434e19ff47194ea4a1d5b761f3c83d2a": {
          "model_module": "@jupyter-widgets/controls",
          "model_name": "DescriptionStyleModel",
          "model_module_version": "1.5.0",
          "state": {
            "_view_name": "StyleView",
            "_model_name": "DescriptionStyleModel",
            "description_width": "",
            "_view_module": "@jupyter-widgets/base",
            "_model_module_version": "1.5.0",
            "_view_count": null,
            "_view_module_version": "1.2.0",
            "_model_module": "@jupyter-widgets/controls"
          }
        },
        "9d4a8cad2f044067808da6f1ccad4bd5": {
          "model_module": "@jupyter-widgets/base",
          "model_name": "LayoutModel",
          "model_module_version": "1.2.0",
          "state": {
            "_view_name": "LayoutView",
            "grid_template_rows": null,
            "right": null,
            "justify_content": null,
            "_view_module": "@jupyter-widgets/base",
            "overflow": null,
            "_model_module_version": "1.2.0",
            "_view_count": null,
            "flex_flow": null,
            "width": null,
            "min_width": null,
            "border": null,
            "align_items": null,
            "bottom": null,
            "_model_module": "@jupyter-widgets/base",
            "top": null,
            "grid_column": null,
            "overflow_y": null,
            "overflow_x": null,
            "grid_auto_flow": null,
            "grid_area": null,
            "grid_template_columns": null,
            "flex": null,
            "_model_name": "LayoutModel",
            "justify_items": null,
            "grid_row": null,
            "max_height": null,
            "align_content": null,
            "visibility": null,
            "align_self": null,
            "height": null,
            "min_height": null,
            "padding": null,
            "grid_auto_rows": null,
            "grid_gap": null,
            "max_width": null,
            "order": null,
            "_view_module_version": "1.2.0",
            "grid_template_areas": null,
            "object_position": null,
            "object_fit": null,
            "grid_auto_columns": null,
            "margin": null,
            "display": null,
            "left": null
          }
        },
        "351415deb99545aaa30135497b09d490": {
          "model_module": "@jupyter-widgets/controls",
          "model_name": "ProgressStyleModel",
          "model_module_version": "1.5.0",
          "state": {
            "_view_name": "StyleView",
            "_model_name": "ProgressStyleModel",
            "description_width": "",
            "_view_module": "@jupyter-widgets/base",
            "_model_module_version": "1.5.0",
            "_view_count": null,
            "_view_module_version": "1.2.0",
            "bar_color": null,
            "_model_module": "@jupyter-widgets/controls"
          }
        },
        "34e95f4e466a45199e9f28c93f87055b": {
          "model_module": "@jupyter-widgets/base",
          "model_name": "LayoutModel",
          "model_module_version": "1.2.0",
          "state": {
            "_view_name": "LayoutView",
            "grid_template_rows": null,
            "right": null,
            "justify_content": null,
            "_view_module": "@jupyter-widgets/base",
            "overflow": null,
            "_model_module_version": "1.2.0",
            "_view_count": null,
            "flex_flow": null,
            "width": null,
            "min_width": null,
            "border": null,
            "align_items": null,
            "bottom": null,
            "_model_module": "@jupyter-widgets/base",
            "top": null,
            "grid_column": null,
            "overflow_y": null,
            "overflow_x": null,
            "grid_auto_flow": null,
            "grid_area": null,
            "grid_template_columns": null,
            "flex": null,
            "_model_name": "LayoutModel",
            "justify_items": null,
            "grid_row": null,
            "max_height": null,
            "align_content": null,
            "visibility": null,
            "align_self": null,
            "height": null,
            "min_height": null,
            "padding": null,
            "grid_auto_rows": null,
            "grid_gap": null,
            "max_width": null,
            "order": null,
            "_view_module_version": "1.2.0",
            "grid_template_areas": null,
            "object_position": null,
            "object_fit": null,
            "grid_auto_columns": null,
            "margin": null,
            "display": null,
            "left": null
          }
        },
        "d662bea787cc43c682cbfc7f4a2a3a01": {
          "model_module": "@jupyter-widgets/controls",
          "model_name": "DescriptionStyleModel",
          "model_module_version": "1.5.0",
          "state": {
            "_view_name": "StyleView",
            "_model_name": "DescriptionStyleModel",
            "description_width": "",
            "_view_module": "@jupyter-widgets/base",
            "_model_module_version": "1.5.0",
            "_view_count": null,
            "_view_module_version": "1.2.0",
            "_model_module": "@jupyter-widgets/controls"
          }
        },
        "442e67b083544d42956d01eacb54508b": {
          "model_module": "@jupyter-widgets/base",
          "model_name": "LayoutModel",
          "model_module_version": "1.2.0",
          "state": {
            "_view_name": "LayoutView",
            "grid_template_rows": null,
            "right": null,
            "justify_content": null,
            "_view_module": "@jupyter-widgets/base",
            "overflow": null,
            "_model_module_version": "1.2.0",
            "_view_count": null,
            "flex_flow": null,
            "width": null,
            "min_width": null,
            "border": null,
            "align_items": null,
            "bottom": null,
            "_model_module": "@jupyter-widgets/base",
            "top": null,
            "grid_column": null,
            "overflow_y": null,
            "overflow_x": null,
            "grid_auto_flow": null,
            "grid_area": null,
            "grid_template_columns": null,
            "flex": null,
            "_model_name": "LayoutModel",
            "justify_items": null,
            "grid_row": null,
            "max_height": null,
            "align_content": null,
            "visibility": null,
            "align_self": null,
            "height": null,
            "min_height": null,
            "padding": null,
            "grid_auto_rows": null,
            "grid_gap": null,
            "max_width": null,
            "order": null,
            "_view_module_version": "1.2.0",
            "grid_template_areas": null,
            "object_position": null,
            "object_fit": null,
            "grid_auto_columns": null,
            "margin": null,
            "display": null,
            "left": null
          }
        }
      }
    }
  },
  "cells": [
    {
      "cell_type": "markdown",
      "metadata": {
        "id": "HiwHLJyyhOj6"
      },
      "source": [
        "Данные  \n",
        "\n",
        "Игра содержит особое событие – ивент, для прохождения которого пользователи могут тратить деньги. Группа дизайнеров решила поменять вид окошка покупки ивентовых продуктов. Чтобы оценить результат нововведения, провели АБ тест, разделив пользователей на две группы: контрольную и тестовую (с окошком нового типа). \n",
        "\n",
        "Задача  \n",
        "**Исследовать какая из АБ групп лучше себя показала.\n",
        "Результаты предоставить в понятной для широкой аудитории форме, сопроводив по необходимости графиками/дашбордами/числами.**\n",
        "\n",
        "Колонки\n",
        "1. AbGroup – имя АБ группы: Control/Test\n",
        "2. user_id – id пользователя\n",
        "3. time_stamp – день события\n",
        "4. install_date – день установки приложения пользователем\n",
        "5. event_name – техническое название события (InAppPurchase - в случае покупки за деньги, ResourceSpend в случае покупки за игровую валюту)\n",
        "6. platform – платформа google / itunes\n",
        "7. network_name – пользователь установил игру по переходу с рекламы (Paid) или нет (Organic)\n",
        "8. country_name – страна пользователя\n",
        "9. InGameTime – сколько всего пользователь провел в игре секунд\n",
        "10. LastCompletedLevel – номер последнего пройденного уровня\n",
        "11. avg_energy_amount – сколько в среднем энергии было у пользователя за день\n",
        "12. revenue_on_event – ревеню, потраченное на покупку ивентовых продуктов\n",
        "13. revenue_on_other_activities – ревеню, потраченное на остальные продукты, включая золото\n",
        "14. gold_on_event – золото, потраченное на ивентный прогресс\n",
        "15. gold_on_other_activities – золото, потраченное на другие продукты"
      ]
    },
    {
      "cell_type": "markdown",
      "metadata": {
        "id": "2tY49oBhjQ4i"
      },
      "source": [
        "# Import и загрузка данных"
      ]
    },
    {
      "cell_type": "markdown",
      "metadata": {
        "id": "ERteD2Hbibog"
      },
      "source": [
        "https://drive.google.com/file/d/15YZTzYXI4gDTWQump88o0XXQpQNlXNi3/view?usp=sharing"
      ]
    },
    {
      "cell_type": "code",
      "metadata": {
        "colab": {
          "base_uri": "https://localhost:8080/"
        },
        "id": "eFr8bwPehPGB",
        "outputId": "51d2a3b0-17c0-49b8-b0ac-a0f9303aad2c"
      },
      "source": [
        "!gdown --id 15YZTzYXI4gDTWQump88o0XXQpQNlXNi3"
      ],
      "execution_count": 30,
      "outputs": [
        {
          "output_type": "stream",
          "name": "stdout",
          "text": [
            "Downloading...\n",
            "From: https://drive.google.com/uc?id=15YZTzYXI4gDTWQump88o0XXQpQNlXNi3\n",
            "To: /content/test_task_product_analyst_2021_20210427.csv\n",
            "100% 102M/102M [00:00<00:00, 198MB/s] \n"
          ]
        }
      ]
    },
    {
      "cell_type": "code",
      "metadata": {
        "id": "cHGr1Wjhg43l"
      },
      "source": [
        "import pandas as pd\n",
        "import numpy as np\n",
        "\n",
        "from tqdm.notebook import tqdm"
      ],
      "execution_count": 76,
      "outputs": []
    },
    {
      "cell_type": "code",
      "metadata": {
        "id": "9P3fJSsmiiE5"
      },
      "source": [
        "df = pd.read_csv('/content/test_task_product_analyst_2021_20210427.csv')"
      ],
      "execution_count": 32,
      "outputs": []
    },
    {
      "cell_type": "code",
      "metadata": {
        "colab": {
          "base_uri": "https://localhost:8080/"
        },
        "id": "ASlg2ZjtiiC5",
        "outputId": "bb6d0373-fd50-4863-c015-263c508258b2"
      },
      "source": [
        "df.info()"
      ],
      "execution_count": 33,
      "outputs": [
        {
          "output_type": "stream",
          "name": "stdout",
          "text": [
            "<class 'pandas.core.frame.DataFrame'>\n",
            "RangeIndex: 696840 entries, 0 to 696839\n",
            "Data columns (total 15 columns):\n",
            " #   Column                       Non-Null Count   Dtype  \n",
            "---  ------                       --------------   -----  \n",
            " 0   AbGroup                      696840 non-null  object \n",
            " 1   user_id                      696840 non-null  object \n",
            " 2   time_stamp                   696840 non-null  object \n",
            " 3   install_date                 696840 non-null  object \n",
            " 4   event_name                   696840 non-null  object \n",
            " 5   platform                     696840 non-null  object \n",
            " 6   network_name                 696840 non-null  object \n",
            " 7   country_name                 696840 non-null  object \n",
            " 8   InGameTime                   696840 non-null  int64  \n",
            " 9   LastCompletedLevel           696840 non-null  int64  \n",
            " 10  avg_energy_amount            696840 non-null  float64\n",
            " 11  revenue_on_event             696840 non-null  float64\n",
            " 12  revenue_on_other_activities  696840 non-null  float64\n",
            " 13  gold_on_event                45412 non-null   float64\n",
            " 14  gold_on_other_activities     168193 non-null  float64\n",
            "dtypes: float64(5), int64(2), object(8)\n",
            "memory usage: 79.7+ MB\n"
          ]
        }
      ]
    },
    {
      "cell_type": "code",
      "metadata": {
        "colab": {
          "base_uri": "https://localhost:8080/",
          "height": 313
        },
        "id": "-D8E9eZMiiAj",
        "outputId": "4e2f1112-1f1c-4c26-a4dd-e04884d5f511"
      },
      "source": [
        "df.head()"
      ],
      "execution_count": 34,
      "outputs": [
        {
          "output_type": "execute_result",
          "data": {
            "text/html": [
              "<div>\n",
              "<style scoped>\n",
              "    .dataframe tbody tr th:only-of-type {\n",
              "        vertical-align: middle;\n",
              "    }\n",
              "\n",
              "    .dataframe tbody tr th {\n",
              "        vertical-align: top;\n",
              "    }\n",
              "\n",
              "    .dataframe thead th {\n",
              "        text-align: right;\n",
              "    }\n",
              "</style>\n",
              "<table border=\"1\" class=\"dataframe\">\n",
              "  <thead>\n",
              "    <tr style=\"text-align: right;\">\n",
              "      <th></th>\n",
              "      <th>AbGroup</th>\n",
              "      <th>user_id</th>\n",
              "      <th>time_stamp</th>\n",
              "      <th>install_date</th>\n",
              "      <th>event_name</th>\n",
              "      <th>platform</th>\n",
              "      <th>network_name</th>\n",
              "      <th>country_name</th>\n",
              "      <th>InGameTime</th>\n",
              "      <th>LastCompletedLevel</th>\n",
              "      <th>avg_energy_amount</th>\n",
              "      <th>revenue_on_event</th>\n",
              "      <th>revenue_on_other_activities</th>\n",
              "      <th>gold_on_event</th>\n",
              "      <th>gold_on_other_activities</th>\n",
              "    </tr>\n",
              "  </thead>\n",
              "  <tbody>\n",
              "    <tr>\n",
              "      <th>0</th>\n",
              "      <td>Control</td>\n",
              "      <td>d60ebcaecff2dc1d360a8a41271e6fd8a902c107</td>\n",
              "      <td>2020-02-10</td>\n",
              "      <td>2019-11-10</td>\n",
              "      <td>ResourceSpend</td>\n",
              "      <td>itunes</td>\n",
              "      <td>Organic</td>\n",
              "      <td>United Kingdom of Great Britain and Northern I...</td>\n",
              "      <td>276180</td>\n",
              "      <td>345</td>\n",
              "      <td>54.0</td>\n",
              "      <td>0.0</td>\n",
              "      <td>0.0</td>\n",
              "      <td>NaN</td>\n",
              "      <td>NaN</td>\n",
              "    </tr>\n",
              "    <tr>\n",
              "      <th>1</th>\n",
              "      <td>Test</td>\n",
              "      <td>f6e385b0ab43d5aea9cfcc408aa84029a4ea5fdb</td>\n",
              "      <td>2020-03-04</td>\n",
              "      <td>2019-11-05</td>\n",
              "      <td>ResourceSpend</td>\n",
              "      <td>itunes</td>\n",
              "      <td>Paid</td>\n",
              "      <td>United States of America</td>\n",
              "      <td>166095</td>\n",
              "      <td>199</td>\n",
              "      <td>50.0</td>\n",
              "      <td>0.0</td>\n",
              "      <td>0.0</td>\n",
              "      <td>NaN</td>\n",
              "      <td>NaN</td>\n",
              "    </tr>\n",
              "    <tr>\n",
              "      <th>2</th>\n",
              "      <td>Control</td>\n",
              "      <td>a4c80c8524e2c11cc238553d7b02da01ce2aad66</td>\n",
              "      <td>2020-02-26</td>\n",
              "      <td>2020-01-02</td>\n",
              "      <td>ResourceSpend</td>\n",
              "      <td>itunes</td>\n",
              "      <td>Paid</td>\n",
              "      <td>Canada</td>\n",
              "      <td>240986</td>\n",
              "      <td>84</td>\n",
              "      <td>39.0</td>\n",
              "      <td>0.0</td>\n",
              "      <td>0.0</td>\n",
              "      <td>NaN</td>\n",
              "      <td>NaN</td>\n",
              "    </tr>\n",
              "    <tr>\n",
              "      <th>3</th>\n",
              "      <td>Control</td>\n",
              "      <td>7ea2e4599ae33760c307e254839317bd5b17a63c</td>\n",
              "      <td>2020-02-21</td>\n",
              "      <td>2020-01-13</td>\n",
              "      <td>ResourceSpend</td>\n",
              "      <td>itunes</td>\n",
              "      <td>Organic</td>\n",
              "      <td>France</td>\n",
              "      <td>989822</td>\n",
              "      <td>1176</td>\n",
              "      <td>21.0</td>\n",
              "      <td>0.0</td>\n",
              "      <td>0.0</td>\n",
              "      <td>NaN</td>\n",
              "      <td>NaN</td>\n",
              "    </tr>\n",
              "    <tr>\n",
              "      <th>4</th>\n",
              "      <td>Control</td>\n",
              "      <td>6495168982929360dc6d84bf0766d8963a7ddc41</td>\n",
              "      <td>2020-02-18</td>\n",
              "      <td>2020-02-05</td>\n",
              "      <td>ResourceSpend</td>\n",
              "      <td>itunes</td>\n",
              "      <td>Paid</td>\n",
              "      <td>Spain</td>\n",
              "      <td>52106</td>\n",
              "      <td>66</td>\n",
              "      <td>43.0</td>\n",
              "      <td>0.0</td>\n",
              "      <td>0.0</td>\n",
              "      <td>500.0</td>\n",
              "      <td>NaN</td>\n",
              "    </tr>\n",
              "  </tbody>\n",
              "</table>\n",
              "</div>"
            ],
            "text/plain": [
              "   AbGroup  ... gold_on_other_activities\n",
              "0  Control  ...                      NaN\n",
              "1     Test  ...                      NaN\n",
              "2  Control  ...                      NaN\n",
              "3  Control  ...                      NaN\n",
              "4  Control  ...                      NaN\n",
              "\n",
              "[5 rows x 15 columns]"
            ]
          },
          "metadata": {},
          "execution_count": 34
        }
      ]
    },
    {
      "cell_type": "markdown",
      "metadata": {
        "id": "ASYnXBLui4Uz"
      },
      "source": [
        "Колонки\n",
        "1. AbGroup – имя АБ группы: Control/Test\n",
        "2. user_id – id пользователя\n",
        "3. time_stamp – день события\n",
        "4. install_date – день установки приложения пользователем\n",
        "5. event_name – техническое название события (InAppPurchase - в случае покупки за деньги, ResourceSpend в случае покупки за игровую валюту)\n",
        "6. platform – платформа google / itunes\n",
        "7. network_name – пользователь установил игру по переходу с рекламы (Paid) или нет (Organic)\n",
        "8. country_name – страна пользователя\n",
        "9. InGameTime – сколько всего пользователь провел в игре секунд\n",
        "10. LastCompletedLevel – номер последнего пройденного уровня\n",
        "11. avg_energy_amount – сколько в среднем энергии было у пользователя за день\n",
        "12. revenue_on_event – ревеню, потраченное на покупку ивентовых продуктов\n",
        "13. revenue_on_other_activities – ревеню, потраченное на остальные продукты, включая золото\n",
        "14. gold_on_event – золото, потраченное на ивентный прогресс\n",
        "15. gold_on_other_activities – золото, потраченное на другие продукты"
      ]
    },
    {
      "cell_type": "markdown",
      "metadata": {
        "id": "jSjAYJ2OjURP"
      },
      "source": [
        "# Предобработка"
      ]
    },
    {
      "cell_type": "code",
      "metadata": {
        "id": "jKdcWsh5ih-h"
      },
      "source": [
        "df.columns = df.columns.str.lower()"
      ],
      "execution_count": 35,
      "outputs": []
    },
    {
      "cell_type": "code",
      "metadata": {
        "id": "-G6K36yEih3p"
      },
      "source": [
        "df['time_stamp'] = pd.to_datetime(df['time_stamp'],format='%Y-%m-%d')"
      ],
      "execution_count": 36,
      "outputs": []
    },
    {
      "cell_type": "code",
      "metadata": {
        "id": "mh9Bf7_hih1q"
      },
      "source": [
        "df['install_date'] = pd.to_datetime(df['install_date'],format='%Y-%m-%d')"
      ],
      "execution_count": 37,
      "outputs": []
    },
    {
      "cell_type": "markdown",
      "metadata": {
        "id": "bBaRAqGyj_ew"
      },
      "source": [
        "# Исследовательский анализ"
      ]
    },
    {
      "cell_type": "code",
      "metadata": {
        "colab": {
          "base_uri": "https://localhost:8080/"
        },
        "id": "1PUDIOZKjoMt",
        "outputId": "d1d25070-56e2-483c-dbfc-2d7e6cf9f57c"
      },
      "source": [
        "df['abgroup'].value_counts()"
      ],
      "execution_count": 38,
      "outputs": [
        {
          "output_type": "execute_result",
          "data": {
            "text/plain": [
              "Control    558070\n",
              "Test       138770\n",
              "Name: abgroup, dtype: int64"
            ]
          },
          "metadata": {},
          "execution_count": 38
        }
      ]
    },
    {
      "cell_type": "code",
      "metadata": {
        "colab": {
          "base_uri": "https://localhost:8080/"
        },
        "id": "JOQIRzRujoQg",
        "outputId": "00acf47a-8bce-4b2f-ad65-239ebb9ff99f"
      },
      "source": [
        "df['abgroup'].value_counts(normalize=True)"
      ],
      "execution_count": 39,
      "outputs": [
        {
          "output_type": "execute_result",
          "data": {
            "text/plain": [
              "Control    0.800858\n",
              "Test       0.199142\n",
              "Name: abgroup, dtype: float64"
            ]
          },
          "metadata": {},
          "execution_count": 39
        }
      ]
    },
    {
      "cell_type": "markdown",
      "metadata": {
        "id": "1OMfie4YwTcU"
      },
      "source": [
        "80/20"
      ]
    },
    {
      "cell_type": "code",
      "metadata": {
        "colab": {
          "base_uri": "https://localhost:8080/",
          "height": 143
        },
        "id": "QAckKeDEjxBj",
        "outputId": "4d71a6de-19e3-4aca-b492-e2dcca85d365"
      },
      "source": [
        "df.groupby('abgroup')['user_id'].agg(['count','nunique'])"
      ],
      "execution_count": 40,
      "outputs": [
        {
          "output_type": "execute_result",
          "data": {
            "text/html": [
              "<div>\n",
              "<style scoped>\n",
              "    .dataframe tbody tr th:only-of-type {\n",
              "        vertical-align: middle;\n",
              "    }\n",
              "\n",
              "    .dataframe tbody tr th {\n",
              "        vertical-align: top;\n",
              "    }\n",
              "\n",
              "    .dataframe thead th {\n",
              "        text-align: right;\n",
              "    }\n",
              "</style>\n",
              "<table border=\"1\" class=\"dataframe\">\n",
              "  <thead>\n",
              "    <tr style=\"text-align: right;\">\n",
              "      <th></th>\n",
              "      <th>count</th>\n",
              "      <th>nunique</th>\n",
              "    </tr>\n",
              "    <tr>\n",
              "      <th>abgroup</th>\n",
              "      <th></th>\n",
              "      <th></th>\n",
              "    </tr>\n",
              "  </thead>\n",
              "  <tbody>\n",
              "    <tr>\n",
              "      <th>Control</th>\n",
              "      <td>558070</td>\n",
              "      <td>89034</td>\n",
              "    </tr>\n",
              "    <tr>\n",
              "      <th>Test</th>\n",
              "      <td>138770</td>\n",
              "      <td>22278</td>\n",
              "    </tr>\n",
              "  </tbody>\n",
              "</table>\n",
              "</div>"
            ],
            "text/plain": [
              "          count  nunique\n",
              "abgroup                 \n",
              "Control  558070    89034\n",
              "Test     138770    22278"
            ]
          },
          "metadata": {},
          "execution_count": 40
        }
      ]
    },
    {
      "cell_type": "code",
      "metadata": {
        "colab": {
          "base_uri": "https://localhost:8080/",
          "height": 303
        },
        "id": "bAvcLhh8jlNL",
        "outputId": "2480e6c1-b2bb-4dce-b8c4-cf801d35dc23"
      },
      "source": [
        "df.groupby('time_stamp')['user_id'].count().plot()"
      ],
      "execution_count": 41,
      "outputs": [
        {
          "output_type": "execute_result",
          "data": {
            "text/plain": [
              "<matplotlib.axes._subplots.AxesSubplot at 0x7f7712cfced0>"
            ]
          },
          "metadata": {},
          "execution_count": 41
        },
        {
          "output_type": "display_data",
          "data": {
            "image/png": "[encoded data removed]",
            "text/plain": [
              "<Figure size 432x288 with 1 Axes>"
            ]
          },
          "metadata": {
            "needs_background": "light"
          }
        }
      ]
    },
    {
      "cell_type": "code",
      "metadata": {
        "colab": {
          "base_uri": "https://localhost:8080/",
          "height": 304
        },
        "id": "CT6xSGEsjlPX",
        "outputId": "87eca102-e7d0-4142-87d9-5d200efe8f2f"
      },
      "source": [
        "df.groupby('time_stamp')['user_id'].nunique().plot()"
      ],
      "execution_count": 42,
      "outputs": [
        {
          "output_type": "execute_result",
          "data": {
            "text/plain": [
              "<matplotlib.axes._subplots.AxesSubplot at 0x7f771145eed0>"
            ]
          },
          "metadata": {},
          "execution_count": 42
        },
        {
          "output_type": "display_data",
          "data": {
            "image/png": "[encoded data removed]",
            "text/plain": [
              "<Figure size 432x288 with 1 Axes>"
            ]
          },
          "metadata": {
            "needs_background": "light"
          }
        }
      ]
    },
    {
      "cell_type": "code",
      "metadata": {
        "colab": {
          "base_uri": "https://localhost:8080/",
          "height": 927
        },
        "id": "rbhG63uLjlRw",
        "outputId": "79af2ab3-c43c-4b03-8e97-6449e0261574"
      },
      "source": [
        "df.groupby('time_stamp')['user_id'].agg(['count','nunique'])"
      ],
      "execution_count": 43,
      "outputs": [
        {
          "output_type": "execute_result",
          "data": {
            "text/html": [
              "<div>\n",
              "<style scoped>\n",
              "    .dataframe tbody tr th:only-of-type {\n",
              "        vertical-align: middle;\n",
              "    }\n",
              "\n",
              "    .dataframe tbody tr th {\n",
              "        vertical-align: top;\n",
              "    }\n",
              "\n",
              "    .dataframe thead th {\n",
              "        text-align: right;\n",
              "    }\n",
              "</style>\n",
              "<table border=\"1\" class=\"dataframe\">\n",
              "  <thead>\n",
              "    <tr style=\"text-align: right;\">\n",
              "      <th></th>\n",
              "      <th>count</th>\n",
              "      <th>nunique</th>\n",
              "    </tr>\n",
              "    <tr>\n",
              "      <th>time_stamp</th>\n",
              "      <th></th>\n",
              "      <th></th>\n",
              "    </tr>\n",
              "  </thead>\n",
              "  <tbody>\n",
              "    <tr>\n",
              "      <th>2020-02-06</th>\n",
              "      <td>4</td>\n",
              "      <td>3</td>\n",
              "    </tr>\n",
              "    <tr>\n",
              "      <th>2020-02-08</th>\n",
              "      <td>1</td>\n",
              "      <td>1</td>\n",
              "    </tr>\n",
              "    <tr>\n",
              "      <th>2020-02-09</th>\n",
              "      <td>413</td>\n",
              "      <td>410</td>\n",
              "    </tr>\n",
              "    <tr>\n",
              "      <th>2020-02-10</th>\n",
              "      <td>12472</td>\n",
              "      <td>12445</td>\n",
              "    </tr>\n",
              "    <tr>\n",
              "      <th>2020-02-11</th>\n",
              "      <td>21822</td>\n",
              "      <td>21767</td>\n",
              "    </tr>\n",
              "    <tr>\n",
              "      <th>2020-02-12</th>\n",
              "      <td>24292</td>\n",
              "      <td>24225</td>\n",
              "    </tr>\n",
              "    <tr>\n",
              "      <th>2020-02-13</th>\n",
              "      <td>25194</td>\n",
              "      <td>25131</td>\n",
              "    </tr>\n",
              "    <tr>\n",
              "      <th>2020-02-14</th>\n",
              "      <td>26464</td>\n",
              "      <td>26407</td>\n",
              "    </tr>\n",
              "    <tr>\n",
              "      <th>2020-02-15</th>\n",
              "      <td>28959</td>\n",
              "      <td>28894</td>\n",
              "    </tr>\n",
              "    <tr>\n",
              "      <th>2020-02-16</th>\n",
              "      <td>28780</td>\n",
              "      <td>28713</td>\n",
              "    </tr>\n",
              "    <tr>\n",
              "      <th>2020-02-17</th>\n",
              "      <td>30044</td>\n",
              "      <td>29963</td>\n",
              "    </tr>\n",
              "    <tr>\n",
              "      <th>2020-02-18</th>\n",
              "      <td>30417</td>\n",
              "      <td>30341</td>\n",
              "    </tr>\n",
              "    <tr>\n",
              "      <th>2020-02-19</th>\n",
              "      <td>30044</td>\n",
              "      <td>29964</td>\n",
              "    </tr>\n",
              "    <tr>\n",
              "      <th>2020-02-20</th>\n",
              "      <td>29909</td>\n",
              "      <td>29868</td>\n",
              "    </tr>\n",
              "    <tr>\n",
              "      <th>2020-02-21</th>\n",
              "      <td>31032</td>\n",
              "      <td>30995</td>\n",
              "    </tr>\n",
              "    <tr>\n",
              "      <th>2020-02-22</th>\n",
              "      <td>32651</td>\n",
              "      <td>32607</td>\n",
              "    </tr>\n",
              "    <tr>\n",
              "      <th>2020-02-23</th>\n",
              "      <td>30500</td>\n",
              "      <td>30453</td>\n",
              "    </tr>\n",
              "    <tr>\n",
              "      <th>2020-02-24</th>\n",
              "      <td>29728</td>\n",
              "      <td>29689</td>\n",
              "    </tr>\n",
              "    <tr>\n",
              "      <th>2020-02-25</th>\n",
              "      <td>29655</td>\n",
              "      <td>29615</td>\n",
              "    </tr>\n",
              "    <tr>\n",
              "      <th>2020-02-26</th>\n",
              "      <td>29694</td>\n",
              "      <td>29648</td>\n",
              "    </tr>\n",
              "    <tr>\n",
              "      <th>2020-02-27</th>\n",
              "      <td>30754</td>\n",
              "      <td>30705</td>\n",
              "    </tr>\n",
              "    <tr>\n",
              "      <th>2020-02-28</th>\n",
              "      <td>30481</td>\n",
              "      <td>30441</td>\n",
              "    </tr>\n",
              "    <tr>\n",
              "      <th>2020-02-29</th>\n",
              "      <td>31377</td>\n",
              "      <td>31339</td>\n",
              "    </tr>\n",
              "    <tr>\n",
              "      <th>2020-03-01</th>\n",
              "      <td>34058</td>\n",
              "      <td>34004</td>\n",
              "    </tr>\n",
              "    <tr>\n",
              "      <th>2020-03-02</th>\n",
              "      <td>32980</td>\n",
              "      <td>32943</td>\n",
              "    </tr>\n",
              "    <tr>\n",
              "      <th>2020-03-03</th>\n",
              "      <td>32554</td>\n",
              "      <td>32510</td>\n",
              "    </tr>\n",
              "    <tr>\n",
              "      <th>2020-03-04</th>\n",
              "      <td>32561</td>\n",
              "      <td>32514</td>\n",
              "    </tr>\n",
              "  </tbody>\n",
              "</table>\n",
              "</div>"
            ],
            "text/plain": [
              "            count  nunique\n",
              "time_stamp                \n",
              "2020-02-06      4        3\n",
              "2020-02-08      1        1\n",
              "2020-02-09    413      410\n",
              "2020-02-10  12472    12445\n",
              "2020-02-11  21822    21767\n",
              "2020-02-12  24292    24225\n",
              "2020-02-13  25194    25131\n",
              "2020-02-14  26464    26407\n",
              "2020-02-15  28959    28894\n",
              "2020-02-16  28780    28713\n",
              "2020-02-17  30044    29963\n",
              "2020-02-18  30417    30341\n",
              "2020-02-19  30044    29964\n",
              "2020-02-20  29909    29868\n",
              "2020-02-21  31032    30995\n",
              "2020-02-22  32651    32607\n",
              "2020-02-23  30500    30453\n",
              "2020-02-24  29728    29689\n",
              "2020-02-25  29655    29615\n",
              "2020-02-26  29694    29648\n",
              "2020-02-27  30754    30705\n",
              "2020-02-28  30481    30441\n",
              "2020-02-29  31377    31339\n",
              "2020-03-01  34058    34004\n",
              "2020-03-02  32980    32943\n",
              "2020-03-03  32554    32510\n",
              "2020-03-04  32561    32514"
            ]
          },
          "metadata": {},
          "execution_count": 43
        }
      ]
    },
    {
      "cell_type": "code",
      "metadata": {
        "colab": {
          "base_uri": "https://localhost:8080/",
          "height": 282
        },
        "id": "7v4gpenKjlT7",
        "outputId": "be814a87-1697-4a36-cb7e-f11f9af1616a"
      },
      "source": [
        "df['revenue_on_event'].hist()"
      ],
      "execution_count": 44,
      "outputs": [
        {
          "output_type": "execute_result",
          "data": {
            "text/plain": [
              "<matplotlib.axes._subplots.AxesSubplot at 0x7f770b161650>"
            ]
          },
          "metadata": {},
          "execution_count": 44
        },
        {
          "output_type": "display_data",
          "data": {
            "image/png": "[encoded data removed]",
            "text/plain": [
              "<Figure size 432x288 with 1 Axes>"
            ]
          },
          "metadata": {
            "needs_background": "light"
          }
        }
      ]
    },
    {
      "cell_type": "code",
      "metadata": {
        "colab": {
          "base_uri": "https://localhost:8080/"
        },
        "id": "l_6AbFcejlV7",
        "outputId": "2cf18554-f767-4abd-ec1f-609a3f7748dc"
      },
      "source": [
        "df['revenue_on_event'].describe()"
      ],
      "execution_count": 45,
      "outputs": [
        {
          "output_type": "execute_result",
          "data": {
            "text/plain": [
              "count    696840.0\n",
              "mean          0.0\n",
              "std           0.0\n",
              "min           0.0\n",
              "25%           0.0\n",
              "50%           0.0\n",
              "75%           0.0\n",
              "max           0.0\n",
              "Name: revenue_on_event, dtype: float64"
            ]
          },
          "metadata": {},
          "execution_count": 45
        }
      ]
    },
    {
      "cell_type": "code",
      "metadata": {
        "colab": {
          "base_uri": "https://localhost:8080/"
        },
        "id": "u8TAfAFOxULu",
        "outputId": "859e9ef5-d2c7-4d27-c370-5b2aa126e51c"
      },
      "source": [
        "df['revenue_on_other_activities'].describe()"
      ],
      "execution_count": 46,
      "outputs": [
        {
          "output_type": "execute_result",
          "data": {
            "text/plain": [
              "count    696840.0\n",
              "mean          0.0\n",
              "std           0.0\n",
              "min           0.0\n",
              "25%           0.0\n",
              "50%           0.0\n",
              "75%           0.0\n",
              "max           0.0\n",
              "Name: revenue_on_other_activities, dtype: float64"
            ]
          },
          "metadata": {},
          "execution_count": 46
        }
      ]
    },
    {
      "cell_type": "code",
      "metadata": {
        "colab": {
          "base_uri": "https://localhost:8080/",
          "height": 300
        },
        "id": "0VSf5zAQxWcT",
        "outputId": "bf996541-6ed5-450f-db90-3fa70b629ccf"
      },
      "source": [
        "df[['revenue_on_event',\n",
        "    'revenue_on_other_activities', 'gold_on_event',\n",
        "    'gold_on_other_activities']].describe()"
      ],
      "execution_count": 47,
      "outputs": [
        {
          "output_type": "execute_result",
          "data": {
            "text/html": [
              "<div>\n",
              "<style scoped>\n",
              "    .dataframe tbody tr th:only-of-type {\n",
              "        vertical-align: middle;\n",
              "    }\n",
              "\n",
              "    .dataframe tbody tr th {\n",
              "        vertical-align: top;\n",
              "    }\n",
              "\n",
              "    .dataframe thead th {\n",
              "        text-align: right;\n",
              "    }\n",
              "</style>\n",
              "<table border=\"1\" class=\"dataframe\">\n",
              "  <thead>\n",
              "    <tr style=\"text-align: right;\">\n",
              "      <th></th>\n",
              "      <th>revenue_on_event</th>\n",
              "      <th>revenue_on_other_activities</th>\n",
              "      <th>gold_on_event</th>\n",
              "      <th>gold_on_other_activities</th>\n",
              "    </tr>\n",
              "  </thead>\n",
              "  <tbody>\n",
              "    <tr>\n",
              "      <th>count</th>\n",
              "      <td>696840.0</td>\n",
              "      <td>696840.0</td>\n",
              "      <td>45412.000000</td>\n",
              "      <td>168193.000000</td>\n",
              "    </tr>\n",
              "    <tr>\n",
              "      <th>mean</th>\n",
              "      <td>0.0</td>\n",
              "      <td>0.0</td>\n",
              "      <td>1992.865322</td>\n",
              "      <td>936.481899</td>\n",
              "    </tr>\n",
              "    <tr>\n",
              "      <th>std</th>\n",
              "      <td>0.0</td>\n",
              "      <td>0.0</td>\n",
              "      <td>3895.541280</td>\n",
              "      <td>3522.989145</td>\n",
              "    </tr>\n",
              "    <tr>\n",
              "      <th>min</th>\n",
              "      <td>0.0</td>\n",
              "      <td>0.0</td>\n",
              "      <td>500.000000</td>\n",
              "      <td>100.000000</td>\n",
              "    </tr>\n",
              "    <tr>\n",
              "      <th>25%</th>\n",
              "      <td>0.0</td>\n",
              "      <td>0.0</td>\n",
              "      <td>500.000000</td>\n",
              "      <td>500.000000</td>\n",
              "    </tr>\n",
              "    <tr>\n",
              "      <th>50%</th>\n",
              "      <td>0.0</td>\n",
              "      <td>0.0</td>\n",
              "      <td>1000.000000</td>\n",
              "      <td>600.000000</td>\n",
              "    </tr>\n",
              "    <tr>\n",
              "      <th>75%</th>\n",
              "      <td>0.0</td>\n",
              "      <td>0.0</td>\n",
              "      <td>2400.000000</td>\n",
              "      <td>1000.000000</td>\n",
              "    </tr>\n",
              "    <tr>\n",
              "      <th>max</th>\n",
              "      <td>0.0</td>\n",
              "      <td>0.0</td>\n",
              "      <td>189600.000000</td>\n",
              "      <td>755950.000000</td>\n",
              "    </tr>\n",
              "  </tbody>\n",
              "</table>\n",
              "</div>"
            ],
            "text/plain": [
              "       revenue_on_event  ...  gold_on_other_activities\n",
              "count          696840.0  ...             168193.000000\n",
              "mean                0.0  ...                936.481899\n",
              "std                 0.0  ...               3522.989145\n",
              "min                 0.0  ...                100.000000\n",
              "25%                 0.0  ...                500.000000\n",
              "50%                 0.0  ...                600.000000\n",
              "75%                 0.0  ...               1000.000000\n",
              "max                 0.0  ...             755950.000000\n",
              "\n",
              "[8 rows x 4 columns]"
            ]
          },
          "metadata": {},
          "execution_count": 47
        }
      ]
    },
    {
      "cell_type": "code",
      "metadata": {
        "colab": {
          "base_uri": "https://localhost:8080/",
          "height": 282
        },
        "id": "fNTv3K0DxbQQ",
        "outputId": "f1530f43-206d-4018-ae8d-37e040345110"
      },
      "source": [
        "df['gold_on_event'].hist(bins=50)"
      ],
      "execution_count": 48,
      "outputs": [
        {
          "output_type": "execute_result",
          "data": {
            "text/plain": [
              "<matplotlib.axes._subplots.AxesSubplot at 0x7f770b068850>"
            ]
          },
          "metadata": {},
          "execution_count": 48
        },
        {
          "output_type": "display_data",
          "data": {
            "image/png": "[encoded data removed]",
            "text/plain": [
              "<Figure size 432x288 with 1 Axes>"
            ]
          },
          "metadata": {
            "needs_background": "light"
          }
        }
      ]
    },
    {
      "cell_type": "code",
      "metadata": {
        "colab": {
          "base_uri": "https://localhost:8080/",
          "height": 282
        },
        "id": "ltfRP4Z5xeTV",
        "outputId": "5342a571-fc7c-4407-a3e8-e0988f23e9e6"
      },
      "source": [
        "df['gold_on_other_activities'].hist(bins=50)"
      ],
      "execution_count": 49,
      "outputs": [
        {
          "output_type": "execute_result",
          "data": {
            "text/plain": [
              "<matplotlib.axes._subplots.AxesSubplot at 0x7f77117baf50>"
            ]
          },
          "metadata": {},
          "execution_count": 49
        },
        {
          "output_type": "display_data",
          "data": {
            "image/png": "[encoded data removed]",
            "text/plain": [
              "<Figure size 432x288 with 1 Axes>"
            ]
          },
          "metadata": {
            "needs_background": "light"
          }
        }
      ]
    },
    {
      "cell_type": "code",
      "metadata": {
        "id": "-cSdxILmxfFV"
      },
      "source": [
        "df['gold_on_event_flag'] = (df['gold_on_event'] > 0)*1\n",
        "df['gold_on_other_activities_flag'] = (df['gold_on_other_activities'] > 0)*1"
      ],
      "execution_count": 50,
      "outputs": []
    },
    {
      "cell_type": "code",
      "metadata": {
        "colab": {
          "base_uri": "https://localhost:8080/",
          "height": 175
        },
        "id": "rmKFgU2uxhE8",
        "outputId": "6e46eb9f-6289-4fb8-a643-2bfa9261b299"
      },
      "source": [
        "(df.groupby(['abgroup'])[['gold_on_event_flag','gold_on_event']].agg({'gold_on_event_flag':['count','mean'],\n",
        "                                                                      'gold_on_event':['mean','median']}))"
      ],
      "execution_count": 51,
      "outputs": [
        {
          "output_type": "execute_result",
          "data": {
            "text/html": [
              "<div>\n",
              "<style scoped>\n",
              "    .dataframe tbody tr th:only-of-type {\n",
              "        vertical-align: middle;\n",
              "    }\n",
              "\n",
              "    .dataframe tbody tr th {\n",
              "        vertical-align: top;\n",
              "    }\n",
              "\n",
              "    .dataframe thead tr th {\n",
              "        text-align: left;\n",
              "    }\n",
              "\n",
              "    .dataframe thead tr:last-of-type th {\n",
              "        text-align: right;\n",
              "    }\n",
              "</style>\n",
              "<table border=\"1\" class=\"dataframe\">\n",
              "  <thead>\n",
              "    <tr>\n",
              "      <th></th>\n",
              "      <th colspan=\"2\" halign=\"left\">gold_on_event_flag</th>\n",
              "      <th colspan=\"2\" halign=\"left\">gold_on_event</th>\n",
              "    </tr>\n",
              "    <tr>\n",
              "      <th></th>\n",
              "      <th>count</th>\n",
              "      <th>mean</th>\n",
              "      <th>mean</th>\n",
              "      <th>median</th>\n",
              "    </tr>\n",
              "    <tr>\n",
              "      <th>abgroup</th>\n",
              "      <th></th>\n",
              "      <th></th>\n",
              "      <th></th>\n",
              "      <th></th>\n",
              "    </tr>\n",
              "  </thead>\n",
              "  <tbody>\n",
              "    <tr>\n",
              "      <th>Control</th>\n",
              "      <td>558070</td>\n",
              "      <td>0.06523</td>\n",
              "      <td>1965.211658</td>\n",
              "      <td>1000.0</td>\n",
              "    </tr>\n",
              "    <tr>\n",
              "      <th>Test</th>\n",
              "      <td>138770</td>\n",
              "      <td>0.06492</td>\n",
              "      <td>2104.606505</td>\n",
              "      <td>1500.0</td>\n",
              "    </tr>\n",
              "  </tbody>\n",
              "</table>\n",
              "</div>"
            ],
            "text/plain": [
              "        gold_on_event_flag          gold_on_event        \n",
              "                     count     mean          mean  median\n",
              "abgroup                                                  \n",
              "Control             558070  0.06523   1965.211658  1000.0\n",
              "Test                138770  0.06492   2104.606505  1500.0"
            ]
          },
          "metadata": {},
          "execution_count": 51
        }
      ]
    },
    {
      "cell_type": "code",
      "metadata": {
        "id": "zA7jbfDN0TPx"
      },
      "source": [
        "t = df.groupby('user_id')['abgroup'].nunique().query('abgroup > 2').reset_index()"
      ],
      "execution_count": 52,
      "outputs": []
    },
    {
      "cell_type": "code",
      "metadata": {
        "colab": {
          "base_uri": "https://localhost:8080/",
          "height": 424
        },
        "id": "CNP4fyvVCgMO",
        "outputId": "8a7aac0e-0ee6-4db5-b21f-904331e6b8e0"
      },
      "source": [
        "t"
      ],
      "execution_count": 53,
      "outputs": [
        {
          "output_type": "execute_result",
          "data": {
            "text/html": [
              "<div>\n",
              "<style scoped>\n",
              "    .dataframe tbody tr th:only-of-type {\n",
              "        vertical-align: middle;\n",
              "    }\n",
              "\n",
              "    .dataframe tbody tr th {\n",
              "        vertical-align: top;\n",
              "    }\n",
              "\n",
              "    .dataframe thead th {\n",
              "        text-align: right;\n",
              "    }\n",
              "</style>\n",
              "<table border=\"1\" class=\"dataframe\">\n",
              "  <thead>\n",
              "    <tr style=\"text-align: right;\">\n",
              "      <th></th>\n",
              "      <th>user_id</th>\n",
              "      <th>abgroup</th>\n",
              "    </tr>\n",
              "  </thead>\n",
              "  <tbody>\n",
              "    <tr>\n",
              "      <th>0</th>\n",
              "      <td>00000d6d79ec151d74c5b0c0705d9d9fe252fe83</td>\n",
              "      <td>1</td>\n",
              "    </tr>\n",
              "    <tr>\n",
              "      <th>1</th>\n",
              "      <td>000133682d2dcd90c1a9c8ca5e34a294f31af64f</td>\n",
              "      <td>1</td>\n",
              "    </tr>\n",
              "    <tr>\n",
              "      <th>2</th>\n",
              "      <td>0001f13b0535b174bc7e36a1846c31c7a091c4b0</td>\n",
              "      <td>1</td>\n",
              "    </tr>\n",
              "    <tr>\n",
              "      <th>3</th>\n",
              "      <td>00021d57aced59fbfaf63ba620afada82fc06ca8</td>\n",
              "      <td>1</td>\n",
              "    </tr>\n",
              "    <tr>\n",
              "      <th>4</th>\n",
              "      <td>00027b7d34e10c17bfd4f76aa626403a2c5d1044</td>\n",
              "      <td>1</td>\n",
              "    </tr>\n",
              "    <tr>\n",
              "      <th>...</th>\n",
              "      <td>...</td>\n",
              "      <td>...</td>\n",
              "    </tr>\n",
              "    <tr>\n",
              "      <th>110955</th>\n",
              "      <td>fffea25b3877c861a4ebaa00e8fb9c5b96672e00</td>\n",
              "      <td>1</td>\n",
              "    </tr>\n",
              "    <tr>\n",
              "      <th>110956</th>\n",
              "      <td>fffeb6c54253ef0e7b0c4f38eb81a9dd9aebcb14</td>\n",
              "      <td>1</td>\n",
              "    </tr>\n",
              "    <tr>\n",
              "      <th>110957</th>\n",
              "      <td>ffff1964e1cb3bb0fc17c9ed440e3a6b6e6adf99</td>\n",
              "      <td>1</td>\n",
              "    </tr>\n",
              "    <tr>\n",
              "      <th>110958</th>\n",
              "      <td>ffff86c1dc72ba25d61ad8c92e9a5b3d6e2f5547</td>\n",
              "      <td>1</td>\n",
              "    </tr>\n",
              "    <tr>\n",
              "      <th>110959</th>\n",
              "      <td>ffffb50d0170ef0bc2eda7d20211b2c963c61e2a</td>\n",
              "      <td>1</td>\n",
              "    </tr>\n",
              "  </tbody>\n",
              "</table>\n",
              "<p>110960 rows × 2 columns</p>\n",
              "</div>"
            ],
            "text/plain": [
              "                                         user_id  abgroup\n",
              "0       00000d6d79ec151d74c5b0c0705d9d9fe252fe83        1\n",
              "1       000133682d2dcd90c1a9c8ca5e34a294f31af64f        1\n",
              "2       0001f13b0535b174bc7e36a1846c31c7a091c4b0        1\n",
              "3       00021d57aced59fbfaf63ba620afada82fc06ca8        1\n",
              "4       00027b7d34e10c17bfd4f76aa626403a2c5d1044        1\n",
              "...                                          ...      ...\n",
              "110955  fffea25b3877c861a4ebaa00e8fb9c5b96672e00        1\n",
              "110956  fffeb6c54253ef0e7b0c4f38eb81a9dd9aebcb14        1\n",
              "110957  ffff1964e1cb3bb0fc17c9ed440e3a6b6e6adf99        1\n",
              "110958  ffff86c1dc72ba25d61ad8c92e9a5b3d6e2f5547        1\n",
              "110959  ffffb50d0170ef0bc2eda7d20211b2c963c61e2a        1\n",
              "\n",
              "[110960 rows x 2 columns]"
            ]
          },
          "metadata": {},
          "execution_count": 53
        }
      ]
    },
    {
      "cell_type": "code",
      "metadata": {
        "colab": {
          "base_uri": "https://localhost:8080/",
          "height": 424
        },
        "id": "VYQVkb7cChHc",
        "outputId": "22dec2f5-ffbd-4112-c129-a70607c4871e"
      },
      "source": [
        "t[t['abgroup'] > 1]"
      ],
      "execution_count": 55,
      "outputs": [
        {
          "output_type": "execute_result",
          "data": {
            "text/html": [
              "<div>\n",
              "<style scoped>\n",
              "    .dataframe tbody tr th:only-of-type {\n",
              "        vertical-align: middle;\n",
              "    }\n",
              "\n",
              "    .dataframe tbody tr th {\n",
              "        vertical-align: top;\n",
              "    }\n",
              "\n",
              "    .dataframe thead th {\n",
              "        text-align: right;\n",
              "    }\n",
              "</style>\n",
              "<table border=\"1\" class=\"dataframe\">\n",
              "  <thead>\n",
              "    <tr style=\"text-align: right;\">\n",
              "      <th></th>\n",
              "      <th>user_id</th>\n",
              "      <th>abgroup</th>\n",
              "    </tr>\n",
              "  </thead>\n",
              "  <tbody>\n",
              "    <tr>\n",
              "      <th>202</th>\n",
              "      <td>007a61c7cc84aa559280c6d222aa3e15cb5e0114</td>\n",
              "      <td>2</td>\n",
              "    </tr>\n",
              "    <tr>\n",
              "      <th>208</th>\n",
              "      <td>007c891d5eb34c1398966a836d74a123452384de</td>\n",
              "      <td>2</td>\n",
              "    </tr>\n",
              "    <tr>\n",
              "      <th>895</th>\n",
              "      <td>02125379d8faf43debf755edfb32758ea5d789d8</td>\n",
              "      <td>2</td>\n",
              "    </tr>\n",
              "    <tr>\n",
              "      <th>1097</th>\n",
              "      <td>028e3fc09324ac6df71fccf432dabe44e476956c</td>\n",
              "      <td>2</td>\n",
              "    </tr>\n",
              "    <tr>\n",
              "      <th>1107</th>\n",
              "      <td>02977b73d35305fc135ea01bfcc9e1aa334d480a</td>\n",
              "      <td>2</td>\n",
              "    </tr>\n",
              "    <tr>\n",
              "      <th>...</th>\n",
              "      <td>...</td>\n",
              "      <td>...</td>\n",
              "    </tr>\n",
              "    <tr>\n",
              "      <th>110097</th>\n",
              "      <td>fe08c305b0317eecc6b5cf3cc5362fc912afdc0b</td>\n",
              "      <td>2</td>\n",
              "    </tr>\n",
              "    <tr>\n",
              "      <th>110362</th>\n",
              "      <td>fea60891a7ef95c7b95a0b1e58cb9d755684b3de</td>\n",
              "      <td>2</td>\n",
              "    </tr>\n",
              "    <tr>\n",
              "      <th>110480</th>\n",
              "      <td>fef449646b98d04def88b9ddb45e7c43bd9a278a</td>\n",
              "      <td>2</td>\n",
              "    </tr>\n",
              "    <tr>\n",
              "      <th>110515</th>\n",
              "      <td>ff079e7288b379b4e47650da302a5cc23e8c7ad3</td>\n",
              "      <td>2</td>\n",
              "    </tr>\n",
              "    <tr>\n",
              "      <th>110746</th>\n",
              "      <td>ff816e78735bba9ef1d63f46e4614754e2aaeff6</td>\n",
              "      <td>2</td>\n",
              "    </tr>\n",
              "  </tbody>\n",
              "</table>\n",
              "<p>352 rows × 2 columns</p>\n",
              "</div>"
            ],
            "text/plain": [
              "                                         user_id  abgroup\n",
              "202     007a61c7cc84aa559280c6d222aa3e15cb5e0114        2\n",
              "208     007c891d5eb34c1398966a836d74a123452384de        2\n",
              "895     02125379d8faf43debf755edfb32758ea5d789d8        2\n",
              "1097    028e3fc09324ac6df71fccf432dabe44e476956c        2\n",
              "1107    02977b73d35305fc135ea01bfcc9e1aa334d480a        2\n",
              "...                                          ...      ...\n",
              "110097  fe08c305b0317eecc6b5cf3cc5362fc912afdc0b        2\n",
              "110362  fea60891a7ef95c7b95a0b1e58cb9d755684b3de        2\n",
              "110480  fef449646b98d04def88b9ddb45e7c43bd9a278a        2\n",
              "110515  ff079e7288b379b4e47650da302a5cc23e8c7ad3        2\n",
              "110746  ff816e78735bba9ef1d63f46e4614754e2aaeff6        2\n",
              "\n",
              "[352 rows x 2 columns]"
            ]
          },
          "metadata": {},
          "execution_count": 55
        }
      ]
    },
    {
      "cell_type": "code",
      "metadata": {
        "id": "d5tep3RWCnDb"
      },
      "source": [
        "t = (df.groupby(['user_id','abgroup'])[['gold_on_event_flag','gold_on_event']]\n",
        "                                              .agg({'gold_on_event_flag':['count','mean'],\n",
        "                                                    'gold_on_event':['mean','median']})).reset_index()"
      ],
      "execution_count": 56,
      "outputs": []
    },
    {
      "cell_type": "code",
      "metadata": {
        "colab": {
          "base_uri": "https://localhost:8080/",
          "height": 455
        },
        "id": "A-MQ7h-4Cvcj",
        "outputId": "84d62373-5c9a-450b-bcd0-51c678fcf63d"
      },
      "source": [
        "t"
      ],
      "execution_count": 57,
      "outputs": [
        {
          "output_type": "execute_result",
          "data": {
            "text/html": [
              "<div>\n",
              "<style scoped>\n",
              "    .dataframe tbody tr th:only-of-type {\n",
              "        vertical-align: middle;\n",
              "    }\n",
              "\n",
              "    .dataframe tbody tr th {\n",
              "        vertical-align: top;\n",
              "    }\n",
              "\n",
              "    .dataframe thead tr th {\n",
              "        text-align: left;\n",
              "    }\n",
              "</style>\n",
              "<table border=\"1\" class=\"dataframe\">\n",
              "  <thead>\n",
              "    <tr>\n",
              "      <th></th>\n",
              "      <th>user_id</th>\n",
              "      <th>abgroup</th>\n",
              "      <th colspan=\"2\" halign=\"left\">gold_on_event_flag</th>\n",
              "      <th colspan=\"2\" halign=\"left\">gold_on_event</th>\n",
              "    </tr>\n",
              "    <tr>\n",
              "      <th></th>\n",
              "      <th></th>\n",
              "      <th></th>\n",
              "      <th>count</th>\n",
              "      <th>mean</th>\n",
              "      <th>mean</th>\n",
              "      <th>median</th>\n",
              "    </tr>\n",
              "  </thead>\n",
              "  <tbody>\n",
              "    <tr>\n",
              "      <th>0</th>\n",
              "      <td>00000d6d79ec151d74c5b0c0705d9d9fe252fe83</td>\n",
              "      <td>Control</td>\n",
              "      <td>2</td>\n",
              "      <td>0.000000</td>\n",
              "      <td>NaN</td>\n",
              "      <td>NaN</td>\n",
              "    </tr>\n",
              "    <tr>\n",
              "      <th>1</th>\n",
              "      <td>000133682d2dcd90c1a9c8ca5e34a294f31af64f</td>\n",
              "      <td>Control</td>\n",
              "      <td>19</td>\n",
              "      <td>0.105263</td>\n",
              "      <td>1250.0</td>\n",
              "      <td>1250.0</td>\n",
              "    </tr>\n",
              "    <tr>\n",
              "      <th>2</th>\n",
              "      <td>0001f13b0535b174bc7e36a1846c31c7a091c4b0</td>\n",
              "      <td>Control</td>\n",
              "      <td>11</td>\n",
              "      <td>0.000000</td>\n",
              "      <td>NaN</td>\n",
              "      <td>NaN</td>\n",
              "    </tr>\n",
              "    <tr>\n",
              "      <th>3</th>\n",
              "      <td>00021d57aced59fbfaf63ba620afada82fc06ca8</td>\n",
              "      <td>Test</td>\n",
              "      <td>13</td>\n",
              "      <td>0.000000</td>\n",
              "      <td>NaN</td>\n",
              "      <td>NaN</td>\n",
              "    </tr>\n",
              "    <tr>\n",
              "      <th>4</th>\n",
              "      <td>00027b7d34e10c17bfd4f76aa626403a2c5d1044</td>\n",
              "      <td>Test</td>\n",
              "      <td>7</td>\n",
              "      <td>0.000000</td>\n",
              "      <td>NaN</td>\n",
              "      <td>NaN</td>\n",
              "    </tr>\n",
              "    <tr>\n",
              "      <th>...</th>\n",
              "      <td>...</td>\n",
              "      <td>...</td>\n",
              "      <td>...</td>\n",
              "      <td>...</td>\n",
              "      <td>...</td>\n",
              "      <td>...</td>\n",
              "    </tr>\n",
              "    <tr>\n",
              "      <th>111307</th>\n",
              "      <td>fffea25b3877c861a4ebaa00e8fb9c5b96672e00</td>\n",
              "      <td>Control</td>\n",
              "      <td>1</td>\n",
              "      <td>0.000000</td>\n",
              "      <td>NaN</td>\n",
              "      <td>NaN</td>\n",
              "    </tr>\n",
              "    <tr>\n",
              "      <th>111308</th>\n",
              "      <td>fffeb6c54253ef0e7b0c4f38eb81a9dd9aebcb14</td>\n",
              "      <td>Control</td>\n",
              "      <td>5</td>\n",
              "      <td>0.000000</td>\n",
              "      <td>NaN</td>\n",
              "      <td>NaN</td>\n",
              "    </tr>\n",
              "    <tr>\n",
              "      <th>111309</th>\n",
              "      <td>ffff1964e1cb3bb0fc17c9ed440e3a6b6e6adf99</td>\n",
              "      <td>Control</td>\n",
              "      <td>6</td>\n",
              "      <td>0.000000</td>\n",
              "      <td>NaN</td>\n",
              "      <td>NaN</td>\n",
              "    </tr>\n",
              "    <tr>\n",
              "      <th>111310</th>\n",
              "      <td>ffff86c1dc72ba25d61ad8c92e9a5b3d6e2f5547</td>\n",
              "      <td>Control</td>\n",
              "      <td>5</td>\n",
              "      <td>0.000000</td>\n",
              "      <td>NaN</td>\n",
              "      <td>NaN</td>\n",
              "    </tr>\n",
              "    <tr>\n",
              "      <th>111311</th>\n",
              "      <td>ffffb50d0170ef0bc2eda7d20211b2c963c61e2a</td>\n",
              "      <td>Control</td>\n",
              "      <td>24</td>\n",
              "      <td>0.000000</td>\n",
              "      <td>NaN</td>\n",
              "      <td>NaN</td>\n",
              "    </tr>\n",
              "  </tbody>\n",
              "</table>\n",
              "<p>111312 rows × 6 columns</p>\n",
              "</div>"
            ],
            "text/plain": [
              "                                         user_id  abgroup  ... gold_on_event        \n",
              "                                                           ...          mean  median\n",
              "0       00000d6d79ec151d74c5b0c0705d9d9fe252fe83  Control  ...           NaN     NaN\n",
              "1       000133682d2dcd90c1a9c8ca5e34a294f31af64f  Control  ...        1250.0  1250.0\n",
              "2       0001f13b0535b174bc7e36a1846c31c7a091c4b0  Control  ...           NaN     NaN\n",
              "3       00021d57aced59fbfaf63ba620afada82fc06ca8     Test  ...           NaN     NaN\n",
              "4       00027b7d34e10c17bfd4f76aa626403a2c5d1044     Test  ...           NaN     NaN\n",
              "...                                          ...      ...  ...           ...     ...\n",
              "111307  fffea25b3877c861a4ebaa00e8fb9c5b96672e00  Control  ...           NaN     NaN\n",
              "111308  fffeb6c54253ef0e7b0c4f38eb81a9dd9aebcb14  Control  ...           NaN     NaN\n",
              "111309  ffff1964e1cb3bb0fc17c9ed440e3a6b6e6adf99  Control  ...           NaN     NaN\n",
              "111310  ffff86c1dc72ba25d61ad8c92e9a5b3d6e2f5547  Control  ...           NaN     NaN\n",
              "111311  ffffb50d0170ef0bc2eda7d20211b2c963c61e2a  Control  ...           NaN     NaN\n",
              "\n",
              "[111312 rows x 6 columns]"
            ]
          },
          "metadata": {},
          "execution_count": 57
        }
      ]
    },
    {
      "cell_type": "markdown",
      "metadata": {
        "id": "dw85J3HHPmNx"
      },
      "source": [
        "Уберем 2х этажный индекс"
      ]
    },
    {
      "cell_type": "code",
      "metadata": {
        "id": "hBz-0snoCwFQ"
      },
      "source": [
        "t.columns = ['_'.join(el) for el in t.columns.to_flat_index()]"
      ],
      "execution_count": 58,
      "outputs": []
    },
    {
      "cell_type": "code",
      "metadata": {
        "colab": {
          "base_uri": "https://localhost:8080/",
          "height": 444
        },
        "id": "KizKB9bRC6en",
        "outputId": "75f77546-a5f2-432b-e883-7d964b8188b8"
      },
      "source": [
        "t"
      ],
      "execution_count": 59,
      "outputs": [
        {
          "output_type": "execute_result",
          "data": {
            "text/html": [
              "<div>\n",
              "<style scoped>\n",
              "    .dataframe tbody tr th:only-of-type {\n",
              "        vertical-align: middle;\n",
              "    }\n",
              "\n",
              "    .dataframe tbody tr th {\n",
              "        vertical-align: top;\n",
              "    }\n",
              "\n",
              "    .dataframe thead th {\n",
              "        text-align: right;\n",
              "    }\n",
              "</style>\n",
              "<table border=\"1\" class=\"dataframe\">\n",
              "  <thead>\n",
              "    <tr style=\"text-align: right;\">\n",
              "      <th></th>\n",
              "      <th>user_id_</th>\n",
              "      <th>abgroup_</th>\n",
              "      <th>gold_on_event_flag_count</th>\n",
              "      <th>gold_on_event_flag_mean</th>\n",
              "      <th>gold_on_event_mean</th>\n",
              "      <th>gold_on_event_median</th>\n",
              "    </tr>\n",
              "  </thead>\n",
              "  <tbody>\n",
              "    <tr>\n",
              "      <th>0</th>\n",
              "      <td>00000d6d79ec151d74c5b0c0705d9d9fe252fe83</td>\n",
              "      <td>Control</td>\n",
              "      <td>2</td>\n",
              "      <td>0.000000</td>\n",
              "      <td>NaN</td>\n",
              "      <td>NaN</td>\n",
              "    </tr>\n",
              "    <tr>\n",
              "      <th>1</th>\n",
              "      <td>000133682d2dcd90c1a9c8ca5e34a294f31af64f</td>\n",
              "      <td>Control</td>\n",
              "      <td>19</td>\n",
              "      <td>0.105263</td>\n",
              "      <td>1250.0</td>\n",
              "      <td>1250.0</td>\n",
              "    </tr>\n",
              "    <tr>\n",
              "      <th>2</th>\n",
              "      <td>0001f13b0535b174bc7e36a1846c31c7a091c4b0</td>\n",
              "      <td>Control</td>\n",
              "      <td>11</td>\n",
              "      <td>0.000000</td>\n",
              "      <td>NaN</td>\n",
              "      <td>NaN</td>\n",
              "    </tr>\n",
              "    <tr>\n",
              "      <th>3</th>\n",
              "      <td>00021d57aced59fbfaf63ba620afada82fc06ca8</td>\n",
              "      <td>Test</td>\n",
              "      <td>13</td>\n",
              "      <td>0.000000</td>\n",
              "      <td>NaN</td>\n",
              "      <td>NaN</td>\n",
              "    </tr>\n",
              "    <tr>\n",
              "      <th>4</th>\n",
              "      <td>00027b7d34e10c17bfd4f76aa626403a2c5d1044</td>\n",
              "      <td>Test</td>\n",
              "      <td>7</td>\n",
              "      <td>0.000000</td>\n",
              "      <td>NaN</td>\n",
              "      <td>NaN</td>\n",
              "    </tr>\n",
              "    <tr>\n",
              "      <th>...</th>\n",
              "      <td>...</td>\n",
              "      <td>...</td>\n",
              "      <td>...</td>\n",
              "      <td>...</td>\n",
              "      <td>...</td>\n",
              "      <td>...</td>\n",
              "    </tr>\n",
              "    <tr>\n",
              "      <th>111307</th>\n",
              "      <td>fffea25b3877c861a4ebaa00e8fb9c5b96672e00</td>\n",
              "      <td>Control</td>\n",
              "      <td>1</td>\n",
              "      <td>0.000000</td>\n",
              "      <td>NaN</td>\n",
              "      <td>NaN</td>\n",
              "    </tr>\n",
              "    <tr>\n",
              "      <th>111308</th>\n",
              "      <td>fffeb6c54253ef0e7b0c4f38eb81a9dd9aebcb14</td>\n",
              "      <td>Control</td>\n",
              "      <td>5</td>\n",
              "      <td>0.000000</td>\n",
              "      <td>NaN</td>\n",
              "      <td>NaN</td>\n",
              "    </tr>\n",
              "    <tr>\n",
              "      <th>111309</th>\n",
              "      <td>ffff1964e1cb3bb0fc17c9ed440e3a6b6e6adf99</td>\n",
              "      <td>Control</td>\n",
              "      <td>6</td>\n",
              "      <td>0.000000</td>\n",
              "      <td>NaN</td>\n",
              "      <td>NaN</td>\n",
              "    </tr>\n",
              "    <tr>\n",
              "      <th>111310</th>\n",
              "      <td>ffff86c1dc72ba25d61ad8c92e9a5b3d6e2f5547</td>\n",
              "      <td>Control</td>\n",
              "      <td>5</td>\n",
              "      <td>0.000000</td>\n",
              "      <td>NaN</td>\n",
              "      <td>NaN</td>\n",
              "    </tr>\n",
              "    <tr>\n",
              "      <th>111311</th>\n",
              "      <td>ffffb50d0170ef0bc2eda7d20211b2c963c61e2a</td>\n",
              "      <td>Control</td>\n",
              "      <td>24</td>\n",
              "      <td>0.000000</td>\n",
              "      <td>NaN</td>\n",
              "      <td>NaN</td>\n",
              "    </tr>\n",
              "  </tbody>\n",
              "</table>\n",
              "<p>111312 rows × 6 columns</p>\n",
              "</div>"
            ],
            "text/plain": [
              "                                        user_id_  ... gold_on_event_median\n",
              "0       00000d6d79ec151d74c5b0c0705d9d9fe252fe83  ...                  NaN\n",
              "1       000133682d2dcd90c1a9c8ca5e34a294f31af64f  ...               1250.0\n",
              "2       0001f13b0535b174bc7e36a1846c31c7a091c4b0  ...                  NaN\n",
              "3       00021d57aced59fbfaf63ba620afada82fc06ca8  ...                  NaN\n",
              "4       00027b7d34e10c17bfd4f76aa626403a2c5d1044  ...                  NaN\n",
              "...                                          ...  ...                  ...\n",
              "111307  fffea25b3877c861a4ebaa00e8fb9c5b96672e00  ...                  NaN\n",
              "111308  fffeb6c54253ef0e7b0c4f38eb81a9dd9aebcb14  ...                  NaN\n",
              "111309  ffff1964e1cb3bb0fc17c9ed440e3a6b6e6adf99  ...                  NaN\n",
              "111310  ffff86c1dc72ba25d61ad8c92e9a5b3d6e2f5547  ...                  NaN\n",
              "111311  ffffb50d0170ef0bc2eda7d20211b2c963c61e2a  ...                  NaN\n",
              "\n",
              "[111312 rows x 6 columns]"
            ]
          },
          "metadata": {},
          "execution_count": 59
        }
      ]
    },
    {
      "cell_type": "code",
      "metadata": {
        "id": "AS92HRW-C7Jt"
      },
      "source": [
        "t['user'] = 1"
      ],
      "execution_count": 64,
      "outputs": []
    },
    {
      "cell_type": "code",
      "metadata": {
        "colab": {
          "base_uri": "https://localhost:8080/"
        },
        "id": "t8eQ3pSLQqsW",
        "outputId": "9bdaca46-ca93-464a-e5c0-ec95d6c5494a"
      },
      "source": [
        "t.columns"
      ],
      "execution_count": 65,
      "outputs": [
        {
          "output_type": "execute_result",
          "data": {
            "text/plain": [
              "Index(['user_id_', 'abgroup_', 'gold_on_event_flag_count',\n",
              "       'gold_on_event_flag_mean', 'gold_on_event_mean', 'gold_on_event_median',\n",
              "       'user'],\n",
              "      dtype='object')"
            ]
          },
          "metadata": {},
          "execution_count": 65
        }
      ]
    },
    {
      "cell_type": "code",
      "metadata": {
        "colab": {
          "base_uri": "https://localhost:8080/",
          "height": 195
        },
        "id": "nRmg7UmEQriE",
        "outputId": "6a677f0d-70a3-48fd-d0b8-a67063f9ce58"
      },
      "source": [
        "t.groupby('abgroup_').agg(['count','mean'])"
      ],
      "execution_count": 68,
      "outputs": [
        {
          "output_type": "execute_result",
          "data": {
            "text/html": [
              "<div>\n",
              "<style scoped>\n",
              "    .dataframe tbody tr th:only-of-type {\n",
              "        vertical-align: middle;\n",
              "    }\n",
              "\n",
              "    .dataframe tbody tr th {\n",
              "        vertical-align: top;\n",
              "    }\n",
              "\n",
              "    .dataframe thead tr th {\n",
              "        text-align: left;\n",
              "    }\n",
              "\n",
              "    .dataframe thead tr:last-of-type th {\n",
              "        text-align: right;\n",
              "    }\n",
              "</style>\n",
              "<table border=\"1\" class=\"dataframe\">\n",
              "  <thead>\n",
              "    <tr>\n",
              "      <th></th>\n",
              "      <th colspan=\"2\" halign=\"left\">gold_on_event_flag_count</th>\n",
              "      <th colspan=\"2\" halign=\"left\">gold_on_event_flag_mean</th>\n",
              "      <th colspan=\"2\" halign=\"left\">gold_on_event_mean</th>\n",
              "      <th colspan=\"2\" halign=\"left\">gold_on_event_median</th>\n",
              "      <th colspan=\"2\" halign=\"left\">user</th>\n",
              "    </tr>\n",
              "    <tr>\n",
              "      <th></th>\n",
              "      <th>count</th>\n",
              "      <th>mean</th>\n",
              "      <th>count</th>\n",
              "      <th>mean</th>\n",
              "      <th>count</th>\n",
              "      <th>mean</th>\n",
              "      <th>count</th>\n",
              "      <th>mean</th>\n",
              "      <th>count</th>\n",
              "      <th>mean</th>\n",
              "    </tr>\n",
              "    <tr>\n",
              "      <th>abgroup_</th>\n",
              "      <th></th>\n",
              "      <th></th>\n",
              "      <th></th>\n",
              "      <th></th>\n",
              "      <th></th>\n",
              "      <th></th>\n",
              "      <th></th>\n",
              "      <th></th>\n",
              "      <th></th>\n",
              "      <th></th>\n",
              "    </tr>\n",
              "  </thead>\n",
              "  <tbody>\n",
              "    <tr>\n",
              "      <th>Control</th>\n",
              "      <td>89034</td>\n",
              "      <td>6.268055</td>\n",
              "      <td>89034</td>\n",
              "      <td>0.031600</td>\n",
              "      <td>10685</td>\n",
              "      <td>2119.778819</td>\n",
              "      <td>10685</td>\n",
              "      <td>2002.976135</td>\n",
              "      <td>89034</td>\n",
              "      <td>1</td>\n",
              "    </tr>\n",
              "    <tr>\n",
              "      <th>Test</th>\n",
              "      <td>22278</td>\n",
              "      <td>6.229015</td>\n",
              "      <td>22278</td>\n",
              "      <td>0.030891</td>\n",
              "      <td>2603</td>\n",
              "      <td>2417.938571</td>\n",
              "      <td>2603</td>\n",
              "      <td>2296.811371</td>\n",
              "      <td>22278</td>\n",
              "      <td>1</td>\n",
              "    </tr>\n",
              "  </tbody>\n",
              "</table>\n",
              "</div>"
            ],
            "text/plain": [
              "         gold_on_event_flag_count            ...   user     \n",
              "                            count      mean  ...  count mean\n",
              "abgroup_                                     ...            \n",
              "Control                     89034  6.268055  ...  89034    1\n",
              "Test                        22278  6.229015  ...  22278    1\n",
              "\n",
              "[2 rows x 10 columns]"
            ]
          },
          "metadata": {},
          "execution_count": 68
        }
      ]
    },
    {
      "cell_type": "code",
      "metadata": {
        "colab": {
          "base_uri": "https://localhost:8080/",
          "height": 313
        },
        "id": "2NnDCNcuRqsw",
        "outputId": "4c75bf57-1374-459b-e7c5-e41e3713e988"
      },
      "source": [
        "df.head()"
      ],
      "execution_count": 70,
      "outputs": [
        {
          "output_type": "execute_result",
          "data": {
            "text/html": [
              "<div>\n",
              "<style scoped>\n",
              "    .dataframe tbody tr th:only-of-type {\n",
              "        vertical-align: middle;\n",
              "    }\n",
              "\n",
              "    .dataframe tbody tr th {\n",
              "        vertical-align: top;\n",
              "    }\n",
              "\n",
              "    .dataframe thead th {\n",
              "        text-align: right;\n",
              "    }\n",
              "</style>\n",
              "<table border=\"1\" class=\"dataframe\">\n",
              "  <thead>\n",
              "    <tr style=\"text-align: right;\">\n",
              "      <th></th>\n",
              "      <th>abgroup</th>\n",
              "      <th>user_id</th>\n",
              "      <th>time_stamp</th>\n",
              "      <th>install_date</th>\n",
              "      <th>event_name</th>\n",
              "      <th>platform</th>\n",
              "      <th>network_name</th>\n",
              "      <th>country_name</th>\n",
              "      <th>ingametime</th>\n",
              "      <th>lastcompletedlevel</th>\n",
              "      <th>avg_energy_amount</th>\n",
              "      <th>revenue_on_event</th>\n",
              "      <th>revenue_on_other_activities</th>\n",
              "      <th>gold_on_event</th>\n",
              "      <th>gold_on_other_activities</th>\n",
              "      <th>gold_on_event_flag</th>\n",
              "      <th>gold_on_other_activities_flag</th>\n",
              "    </tr>\n",
              "  </thead>\n",
              "  <tbody>\n",
              "    <tr>\n",
              "      <th>0</th>\n",
              "      <td>Control</td>\n",
              "      <td>d60ebcaecff2dc1d360a8a41271e6fd8a902c107</td>\n",
              "      <td>2020-02-10</td>\n",
              "      <td>2019-11-10</td>\n",
              "      <td>ResourceSpend</td>\n",
              "      <td>itunes</td>\n",
              "      <td>Organic</td>\n",
              "      <td>United Kingdom of Great Britain and Northern I...</td>\n",
              "      <td>276180</td>\n",
              "      <td>345</td>\n",
              "      <td>54.0</td>\n",
              "      <td>0.0</td>\n",
              "      <td>0.0</td>\n",
              "      <td>NaN</td>\n",
              "      <td>NaN</td>\n",
              "      <td>0</td>\n",
              "      <td>0</td>\n",
              "    </tr>\n",
              "    <tr>\n",
              "      <th>1</th>\n",
              "      <td>Test</td>\n",
              "      <td>f6e385b0ab43d5aea9cfcc408aa84029a4ea5fdb</td>\n",
              "      <td>2020-03-04</td>\n",
              "      <td>2019-11-05</td>\n",
              "      <td>ResourceSpend</td>\n",
              "      <td>itunes</td>\n",
              "      <td>Paid</td>\n",
              "      <td>United States of America</td>\n",
              "      <td>166095</td>\n",
              "      <td>199</td>\n",
              "      <td>50.0</td>\n",
              "      <td>0.0</td>\n",
              "      <td>0.0</td>\n",
              "      <td>NaN</td>\n",
              "      <td>NaN</td>\n",
              "      <td>0</td>\n",
              "      <td>0</td>\n",
              "    </tr>\n",
              "    <tr>\n",
              "      <th>2</th>\n",
              "      <td>Control</td>\n",
              "      <td>a4c80c8524e2c11cc238553d7b02da01ce2aad66</td>\n",
              "      <td>2020-02-26</td>\n",
              "      <td>2020-01-02</td>\n",
              "      <td>ResourceSpend</td>\n",
              "      <td>itunes</td>\n",
              "      <td>Paid</td>\n",
              "      <td>Canada</td>\n",
              "      <td>240986</td>\n",
              "      <td>84</td>\n",
              "      <td>39.0</td>\n",
              "      <td>0.0</td>\n",
              "      <td>0.0</td>\n",
              "      <td>NaN</td>\n",
              "      <td>NaN</td>\n",
              "      <td>0</td>\n",
              "      <td>0</td>\n",
              "    </tr>\n",
              "    <tr>\n",
              "      <th>3</th>\n",
              "      <td>Control</td>\n",
              "      <td>7ea2e4599ae33760c307e254839317bd5b17a63c</td>\n",
              "      <td>2020-02-21</td>\n",
              "      <td>2020-01-13</td>\n",
              "      <td>ResourceSpend</td>\n",
              "      <td>itunes</td>\n",
              "      <td>Organic</td>\n",
              "      <td>France</td>\n",
              "      <td>989822</td>\n",
              "      <td>1176</td>\n",
              "      <td>21.0</td>\n",
              "      <td>0.0</td>\n",
              "      <td>0.0</td>\n",
              "      <td>NaN</td>\n",
              "      <td>NaN</td>\n",
              "      <td>0</td>\n",
              "      <td>0</td>\n",
              "    </tr>\n",
              "    <tr>\n",
              "      <th>4</th>\n",
              "      <td>Control</td>\n",
              "      <td>6495168982929360dc6d84bf0766d8963a7ddc41</td>\n",
              "      <td>2020-02-18</td>\n",
              "      <td>2020-02-05</td>\n",
              "      <td>ResourceSpend</td>\n",
              "      <td>itunes</td>\n",
              "      <td>Paid</td>\n",
              "      <td>Spain</td>\n",
              "      <td>52106</td>\n",
              "      <td>66</td>\n",
              "      <td>43.0</td>\n",
              "      <td>0.0</td>\n",
              "      <td>0.0</td>\n",
              "      <td>500.0</td>\n",
              "      <td>NaN</td>\n",
              "      <td>1</td>\n",
              "      <td>0</td>\n",
              "    </tr>\n",
              "  </tbody>\n",
              "</table>\n",
              "</div>"
            ],
            "text/plain": [
              "   abgroup  ... gold_on_other_activities_flag\n",
              "0  Control  ...                             0\n",
              "1     Test  ...                             0\n",
              "2  Control  ...                             0\n",
              "3  Control  ...                             0\n",
              "4  Control  ...                             0\n",
              "\n",
              "[5 rows x 17 columns]"
            ]
          },
          "metadata": {},
          "execution_count": 70
        }
      ]
    },
    {
      "cell_type": "code",
      "metadata": {
        "colab": {
          "base_uri": "https://localhost:8080/",
          "height": 175
        },
        "id": "cGeGzQ-QSFlE",
        "outputId": "0e83f383-6be0-4f32-bc96-2604f23e28dc"
      },
      "source": [
        "(df.groupby(['abgroup'])[['gold_on_event_flag','gold_on_event']].agg({'gold_on_event_flag':['count','mean'],\n",
        "                                                                      'gold_on_event':['mean','median']}))"
      ],
      "execution_count": 71,
      "outputs": [
        {
          "output_type": "execute_result",
          "data": {
            "text/html": [
              "<div>\n",
              "<style scoped>\n",
              "    .dataframe tbody tr th:only-of-type {\n",
              "        vertical-align: middle;\n",
              "    }\n",
              "\n",
              "    .dataframe tbody tr th {\n",
              "        vertical-align: top;\n",
              "    }\n",
              "\n",
              "    .dataframe thead tr th {\n",
              "        text-align: left;\n",
              "    }\n",
              "\n",
              "    .dataframe thead tr:last-of-type th {\n",
              "        text-align: right;\n",
              "    }\n",
              "</style>\n",
              "<table border=\"1\" class=\"dataframe\">\n",
              "  <thead>\n",
              "    <tr>\n",
              "      <th></th>\n",
              "      <th colspan=\"2\" halign=\"left\">gold_on_event_flag</th>\n",
              "      <th colspan=\"2\" halign=\"left\">gold_on_event</th>\n",
              "    </tr>\n",
              "    <tr>\n",
              "      <th></th>\n",
              "      <th>count</th>\n",
              "      <th>mean</th>\n",
              "      <th>mean</th>\n",
              "      <th>median</th>\n",
              "    </tr>\n",
              "    <tr>\n",
              "      <th>abgroup</th>\n",
              "      <th></th>\n",
              "      <th></th>\n",
              "      <th></th>\n",
              "      <th></th>\n",
              "    </tr>\n",
              "  </thead>\n",
              "  <tbody>\n",
              "    <tr>\n",
              "      <th>Control</th>\n",
              "      <td>558070</td>\n",
              "      <td>0.06523</td>\n",
              "      <td>1965.211658</td>\n",
              "      <td>1000.0</td>\n",
              "    </tr>\n",
              "    <tr>\n",
              "      <th>Test</th>\n",
              "      <td>138770</td>\n",
              "      <td>0.06492</td>\n",
              "      <td>2104.606505</td>\n",
              "      <td>1500.0</td>\n",
              "    </tr>\n",
              "  </tbody>\n",
              "</table>\n",
              "</div>"
            ],
            "text/plain": [
              "        gold_on_event_flag          gold_on_event        \n",
              "                     count     mean          mean  median\n",
              "abgroup                                                  \n",
              "Control             558070  0.06523   1965.211658  1000.0\n",
              "Test                138770  0.06492   2104.606505  1500.0"
            ]
          },
          "metadata": {},
          "execution_count": 71
        }
      ]
    },
    {
      "cell_type": "code",
      "metadata": {
        "id": "KjZ_QCX2QwCY"
      },
      "source": [
        "group_size = df['abgroup'].value_counts().values"
      ],
      "execution_count": 69,
      "outputs": []
    },
    {
      "cell_type": "code",
      "metadata": {
        "colab": {
          "base_uri": "https://localhost:8080/"
        },
        "id": "iQ9h9p4tSMuX",
        "outputId": "a9eacd3f-e316-454f-dceb-3401bfa78192"
      },
      "source": [
        "group_size"
      ],
      "execution_count": 72,
      "outputs": [
        {
          "output_type": "execute_result",
          "data": {
            "text/plain": [
              "array([558070, 138770])"
            ]
          },
          "metadata": {},
          "execution_count": 72
        }
      ]
    },
    {
      "cell_type": "markdown",
      "metadata": {
        "id": "akNbphGHWUPh"
      },
      "source": [
        "## Bootstrap"
      ]
    },
    {
      "cell_type": "markdown",
      "metadata": {
        "id": "aQNBrIx9c3Nk"
      },
      "source": [
        "### median"
      ]
    },
    {
      "cell_type": "code",
      "metadata": {
        "colab": {
          "base_uri": "https://localhost:8080/",
          "height": 49,
          "referenced_widgets": [
            "8a6d80250def47298dbd86473414e5c6",
            "a7c356a9c7ab497db8a9f9f3f28e6535",
            "1072224cf47041e7939e5db2851f6de4",
            "589e7e00f5c84fe5a061b8746a4f674d",
            "d4143109f30a4d4d8b5d2ef99f130582",
            "879c902055104819901e0a053c549659",
            "1519c1130d4a4cb5ac7caed2684f9e35",
            "82c0ed3848a84a77bc26fc1701f61a0b",
            "12fe74e8fca94ab7bcc46ff98360a97f",
            "de56cbcc02144e459035bc5df22e2b58",
            "0c2d1a6dca0a4f7a8fbeb187e36d98d7"
          ]
        },
        "id": "sApnUe80SO5_",
        "outputId": "a98c1d41-9e5d-4c4b-eff7-5a9ac10082a5"
      },
      "source": [
        "n = 1000\n",
        "result = []\n",
        "base_diff = 500\n",
        "\n",
        "for _ in tqdm(range(n)):\n",
        "  a = df.sample(group_size[0],replace=True)['gold_on_event'].median()\n",
        "  b = df.sample(group_size[1],replace=True)['gold_on_event'].median()\n",
        "  result.append(np.abs(a-b) >= base_diff)"
      ],
      "execution_count": 77,
      "outputs": [
        {
          "output_type": "display_data",
          "data": {
            "application/vnd.jupyter.widget-view+json": {
              "model_id": "8a6d80250def47298dbd86473414e5c6",
              "version_minor": 0,
              "version_major": 2
            },
            "text/plain": [
              "  0%|          | 0/1000 [00:00<?, ?it/s]"
            ]
          },
          "metadata": {}
        }
      ]
    },
    {
      "cell_type": "code",
      "metadata": {
        "colab": {
          "base_uri": "https://localhost:8080/"
        },
        "id": "VlyTbTEuSWfh",
        "outputId": "5284f052-2e78-40e7-dce0-000d4aceb4e6"
      },
      "source": [
        "np.mean(result)"
      ],
      "execution_count": 79,
      "outputs": [
        {
          "output_type": "execute_result",
          "data": {
            "text/plain": [
              "0.126"
            ]
          },
          "metadata": {},
          "execution_count": 79
        }
      ]
    },
    {
      "cell_type": "code",
      "metadata": {
        "colab": {
          "base_uri": "https://localhost:8080/",
          "height": 530
        },
        "id": "bJN6lnQkSWdM",
        "outputId": "619a52d1-b0c6-4a18-a191-7380425c28c9"
      },
      "source": [
        "df"
      ],
      "execution_count": 80,
      "outputs": [
        {
          "output_type": "execute_result",
          "data": {
            "text/html": [
              "<div>\n",
              "<style scoped>\n",
              "    .dataframe tbody tr th:only-of-type {\n",
              "        vertical-align: middle;\n",
              "    }\n",
              "\n",
              "    .dataframe tbody tr th {\n",
              "        vertical-align: top;\n",
              "    }\n",
              "\n",
              "    .dataframe thead th {\n",
              "        text-align: right;\n",
              "    }\n",
              "</style>\n",
              "<table border=\"1\" class=\"dataframe\">\n",
              "  <thead>\n",
              "    <tr style=\"text-align: right;\">\n",
              "      <th></th>\n",
              "      <th>abgroup</th>\n",
              "      <th>user_id</th>\n",
              "      <th>time_stamp</th>\n",
              "      <th>install_date</th>\n",
              "      <th>event_name</th>\n",
              "      <th>platform</th>\n",
              "      <th>network_name</th>\n",
              "      <th>country_name</th>\n",
              "      <th>ingametime</th>\n",
              "      <th>lastcompletedlevel</th>\n",
              "      <th>avg_energy_amount</th>\n",
              "      <th>revenue_on_event</th>\n",
              "      <th>revenue_on_other_activities</th>\n",
              "      <th>gold_on_event</th>\n",
              "      <th>gold_on_other_activities</th>\n",
              "      <th>gold_on_event_flag</th>\n",
              "      <th>gold_on_other_activities_flag</th>\n",
              "    </tr>\n",
              "  </thead>\n",
              "  <tbody>\n",
              "    <tr>\n",
              "      <th>0</th>\n",
              "      <td>Control</td>\n",
              "      <td>d60ebcaecff2dc1d360a8a41271e6fd8a902c107</td>\n",
              "      <td>2020-02-10</td>\n",
              "      <td>2019-11-10</td>\n",
              "      <td>ResourceSpend</td>\n",
              "      <td>itunes</td>\n",
              "      <td>Organic</td>\n",
              "      <td>United Kingdom of Great Britain and Northern I...</td>\n",
              "      <td>276180</td>\n",
              "      <td>345</td>\n",
              "      <td>54.0</td>\n",
              "      <td>0.0</td>\n",
              "      <td>0.0</td>\n",
              "      <td>NaN</td>\n",
              "      <td>NaN</td>\n",
              "      <td>0</td>\n",
              "      <td>0</td>\n",
              "    </tr>\n",
              "    <tr>\n",
              "      <th>1</th>\n",
              "      <td>Test</td>\n",
              "      <td>f6e385b0ab43d5aea9cfcc408aa84029a4ea5fdb</td>\n",
              "      <td>2020-03-04</td>\n",
              "      <td>2019-11-05</td>\n",
              "      <td>ResourceSpend</td>\n",
              "      <td>itunes</td>\n",
              "      <td>Paid</td>\n",
              "      <td>United States of America</td>\n",
              "      <td>166095</td>\n",
              "      <td>199</td>\n",
              "      <td>50.0</td>\n",
              "      <td>0.0</td>\n",
              "      <td>0.0</td>\n",
              "      <td>NaN</td>\n",
              "      <td>NaN</td>\n",
              "      <td>0</td>\n",
              "      <td>0</td>\n",
              "    </tr>\n",
              "    <tr>\n",
              "      <th>2</th>\n",
              "      <td>Control</td>\n",
              "      <td>a4c80c8524e2c11cc238553d7b02da01ce2aad66</td>\n",
              "      <td>2020-02-26</td>\n",
              "      <td>2020-01-02</td>\n",
              "      <td>ResourceSpend</td>\n",
              "      <td>itunes</td>\n",
              "      <td>Paid</td>\n",
              "      <td>Canada</td>\n",
              "      <td>240986</td>\n",
              "      <td>84</td>\n",
              "      <td>39.0</td>\n",
              "      <td>0.0</td>\n",
              "      <td>0.0</td>\n",
              "      <td>NaN</td>\n",
              "      <td>NaN</td>\n",
              "      <td>0</td>\n",
              "      <td>0</td>\n",
              "    </tr>\n",
              "    <tr>\n",
              "      <th>3</th>\n",
              "      <td>Control</td>\n",
              "      <td>7ea2e4599ae33760c307e254839317bd5b17a63c</td>\n",
              "      <td>2020-02-21</td>\n",
              "      <td>2020-01-13</td>\n",
              "      <td>ResourceSpend</td>\n",
              "      <td>itunes</td>\n",
              "      <td>Organic</td>\n",
              "      <td>France</td>\n",
              "      <td>989822</td>\n",
              "      <td>1176</td>\n",
              "      <td>21.0</td>\n",
              "      <td>0.0</td>\n",
              "      <td>0.0</td>\n",
              "      <td>NaN</td>\n",
              "      <td>NaN</td>\n",
              "      <td>0</td>\n",
              "      <td>0</td>\n",
              "    </tr>\n",
              "    <tr>\n",
              "      <th>4</th>\n",
              "      <td>Control</td>\n",
              "      <td>6495168982929360dc6d84bf0766d8963a7ddc41</td>\n",
              "      <td>2020-02-18</td>\n",
              "      <td>2020-02-05</td>\n",
              "      <td>ResourceSpend</td>\n",
              "      <td>itunes</td>\n",
              "      <td>Paid</td>\n",
              "      <td>Spain</td>\n",
              "      <td>52106</td>\n",
              "      <td>66</td>\n",
              "      <td>43.0</td>\n",
              "      <td>0.0</td>\n",
              "      <td>0.0</td>\n",
              "      <td>500.0</td>\n",
              "      <td>NaN</td>\n",
              "      <td>1</td>\n",
              "      <td>0</td>\n",
              "    </tr>\n",
              "    <tr>\n",
              "      <th>...</th>\n",
              "      <td>...</td>\n",
              "      <td>...</td>\n",
              "      <td>...</td>\n",
              "      <td>...</td>\n",
              "      <td>...</td>\n",
              "      <td>...</td>\n",
              "      <td>...</td>\n",
              "      <td>...</td>\n",
              "      <td>...</td>\n",
              "      <td>...</td>\n",
              "      <td>...</td>\n",
              "      <td>...</td>\n",
              "      <td>...</td>\n",
              "      <td>...</td>\n",
              "      <td>...</td>\n",
              "      <td>...</td>\n",
              "      <td>...</td>\n",
              "    </tr>\n",
              "    <tr>\n",
              "      <th>696835</th>\n",
              "      <td>Control</td>\n",
              "      <td>cb394bfaa14de91ca99f566e1cede909285dc338</td>\n",
              "      <td>2020-03-01</td>\n",
              "      <td>2019-11-03</td>\n",
              "      <td>ResourceSpend</td>\n",
              "      <td>itunes</td>\n",
              "      <td>Paid</td>\n",
              "      <td>Canada</td>\n",
              "      <td>73805</td>\n",
              "      <td>101</td>\n",
              "      <td>23.0</td>\n",
              "      <td>0.0</td>\n",
              "      <td>0.0</td>\n",
              "      <td>NaN</td>\n",
              "      <td>NaN</td>\n",
              "      <td>0</td>\n",
              "      <td>0</td>\n",
              "    </tr>\n",
              "    <tr>\n",
              "      <th>696836</th>\n",
              "      <td>Test</td>\n",
              "      <td>b61b6d950bc376fc23581fa9c8e4d3c75d2dcd9a</td>\n",
              "      <td>2020-03-04</td>\n",
              "      <td>2020-01-03</td>\n",
              "      <td>ResourceSpend</td>\n",
              "      <td>itunes</td>\n",
              "      <td>Organic</td>\n",
              "      <td>Spain</td>\n",
              "      <td>733369</td>\n",
              "      <td>415</td>\n",
              "      <td>62.0</td>\n",
              "      <td>0.0</td>\n",
              "      <td>0.0</td>\n",
              "      <td>NaN</td>\n",
              "      <td>NaN</td>\n",
              "      <td>0</td>\n",
              "      <td>0</td>\n",
              "    </tr>\n",
              "    <tr>\n",
              "      <th>696837</th>\n",
              "      <td>Control</td>\n",
              "      <td>be989a271b16dfa4e9ac2d877a07ce0f2fdb456c</td>\n",
              "      <td>2020-02-29</td>\n",
              "      <td>2019-01-13</td>\n",
              "      <td>ResourceSpend</td>\n",
              "      <td>itunes</td>\n",
              "      <td>Organic</td>\n",
              "      <td>Germany</td>\n",
              "      <td>75273</td>\n",
              "      <td>331</td>\n",
              "      <td>22.0</td>\n",
              "      <td>0.0</td>\n",
              "      <td>0.0</td>\n",
              "      <td>NaN</td>\n",
              "      <td>NaN</td>\n",
              "      <td>0</td>\n",
              "      <td>0</td>\n",
              "    </tr>\n",
              "    <tr>\n",
              "      <th>696838</th>\n",
              "      <td>Control</td>\n",
              "      <td>5435fa8319c96097de76557f077659ce4f187262</td>\n",
              "      <td>2020-02-28</td>\n",
              "      <td>2019-02-14</td>\n",
              "      <td>ResourceSpend</td>\n",
              "      <td>itunes</td>\n",
              "      <td>Organic</td>\n",
              "      <td>Germany</td>\n",
              "      <td>908230</td>\n",
              "      <td>1287</td>\n",
              "      <td>58.0</td>\n",
              "      <td>0.0</td>\n",
              "      <td>0.0</td>\n",
              "      <td>NaN</td>\n",
              "      <td>NaN</td>\n",
              "      <td>0</td>\n",
              "      <td>0</td>\n",
              "    </tr>\n",
              "    <tr>\n",
              "      <th>696839</th>\n",
              "      <td>Control</td>\n",
              "      <td>d515d8402ba14e04801f3f4117f831870dcbe757</td>\n",
              "      <td>2020-02-27</td>\n",
              "      <td>2019-06-03</td>\n",
              "      <td>ResourceSpend</td>\n",
              "      <td>itunes</td>\n",
              "      <td>Paid</td>\n",
              "      <td>France</td>\n",
              "      <td>1466832</td>\n",
              "      <td>839</td>\n",
              "      <td>60.0</td>\n",
              "      <td>0.0</td>\n",
              "      <td>0.0</td>\n",
              "      <td>NaN</td>\n",
              "      <td>NaN</td>\n",
              "      <td>0</td>\n",
              "      <td>0</td>\n",
              "    </tr>\n",
              "  </tbody>\n",
              "</table>\n",
              "<p>696840 rows × 17 columns</p>\n",
              "</div>"
            ],
            "text/plain": [
              "        abgroup  ... gold_on_other_activities_flag\n",
              "0       Control  ...                             0\n",
              "1          Test  ...                             0\n",
              "2       Control  ...                             0\n",
              "3       Control  ...                             0\n",
              "4       Control  ...                             0\n",
              "...         ...  ...                           ...\n",
              "696835  Control  ...                             0\n",
              "696836     Test  ...                             0\n",
              "696837  Control  ...                             0\n",
              "696838  Control  ...                             0\n",
              "696839  Control  ...                             0\n",
              "\n",
              "[696840 rows x 17 columns]"
            ]
          },
          "metadata": {},
          "execution_count": 80
        }
      ]
    },
    {
      "cell_type": "markdown",
      "metadata": {
        "id": "jgjOIlgxc6pY"
      },
      "source": [
        "### mean"
      ]
    },
    {
      "cell_type": "code",
      "metadata": {
        "colab": {
          "base_uri": "https://localhost:8080/",
          "height": 175
        },
        "id": "cXfsrqtDSWa7",
        "outputId": "bf6d62ad-c12f-433b-bbf6-8cadba8912f5"
      },
      "source": [
        "(df.groupby(['abgroup'])[['gold_on_event_flag','gold_on_event']].agg({'gold_on_event_flag':['count','mean'],\n",
        "                                                                      'gold_on_event':['mean','median']}))"
      ],
      "execution_count": 81,
      "outputs": [
        {
          "output_type": "execute_result",
          "data": {
            "text/html": [
              "<div>\n",
              "<style scoped>\n",
              "    .dataframe tbody tr th:only-of-type {\n",
              "        vertical-align: middle;\n",
              "    }\n",
              "\n",
              "    .dataframe tbody tr th {\n",
              "        vertical-align: top;\n",
              "    }\n",
              "\n",
              "    .dataframe thead tr th {\n",
              "        text-align: left;\n",
              "    }\n",
              "\n",
              "    .dataframe thead tr:last-of-type th {\n",
              "        text-align: right;\n",
              "    }\n",
              "</style>\n",
              "<table border=\"1\" class=\"dataframe\">\n",
              "  <thead>\n",
              "    <tr>\n",
              "      <th></th>\n",
              "      <th colspan=\"2\" halign=\"left\">gold_on_event_flag</th>\n",
              "      <th colspan=\"2\" halign=\"left\">gold_on_event</th>\n",
              "    </tr>\n",
              "    <tr>\n",
              "      <th></th>\n",
              "      <th>count</th>\n",
              "      <th>mean</th>\n",
              "      <th>mean</th>\n",
              "      <th>median</th>\n",
              "    </tr>\n",
              "    <tr>\n",
              "      <th>abgroup</th>\n",
              "      <th></th>\n",
              "      <th></th>\n",
              "      <th></th>\n",
              "      <th></th>\n",
              "    </tr>\n",
              "  </thead>\n",
              "  <tbody>\n",
              "    <tr>\n",
              "      <th>Control</th>\n",
              "      <td>558070</td>\n",
              "      <td>0.06523</td>\n",
              "      <td>1965.211658</td>\n",
              "      <td>1000.0</td>\n",
              "    </tr>\n",
              "    <tr>\n",
              "      <th>Test</th>\n",
              "      <td>138770</td>\n",
              "      <td>0.06492</td>\n",
              "      <td>2104.606505</td>\n",
              "      <td>1500.0</td>\n",
              "    </tr>\n",
              "  </tbody>\n",
              "</table>\n",
              "</div>"
            ],
            "text/plain": [
              "        gold_on_event_flag          gold_on_event        \n",
              "                     count     mean          mean  median\n",
              "abgroup                                                  \n",
              "Control             558070  0.06523   1965.211658  1000.0\n",
              "Test                138770  0.06492   2104.606505  1500.0"
            ]
          },
          "metadata": {},
          "execution_count": 81
        }
      ]
    },
    {
      "cell_type": "code",
      "metadata": {
        "colab": {
          "base_uri": "https://localhost:8080/",
          "height": 49,
          "referenced_widgets": [
            "829856f919ae4ef6a35c9b4819d33749",
            "63c0c41b464d401ead56334853a98572",
            "14e0ff30765c40d7af4958f37f98208a",
            "720254e7850345c9a129dd416feb2988",
            "abc1b42d4aac4ef2b3ab81f8bf5c5516",
            "19ea9c267bf745ed980f1582d0fd3908",
            "e85f975a9cf24fd0a5aba2157afff990",
            "ff49a7784a57459f886caea2b2c07464",
            "786273673fa44c7ead2e27b4e1a94054",
            "389740779f2f4731b594b578858f5d20",
            "e756db9d866948aab4977acec07b896d"
          ]
        },
        "id": "XfKSNZpHSWYe",
        "outputId": "b2081176-a266-47d6-ab9b-b4b06121d0c8"
      },
      "source": [
        "n = 1000\n",
        "result = []\n",
        "base_diff = 2104.606505 - 1965.211658\n",
        "\n",
        "for _ in tqdm(range(n)):\n",
        "  a = df.sample(group_size[0],replace=True)['gold_on_event'].mean()\n",
        "  b = df.sample(group_size[1],replace=True)['gold_on_event'].mean()\n",
        "  result.append(np.abs(a-b) >= base_diff)"
      ],
      "execution_count": 82,
      "outputs": [
        {
          "output_type": "display_data",
          "data": {
            "application/vnd.jupyter.widget-view+json": {
              "model_id": "829856f919ae4ef6a35c9b4819d33749",
              "version_minor": 0,
              "version_major": 2
            },
            "text/plain": [
              "  0%|          | 0/1000 [00:00<?, ?it/s]"
            ]
          },
          "metadata": {}
        }
      ]
    },
    {
      "cell_type": "code",
      "metadata": {
        "colab": {
          "base_uri": "https://localhost:8080/"
        },
        "id": "I-Lqz3idSWV7",
        "outputId": "d738e998-efe7-4122-97d6-87c06d291477"
      },
      "source": [
        "np.mean(result)"
      ],
      "execution_count": 83,
      "outputs": [
        {
          "output_type": "execute_result",
          "data": {
            "text/plain": [
              "0.002"
            ]
          },
          "metadata": {},
          "execution_count": 83
        }
      ]
    },
    {
      "cell_type": "markdown",
      "metadata": {
        "id": "lyfp62M9RyBM"
      },
      "source": [
        "Средний чек среди тех, кто платит в каждой группе - не отличается.\n",
        "\n",
        "С вероятностью 99,98 % результаты не случайны. "
      ]
    },
    {
      "cell_type": "markdown",
      "metadata": {
        "id": "uJYpsCMjeKX4"
      },
      "source": [
        "Заполню пустые значения 0. И сравню полученные результаты.\n"
      ]
    },
    {
      "cell_type": "code",
      "metadata": {
        "id": "EPr9Kk_UYF8f"
      },
      "source": [
        "df['gold_on_event_nona'] = df['gold_on_event'].fillna(0)"
      ],
      "execution_count": 87,
      "outputs": []
    },
    {
      "cell_type": "code",
      "metadata": {
        "id": "YuURveqqxg3J",
        "colab": {
          "base_uri": "https://localhost:8080/",
          "height": 175
        },
        "outputId": "38ddecc7-c2d2-43ed-ce06-a109ea277158"
      },
      "source": [
        "(df.groupby(['abgroup'])[['gold_on_event_flag','gold_on_event']].agg({'gold_on_event_flag':['count','mean'],\n",
        "                                                                      'gold_on_event':['mean','median']}))"
      ],
      "execution_count": 88,
      "outputs": [
        {
          "output_type": "execute_result",
          "data": {
            "text/html": [
              "<div>\n",
              "<style scoped>\n",
              "    .dataframe tbody tr th:only-of-type {\n",
              "        vertical-align: middle;\n",
              "    }\n",
              "\n",
              "    .dataframe tbody tr th {\n",
              "        vertical-align: top;\n",
              "    }\n",
              "\n",
              "    .dataframe thead tr th {\n",
              "        text-align: left;\n",
              "    }\n",
              "\n",
              "    .dataframe thead tr:last-of-type th {\n",
              "        text-align: right;\n",
              "    }\n",
              "</style>\n",
              "<table border=\"1\" class=\"dataframe\">\n",
              "  <thead>\n",
              "    <tr>\n",
              "      <th></th>\n",
              "      <th colspan=\"2\" halign=\"left\">gold_on_event_flag</th>\n",
              "      <th colspan=\"2\" halign=\"left\">gold_on_event</th>\n",
              "    </tr>\n",
              "    <tr>\n",
              "      <th></th>\n",
              "      <th>count</th>\n",
              "      <th>mean</th>\n",
              "      <th>mean</th>\n",
              "      <th>median</th>\n",
              "    </tr>\n",
              "    <tr>\n",
              "      <th>abgroup</th>\n",
              "      <th></th>\n",
              "      <th></th>\n",
              "      <th></th>\n",
              "      <th></th>\n",
              "    </tr>\n",
              "  </thead>\n",
              "  <tbody>\n",
              "    <tr>\n",
              "      <th>Control</th>\n",
              "      <td>558070</td>\n",
              "      <td>0.06523</td>\n",
              "      <td>1965.211658</td>\n",
              "      <td>1000.0</td>\n",
              "    </tr>\n",
              "    <tr>\n",
              "      <th>Test</th>\n",
              "      <td>138770</td>\n",
              "      <td>0.06492</td>\n",
              "      <td>2104.606505</td>\n",
              "      <td>1500.0</td>\n",
              "    </tr>\n",
              "  </tbody>\n",
              "</table>\n",
              "</div>"
            ],
            "text/plain": [
              "        gold_on_event_flag          gold_on_event        \n",
              "                     count     mean          mean  median\n",
              "abgroup                                                  \n",
              "Control             558070  0.06523   1965.211658  1000.0\n",
              "Test                138770  0.06492   2104.606505  1500.0"
            ]
          },
          "metadata": {},
          "execution_count": 88
        }
      ]
    },
    {
      "cell_type": "code",
      "metadata": {
        "colab": {
          "base_uri": "https://localhost:8080/",
          "height": 175
        },
        "id": "kI1zyMeRumP4",
        "outputId": "10e6a540-ccc5-43ed-ce54-bb92dde7d79c"
      },
      "source": [
        "(df.groupby(['abgroup'])[['gold_on_event_nona']].agg(['mean','median']))"
      ],
      "execution_count": 89,
      "outputs": [
        {
          "output_type": "execute_result",
          "data": {
            "text/html": [
              "<div>\n",
              "<style scoped>\n",
              "    .dataframe tbody tr th:only-of-type {\n",
              "        vertical-align: middle;\n",
              "    }\n",
              "\n",
              "    .dataframe tbody tr th {\n",
              "        vertical-align: top;\n",
              "    }\n",
              "\n",
              "    .dataframe thead tr th {\n",
              "        text-align: left;\n",
              "    }\n",
              "\n",
              "    .dataframe thead tr:last-of-type th {\n",
              "        text-align: right;\n",
              "    }\n",
              "</style>\n",
              "<table border=\"1\" class=\"dataframe\">\n",
              "  <thead>\n",
              "    <tr>\n",
              "      <th></th>\n",
              "      <th colspan=\"2\" halign=\"left\">gold_on_event_nona</th>\n",
              "    </tr>\n",
              "    <tr>\n",
              "      <th></th>\n",
              "      <th>mean</th>\n",
              "      <th>median</th>\n",
              "    </tr>\n",
              "    <tr>\n",
              "      <th>abgroup</th>\n",
              "      <th></th>\n",
              "      <th></th>\n",
              "    </tr>\n",
              "  </thead>\n",
              "  <tbody>\n",
              "    <tr>\n",
              "      <th>Control</th>\n",
              "      <td>128.191087</td>\n",
              "      <td>0.0</td>\n",
              "    </tr>\n",
              "    <tr>\n",
              "      <th>Test</th>\n",
              "      <td>136.631837</td>\n",
              "      <td>0.0</td>\n",
              "    </tr>\n",
              "  </tbody>\n",
              "</table>\n",
              "</div>"
            ],
            "text/plain": [
              "        gold_on_event_nona       \n",
              "                      mean median\n",
              "abgroup                          \n",
              "Control         128.191087    0.0\n",
              "Test            136.631837    0.0"
            ]
          },
          "metadata": {},
          "execution_count": 89
        }
      ]
    },
    {
      "cell_type": "markdown",
      "metadata": {
        "id": "G_M0whNHRB5N"
      },
      "source": [
        "Поскольку в данных очень много Nan, то показатель mean скорее показывает не повышение среднего чека, а количество платящих пользователей (количество != 0)"
      ]
    },
    {
      "cell_type": "code",
      "metadata": {
        "colab": {
          "base_uri": "https://localhost:8080/",
          "height": 49,
          "referenced_widgets": [
            "1ea6dd9cc5534b6ba4a27e64196387b0",
            "ff1d5be2973d433692738a9ad848d34c",
            "dad6fd61de2c4baa91d3f193a8a71f2b",
            "58db88335a594035b1c6099f12ceaf9d",
            "4a849a2bfac44a41853ca9360573e0c8",
            "434e19ff47194ea4a1d5b761f3c83d2a",
            "9d4a8cad2f044067808da6f1ccad4bd5",
            "351415deb99545aaa30135497b09d490",
            "34e95f4e466a45199e9f28c93f87055b",
            "d662bea787cc43c682cbfc7f4a2a3a01",
            "442e67b083544d42956d01eacb54508b"
          ]
        },
        "id": "QCS0oN2Mut5Z",
        "outputId": "6842857a-90fb-4d1f-c180-77d6227323a6"
      },
      "source": [
        "n = 1000\n",
        "result = []\n",
        "base_diff = 136.631837 - 128.191087\n",
        "\n",
        "for _ in tqdm(range(n)):\n",
        "  a = df.sample(group_size[0],replace=True)['gold_on_event_nona'].mean()\n",
        "  b = df.sample(group_size[1],replace=True)['gold_on_event_nona'].mean()\n",
        "  result.append(np.abs(a-b) >= base_diff)"
      ],
      "execution_count": 90,
      "outputs": [
        {
          "output_type": "display_data",
          "data": {
            "application/vnd.jupyter.widget-view+json": {
              "model_id": "1ea6dd9cc5534b6ba4a27e64196387b0",
              "version_minor": 0,
              "version_major": 2
            },
            "text/plain": [
              "  0%|          | 0/1000 [00:00<?, ?it/s]"
            ]
          },
          "metadata": {}
        }
      ]
    },
    {
      "cell_type": "code",
      "metadata": {
        "colab": {
          "base_uri": "https://localhost:8080/"
        },
        "id": "z81x5wWwvQ3q",
        "outputId": "e7f7fe6c-4334-4be4-e0f7-1e191f8f3842"
      },
      "source": [
        "np.mean(result)"
      ],
      "execution_count": 92,
      "outputs": [
        {
          "output_type": "execute_result",
          "data": {
            "text/plain": [
              "0.011"
            ]
          },
          "metadata": {},
          "execution_count": 92
        }
      ]
    },
    {
      "cell_type": "markdown",
      "metadata": {
        "id": "a6ohVzvNkQ3n"
      },
      "source": [
        "Вероятность того, что полученные результы случайны составляет 98.9%.\n",
        "\n",
        "Вывод: Test group показала себя хорошо. Можно раскатывать на всю аудиторию."
      ]
    }
  ]
}