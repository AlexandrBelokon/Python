{
  "nbformat": 4,
  "nbformat_minor": 0,
  "metadata": {
    "colab": {
      "name": "rfm score.ipynb",
      "provenance": [],
      "toc_visible": true
    },
    "kernelspec": {
      "name": "python3",
      "display_name": "Python 3"
    },
    "language_info": {
      "name": "python"
    }
  },
  "cells": [
    {
      "cell_type": "markdown",
      "metadata": {
        "id": "xmhPnQo_6hH_"
      },
      "source": [
        "Update sqlite3"
      ]
    },
    {
      "cell_type": "code",
      "metadata": {
        "id": "pgnr8NyF6H7x",
        "colab": {
          "base_uri": "https://localhost:8080/"
        },
        "outputId": "dabfd567-7f8c-4f6d-fc19-70c5799e851f"
      },
      "source": [
        "!gdown --id 1BSHIKQ7rFw5BpTq5nw1UZfjPK_7Mpnbi\n",
        "!mv _sqlite3.cpython-37m-x86_64-linux-gnu.so /usr/lib/python3.7/lib-dynload/\n",
        "import os\n",
        "os.kill(os.getpid(), 9)"
      ],
      "execution_count": null,
      "outputs": [
        {
          "output_type": "stream",
          "name": "stdout",
          "text": [
            "Downloading...\n",
            "From: https://drive.google.com/uc?id=1BSHIKQ7rFw5BpTq5nw1UZfjPK_7Mpnbi\n",
            "To: /content/_sqlite3.cpython-37m-x86_64-linux-gnu.so\n",
            "\r  0% 0.00/6.33M [00:00<?, ?B/s]\r100% 6.33M/6.33M [00:00<00:00, 53.5MB/s]\n"
          ]
        }
      ]
    },
    {
      "cell_type": "markdown",
      "metadata": {
        "id": "TYRTAZku6ozU"
      },
      "source": [
        "# Import библиотек"
      ]
    },
    {
      "cell_type": "code",
      "metadata": {
        "id": "sILbzsd86bOw"
      },
      "source": [
        "import sqlite3"
      ],
      "execution_count": 1,
      "outputs": []
    },
    {
      "cell_type": "code",
      "metadata": {
        "colab": {
          "base_uri": "https://localhost:8080/",
          "height": 35
        },
        "id": "Tmb-Vklz6uyz",
        "outputId": "373a25f1-0f12-40e5-d8c2-8b4119b374df"
      },
      "source": [
        "sqlite3.sqlite_version"
      ],
      "execution_count": 2,
      "outputs": [
        {
          "output_type": "execute_result",
          "data": {
            "application/vnd.google.colaboratory.intrinsic+json": {
              "type": "string"
            },
            "text/plain": [
              "'3.36.0'"
            ]
          },
          "metadata": {},
          "execution_count": 2
        }
      ]
    },
    {
      "cell_type": "code",
      "metadata": {
        "id": "unYnluU_65VC"
      },
      "source": [
        "import pandas as pd\n",
        "import numpy as np"
      ],
      "execution_count": 3,
      "outputs": []
    },
    {
      "cell_type": "markdown",
      "metadata": {
        "id": "PXxPrMS98iIu"
      },
      "source": [
        "# Загрузка данных"
      ]
    },
    {
      "cell_type": "markdown",
      "metadata": {
        "id": "HKd6TxPE7yd4"
      },
      "source": [
        "https://drive.google.com/file/d/1UqnTOtxiXVvbuR1PQ-I22icQDg_nq_Ov/view?usp=sharing"
      ]
    },
    {
      "cell_type": "code",
      "metadata": {
        "colab": {
          "base_uri": "https://localhost:8080/"
        },
        "id": "ngI56g3C7qC4",
        "outputId": "7a6c8c0e-0638-4b00-fe72-d8b2b895dd88"
      },
      "source": [
        "!gdown --id 1UqnTOtxiXVvbuR1PQ-I22icQDg_nq_Ov"
      ],
      "execution_count": 4,
      "outputs": [
        {
          "output_type": "stream",
          "name": "stdout",
          "text": [
            "Downloading...\n",
            "From: https://drive.google.com/uc?id=1UqnTOtxiXVvbuR1PQ-I22icQDg_nq_Ov\n",
            "To: /content/e_commerce_data.csv\n",
            "100% 45.6M/45.6M [00:00<00:00, 97.9MB/s]\n"
          ]
        }
      ]
    },
    {
      "cell_type": "code",
      "metadata": {
        "id": "w5x5lKtc7qFT"
      },
      "source": [
        "df = pd.read_csv('/content/e_commerce_data.csv', encoding='cp1252')"
      ],
      "execution_count": 5,
      "outputs": []
    },
    {
      "cell_type": "code",
      "metadata": {
        "colab": {
          "base_uri": "https://localhost:8080/",
          "height": 204
        },
        "id": "COmkvwHU7qJj",
        "outputId": "8e4fabcb-abf8-4932-b6ac-6c3cf02414ca"
      },
      "source": [
        "df.head()"
      ],
      "execution_count": 6,
      "outputs": [
        {
          "output_type": "execute_result",
          "data": {
            "text/html": [
              "<div>\n",
              "<style scoped>\n",
              "    .dataframe tbody tr th:only-of-type {\n",
              "        vertical-align: middle;\n",
              "    }\n",
              "\n",
              "    .dataframe tbody tr th {\n",
              "        vertical-align: top;\n",
              "    }\n",
              "\n",
              "    .dataframe thead th {\n",
              "        text-align: right;\n",
              "    }\n",
              "</style>\n",
              "<table border=\"1\" class=\"dataframe\">\n",
              "  <thead>\n",
              "    <tr style=\"text-align: right;\">\n",
              "      <th></th>\n",
              "      <th>InvoiceNo</th>\n",
              "      <th>StockCode</th>\n",
              "      <th>Description</th>\n",
              "      <th>Quantity</th>\n",
              "      <th>InvoiceDate</th>\n",
              "      <th>UnitPrice</th>\n",
              "      <th>CustomerID</th>\n",
              "      <th>Country</th>\n",
              "    </tr>\n",
              "  </thead>\n",
              "  <tbody>\n",
              "    <tr>\n",
              "      <th>0</th>\n",
              "      <td>536365</td>\n",
              "      <td>85123A</td>\n",
              "      <td>WHITE HANGING HEART T-LIGHT HOLDER</td>\n",
              "      <td>6</td>\n",
              "      <td>12/1/2010 8:26</td>\n",
              "      <td>2.55</td>\n",
              "      <td>17850.0</td>\n",
              "      <td>United Kingdom</td>\n",
              "    </tr>\n",
              "    <tr>\n",
              "      <th>1</th>\n",
              "      <td>536365</td>\n",
              "      <td>71053</td>\n",
              "      <td>WHITE METAL LANTERN</td>\n",
              "      <td>6</td>\n",
              "      <td>12/1/2010 8:26</td>\n",
              "      <td>3.39</td>\n",
              "      <td>17850.0</td>\n",
              "      <td>United Kingdom</td>\n",
              "    </tr>\n",
              "    <tr>\n",
              "      <th>2</th>\n",
              "      <td>536365</td>\n",
              "      <td>84406B</td>\n",
              "      <td>CREAM CUPID HEARTS COAT HANGER</td>\n",
              "      <td>8</td>\n",
              "      <td>12/1/2010 8:26</td>\n",
              "      <td>2.75</td>\n",
              "      <td>17850.0</td>\n",
              "      <td>United Kingdom</td>\n",
              "    </tr>\n",
              "    <tr>\n",
              "      <th>3</th>\n",
              "      <td>536365</td>\n",
              "      <td>84029G</td>\n",
              "      <td>KNITTED UNION FLAG HOT WATER BOTTLE</td>\n",
              "      <td>6</td>\n",
              "      <td>12/1/2010 8:26</td>\n",
              "      <td>3.39</td>\n",
              "      <td>17850.0</td>\n",
              "      <td>United Kingdom</td>\n",
              "    </tr>\n",
              "    <tr>\n",
              "      <th>4</th>\n",
              "      <td>536365</td>\n",
              "      <td>84029E</td>\n",
              "      <td>RED WOOLLY HOTTIE WHITE HEART.</td>\n",
              "      <td>6</td>\n",
              "      <td>12/1/2010 8:26</td>\n",
              "      <td>3.39</td>\n",
              "      <td>17850.0</td>\n",
              "      <td>United Kingdom</td>\n",
              "    </tr>\n",
              "  </tbody>\n",
              "</table>\n",
              "</div>"
            ],
            "text/plain": [
              "  InvoiceNo StockCode  ... CustomerID         Country\n",
              "0    536365    85123A  ...    17850.0  United Kingdom\n",
              "1    536365     71053  ...    17850.0  United Kingdom\n",
              "2    536365    84406B  ...    17850.0  United Kingdom\n",
              "3    536365    84029G  ...    17850.0  United Kingdom\n",
              "4    536365    84029E  ...    17850.0  United Kingdom\n",
              "\n",
              "[5 rows x 8 columns]"
            ]
          },
          "metadata": {},
          "execution_count": 6
        }
      ]
    },
    {
      "cell_type": "code",
      "metadata": {
        "colab": {
          "base_uri": "https://localhost:8080/"
        },
        "id": "eC5QUxXs7qNQ",
        "outputId": "a83bf9b3-4276-4a1d-b8c6-88b7ddf872dd"
      },
      "source": [
        "df.info()"
      ],
      "execution_count": 7,
      "outputs": [
        {
          "output_type": "stream",
          "name": "stdout",
          "text": [
            "<class 'pandas.core.frame.DataFrame'>\n",
            "RangeIndex: 541909 entries, 0 to 541908\n",
            "Data columns (total 8 columns):\n",
            " #   Column       Non-Null Count   Dtype  \n",
            "---  ------       --------------   -----  \n",
            " 0   InvoiceNo    541909 non-null  object \n",
            " 1   StockCode    541909 non-null  object \n",
            " 2   Description  540455 non-null  object \n",
            " 3   Quantity     541909 non-null  int64  \n",
            " 4   InvoiceDate  541909 non-null  object \n",
            " 5   UnitPrice    541909 non-null  float64\n",
            " 6   CustomerID   406829 non-null  float64\n",
            " 7   Country      541909 non-null  object \n",
            "dtypes: float64(2), int64(1), object(5)\n",
            "memory usage: 33.1+ MB\n"
          ]
        }
      ]
    },
    {
      "cell_type": "code",
      "metadata": {
        "id": "1IZ9H91I9gpf"
      },
      "source": [
        "df.columns = df.columns.str.lower()"
      ],
      "execution_count": 8,
      "outputs": []
    },
    {
      "cell_type": "code",
      "metadata": {
        "colab": {
          "base_uri": "https://localhost:8080/"
        },
        "id": "t-kEApLS9x2A",
        "outputId": "7bd2352f-47ca-44ea-8058-8989dbb2032f"
      },
      "source": [
        "df.info()"
      ],
      "execution_count": 9,
      "outputs": [
        {
          "output_type": "stream",
          "name": "stdout",
          "text": [
            "<class 'pandas.core.frame.DataFrame'>\n",
            "RangeIndex: 541909 entries, 0 to 541908\n",
            "Data columns (total 8 columns):\n",
            " #   Column       Non-Null Count   Dtype  \n",
            "---  ------       --------------   -----  \n",
            " 0   invoiceno    541909 non-null  object \n",
            " 1   stockcode    541909 non-null  object \n",
            " 2   description  540455 non-null  object \n",
            " 3   quantity     541909 non-null  int64  \n",
            " 4   invoicedate  541909 non-null  object \n",
            " 5   unitprice    541909 non-null  float64\n",
            " 6   customerid   406829 non-null  float64\n",
            " 7   country      541909 non-null  object \n",
            "dtypes: float64(2), int64(1), object(5)\n",
            "memory usage: 33.1+ MB\n"
          ]
        }
      ]
    },
    {
      "cell_type": "code",
      "metadata": {
        "id": "iktceUNACSuD"
      },
      "source": [
        "df['invoicedate'] = pd.to_datetime(df['invoicedate'],format='%m/%d/%Y %H:%M')"
      ],
      "execution_count": 10,
      "outputs": []
    },
    {
      "cell_type": "markdown",
      "metadata": {
        "id": "2wnlZkImCJTl"
      },
      "source": [
        "# Подключение"
      ]
    },
    {
      "cell_type": "code",
      "metadata": {
        "id": "rodS2bcSCLpe"
      },
      "source": [
        "conn = sqlite3.connect('db')\n",
        "cur = conn.cursor()"
      ],
      "execution_count": 11,
      "outputs": []
    },
    {
      "cell_type": "code",
      "metadata": {
        "id": "zXOwZbwnCLr6"
      },
      "source": [
        "def select(sql):\n",
        "  return pd.read_sql(sql,conn)"
      ],
      "execution_count": 12,
      "outputs": []
    },
    {
      "cell_type": "code",
      "metadata": {
        "id": "0adquXtjCLuK"
      },
      "source": [
        "df.to_sql('ecommerce',conn,index=False,if_exists='replace')"
      ],
      "execution_count": 13,
      "outputs": []
    },
    {
      "cell_type": "code",
      "metadata": {
        "id": "4WPrxcRnCLwi"
      },
      "source": [
        "sql = '''select count(*) from ecommerce t'''"
      ],
      "execution_count": 14,
      "outputs": []
    },
    {
      "cell_type": "code",
      "metadata": {
        "colab": {
          "base_uri": "https://localhost:8080/",
          "height": 0
        },
        "id": "NOPUaKplCdwF",
        "outputId": "646d00c5-c2ce-401d-9192-58a4e6ea947c"
      },
      "source": [
        "select(sql)"
      ],
      "execution_count": 15,
      "outputs": [
        {
          "output_type": "execute_result",
          "data": {
            "text/html": [
              "<div>\n",
              "<style scoped>\n",
              "    .dataframe tbody tr th:only-of-type {\n",
              "        vertical-align: middle;\n",
              "    }\n",
              "\n",
              "    .dataframe tbody tr th {\n",
              "        vertical-align: top;\n",
              "    }\n",
              "\n",
              "    .dataframe thead th {\n",
              "        text-align: right;\n",
              "    }\n",
              "</style>\n",
              "<table border=\"1\" class=\"dataframe\">\n",
              "  <thead>\n",
              "    <tr style=\"text-align: right;\">\n",
              "      <th></th>\n",
              "      <th>count(*)</th>\n",
              "    </tr>\n",
              "  </thead>\n",
              "  <tbody>\n",
              "    <tr>\n",
              "      <th>0</th>\n",
              "      <td>541909</td>\n",
              "    </tr>\n",
              "  </tbody>\n",
              "</table>\n",
              "</div>"
            ],
            "text/plain": [
              "   count(*)\n",
              "0    541909"
            ]
          },
          "metadata": {},
          "execution_count": 15
        }
      ]
    },
    {
      "cell_type": "code",
      "metadata": {
        "colab": {
          "base_uri": "https://localhost:8080/"
        },
        "id": "Dcio2j4WCfmL",
        "outputId": "475d470c-cab1-4739-b555-cdf0a69ede7f"
      },
      "source": [
        "len(df)"
      ],
      "execution_count": 16,
      "outputs": [
        {
          "output_type": "execute_result",
          "data": {
            "text/plain": [
              "541909"
            ]
          },
          "metadata": {},
          "execution_count": 16
        }
      ]
    },
    {
      "cell_type": "markdown",
      "metadata": {
        "id": "WsDC1G5U_V7w"
      },
      "source": [
        "# Анализ"
      ]
    },
    {
      "cell_type": "markdown",
      "metadata": {
        "id": "LfRBF2hT_Z2F"
      },
      "source": [
        "**recency frequence monetary**\n",
        "\n",
        "* r (Как давно что-то покупал? Чем более недавно, тем лучше) 1-4\n",
        "* f (Как часто покупал ранее? Чем чаще, тем лучше) 1-4 /br\n",
        "* m (Как много денег потратил на покупку? Чем больше, тем лучше) 1-4 /br\n",
        "\n",
        "\n",
        "rfm = (r + f + m) / 3\n",
        "\n",
        "111 113 122"
      ]
    },
    {
      "cell_type": "code",
      "metadata": {
        "id": "MUWAyBwU99Ds"
      },
      "source": [
        "sql = '''\n",
        "SELECT\n",
        "  DATE(t.invoicedate,'start of month'),\n",
        "  COUNT(*)\n",
        "FROM \n",
        "  ecommerce t \n",
        "group by \n",
        "  1\n",
        "ORDER BY \n",
        "  1\n",
        "'''"
      ],
      "execution_count": 17,
      "outputs": []
    },
    {
      "cell_type": "code",
      "metadata": {
        "colab": {
          "base_uri": "https://localhost:8080/",
          "height": 452
        },
        "id": "KWfHvCW0Cm-s",
        "outputId": "698c91f1-538b-4adb-df90-4acdc49e6284"
      },
      "source": [
        "select(sql)"
      ],
      "execution_count": 18,
      "outputs": [
        {
          "output_type": "execute_result",
          "data": {
            "text/html": [
              "<div>\n",
              "<style scoped>\n",
              "    .dataframe tbody tr th:only-of-type {\n",
              "        vertical-align: middle;\n",
              "    }\n",
              "\n",
              "    .dataframe tbody tr th {\n",
              "        vertical-align: top;\n",
              "    }\n",
              "\n",
              "    .dataframe thead th {\n",
              "        text-align: right;\n",
              "    }\n",
              "</style>\n",
              "<table border=\"1\" class=\"dataframe\">\n",
              "  <thead>\n",
              "    <tr style=\"text-align: right;\">\n",
              "      <th></th>\n",
              "      <th>DATE(t.invoicedate,'start of month')</th>\n",
              "      <th>COUNT(*)</th>\n",
              "    </tr>\n",
              "  </thead>\n",
              "  <tbody>\n",
              "    <tr>\n",
              "      <th>0</th>\n",
              "      <td>2010-12-01</td>\n",
              "      <td>42481</td>\n",
              "    </tr>\n",
              "    <tr>\n",
              "      <th>1</th>\n",
              "      <td>2011-01-01</td>\n",
              "      <td>35147</td>\n",
              "    </tr>\n",
              "    <tr>\n",
              "      <th>2</th>\n",
              "      <td>2011-02-01</td>\n",
              "      <td>27707</td>\n",
              "    </tr>\n",
              "    <tr>\n",
              "      <th>3</th>\n",
              "      <td>2011-03-01</td>\n",
              "      <td>36748</td>\n",
              "    </tr>\n",
              "    <tr>\n",
              "      <th>4</th>\n",
              "      <td>2011-04-01</td>\n",
              "      <td>29916</td>\n",
              "    </tr>\n",
              "    <tr>\n",
              "      <th>5</th>\n",
              "      <td>2011-05-01</td>\n",
              "      <td>37030</td>\n",
              "    </tr>\n",
              "    <tr>\n",
              "      <th>6</th>\n",
              "      <td>2011-06-01</td>\n",
              "      <td>36874</td>\n",
              "    </tr>\n",
              "    <tr>\n",
              "      <th>7</th>\n",
              "      <td>2011-07-01</td>\n",
              "      <td>39518</td>\n",
              "    </tr>\n",
              "    <tr>\n",
              "      <th>8</th>\n",
              "      <td>2011-08-01</td>\n",
              "      <td>35284</td>\n",
              "    </tr>\n",
              "    <tr>\n",
              "      <th>9</th>\n",
              "      <td>2011-09-01</td>\n",
              "      <td>50226</td>\n",
              "    </tr>\n",
              "    <tr>\n",
              "      <th>10</th>\n",
              "      <td>2011-10-01</td>\n",
              "      <td>60742</td>\n",
              "    </tr>\n",
              "    <tr>\n",
              "      <th>11</th>\n",
              "      <td>2011-11-01</td>\n",
              "      <td>84711</td>\n",
              "    </tr>\n",
              "    <tr>\n",
              "      <th>12</th>\n",
              "      <td>2011-12-01</td>\n",
              "      <td>25525</td>\n",
              "    </tr>\n",
              "  </tbody>\n",
              "</table>\n",
              "</div>"
            ],
            "text/plain": [
              "   DATE(t.invoicedate,'start of month')  COUNT(*)\n",
              "0                            2010-12-01     42481\n",
              "1                            2011-01-01     35147\n",
              "2                            2011-02-01     27707\n",
              "3                            2011-03-01     36748\n",
              "4                            2011-04-01     29916\n",
              "5                            2011-05-01     37030\n",
              "6                            2011-06-01     36874\n",
              "7                            2011-07-01     39518\n",
              "8                            2011-08-01     35284\n",
              "9                            2011-09-01     50226\n",
              "10                           2011-10-01     60742\n",
              "11                           2011-11-01     84711\n",
              "12                           2011-12-01     25525"
            ]
          },
          "metadata": {},
          "execution_count": 18
        }
      ]
    },
    {
      "cell_type": "code",
      "metadata": {
        "id": "vSOiktXACzhd"
      },
      "source": [
        "sql = '''\n",
        "SELECT \n",
        "  MAX(t.invoicedate) \n",
        "FROM \n",
        "  ecommerce t'''"
      ],
      "execution_count": 19,
      "outputs": []
    },
    {
      "cell_type": "code",
      "metadata": {
        "colab": {
          "base_uri": "https://localhost:8080/",
          "height": 80
        },
        "id": "d03wdiUwJvL4",
        "outputId": "bb2e7b59-3b59-4aa5-9f06-432eb489af39"
      },
      "source": [
        "select(sql)"
      ],
      "execution_count": 20,
      "outputs": [
        {
          "output_type": "execute_result",
          "data": {
            "text/html": [
              "<div>\n",
              "<style scoped>\n",
              "    .dataframe tbody tr th:only-of-type {\n",
              "        vertical-align: middle;\n",
              "    }\n",
              "\n",
              "    .dataframe tbody tr th {\n",
              "        vertical-align: top;\n",
              "    }\n",
              "\n",
              "    .dataframe thead th {\n",
              "        text-align: right;\n",
              "    }\n",
              "</style>\n",
              "<table border=\"1\" class=\"dataframe\">\n",
              "  <thead>\n",
              "    <tr style=\"text-align: right;\">\n",
              "      <th></th>\n",
              "      <th>MAX(t.invoicedate)</th>\n",
              "    </tr>\n",
              "  </thead>\n",
              "  <tbody>\n",
              "    <tr>\n",
              "      <th>0</th>\n",
              "      <td>2011-12-09 12:50:00</td>\n",
              "    </tr>\n",
              "  </tbody>\n",
              "</table>\n",
              "</div>"
            ],
            "text/plain": [
              "    MAX(t.invoicedate)\n",
              "0  2011-12-09 12:50:00"
            ]
          },
          "metadata": {},
          "execution_count": 20
        }
      ]
    },
    {
      "cell_type": "code",
      "metadata": {
        "id": "5gqZJz4vZDjc"
      },
      "source": [
        "sql = '''\n",
        "SELECT\n",
        "  t.customerid,\n",
        "  MIN(t.invoicedate) AS reg_date,\n",
        "  SUM(t.quantity * t.unitprice) AS revenue\n",
        "FROM\n",
        "  ecommerce t \n",
        "WHERE \n",
        "  DATE(t.invoicedate, 'start of month') <= '2011-10-01'\n",
        "  AND t.customerid IS NOT NULL\n",
        "GROUP BY \n",
        "  1\n",
        "'''"
      ],
      "execution_count": 21,
      "outputs": []
    },
    {
      "cell_type": "code",
      "metadata": {
        "colab": {
          "base_uri": "https://localhost:8080/",
          "height": 419
        },
        "id": "ssGu69VTKAYC",
        "outputId": "5a121c02-e580-4a7f-91f7-e392ef070c92"
      },
      "source": [
        "select(sql)"
      ],
      "execution_count": 22,
      "outputs": [
        {
          "output_type": "execute_result",
          "data": {
            "text/html": [
              "<div>\n",
              "<style scoped>\n",
              "    .dataframe tbody tr th:only-of-type {\n",
              "        vertical-align: middle;\n",
              "    }\n",
              "\n",
              "    .dataframe tbody tr th {\n",
              "        vertical-align: top;\n",
              "    }\n",
              "\n",
              "    .dataframe thead th {\n",
              "        text-align: right;\n",
              "    }\n",
              "</style>\n",
              "<table border=\"1\" class=\"dataframe\">\n",
              "  <thead>\n",
              "    <tr style=\"text-align: right;\">\n",
              "      <th></th>\n",
              "      <th>customerid</th>\n",
              "      <th>reg_date</th>\n",
              "      <th>revenue</th>\n",
              "    </tr>\n",
              "  </thead>\n",
              "  <tbody>\n",
              "    <tr>\n",
              "      <th>0</th>\n",
              "      <td>12346.0</td>\n",
              "      <td>2011-01-18 10:01:00</td>\n",
              "      <td>0.00</td>\n",
              "    </tr>\n",
              "    <tr>\n",
              "      <th>1</th>\n",
              "      <td>12347.0</td>\n",
              "      <td>2010-12-07 14:57:00</td>\n",
              "      <td>4085.18</td>\n",
              "    </tr>\n",
              "    <tr>\n",
              "      <th>2</th>\n",
              "      <td>12348.0</td>\n",
              "      <td>2010-12-16 19:09:00</td>\n",
              "      <td>1797.24</td>\n",
              "    </tr>\n",
              "    <tr>\n",
              "      <th>3</th>\n",
              "      <td>12350.0</td>\n",
              "      <td>2011-02-02 16:01:00</td>\n",
              "      <td>334.40</td>\n",
              "    </tr>\n",
              "    <tr>\n",
              "      <th>4</th>\n",
              "      <td>12352.0</td>\n",
              "      <td>2011-02-16 12:33:00</td>\n",
              "      <td>1233.68</td>\n",
              "    </tr>\n",
              "    <tr>\n",
              "      <th>...</th>\n",
              "      <td>...</td>\n",
              "      <td>...</td>\n",
              "      <td>...</td>\n",
              "    </tr>\n",
              "    <tr>\n",
              "      <th>4005</th>\n",
              "      <td>18280.0</td>\n",
              "      <td>2011-03-07 09:52:00</td>\n",
              "      <td>180.60</td>\n",
              "    </tr>\n",
              "    <tr>\n",
              "      <th>4006</th>\n",
              "      <td>18281.0</td>\n",
              "      <td>2011-06-12 10:53:00</td>\n",
              "      <td>80.82</td>\n",
              "    </tr>\n",
              "    <tr>\n",
              "      <th>4007</th>\n",
              "      <td>18282.0</td>\n",
              "      <td>2011-08-05 13:35:00</td>\n",
              "      <td>98.76</td>\n",
              "    </tr>\n",
              "    <tr>\n",
              "      <th>4008</th>\n",
              "      <td>18283.0</td>\n",
              "      <td>2011-01-06 14:14:00</td>\n",
              "      <td>1235.32</td>\n",
              "    </tr>\n",
              "    <tr>\n",
              "      <th>4009</th>\n",
              "      <td>18287.0</td>\n",
              "      <td>2011-05-22 10:39:00</td>\n",
              "      <td>1837.28</td>\n",
              "    </tr>\n",
              "  </tbody>\n",
              "</table>\n",
              "<p>4010 rows × 3 columns</p>\n",
              "</div>"
            ],
            "text/plain": [
              "      customerid             reg_date  revenue\n",
              "0        12346.0  2011-01-18 10:01:00     0.00\n",
              "1        12347.0  2010-12-07 14:57:00  4085.18\n",
              "2        12348.0  2010-12-16 19:09:00  1797.24\n",
              "3        12350.0  2011-02-02 16:01:00   334.40\n",
              "4        12352.0  2011-02-16 12:33:00  1233.68\n",
              "...          ...                  ...      ...\n",
              "4005     18280.0  2011-03-07 09:52:00   180.60\n",
              "4006     18281.0  2011-06-12 10:53:00    80.82\n",
              "4007     18282.0  2011-08-05 13:35:00    98.76\n",
              "4008     18283.0  2011-01-06 14:14:00  1235.32\n",
              "4009     18287.0  2011-05-22 10:39:00  1837.28\n",
              "\n",
              "[4010 rows x 3 columns]"
            ]
          },
          "metadata": {},
          "execution_count": 22
        }
      ]
    },
    {
      "cell_type": "code",
      "metadata": {
        "id": "x36Xl4QvKAVK"
      },
      "source": [
        "t = select(sql)"
      ],
      "execution_count": 23,
      "outputs": []
    },
    {
      "cell_type": "code",
      "metadata": {
        "id": "_VOC10ueKAR6",
        "colab": {
          "base_uri": "https://localhost:8080/",
          "height": 419
        },
        "outputId": "3ca9e5c9-f863-4d52-c5fb-84157654fcc9"
      },
      "source": [
        "t"
      ],
      "execution_count": 24,
      "outputs": [
        {
          "output_type": "execute_result",
          "data": {
            "text/html": [
              "<div>\n",
              "<style scoped>\n",
              "    .dataframe tbody tr th:only-of-type {\n",
              "        vertical-align: middle;\n",
              "    }\n",
              "\n",
              "    .dataframe tbody tr th {\n",
              "        vertical-align: top;\n",
              "    }\n",
              "\n",
              "    .dataframe thead th {\n",
              "        text-align: right;\n",
              "    }\n",
              "</style>\n",
              "<table border=\"1\" class=\"dataframe\">\n",
              "  <thead>\n",
              "    <tr style=\"text-align: right;\">\n",
              "      <th></th>\n",
              "      <th>customerid</th>\n",
              "      <th>reg_date</th>\n",
              "      <th>revenue</th>\n",
              "    </tr>\n",
              "  </thead>\n",
              "  <tbody>\n",
              "    <tr>\n",
              "      <th>0</th>\n",
              "      <td>12346.0</td>\n",
              "      <td>2011-01-18 10:01:00</td>\n",
              "      <td>0.00</td>\n",
              "    </tr>\n",
              "    <tr>\n",
              "      <th>1</th>\n",
              "      <td>12347.0</td>\n",
              "      <td>2010-12-07 14:57:00</td>\n",
              "      <td>4085.18</td>\n",
              "    </tr>\n",
              "    <tr>\n",
              "      <th>2</th>\n",
              "      <td>12348.0</td>\n",
              "      <td>2010-12-16 19:09:00</td>\n",
              "      <td>1797.24</td>\n",
              "    </tr>\n",
              "    <tr>\n",
              "      <th>3</th>\n",
              "      <td>12350.0</td>\n",
              "      <td>2011-02-02 16:01:00</td>\n",
              "      <td>334.40</td>\n",
              "    </tr>\n",
              "    <tr>\n",
              "      <th>4</th>\n",
              "      <td>12352.0</td>\n",
              "      <td>2011-02-16 12:33:00</td>\n",
              "      <td>1233.68</td>\n",
              "    </tr>\n",
              "    <tr>\n",
              "      <th>...</th>\n",
              "      <td>...</td>\n",
              "      <td>...</td>\n",
              "      <td>...</td>\n",
              "    </tr>\n",
              "    <tr>\n",
              "      <th>4005</th>\n",
              "      <td>18280.0</td>\n",
              "      <td>2011-03-07 09:52:00</td>\n",
              "      <td>180.60</td>\n",
              "    </tr>\n",
              "    <tr>\n",
              "      <th>4006</th>\n",
              "      <td>18281.0</td>\n",
              "      <td>2011-06-12 10:53:00</td>\n",
              "      <td>80.82</td>\n",
              "    </tr>\n",
              "    <tr>\n",
              "      <th>4007</th>\n",
              "      <td>18282.0</td>\n",
              "      <td>2011-08-05 13:35:00</td>\n",
              "      <td>98.76</td>\n",
              "    </tr>\n",
              "    <tr>\n",
              "      <th>4008</th>\n",
              "      <td>18283.0</td>\n",
              "      <td>2011-01-06 14:14:00</td>\n",
              "      <td>1235.32</td>\n",
              "    </tr>\n",
              "    <tr>\n",
              "      <th>4009</th>\n",
              "      <td>18287.0</td>\n",
              "      <td>2011-05-22 10:39:00</td>\n",
              "      <td>1837.28</td>\n",
              "    </tr>\n",
              "  </tbody>\n",
              "</table>\n",
              "<p>4010 rows × 3 columns</p>\n",
              "</div>"
            ],
            "text/plain": [
              "      customerid             reg_date  revenue\n",
              "0        12346.0  2011-01-18 10:01:00     0.00\n",
              "1        12347.0  2010-12-07 14:57:00  4085.18\n",
              "2        12348.0  2010-12-16 19:09:00  1797.24\n",
              "3        12350.0  2011-02-02 16:01:00   334.40\n",
              "4        12352.0  2011-02-16 12:33:00  1233.68\n",
              "...          ...                  ...      ...\n",
              "4005     18280.0  2011-03-07 09:52:00   180.60\n",
              "4006     18281.0  2011-06-12 10:53:00    80.82\n",
              "4007     18282.0  2011-08-05 13:35:00    98.76\n",
              "4008     18283.0  2011-01-06 14:14:00  1235.32\n",
              "4009     18287.0  2011-05-22 10:39:00  1837.28\n",
              "\n",
              "[4010 rows x 3 columns]"
            ]
          },
          "metadata": {},
          "execution_count": 24
        }
      ]
    },
    {
      "cell_type": "code",
      "metadata": {
        "id": "IhauBaMNUbs0"
      },
      "source": [
        "from matplotlib import style\n",
        "style.use('grayscale')"
      ],
      "execution_count": 25,
      "outputs": []
    },
    {
      "cell_type": "code",
      "metadata": {
        "colab": {
          "base_uri": "https://localhost:8080/",
          "height": 282
        },
        "id": "0POpGYq_OKeu",
        "outputId": "c0a3d807-41e8-4d57-c383-6d270be6c93d"
      },
      "source": [
        "t[t['revenue']<10000]['revenue'].hist()"
      ],
      "execution_count": 26,
      "outputs": [
        {
          "output_type": "execute_result",
          "data": {
            "text/plain": [
              "<matplotlib.axes._subplots.AxesSubplot at 0x7f3f1b3e0950>"
            ]
          },
          "metadata": {},
          "execution_count": 26
        },
        {
          "output_type": "display_data",
          "data": {
            "image/png": "[encoded data removed]",
            "text/plain": [
              "<Figure size 432x288 with 1 Axes>"
            ]
          },
          "metadata": {}
        }
      ]
    },
    {
      "cell_type": "code",
      "metadata": {
        "id": "VYECNhSbKAE5",
        "colab": {
          "base_uri": "https://localhost:8080/"
        },
        "outputId": "c9372854-2c0c-4425-d59b-c60953d6440c"
      },
      "source": [
        "t[t['revenue']<50000].median()"
      ],
      "execution_count": 27,
      "outputs": [
        {
          "output_type": "execute_result",
          "data": {
            "text/plain": [
              "customerid    15276.00\n",
              "revenue         602.09\n",
              "dtype: float64"
            ]
          },
          "metadata": {},
          "execution_count": 27
        }
      ]
    },
    {
      "cell_type": "code",
      "metadata": {
        "id": "fetB-_1ZKAOq",
        "colab": {
          "base_uri": "https://localhost:8080/",
          "height": 1000
        },
        "outputId": "bec83cb4-596e-4494-fb0b-65f17011e12c"
      },
      "source": [
        "t[t['revenue'] < 0]"
      ],
      "execution_count": 28,
      "outputs": [
        {
          "output_type": "execute_result",
          "data": {
            "text/html": [
              "<div>\n",
              "<style scoped>\n",
              "    .dataframe tbody tr th:only-of-type {\n",
              "        vertical-align: middle;\n",
              "    }\n",
              "\n",
              "    .dataframe tbody tr th {\n",
              "        vertical-align: top;\n",
              "    }\n",
              "\n",
              "    .dataframe thead th {\n",
              "        text-align: right;\n",
              "    }\n",
              "</style>\n",
              "<table border=\"1\" class=\"dataframe\">\n",
              "  <thead>\n",
              "    <tr style=\"text-align: right;\">\n",
              "      <th></th>\n",
              "      <th>customerid</th>\n",
              "      <th>reg_date</th>\n",
              "      <th>revenue</th>\n",
              "    </tr>\n",
              "  </thead>\n",
              "  <tbody>\n",
              "    <tr>\n",
              "      <th>81</th>\n",
              "      <td>12454.0</td>\n",
              "      <td>2011-10-14 17:13:00</td>\n",
              "      <td>-5.684342e-14</td>\n",
              "    </tr>\n",
              "    <tr>\n",
              "      <th>114</th>\n",
              "      <td>12503.0</td>\n",
              "      <td>2011-01-06 11:51:00</td>\n",
              "      <td>-1.126000e+03</td>\n",
              "    </tr>\n",
              "    <tr>\n",
              "      <th>115</th>\n",
              "      <td>12505.0</td>\n",
              "      <td>2011-02-11 13:39:00</td>\n",
              "      <td>-4.500000e+00</td>\n",
              "    </tr>\n",
              "    <tr>\n",
              "      <th>176</th>\n",
              "      <td>12586.0</td>\n",
              "      <td>2010-12-06 09:31:00</td>\n",
              "      <td>-1.700000e+01</td>\n",
              "    </tr>\n",
              "    <tr>\n",
              "      <th>192</th>\n",
              "      <td>12605.0</td>\n",
              "      <td>2010-12-09 15:41:00</td>\n",
              "      <td>-7.500000e+00</td>\n",
              "    </tr>\n",
              "    <tr>\n",
              "      <th>237</th>\n",
              "      <td>12666.0</td>\n",
              "      <td>2010-12-15 14:42:00</td>\n",
              "      <td>-2.274400e+02</td>\n",
              "    </tr>\n",
              "    <tr>\n",
              "      <th>382</th>\n",
              "      <td>12870.0</td>\n",
              "      <td>2010-12-08 14:27:00</td>\n",
              "      <td>-1.490000e+01</td>\n",
              "    </tr>\n",
              "    <tr>\n",
              "      <th>429</th>\n",
              "      <td>12943.0</td>\n",
              "      <td>2011-02-11 15:13:00</td>\n",
              "      <td>-3.750000e+00</td>\n",
              "    </tr>\n",
              "    <tr>\n",
              "      <th>569</th>\n",
              "      <td>13154.0</td>\n",
              "      <td>2011-07-18 15:21:00</td>\n",
              "      <td>-6.118600e+02</td>\n",
              "    </tr>\n",
              "    <tr>\n",
              "      <th>918</th>\n",
              "      <td>13672.0</td>\n",
              "      <td>2011-01-10 12:02:00</td>\n",
              "      <td>-7.146000e+01</td>\n",
              "    </tr>\n",
              "    <tr>\n",
              "      <th>930</th>\n",
              "      <td>13693.0</td>\n",
              "      <td>2011-01-18 15:21:00</td>\n",
              "      <td>-3.200000e+01</td>\n",
              "    </tr>\n",
              "    <tr>\n",
              "      <th>1024</th>\n",
              "      <td>13829.0</td>\n",
              "      <td>2010-12-15 16:36:00</td>\n",
              "      <td>-1.020000e+02</td>\n",
              "    </tr>\n",
              "    <tr>\n",
              "      <th>1112</th>\n",
              "      <td>13958.0</td>\n",
              "      <td>2010-12-02 17:03:00</td>\n",
              "      <td>-1.024500e+02</td>\n",
              "    </tr>\n",
              "    <tr>\n",
              "      <th>1221</th>\n",
              "      <td>14119.0</td>\n",
              "      <td>2010-12-20 13:58:00</td>\n",
              "      <td>-1.990000e+01</td>\n",
              "    </tr>\n",
              "    <tr>\n",
              "      <th>1276</th>\n",
              "      <td>14205.0</td>\n",
              "      <td>2010-12-09 13:38:00</td>\n",
              "      <td>-1.530000e+01</td>\n",
              "    </tr>\n",
              "    <tr>\n",
              "      <th>1283</th>\n",
              "      <td>14213.0</td>\n",
              "      <td>2010-12-03 09:47:00</td>\n",
              "      <td>-1.192200e+03</td>\n",
              "    </tr>\n",
              "    <tr>\n",
              "      <th>1433</th>\n",
              "      <td>14437.0</td>\n",
              "      <td>2010-12-09 09:27:00</td>\n",
              "      <td>-4.340000e+01</td>\n",
              "    </tr>\n",
              "    <tr>\n",
              "      <th>1569</th>\n",
              "      <td>14627.0</td>\n",
              "      <td>2011-02-01 10:49:00</td>\n",
              "      <td>-2.185000e+01</td>\n",
              "    </tr>\n",
              "    <tr>\n",
              "      <th>1603</th>\n",
              "      <td>14679.0</td>\n",
              "      <td>2010-12-03 10:07:00</td>\n",
              "      <td>-2.550000e+00</td>\n",
              "    </tr>\n",
              "    <tr>\n",
              "      <th>1671</th>\n",
              "      <td>14777.0</td>\n",
              "      <td>2010-12-16 15:27:00</td>\n",
              "      <td>-1.450000e+01</td>\n",
              "    </tr>\n",
              "    <tr>\n",
              "      <th>2069</th>\n",
              "      <td>15369.0</td>\n",
              "      <td>2011-07-18 15:11:00</td>\n",
              "      <td>-1.592490e+03</td>\n",
              "    </tr>\n",
              "    <tr>\n",
              "      <th>2213</th>\n",
              "      <td>15590.0</td>\n",
              "      <td>2011-02-23 16:36:00</td>\n",
              "      <td>-3.019000e+01</td>\n",
              "    </tr>\n",
              "    <tr>\n",
              "      <th>2245</th>\n",
              "      <td>15638.0</td>\n",
              "      <td>2011-02-11 15:12:00</td>\n",
              "      <td>-9.400000e+01</td>\n",
              "    </tr>\n",
              "    <tr>\n",
              "      <th>2307</th>\n",
              "      <td>15728.0</td>\n",
              "      <td>2011-10-21 14:03:00</td>\n",
              "      <td>-1.348000e+02</td>\n",
              "    </tr>\n",
              "    <tr>\n",
              "      <th>2357</th>\n",
              "      <td>15802.0</td>\n",
              "      <td>2011-07-20 11:23:00</td>\n",
              "      <td>-4.514200e+02</td>\n",
              "    </tr>\n",
              "    <tr>\n",
              "      <th>2375</th>\n",
              "      <td>15823.0</td>\n",
              "      <td>2010-12-02 15:08:00</td>\n",
              "      <td>-8.407600e+02</td>\n",
              "    </tr>\n",
              "    <tr>\n",
              "      <th>2527</th>\n",
              "      <td>16061.0</td>\n",
              "      <td>2011-03-15 14:41:00</td>\n",
              "      <td>-2.995000e+01</td>\n",
              "    </tr>\n",
              "    <tr>\n",
              "      <th>2583</th>\n",
              "      <td>16138.0</td>\n",
              "      <td>2010-12-06 15:10:00</td>\n",
              "      <td>-7.950000e+00</td>\n",
              "    </tr>\n",
              "    <tr>\n",
              "      <th>2671</th>\n",
              "      <td>16252.0</td>\n",
              "      <td>2010-12-08 16:15:00</td>\n",
              "      <td>-2.950900e+02</td>\n",
              "    </tr>\n",
              "    <tr>\n",
              "      <th>2679</th>\n",
              "      <td>16262.0</td>\n",
              "      <td>2010-12-14 11:55:00</td>\n",
              "      <td>-3.165000e+01</td>\n",
              "    </tr>\n",
              "    <tr>\n",
              "      <th>2787</th>\n",
              "      <td>16428.0</td>\n",
              "      <td>2011-09-19 16:31:00</td>\n",
              "      <td>-2.950000e+00</td>\n",
              "    </tr>\n",
              "    <tr>\n",
              "      <th>2804</th>\n",
              "      <td>16454.0</td>\n",
              "      <td>2011-04-13 10:36:00</td>\n",
              "      <td>-8.150000e+00</td>\n",
              "    </tr>\n",
              "    <tr>\n",
              "      <th>2861</th>\n",
              "      <td>16546.0</td>\n",
              "      <td>2010-12-02 12:07:00</td>\n",
              "      <td>-9.593000e+01</td>\n",
              "    </tr>\n",
              "    <tr>\n",
              "      <th>2883</th>\n",
              "      <td>16579.0</td>\n",
              "      <td>2010-12-09 15:00:00</td>\n",
              "      <td>-3.060000e+01</td>\n",
              "    </tr>\n",
              "    <tr>\n",
              "      <th>3168</th>\n",
              "      <td>16995.0</td>\n",
              "      <td>2010-12-02 17:09:00</td>\n",
              "      <td>-1.250000e+00</td>\n",
              "    </tr>\n",
              "    <tr>\n",
              "      <th>3198</th>\n",
              "      <td>17044.0</td>\n",
              "      <td>2010-12-15 16:34:00</td>\n",
              "      <td>-3.510000e+01</td>\n",
              "    </tr>\n",
              "    <tr>\n",
              "      <th>3215</th>\n",
              "      <td>17065.0</td>\n",
              "      <td>2011-07-19 14:45:00</td>\n",
              "      <td>-1.123500e+02</td>\n",
              "    </tr>\n",
              "    <tr>\n",
              "      <th>3360</th>\n",
              "      <td>17307.0</td>\n",
              "      <td>2010-12-09 15:24:00</td>\n",
              "      <td>-1.526400e+02</td>\n",
              "    </tr>\n",
              "    <tr>\n",
              "      <th>3456</th>\n",
              "      <td>17448.0</td>\n",
              "      <td>2011-07-18 12:26:00</td>\n",
              "      <td>-4.287630e+03</td>\n",
              "    </tr>\n",
              "    <tr>\n",
              "      <th>3518</th>\n",
              "      <td>17547.0</td>\n",
              "      <td>2010-12-02 14:29:00</td>\n",
              "      <td>-1.180000e+01</td>\n",
              "    </tr>\n",
              "    <tr>\n",
              "      <th>3519</th>\n",
              "      <td>17548.0</td>\n",
              "      <td>2010-12-01 10:24:00</td>\n",
              "      <td>-1.414800e+02</td>\n",
              "    </tr>\n",
              "    <tr>\n",
              "      <th>3556</th>\n",
              "      <td>17603.0</td>\n",
              "      <td>2011-03-17 14:39:00</td>\n",
              "      <td>-1.165300e+03</td>\n",
              "    </tr>\n",
              "    <tr>\n",
              "      <th>3702</th>\n",
              "      <td>17820.0</td>\n",
              "      <td>2010-12-15 17:04:00</td>\n",
              "      <td>-2.405000e+01</td>\n",
              "    </tr>\n",
              "    <tr>\n",
              "      <th>3863</th>\n",
              "      <td>18072.0</td>\n",
              "      <td>2011-06-07 10:44:00</td>\n",
              "      <td>-5.506706e-14</td>\n",
              "    </tr>\n",
              "    <tr>\n",
              "      <th>3872</th>\n",
              "      <td>18084.0</td>\n",
              "      <td>2011-02-11 16:30:00</td>\n",
              "      <td>-2.950000e+00</td>\n",
              "    </tr>\n",
              "    <tr>\n",
              "      <th>3907</th>\n",
              "      <td>18141.0</td>\n",
              "      <td>2010-12-14 11:09:00</td>\n",
              "      <td>-3.540000e+01</td>\n",
              "    </tr>\n",
              "    <tr>\n",
              "      <th>3989</th>\n",
              "      <td>18256.0</td>\n",
              "      <td>2010-12-20 08:27:00</td>\n",
              "      <td>-5.010000e+01</td>\n",
              "    </tr>\n",
              "  </tbody>\n",
              "</table>\n",
              "</div>"
            ],
            "text/plain": [
              "      customerid             reg_date       revenue\n",
              "81       12454.0  2011-10-14 17:13:00 -5.684342e-14\n",
              "114      12503.0  2011-01-06 11:51:00 -1.126000e+03\n",
              "115      12505.0  2011-02-11 13:39:00 -4.500000e+00\n",
              "176      12586.0  2010-12-06 09:31:00 -1.700000e+01\n",
              "192      12605.0  2010-12-09 15:41:00 -7.500000e+00\n",
              "237      12666.0  2010-12-15 14:42:00 -2.274400e+02\n",
              "382      12870.0  2010-12-08 14:27:00 -1.490000e+01\n",
              "429      12943.0  2011-02-11 15:13:00 -3.750000e+00\n",
              "569      13154.0  2011-07-18 15:21:00 -6.118600e+02\n",
              "918      13672.0  2011-01-10 12:02:00 -7.146000e+01\n",
              "930      13693.0  2011-01-18 15:21:00 -3.200000e+01\n",
              "1024     13829.0  2010-12-15 16:36:00 -1.020000e+02\n",
              "1112     13958.0  2010-12-02 17:03:00 -1.024500e+02\n",
              "1221     14119.0  2010-12-20 13:58:00 -1.990000e+01\n",
              "1276     14205.0  2010-12-09 13:38:00 -1.530000e+01\n",
              "1283     14213.0  2010-12-03 09:47:00 -1.192200e+03\n",
              "1433     14437.0  2010-12-09 09:27:00 -4.340000e+01\n",
              "1569     14627.0  2011-02-01 10:49:00 -2.185000e+01\n",
              "1603     14679.0  2010-12-03 10:07:00 -2.550000e+00\n",
              "1671     14777.0  2010-12-16 15:27:00 -1.450000e+01\n",
              "2069     15369.0  2011-07-18 15:11:00 -1.592490e+03\n",
              "2213     15590.0  2011-02-23 16:36:00 -3.019000e+01\n",
              "2245     15638.0  2011-02-11 15:12:00 -9.400000e+01\n",
              "2307     15728.0  2011-10-21 14:03:00 -1.348000e+02\n",
              "2357     15802.0  2011-07-20 11:23:00 -4.514200e+02\n",
              "2375     15823.0  2010-12-02 15:08:00 -8.407600e+02\n",
              "2527     16061.0  2011-03-15 14:41:00 -2.995000e+01\n",
              "2583     16138.0  2010-12-06 15:10:00 -7.950000e+00\n",
              "2671     16252.0  2010-12-08 16:15:00 -2.950900e+02\n",
              "2679     16262.0  2010-12-14 11:55:00 -3.165000e+01\n",
              "2787     16428.0  2011-09-19 16:31:00 -2.950000e+00\n",
              "2804     16454.0  2011-04-13 10:36:00 -8.150000e+00\n",
              "2861     16546.0  2010-12-02 12:07:00 -9.593000e+01\n",
              "2883     16579.0  2010-12-09 15:00:00 -3.060000e+01\n",
              "3168     16995.0  2010-12-02 17:09:00 -1.250000e+00\n",
              "3198     17044.0  2010-12-15 16:34:00 -3.510000e+01\n",
              "3215     17065.0  2011-07-19 14:45:00 -1.123500e+02\n",
              "3360     17307.0  2010-12-09 15:24:00 -1.526400e+02\n",
              "3456     17448.0  2011-07-18 12:26:00 -4.287630e+03\n",
              "3518     17547.0  2010-12-02 14:29:00 -1.180000e+01\n",
              "3519     17548.0  2010-12-01 10:24:00 -1.414800e+02\n",
              "3556     17603.0  2011-03-17 14:39:00 -1.165300e+03\n",
              "3702     17820.0  2010-12-15 17:04:00 -2.405000e+01\n",
              "3863     18072.0  2011-06-07 10:44:00 -5.506706e-14\n",
              "3872     18084.0  2011-02-11 16:30:00 -2.950000e+00\n",
              "3907     18141.0  2010-12-14 11:09:00 -3.540000e+01\n",
              "3989     18256.0  2010-12-20 08:27:00 -5.010000e+01"
            ]
          },
          "metadata": {},
          "execution_count": 28
        }
      ]
    },
    {
      "cell_type": "code",
      "metadata": {
        "id": "j3bDbCiLJwuy",
        "colab": {
          "base_uri": "https://localhost:8080/"
        },
        "outputId": "a23afd83-915e-4dd0-dcf4-71696ce6d587"
      },
      "source": [
        "len(t[t['revenue']<10000]['revenue']) / len(t)"
      ],
      "execution_count": 29,
      "outputs": [
        {
          "output_type": "execute_result",
          "data": {
            "text/plain": [
              "0.9812967581047382"
            ]
          },
          "metadata": {},
          "execution_count": 29
        }
      ]
    },
    {
      "cell_type": "code",
      "metadata": {
        "id": "yASwyPcUKBBY"
      },
      "source": [
        "sql = '''\n",
        "\n",
        "DROP TABLE IF EXISTS customer;\n",
        "\n",
        "CREATE TABLE customer AS\n",
        "\n",
        "SELECT \n",
        "  t.*,\n",
        "  date('2011-11-01') AS month,\n",
        "  JULIANDAY(DATE('2011-11-01')) - JULIANDAY(t.last_purchase) AS recency\n",
        "FROM\n",
        "  (SELECT\n",
        "    t.customerid,\n",
        "    MIN(t.invoicedate) AS reg_date,\n",
        "    MAX(t.invoicedate) AS last_purchase,\n",
        "    SUM(t.quantity * t.unitprice) AS monetary,\n",
        "    COUNT(DISTINCT t.invoiceno) AS frequency\n",
        "  FROM \n",
        "    ecommerce t \n",
        "  WHERE \n",
        "    DATE(t.invoicedate,'start of month') <= '2011-10-01'\n",
        "    AND t.customerid IS NOT NULL\n",
        "  GROUP BY \n",
        "    1) t\n",
        "WHERE \n",
        "  t.monetary < 10000\n",
        "'''"
      ],
      "execution_count": 30,
      "outputs": []
    },
    {
      "cell_type": "code",
      "metadata": {
        "id": "tfoAzkkwKA_C",
        "colab": {
          "base_uri": "https://localhost:8080/"
        },
        "outputId": "ef945db4-05a7-4fc4-c1b6-1cf8ae5d2fcd"
      },
      "source": [
        "cur.executescript(sql)"
      ],
      "execution_count": 31,
      "outputs": [
        {
          "output_type": "execute_result",
          "data": {
            "text/plain": [
              "<pysqlite3.dbapi2.Cursor at 0x7f3f1f381030>"
            ]
          },
          "metadata": {},
          "execution_count": 31
        }
      ]
    },
    {
      "cell_type": "code",
      "metadata": {
        "id": "K0cQ6s-MzdfE"
      },
      "source": [
        "sql = '''\n",
        "SELECT \n",
        "  t.customerid, \n",
        "  SUM(t.quantity * t.unitprice) AS target \n",
        "FROM \n",
        "  ecommerce t\n",
        "WHERE \n",
        "  DATE(t.invoicedate, 'start of month') == '2011-11-01'\n",
        "GROUP BY  \n",
        "  1\n",
        "'''"
      ],
      "execution_count": 32,
      "outputs": []
    },
    {
      "cell_type": "code",
      "metadata": {
        "colab": {
          "base_uri": "https://localhost:8080/",
          "height": 419
        },
        "id": "1-aZXBEnzrkQ",
        "outputId": "a1293fcb-ec19-40df-b0e3-e1d0b5aec0b6"
      },
      "source": [
        "select(sql)"
      ],
      "execution_count": 33,
      "outputs": [
        {
          "output_type": "execute_result",
          "data": {
            "text/html": [
              "<div>\n",
              "<style scoped>\n",
              "    .dataframe tbody tr th:only-of-type {\n",
              "        vertical-align: middle;\n",
              "    }\n",
              "\n",
              "    .dataframe tbody tr th {\n",
              "        vertical-align: top;\n",
              "    }\n",
              "\n",
              "    .dataframe thead th {\n",
              "        text-align: right;\n",
              "    }\n",
              "</style>\n",
              "<table border=\"1\" class=\"dataframe\">\n",
              "  <thead>\n",
              "    <tr style=\"text-align: right;\">\n",
              "      <th></th>\n",
              "      <th>customerid</th>\n",
              "      <th>target</th>\n",
              "    </tr>\n",
              "  </thead>\n",
              "  <tbody>\n",
              "    <tr>\n",
              "      <th>0</th>\n",
              "      <td>NaN</td>\n",
              "      <td>3.293485e+05</td>\n",
              "    </tr>\n",
              "    <tr>\n",
              "      <th>1</th>\n",
              "      <td>12349.0</td>\n",
              "      <td>1.757550e+03</td>\n",
              "    </tr>\n",
              "    <tr>\n",
              "      <th>2</th>\n",
              "      <td>12352.0</td>\n",
              "      <td>3.117300e+02</td>\n",
              "    </tr>\n",
              "    <tr>\n",
              "      <th>3</th>\n",
              "      <td>12356.0</td>\n",
              "      <td>5.835000e+01</td>\n",
              "    </tr>\n",
              "    <tr>\n",
              "      <th>4</th>\n",
              "      <td>12357.0</td>\n",
              "      <td>6.207670e+03</td>\n",
              "    </tr>\n",
              "    <tr>\n",
              "      <th>...</th>\n",
              "      <td>...</td>\n",
              "      <td>...</td>\n",
              "    </tr>\n",
              "    <tr>\n",
              "      <th>1707</th>\n",
              "      <td>18263.0</td>\n",
              "      <td>3.996800e+02</td>\n",
              "    </tr>\n",
              "    <tr>\n",
              "      <th>1708</th>\n",
              "      <td>18270.0</td>\n",
              "      <td>1.712000e+02</td>\n",
              "    </tr>\n",
              "    <tr>\n",
              "      <th>1709</th>\n",
              "      <td>18274.0</td>\n",
              "      <td>1.243450e-14</td>\n",
              "    </tr>\n",
              "    <tr>\n",
              "      <th>1710</th>\n",
              "      <td>18276.0</td>\n",
              "      <td>-1.250000e+01</td>\n",
              "    </tr>\n",
              "    <tr>\n",
              "      <th>1711</th>\n",
              "      <td>18283.0</td>\n",
              "      <td>6.515600e+02</td>\n",
              "    </tr>\n",
              "  </tbody>\n",
              "</table>\n",
              "<p>1712 rows × 2 columns</p>\n",
              "</div>"
            ],
            "text/plain": [
              "      customerid        target\n",
              "0            NaN  3.293485e+05\n",
              "1        12349.0  1.757550e+03\n",
              "2        12352.0  3.117300e+02\n",
              "3        12356.0  5.835000e+01\n",
              "4        12357.0  6.207670e+03\n",
              "...          ...           ...\n",
              "1707     18263.0  3.996800e+02\n",
              "1708     18270.0  1.712000e+02\n",
              "1709     18274.0  1.243450e-14\n",
              "1710     18276.0 -1.250000e+01\n",
              "1711     18283.0  6.515600e+02\n",
              "\n",
              "[1712 rows x 2 columns]"
            ]
          },
          "metadata": {},
          "execution_count": 33
        }
      ]
    },
    {
      "cell_type": "code",
      "metadata": {
        "id": "Yl7YZKrHzY73"
      },
      "source": [
        "sql = '''\n",
        "SELECT\n",
        "   t.*, \n",
        "   n.target \n",
        "FROM \n",
        "  customer t\n",
        "LEFT JOIN \n",
        "  (SELECT \n",
        "    t.customerid, \n",
        "    SUM(t.quantity * t.unitprice) AS target \n",
        "   FROM \n",
        "    ecommerce t\n",
        "   WHERE \n",
        "    DATE(t.invoicedate, 'start of month') == '2011-11-01'\n",
        "   group by  \n",
        "    1) \n",
        "  n ON t.customerid = n.customerid\n",
        "'''"
      ],
      "execution_count": 34,
      "outputs": []
    },
    {
      "cell_type": "code",
      "metadata": {
        "colab": {
          "base_uri": "https://localhost:8080/",
          "height": 419
        },
        "id": "Y9CDwYXBzZD8",
        "outputId": "e90a290b-2103-4c0f-97ab-7932220be527"
      },
      "source": [
        "select(sql)"
      ],
      "execution_count": 35,
      "outputs": [
        {
          "output_type": "execute_result",
          "data": {
            "text/html": [
              "<div>\n",
              "<style scoped>\n",
              "    .dataframe tbody tr th:only-of-type {\n",
              "        vertical-align: middle;\n",
              "    }\n",
              "\n",
              "    .dataframe tbody tr th {\n",
              "        vertical-align: top;\n",
              "    }\n",
              "\n",
              "    .dataframe thead th {\n",
              "        text-align: right;\n",
              "    }\n",
              "</style>\n",
              "<table border=\"1\" class=\"dataframe\">\n",
              "  <thead>\n",
              "    <tr style=\"text-align: right;\">\n",
              "      <th></th>\n",
              "      <th>customerid</th>\n",
              "      <th>reg_date</th>\n",
              "      <th>last_purchase</th>\n",
              "      <th>monetary</th>\n",
              "      <th>frequency</th>\n",
              "      <th>month</th>\n",
              "      <th>recency</th>\n",
              "      <th>target</th>\n",
              "    </tr>\n",
              "  </thead>\n",
              "  <tbody>\n",
              "    <tr>\n",
              "      <th>0</th>\n",
              "      <td>12346.0</td>\n",
              "      <td>2011-01-18 10:01:00</td>\n",
              "      <td>2011-01-18 10:17:00</td>\n",
              "      <td>0.00</td>\n",
              "      <td>2</td>\n",
              "      <td>2011-11-01</td>\n",
              "      <td>286.571528</td>\n",
              "      <td>NaN</td>\n",
              "    </tr>\n",
              "    <tr>\n",
              "      <th>1</th>\n",
              "      <td>12347.0</td>\n",
              "      <td>2010-12-07 14:57:00</td>\n",
              "      <td>2011-10-31 12:25:00</td>\n",
              "      <td>4085.18</td>\n",
              "      <td>6</td>\n",
              "      <td>2011-11-01</td>\n",
              "      <td>0.482639</td>\n",
              "      <td>NaN</td>\n",
              "    </tr>\n",
              "    <tr>\n",
              "      <th>2</th>\n",
              "      <td>12348.0</td>\n",
              "      <td>2010-12-16 19:09:00</td>\n",
              "      <td>2011-09-25 13:13:00</td>\n",
              "      <td>1797.24</td>\n",
              "      <td>4</td>\n",
              "      <td>2011-11-01</td>\n",
              "      <td>36.449306</td>\n",
              "      <td>NaN</td>\n",
              "    </tr>\n",
              "    <tr>\n",
              "      <th>3</th>\n",
              "      <td>12350.0</td>\n",
              "      <td>2011-02-02 16:01:00</td>\n",
              "      <td>2011-02-02 16:01:00</td>\n",
              "      <td>334.40</td>\n",
              "      <td>1</td>\n",
              "      <td>2011-11-01</td>\n",
              "      <td>271.332639</td>\n",
              "      <td>NaN</td>\n",
              "    </tr>\n",
              "    <tr>\n",
              "      <th>4</th>\n",
              "      <td>12352.0</td>\n",
              "      <td>2011-02-16 12:33:00</td>\n",
              "      <td>2011-09-28 14:58:00</td>\n",
              "      <td>1233.68</td>\n",
              "      <td>10</td>\n",
              "      <td>2011-11-01</td>\n",
              "      <td>33.376389</td>\n",
              "      <td>311.73</td>\n",
              "    </tr>\n",
              "    <tr>\n",
              "      <th>...</th>\n",
              "      <td>...</td>\n",
              "      <td>...</td>\n",
              "      <td>...</td>\n",
              "      <td>...</td>\n",
              "      <td>...</td>\n",
              "      <td>...</td>\n",
              "      <td>...</td>\n",
              "      <td>...</td>\n",
              "    </tr>\n",
              "    <tr>\n",
              "      <th>3930</th>\n",
              "      <td>18280.0</td>\n",
              "      <td>2011-03-07 09:52:00</td>\n",
              "      <td>2011-03-07 09:52:00</td>\n",
              "      <td>180.60</td>\n",
              "      <td>1</td>\n",
              "      <td>2011-11-01</td>\n",
              "      <td>238.588889</td>\n",
              "      <td>NaN</td>\n",
              "    </tr>\n",
              "    <tr>\n",
              "      <th>3931</th>\n",
              "      <td>18281.0</td>\n",
              "      <td>2011-06-12 10:53:00</td>\n",
              "      <td>2011-06-12 10:53:00</td>\n",
              "      <td>80.82</td>\n",
              "      <td>1</td>\n",
              "      <td>2011-11-01</td>\n",
              "      <td>141.546528</td>\n",
              "      <td>NaN</td>\n",
              "    </tr>\n",
              "    <tr>\n",
              "      <th>3932</th>\n",
              "      <td>18282.0</td>\n",
              "      <td>2011-08-05 13:35:00</td>\n",
              "      <td>2011-08-09 15:10:00</td>\n",
              "      <td>98.76</td>\n",
              "      <td>2</td>\n",
              "      <td>2011-11-01</td>\n",
              "      <td>83.368056</td>\n",
              "      <td>NaN</td>\n",
              "    </tr>\n",
              "    <tr>\n",
              "      <th>3933</th>\n",
              "      <td>18283.0</td>\n",
              "      <td>2011-01-06 14:14:00</td>\n",
              "      <td>2011-10-27 14:38:00</td>\n",
              "      <td>1235.32</td>\n",
              "      <td>11</td>\n",
              "      <td>2011-11-01</td>\n",
              "      <td>4.390278</td>\n",
              "      <td>651.56</td>\n",
              "    </tr>\n",
              "    <tr>\n",
              "      <th>3934</th>\n",
              "      <td>18287.0</td>\n",
              "      <td>2011-05-22 10:39:00</td>\n",
              "      <td>2011-10-28 09:29:00</td>\n",
              "      <td>1837.28</td>\n",
              "      <td>3</td>\n",
              "      <td>2011-11-01</td>\n",
              "      <td>3.604861</td>\n",
              "      <td>NaN</td>\n",
              "    </tr>\n",
              "  </tbody>\n",
              "</table>\n",
              "<p>3935 rows × 8 columns</p>\n",
              "</div>"
            ],
            "text/plain": [
              "      customerid             reg_date  ...     recency  target\n",
              "0        12346.0  2011-01-18 10:01:00  ...  286.571528     NaN\n",
              "1        12347.0  2010-12-07 14:57:00  ...    0.482639     NaN\n",
              "2        12348.0  2010-12-16 19:09:00  ...   36.449306     NaN\n",
              "3        12350.0  2011-02-02 16:01:00  ...  271.332639     NaN\n",
              "4        12352.0  2011-02-16 12:33:00  ...   33.376389  311.73\n",
              "...          ...                  ...  ...         ...     ...\n",
              "3930     18280.0  2011-03-07 09:52:00  ...  238.588889     NaN\n",
              "3931     18281.0  2011-06-12 10:53:00  ...  141.546528     NaN\n",
              "3932     18282.0  2011-08-05 13:35:00  ...   83.368056     NaN\n",
              "3933     18283.0  2011-01-06 14:14:00  ...    4.390278  651.56\n",
              "3934     18287.0  2011-05-22 10:39:00  ...    3.604861     NaN\n",
              "\n",
              "[3935 rows x 8 columns]"
            ]
          },
          "metadata": {},
          "execution_count": 35
        }
      ]
    },
    {
      "cell_type": "code",
      "metadata": {
        "id": "HPhvMnIAXvbD"
      },
      "source": [
        "t = select(sql)"
      ],
      "execution_count": 36,
      "outputs": []
    },
    {
      "cell_type": "code",
      "metadata": {
        "colab": {
          "base_uri": "https://localhost:8080/",
          "height": 419
        },
        "id": "g0AL_nBIeeJg",
        "outputId": "356d2b2c-96d1-4024-af15-901705a00875"
      },
      "source": [
        "t"
      ],
      "execution_count": 37,
      "outputs": [
        {
          "output_type": "execute_result",
          "data": {
            "text/html": [
              "<div>\n",
              "<style scoped>\n",
              "    .dataframe tbody tr th:only-of-type {\n",
              "        vertical-align: middle;\n",
              "    }\n",
              "\n",
              "    .dataframe tbody tr th {\n",
              "        vertical-align: top;\n",
              "    }\n",
              "\n",
              "    .dataframe thead th {\n",
              "        text-align: right;\n",
              "    }\n",
              "</style>\n",
              "<table border=\"1\" class=\"dataframe\">\n",
              "  <thead>\n",
              "    <tr style=\"text-align: right;\">\n",
              "      <th></th>\n",
              "      <th>customerid</th>\n",
              "      <th>reg_date</th>\n",
              "      <th>last_purchase</th>\n",
              "      <th>monetary</th>\n",
              "      <th>frequency</th>\n",
              "      <th>month</th>\n",
              "      <th>recency</th>\n",
              "      <th>target</th>\n",
              "    </tr>\n",
              "  </thead>\n",
              "  <tbody>\n",
              "    <tr>\n",
              "      <th>0</th>\n",
              "      <td>12346.0</td>\n",
              "      <td>2011-01-18 10:01:00</td>\n",
              "      <td>2011-01-18 10:17:00</td>\n",
              "      <td>0.00</td>\n",
              "      <td>2</td>\n",
              "      <td>2011-11-01</td>\n",
              "      <td>286.571528</td>\n",
              "      <td>NaN</td>\n",
              "    </tr>\n",
              "    <tr>\n",
              "      <th>1</th>\n",
              "      <td>12347.0</td>\n",
              "      <td>2010-12-07 14:57:00</td>\n",
              "      <td>2011-10-31 12:25:00</td>\n",
              "      <td>4085.18</td>\n",
              "      <td>6</td>\n",
              "      <td>2011-11-01</td>\n",
              "      <td>0.482639</td>\n",
              "      <td>NaN</td>\n",
              "    </tr>\n",
              "    <tr>\n",
              "      <th>2</th>\n",
              "      <td>12348.0</td>\n",
              "      <td>2010-12-16 19:09:00</td>\n",
              "      <td>2011-09-25 13:13:00</td>\n",
              "      <td>1797.24</td>\n",
              "      <td>4</td>\n",
              "      <td>2011-11-01</td>\n",
              "      <td>36.449306</td>\n",
              "      <td>NaN</td>\n",
              "    </tr>\n",
              "    <tr>\n",
              "      <th>3</th>\n",
              "      <td>12350.0</td>\n",
              "      <td>2011-02-02 16:01:00</td>\n",
              "      <td>2011-02-02 16:01:00</td>\n",
              "      <td>334.40</td>\n",
              "      <td>1</td>\n",
              "      <td>2011-11-01</td>\n",
              "      <td>271.332639</td>\n",
              "      <td>NaN</td>\n",
              "    </tr>\n",
              "    <tr>\n",
              "      <th>4</th>\n",
              "      <td>12352.0</td>\n",
              "      <td>2011-02-16 12:33:00</td>\n",
              "      <td>2011-09-28 14:58:00</td>\n",
              "      <td>1233.68</td>\n",
              "      <td>10</td>\n",
              "      <td>2011-11-01</td>\n",
              "      <td>33.376389</td>\n",
              "      <td>311.73</td>\n",
              "    </tr>\n",
              "    <tr>\n",
              "      <th>...</th>\n",
              "      <td>...</td>\n",
              "      <td>...</td>\n",
              "      <td>...</td>\n",
              "      <td>...</td>\n",
              "      <td>...</td>\n",
              "      <td>...</td>\n",
              "      <td>...</td>\n",
              "      <td>...</td>\n",
              "    </tr>\n",
              "    <tr>\n",
              "      <th>3930</th>\n",
              "      <td>18280.0</td>\n",
              "      <td>2011-03-07 09:52:00</td>\n",
              "      <td>2011-03-07 09:52:00</td>\n",
              "      <td>180.60</td>\n",
              "      <td>1</td>\n",
              "      <td>2011-11-01</td>\n",
              "      <td>238.588889</td>\n",
              "      <td>NaN</td>\n",
              "    </tr>\n",
              "    <tr>\n",
              "      <th>3931</th>\n",
              "      <td>18281.0</td>\n",
              "      <td>2011-06-12 10:53:00</td>\n",
              "      <td>2011-06-12 10:53:00</td>\n",
              "      <td>80.82</td>\n",
              "      <td>1</td>\n",
              "      <td>2011-11-01</td>\n",
              "      <td>141.546528</td>\n",
              "      <td>NaN</td>\n",
              "    </tr>\n",
              "    <tr>\n",
              "      <th>3932</th>\n",
              "      <td>18282.0</td>\n",
              "      <td>2011-08-05 13:35:00</td>\n",
              "      <td>2011-08-09 15:10:00</td>\n",
              "      <td>98.76</td>\n",
              "      <td>2</td>\n",
              "      <td>2011-11-01</td>\n",
              "      <td>83.368056</td>\n",
              "      <td>NaN</td>\n",
              "    </tr>\n",
              "    <tr>\n",
              "      <th>3933</th>\n",
              "      <td>18283.0</td>\n",
              "      <td>2011-01-06 14:14:00</td>\n",
              "      <td>2011-10-27 14:38:00</td>\n",
              "      <td>1235.32</td>\n",
              "      <td>11</td>\n",
              "      <td>2011-11-01</td>\n",
              "      <td>4.390278</td>\n",
              "      <td>651.56</td>\n",
              "    </tr>\n",
              "    <tr>\n",
              "      <th>3934</th>\n",
              "      <td>18287.0</td>\n",
              "      <td>2011-05-22 10:39:00</td>\n",
              "      <td>2011-10-28 09:29:00</td>\n",
              "      <td>1837.28</td>\n",
              "      <td>3</td>\n",
              "      <td>2011-11-01</td>\n",
              "      <td>3.604861</td>\n",
              "      <td>NaN</td>\n",
              "    </tr>\n",
              "  </tbody>\n",
              "</table>\n",
              "<p>3935 rows × 8 columns</p>\n",
              "</div>"
            ],
            "text/plain": [
              "      customerid             reg_date  ...     recency  target\n",
              "0        12346.0  2011-01-18 10:01:00  ...  286.571528     NaN\n",
              "1        12347.0  2010-12-07 14:57:00  ...    0.482639     NaN\n",
              "2        12348.0  2010-12-16 19:09:00  ...   36.449306     NaN\n",
              "3        12350.0  2011-02-02 16:01:00  ...  271.332639     NaN\n",
              "4        12352.0  2011-02-16 12:33:00  ...   33.376389  311.73\n",
              "...          ...                  ...  ...         ...     ...\n",
              "3930     18280.0  2011-03-07 09:52:00  ...  238.588889     NaN\n",
              "3931     18281.0  2011-06-12 10:53:00  ...  141.546528     NaN\n",
              "3932     18282.0  2011-08-05 13:35:00  ...   83.368056     NaN\n",
              "3933     18283.0  2011-01-06 14:14:00  ...    4.390278  651.56\n",
              "3934     18287.0  2011-05-22 10:39:00  ...    3.604861     NaN\n",
              "\n",
              "[3935 rows x 8 columns]"
            ]
          },
          "metadata": {},
          "execution_count": 37
        }
      ]
    },
    {
      "cell_type": "markdown",
      "metadata": {
        "id": "cNty-pUToEqj"
      },
      "source": [
        "# RFM"
      ]
    },
    {
      "cell_type": "markdown",
      "metadata": {
        "id": "ejxOd-HwfiaU"
      },
      "source": [
        "recency frequence monetary\n",
        "\n",
        "r (Как давно что-то покупал? Чем более недавно, тем лучше) 1-4\n",
        "\n",
        "f (Как часто покупал ранее? Чем чаще, тем лучше) 1-4 \n",
        "\n",
        "m (Как много денег потратил на покупку? Чем больше, тем лучше) 1-4\n",
        "\n",
        "rfm = (r + f + m) / 3"
      ]
    },
    {
      "cell_type": "markdown",
      "metadata": {
        "id": "2RR5lmgFoK7g"
      },
      "source": [
        "## Recency"
      ]
    },
    {
      "cell_type": "code",
      "metadata": {
        "id": "eNdSoxAgd_qE"
      },
      "source": [
        "t['r'] = 5 - (pd.qcut(t['recency'], 4, labels=False) + 1)"
      ],
      "execution_count": 38,
      "outputs": []
    },
    {
      "cell_type": "code",
      "metadata": {
        "colab": {
          "base_uri": "https://localhost:8080/",
          "height": 204
        },
        "id": "sAfCJOiUgXti",
        "outputId": "eabe7f51-df12-494b-fb1e-68d349f26ea6"
      },
      "source": [
        "t.groupby('r')['recency'].agg(['mean','count'])"
      ],
      "execution_count": 39,
      "outputs": [
        {
          "output_type": "execute_result",
          "data": {
            "text/html": [
              "<div>\n",
              "<style scoped>\n",
              "    .dataframe tbody tr th:only-of-type {\n",
              "        vertical-align: middle;\n",
              "    }\n",
              "\n",
              "    .dataframe tbody tr th {\n",
              "        vertical-align: top;\n",
              "    }\n",
              "\n",
              "    .dataframe thead th {\n",
              "        text-align: right;\n",
              "    }\n",
              "</style>\n",
              "<table border=\"1\" class=\"dataframe\">\n",
              "  <thead>\n",
              "    <tr style=\"text-align: right;\">\n",
              "      <th></th>\n",
              "      <th>mean</th>\n",
              "      <th>count</th>\n",
              "    </tr>\n",
              "    <tr>\n",
              "      <th>r</th>\n",
              "      <th></th>\n",
              "      <th></th>\n",
              "    </tr>\n",
              "  </thead>\n",
              "  <tbody>\n",
              "    <tr>\n",
              "      <th>1</th>\n",
              "      <td>238.929315</td>\n",
              "      <td>984</td>\n",
              "    </tr>\n",
              "    <tr>\n",
              "      <th>2</th>\n",
              "      <td>97.578577</td>\n",
              "      <td>983</td>\n",
              "    </tr>\n",
              "    <tr>\n",
              "      <th>3</th>\n",
              "      <td>34.175226</td>\n",
              "      <td>984</td>\n",
              "    </tr>\n",
              "    <tr>\n",
              "      <th>4</th>\n",
              "      <td>9.272108</td>\n",
              "      <td>984</td>\n",
              "    </tr>\n",
              "  </tbody>\n",
              "</table>\n",
              "</div>"
            ],
            "text/plain": [
              "         mean  count\n",
              "r                   \n",
              "1  238.929315    984\n",
              "2   97.578577    983\n",
              "3   34.175226    984\n",
              "4    9.272108    984"
            ]
          },
          "metadata": {},
          "execution_count": 39
        }
      ]
    },
    {
      "cell_type": "markdown",
      "metadata": {
        "id": "3gVYTWOUoRGr"
      },
      "source": [
        "## Frequency"
      ]
    },
    {
      "cell_type": "code",
      "metadata": {
        "colab": {
          "base_uri": "https://localhost:8080/"
        },
        "id": "TSz0RZPrht-h",
        "outputId": "645aae74-2a37-4ef4-d813-c574fe0f818a"
      },
      "source": [
        "t['frequency'].value_counts()"
      ],
      "execution_count": 40,
      "outputs": [
        {
          "output_type": "execute_result",
          "data": {
            "text/plain": [
              "1     1339\n",
              "2      777\n",
              "3      461\n",
              "4      317\n",
              "5      262\n",
              "6      152\n",
              "7      115\n",
              "8       96\n",
              "9       66\n",
              "10      62\n",
              "11      55\n",
              "13      34\n",
              "12      33\n",
              "14      27\n",
              "15      21\n",
              "16      20\n",
              "17      13\n",
              "19      10\n",
              "20       9\n",
              "24       9\n",
              "21       8\n",
              "18       8\n",
              "25       7\n",
              "23       6\n",
              "22       5\n",
              "26       4\n",
              "28       3\n",
              "31       3\n",
              "35       2\n",
              "38       2\n",
              "40       2\n",
              "34       1\n",
              "36       1\n",
              "33       1\n",
              "76       1\n",
              "27       1\n",
              "29       1\n",
              "74       1\n",
              "Name: frequency, dtype: int64"
            ]
          },
          "metadata": {},
          "execution_count": 40
        }
      ]
    },
    {
      "cell_type": "code",
      "metadata": {
        "id": "Npi6_-rNhfnY"
      },
      "source": [
        "t['f'] = pd.qcut(t['frequency'], 4, labels=False, duplicates='drop') + 2"
      ],
      "execution_count": 41,
      "outputs": []
    },
    {
      "cell_type": "code",
      "metadata": {
        "colab": {
          "base_uri": "https://localhost:8080/"
        },
        "id": "tGjMKhTYmPvy",
        "outputId": "a50f2799-5edd-411a-d9b9-c75f67be8185"
      },
      "source": [
        "t.groupby('f')['frequency'].agg(set)"
      ],
      "execution_count": 42,
      "outputs": [
        {
          "output_type": "execute_result",
          "data": {
            "text/plain": [
              "f\n",
              "2                                               {1, 2}\n",
              "3                                            {3, 4, 5}\n",
              "4    {6, 7, 8, 9, 10, 11, 12, 13, 14, 15, 16, 17, 1...\n",
              "Name: frequency, dtype: object"
            ]
          },
          "metadata": {},
          "execution_count": 42
        }
      ]
    },
    {
      "cell_type": "code",
      "metadata": {
        "id": "MBKawXpqmjRc"
      },
      "source": [
        "def get_f(x):\n",
        "  if x == 1:\n",
        "    return 1\n",
        "  if x in [2,3]:\n",
        "    return 2\n",
        "  if x in [3,4,5,6]:\n",
        "    return 3\n",
        "  return 4"
      ],
      "execution_count": 43,
      "outputs": []
    },
    {
      "cell_type": "code",
      "metadata": {
        "id": "DLK3vDt7nOq9"
      },
      "source": [
        "t['f'] = t['frequency'].apply(get_f)"
      ],
      "execution_count": 44,
      "outputs": []
    },
    {
      "cell_type": "code",
      "metadata": {
        "colab": {
          "base_uri": "https://localhost:8080/",
          "height": 204
        },
        "id": "_R2Meov0m6fu",
        "outputId": "ca673c7a-8642-4272-e84e-fe29afecd8ae"
      },
      "source": [
        "t.groupby('f')['frequency'].agg(['mean', 'count'])"
      ],
      "execution_count": 45,
      "outputs": [
        {
          "output_type": "execute_result",
          "data": {
            "text/html": [
              "<div>\n",
              "<style scoped>\n",
              "    .dataframe tbody tr th:only-of-type {\n",
              "        vertical-align: middle;\n",
              "    }\n",
              "\n",
              "    .dataframe tbody tr th {\n",
              "        vertical-align: top;\n",
              "    }\n",
              "\n",
              "    .dataframe thead th {\n",
              "        text-align: right;\n",
              "    }\n",
              "</style>\n",
              "<table border=\"1\" class=\"dataframe\">\n",
              "  <thead>\n",
              "    <tr style=\"text-align: right;\">\n",
              "      <th></th>\n",
              "      <th>mean</th>\n",
              "      <th>count</th>\n",
              "    </tr>\n",
              "    <tr>\n",
              "      <th>f</th>\n",
              "      <th></th>\n",
              "      <th></th>\n",
              "    </tr>\n",
              "  </thead>\n",
              "  <tbody>\n",
              "    <tr>\n",
              "      <th>1</th>\n",
              "      <td>1.000000</td>\n",
              "      <td>1339</td>\n",
              "    </tr>\n",
              "    <tr>\n",
              "      <th>2</th>\n",
              "      <td>2.372375</td>\n",
              "      <td>1238</td>\n",
              "    </tr>\n",
              "    <tr>\n",
              "      <th>3</th>\n",
              "      <td>4.774282</td>\n",
              "      <td>731</td>\n",
              "    </tr>\n",
              "    <tr>\n",
              "      <th>4</th>\n",
              "      <td>12.122807</td>\n",
              "      <td>627</td>\n",
              "    </tr>\n",
              "  </tbody>\n",
              "</table>\n",
              "</div>"
            ],
            "text/plain": [
              "        mean  count\n",
              "f                  \n",
              "1   1.000000   1339\n",
              "2   2.372375   1238\n",
              "3   4.774282    731\n",
              "4  12.122807    627"
            ]
          },
          "metadata": {},
          "execution_count": 45
        }
      ]
    },
    {
      "cell_type": "markdown",
      "metadata": {
        "id": "ftU9n4mNoVN-"
      },
      "source": [
        "## Monetary"
      ]
    },
    {
      "cell_type": "code",
      "metadata": {
        "id": "YH3b4ZIpnsUI"
      },
      "source": [
        "t['m'] = pd.qcut(t['monetary'], 4, labels=False) + 1"
      ],
      "execution_count": 46,
      "outputs": []
    },
    {
      "cell_type": "code",
      "metadata": {
        "colab": {
          "base_uri": "https://localhost:8080/",
          "height": 204
        },
        "id": "MgRdpCegnsQ4",
        "outputId": "2d046d47-fe54-4d97-bc28-6699cd4e1436"
      },
      "source": [
        "t.groupby('m')['monetary'].agg(['mean', 'count'])"
      ],
      "execution_count": 47,
      "outputs": [
        {
          "output_type": "execute_result",
          "data": {
            "text/html": [
              "<div>\n",
              "<style scoped>\n",
              "    .dataframe tbody tr th:only-of-type {\n",
              "        vertical-align: middle;\n",
              "    }\n",
              "\n",
              "    .dataframe tbody tr th {\n",
              "        vertical-align: top;\n",
              "    }\n",
              "\n",
              "    .dataframe thead th {\n",
              "        text-align: right;\n",
              "    }\n",
              "</style>\n",
              "<table border=\"1\" class=\"dataframe\">\n",
              "  <thead>\n",
              "    <tr style=\"text-align: right;\">\n",
              "      <th></th>\n",
              "      <th>mean</th>\n",
              "      <th>count</th>\n",
              "    </tr>\n",
              "    <tr>\n",
              "      <th>m</th>\n",
              "      <th></th>\n",
              "      <th></th>\n",
              "    </tr>\n",
              "  </thead>\n",
              "  <tbody>\n",
              "    <tr>\n",
              "      <th>1</th>\n",
              "      <td>138.807317</td>\n",
              "      <td>984</td>\n",
              "    </tr>\n",
              "    <tr>\n",
              "      <th>2</th>\n",
              "      <td>401.886477</td>\n",
              "      <td>984</td>\n",
              "    </tr>\n",
              "    <tr>\n",
              "      <th>3</th>\n",
              "      <td>894.042645</td>\n",
              "      <td>983</td>\n",
              "    </tr>\n",
              "    <tr>\n",
              "      <th>4</th>\n",
              "      <td>3012.871109</td>\n",
              "      <td>984</td>\n",
              "    </tr>\n",
              "  </tbody>\n",
              "</table>\n",
              "</div>"
            ],
            "text/plain": [
              "          mean  count\n",
              "m                    \n",
              "1   138.807317    984\n",
              "2   401.886477    984\n",
              "3   894.042645    983\n",
              "4  3012.871109    984"
            ]
          },
          "metadata": {},
          "execution_count": 47
        }
      ]
    },
    {
      "cell_type": "markdown",
      "metadata": {
        "id": "tAolqmBao0pp"
      },
      "source": [
        "## RFM score"
      ]
    },
    {
      "cell_type": "code",
      "metadata": {
        "id": "LXKYiXSVnsGV"
      },
      "source": [
        "t['rfm_score'] = (t['r'] + t['f'] + t['m']) / 3"
      ],
      "execution_count": 48,
      "outputs": []
    },
    {
      "cell_type": "code",
      "metadata": {
        "colab": {
          "base_uri": "https://localhost:8080/",
          "height": 419
        },
        "id": "YoGJiCJpsb5g",
        "outputId": "b74639be-16e3-4aec-a20c-d5a1f8e9ffa7"
      },
      "source": [
        "t"
      ],
      "execution_count": 49,
      "outputs": [
        {
          "output_type": "execute_result",
          "data": {
            "text/html": [
              "<div>\n",
              "<style scoped>\n",
              "    .dataframe tbody tr th:only-of-type {\n",
              "        vertical-align: middle;\n",
              "    }\n",
              "\n",
              "    .dataframe tbody tr th {\n",
              "        vertical-align: top;\n",
              "    }\n",
              "\n",
              "    .dataframe thead th {\n",
              "        text-align: right;\n",
              "    }\n",
              "</style>\n",
              "<table border=\"1\" class=\"dataframe\">\n",
              "  <thead>\n",
              "    <tr style=\"text-align: right;\">\n",
              "      <th></th>\n",
              "      <th>customerid</th>\n",
              "      <th>reg_date</th>\n",
              "      <th>last_purchase</th>\n",
              "      <th>monetary</th>\n",
              "      <th>frequency</th>\n",
              "      <th>month</th>\n",
              "      <th>recency</th>\n",
              "      <th>target</th>\n",
              "      <th>r</th>\n",
              "      <th>f</th>\n",
              "      <th>m</th>\n",
              "      <th>rfm_score</th>\n",
              "    </tr>\n",
              "  </thead>\n",
              "  <tbody>\n",
              "    <tr>\n",
              "      <th>0</th>\n",
              "      <td>12346.0</td>\n",
              "      <td>2011-01-18 10:01:00</td>\n",
              "      <td>2011-01-18 10:17:00</td>\n",
              "      <td>0.00</td>\n",
              "      <td>2</td>\n",
              "      <td>2011-11-01</td>\n",
              "      <td>286.571528</td>\n",
              "      <td>NaN</td>\n",
              "      <td>1</td>\n",
              "      <td>2</td>\n",
              "      <td>1</td>\n",
              "      <td>1.333333</td>\n",
              "    </tr>\n",
              "    <tr>\n",
              "      <th>1</th>\n",
              "      <td>12347.0</td>\n",
              "      <td>2010-12-07 14:57:00</td>\n",
              "      <td>2011-10-31 12:25:00</td>\n",
              "      <td>4085.18</td>\n",
              "      <td>6</td>\n",
              "      <td>2011-11-01</td>\n",
              "      <td>0.482639</td>\n",
              "      <td>NaN</td>\n",
              "      <td>4</td>\n",
              "      <td>3</td>\n",
              "      <td>4</td>\n",
              "      <td>3.666667</td>\n",
              "    </tr>\n",
              "    <tr>\n",
              "      <th>2</th>\n",
              "      <td>12348.0</td>\n",
              "      <td>2010-12-16 19:09:00</td>\n",
              "      <td>2011-09-25 13:13:00</td>\n",
              "      <td>1797.24</td>\n",
              "      <td>4</td>\n",
              "      <td>2011-11-01</td>\n",
              "      <td>36.449306</td>\n",
              "      <td>NaN</td>\n",
              "      <td>3</td>\n",
              "      <td>3</td>\n",
              "      <td>4</td>\n",
              "      <td>3.333333</td>\n",
              "    </tr>\n",
              "    <tr>\n",
              "      <th>3</th>\n",
              "      <td>12350.0</td>\n",
              "      <td>2011-02-02 16:01:00</td>\n",
              "      <td>2011-02-02 16:01:00</td>\n",
              "      <td>334.40</td>\n",
              "      <td>1</td>\n",
              "      <td>2011-11-01</td>\n",
              "      <td>271.332639</td>\n",
              "      <td>NaN</td>\n",
              "      <td>1</td>\n",
              "      <td>1</td>\n",
              "      <td>2</td>\n",
              "      <td>1.333333</td>\n",
              "    </tr>\n",
              "    <tr>\n",
              "      <th>4</th>\n",
              "      <td>12352.0</td>\n",
              "      <td>2011-02-16 12:33:00</td>\n",
              "      <td>2011-09-28 14:58:00</td>\n",
              "      <td>1233.68</td>\n",
              "      <td>10</td>\n",
              "      <td>2011-11-01</td>\n",
              "      <td>33.376389</td>\n",
              "      <td>311.73</td>\n",
              "      <td>3</td>\n",
              "      <td>4</td>\n",
              "      <td>3</td>\n",
              "      <td>3.333333</td>\n",
              "    </tr>\n",
              "    <tr>\n",
              "      <th>...</th>\n",
              "      <td>...</td>\n",
              "      <td>...</td>\n",
              "      <td>...</td>\n",
              "      <td>...</td>\n",
              "      <td>...</td>\n",
              "      <td>...</td>\n",
              "      <td>...</td>\n",
              "      <td>...</td>\n",
              "      <td>...</td>\n",
              "      <td>...</td>\n",
              "      <td>...</td>\n",
              "      <td>...</td>\n",
              "    </tr>\n",
              "    <tr>\n",
              "      <th>3930</th>\n",
              "      <td>18280.0</td>\n",
              "      <td>2011-03-07 09:52:00</td>\n",
              "      <td>2011-03-07 09:52:00</td>\n",
              "      <td>180.60</td>\n",
              "      <td>1</td>\n",
              "      <td>2011-11-01</td>\n",
              "      <td>238.588889</td>\n",
              "      <td>NaN</td>\n",
              "      <td>1</td>\n",
              "      <td>1</td>\n",
              "      <td>1</td>\n",
              "      <td>1.000000</td>\n",
              "    </tr>\n",
              "    <tr>\n",
              "      <th>3931</th>\n",
              "      <td>18281.0</td>\n",
              "      <td>2011-06-12 10:53:00</td>\n",
              "      <td>2011-06-12 10:53:00</td>\n",
              "      <td>80.82</td>\n",
              "      <td>1</td>\n",
              "      <td>2011-11-01</td>\n",
              "      <td>141.546528</td>\n",
              "      <td>NaN</td>\n",
              "      <td>2</td>\n",
              "      <td>1</td>\n",
              "      <td>1</td>\n",
              "      <td>1.333333</td>\n",
              "    </tr>\n",
              "    <tr>\n",
              "      <th>3932</th>\n",
              "      <td>18282.0</td>\n",
              "      <td>2011-08-05 13:35:00</td>\n",
              "      <td>2011-08-09 15:10:00</td>\n",
              "      <td>98.76</td>\n",
              "      <td>2</td>\n",
              "      <td>2011-11-01</td>\n",
              "      <td>83.368056</td>\n",
              "      <td>NaN</td>\n",
              "      <td>2</td>\n",
              "      <td>2</td>\n",
              "      <td>1</td>\n",
              "      <td>1.666667</td>\n",
              "    </tr>\n",
              "    <tr>\n",
              "      <th>3933</th>\n",
              "      <td>18283.0</td>\n",
              "      <td>2011-01-06 14:14:00</td>\n",
              "      <td>2011-10-27 14:38:00</td>\n",
              "      <td>1235.32</td>\n",
              "      <td>11</td>\n",
              "      <td>2011-11-01</td>\n",
              "      <td>4.390278</td>\n",
              "      <td>651.56</td>\n",
              "      <td>4</td>\n",
              "      <td>4</td>\n",
              "      <td>3</td>\n",
              "      <td>3.666667</td>\n",
              "    </tr>\n",
              "    <tr>\n",
              "      <th>3934</th>\n",
              "      <td>18287.0</td>\n",
              "      <td>2011-05-22 10:39:00</td>\n",
              "      <td>2011-10-28 09:29:00</td>\n",
              "      <td>1837.28</td>\n",
              "      <td>3</td>\n",
              "      <td>2011-11-01</td>\n",
              "      <td>3.604861</td>\n",
              "      <td>NaN</td>\n",
              "      <td>4</td>\n",
              "      <td>2</td>\n",
              "      <td>4</td>\n",
              "      <td>3.333333</td>\n",
              "    </tr>\n",
              "  </tbody>\n",
              "</table>\n",
              "<p>3935 rows × 12 columns</p>\n",
              "</div>"
            ],
            "text/plain": [
              "      customerid             reg_date        last_purchase  ...  f  m rfm_score\n",
              "0        12346.0  2011-01-18 10:01:00  2011-01-18 10:17:00  ...  2  1  1.333333\n",
              "1        12347.0  2010-12-07 14:57:00  2011-10-31 12:25:00  ...  3  4  3.666667\n",
              "2        12348.0  2010-12-16 19:09:00  2011-09-25 13:13:00  ...  3  4  3.333333\n",
              "3        12350.0  2011-02-02 16:01:00  2011-02-02 16:01:00  ...  1  2  1.333333\n",
              "4        12352.0  2011-02-16 12:33:00  2011-09-28 14:58:00  ...  4  3  3.333333\n",
              "...          ...                  ...                  ...  ... .. ..       ...\n",
              "3930     18280.0  2011-03-07 09:52:00  2011-03-07 09:52:00  ...  1  1  1.000000\n",
              "3931     18281.0  2011-06-12 10:53:00  2011-06-12 10:53:00  ...  1  1  1.333333\n",
              "3932     18282.0  2011-08-05 13:35:00  2011-08-09 15:10:00  ...  2  1  1.666667\n",
              "3933     18283.0  2011-01-06 14:14:00  2011-10-27 14:38:00  ...  4  3  3.666667\n",
              "3934     18287.0  2011-05-22 10:39:00  2011-10-28 09:29:00  ...  2  4  3.333333\n",
              "\n",
              "[3935 rows x 12 columns]"
            ]
          },
          "metadata": {},
          "execution_count": 49
        }
      ]
    },
    {
      "cell_type": "code",
      "metadata": {
        "colab": {
          "base_uri": "https://localhost:8080/",
          "height": 419
        },
        "id": "LNaMlv5lsb29",
        "outputId": "b21f5bf4-aa46-46ac-f8fd-9f7196fd6ed9"
      },
      "source": [
        "t.sort_values('rfm_score', ascending = False)"
      ],
      "execution_count": 50,
      "outputs": [
        {
          "output_type": "execute_result",
          "data": {
            "text/html": [
              "<div>\n",
              "<style scoped>\n",
              "    .dataframe tbody tr th:only-of-type {\n",
              "        vertical-align: middle;\n",
              "    }\n",
              "\n",
              "    .dataframe tbody tr th {\n",
              "        vertical-align: top;\n",
              "    }\n",
              "\n",
              "    .dataframe thead th {\n",
              "        text-align: right;\n",
              "    }\n",
              "</style>\n",
              "<table border=\"1\" class=\"dataframe\">\n",
              "  <thead>\n",
              "    <tr style=\"text-align: right;\">\n",
              "      <th></th>\n",
              "      <th>customerid</th>\n",
              "      <th>reg_date</th>\n",
              "      <th>last_purchase</th>\n",
              "      <th>monetary</th>\n",
              "      <th>frequency</th>\n",
              "      <th>month</th>\n",
              "      <th>recency</th>\n",
              "      <th>target</th>\n",
              "      <th>r</th>\n",
              "      <th>f</th>\n",
              "      <th>m</th>\n",
              "      <th>rfm_score</th>\n",
              "    </tr>\n",
              "  </thead>\n",
              "  <tbody>\n",
              "    <tr>\n",
              "      <th>1172</th>\n",
              "      <td>14085.0</td>\n",
              "      <td>2010-12-06 12:39:00</td>\n",
              "      <td>2011-10-25 16:20:00</td>\n",
              "      <td>3525.98</td>\n",
              "      <td>15</td>\n",
              "      <td>2011-11-01</td>\n",
              "      <td>6.319444</td>\n",
              "      <td>278.82</td>\n",
              "      <td>4</td>\n",
              "      <td>4</td>\n",
              "      <td>4</td>\n",
              "      <td>4.0</td>\n",
              "    </tr>\n",
              "    <tr>\n",
              "      <th>1187</th>\n",
              "      <td>14112.0</td>\n",
              "      <td>2011-03-09 11:28:00</td>\n",
              "      <td>2011-10-30 16:00:00</td>\n",
              "      <td>2613.15</td>\n",
              "      <td>10</td>\n",
              "      <td>2011-11-01</td>\n",
              "      <td>1.333333</td>\n",
              "      <td>161.02</td>\n",
              "      <td>4</td>\n",
              "      <td>4</td>\n",
              "      <td>4</td>\n",
              "      <td>4.0</td>\n",
              "    </tr>\n",
              "    <tr>\n",
              "      <th>2113</th>\n",
              "      <td>15505.0</td>\n",
              "      <td>2011-07-07 13:33:00</td>\n",
              "      <td>2011-10-18 07:56:00</td>\n",
              "      <td>3497.14</td>\n",
              "      <td>7</td>\n",
              "      <td>2011-11-01</td>\n",
              "      <td>13.669444</td>\n",
              "      <td>NaN</td>\n",
              "      <td>4</td>\n",
              "      <td>4</td>\n",
              "      <td>4</td>\n",
              "      <td>4.0</td>\n",
              "    </tr>\n",
              "    <tr>\n",
              "      <th>2098</th>\n",
              "      <td>15482.0</td>\n",
              "      <td>2010-12-16 10:08:00</td>\n",
              "      <td>2011-10-25 17:32:00</td>\n",
              "      <td>2503.50</td>\n",
              "      <td>8</td>\n",
              "      <td>2011-11-01</td>\n",
              "      <td>6.269444</td>\n",
              "      <td>4065.22</td>\n",
              "      <td>4</td>\n",
              "      <td>4</td>\n",
              "      <td>4</td>\n",
              "      <td>4.0</td>\n",
              "    </tr>\n",
              "    <tr>\n",
              "      <th>3337</th>\n",
              "      <td>17365.0</td>\n",
              "      <td>2011-01-11 12:11:00</td>\n",
              "      <td>2011-10-20 12:07:00</td>\n",
              "      <td>4375.19</td>\n",
              "      <td>7</td>\n",
              "      <td>2011-11-01</td>\n",
              "      <td>11.495139</td>\n",
              "      <td>426.37</td>\n",
              "      <td>4</td>\n",
              "      <td>4</td>\n",
              "      <td>4</td>\n",
              "      <td>4.0</td>\n",
              "    </tr>\n",
              "    <tr>\n",
              "      <th>...</th>\n",
              "      <td>...</td>\n",
              "      <td>...</td>\n",
              "      <td>...</td>\n",
              "      <td>...</td>\n",
              "      <td>...</td>\n",
              "      <td>...</td>\n",
              "      <td>...</td>\n",
              "      <td>...</td>\n",
              "      <td>...</td>\n",
              "      <td>...</td>\n",
              "      <td>...</td>\n",
              "      <td>...</td>\n",
              "    </tr>\n",
              "    <tr>\n",
              "      <th>2475</th>\n",
              "      <td>16061.0</td>\n",
              "      <td>2011-03-15 14:41:00</td>\n",
              "      <td>2011-03-15 14:41:00</td>\n",
              "      <td>-29.95</td>\n",
              "      <td>1</td>\n",
              "      <td>2011-11-01</td>\n",
              "      <td>230.388194</td>\n",
              "      <td>NaN</td>\n",
              "      <td>1</td>\n",
              "      <td>1</td>\n",
              "      <td>1</td>\n",
              "      <td>1.0</td>\n",
              "    </tr>\n",
              "    <tr>\n",
              "      <th>3533</th>\n",
              "      <td>17670.0</td>\n",
              "      <td>2011-04-26 09:12:00</td>\n",
              "      <td>2011-04-26 09:12:00</td>\n",
              "      <td>205.70</td>\n",
              "      <td>1</td>\n",
              "      <td>2011-11-01</td>\n",
              "      <td>188.616667</td>\n",
              "      <td>NaN</td>\n",
              "      <td>1</td>\n",
              "      <td>1</td>\n",
              "      <td>1</td>\n",
              "      <td>1.0</td>\n",
              "    </tr>\n",
              "    <tr>\n",
              "      <th>2484</th>\n",
              "      <td>16078.0</td>\n",
              "      <td>2011-03-01 09:47:00</td>\n",
              "      <td>2011-03-01 09:47:00</td>\n",
              "      <td>79.20</td>\n",
              "      <td>1</td>\n",
              "      <td>2011-11-01</td>\n",
              "      <td>244.592361</td>\n",
              "      <td>NaN</td>\n",
              "      <td>1</td>\n",
              "      <td>1</td>\n",
              "      <td>1</td>\n",
              "      <td>1.0</td>\n",
              "    </tr>\n",
              "    <tr>\n",
              "      <th>2497</th>\n",
              "      <td>16097.0</td>\n",
              "      <td>2011-04-13 13:47:00</td>\n",
              "      <td>2011-04-13 13:47:00</td>\n",
              "      <td>185.05</td>\n",
              "      <td>1</td>\n",
              "      <td>2011-11-01</td>\n",
              "      <td>201.425694</td>\n",
              "      <td>NaN</td>\n",
              "      <td>1</td>\n",
              "      <td>1</td>\n",
              "      <td>1</td>\n",
              "      <td>1.0</td>\n",
              "    </tr>\n",
              "    <tr>\n",
              "      <th>1536</th>\n",
              "      <td>14627.0</td>\n",
              "      <td>2011-02-01 10:49:00</td>\n",
              "      <td>2011-02-01 10:49:00</td>\n",
              "      <td>-21.85</td>\n",
              "      <td>1</td>\n",
              "      <td>2011-11-01</td>\n",
              "      <td>272.549306</td>\n",
              "      <td>NaN</td>\n",
              "      <td>1</td>\n",
              "      <td>1</td>\n",
              "      <td>1</td>\n",
              "      <td>1.0</td>\n",
              "    </tr>\n",
              "  </tbody>\n",
              "</table>\n",
              "<p>3935 rows × 12 columns</p>\n",
              "</div>"
            ],
            "text/plain": [
              "      customerid             reg_date        last_purchase  ...  f  m rfm_score\n",
              "1172     14085.0  2010-12-06 12:39:00  2011-10-25 16:20:00  ...  4  4       4.0\n",
              "1187     14112.0  2011-03-09 11:28:00  2011-10-30 16:00:00  ...  4  4       4.0\n",
              "2113     15505.0  2011-07-07 13:33:00  2011-10-18 07:56:00  ...  4  4       4.0\n",
              "2098     15482.0  2010-12-16 10:08:00  2011-10-25 17:32:00  ...  4  4       4.0\n",
              "3337     17365.0  2011-01-11 12:11:00  2011-10-20 12:07:00  ...  4  4       4.0\n",
              "...          ...                  ...                  ...  ... .. ..       ...\n",
              "2475     16061.0  2011-03-15 14:41:00  2011-03-15 14:41:00  ...  1  1       1.0\n",
              "3533     17670.0  2011-04-26 09:12:00  2011-04-26 09:12:00  ...  1  1       1.0\n",
              "2484     16078.0  2011-03-01 09:47:00  2011-03-01 09:47:00  ...  1  1       1.0\n",
              "2497     16097.0  2011-04-13 13:47:00  2011-04-13 13:47:00  ...  1  1       1.0\n",
              "1536     14627.0  2011-02-01 10:49:00  2011-02-01 10:49:00  ...  1  1       1.0\n",
              "\n",
              "[3935 rows x 12 columns]"
            ]
          },
          "metadata": {},
          "execution_count": 50
        }
      ]
    },
    {
      "cell_type": "markdown",
      "metadata": {
        "id": "uOmJ9497tj4L"
      },
      "source": [
        "## RFM SCORE segments"
      ]
    },
    {
      "cell_type": "markdown",
      "metadata": {
        "id": "vacwgVXftg1Z"
      },
      "source": [
        "https://towardsdatascience.com/recency-frequency-monetary-model-with-python-and-how-sephora-uses-it-to-optimize-their-google-d6a0707c5f17"
      ]
    },
    {
      "cell_type": "code",
      "metadata": {
        "id": "vOYxnQSqtZIV"
      },
      "source": [
        "def rfm_level(df):\n",
        "    if df['RFM_Score'] >= 9:\n",
        "        return 'Can\\'t Loose Them'\n",
        "    elif ((df['RFM_Score'] >= 8) and (df['RFM_Score'] < 9)):\n",
        "        return 'Champions'\n",
        "    elif ((df['RFM_Score'] >= 7) and (df['RFM_Score'] < 8)):\n",
        "        return 'Loyal'\n",
        "    elif ((df['RFM_Score'] >= 6) and (df['RFM_Score'] < 7)):\n",
        "        return 'Potential'\n",
        "    elif ((df['RFM_Score'] >= 5) and (df['RFM_Score'] < 6)):\n",
        "        return 'Promising'\n",
        "    elif ((df['RFM_Score'] >= 4) and (df['RFM_Score'] < 5)):\n",
        "        return 'Needs Attention'\n",
        "    else:\n",
        "        return 'Require Activation'"
      ],
      "execution_count": 51,
      "outputs": []
    },
    {
      "cell_type": "code",
      "metadata": {
        "id": "yHceO8PktZF9"
      },
      "source": [
        "t['RFM_Score'] = (t['r'] + t['f'] + t['m'])"
      ],
      "execution_count": 52,
      "outputs": []
    },
    {
      "cell_type": "code",
      "metadata": {
        "id": "nB-YuUectY4i"
      },
      "source": [
        "t['segment'] = t.apply(rfm_level, axis=1)"
      ],
      "execution_count": 53,
      "outputs": []
    },
    {
      "cell_type": "code",
      "metadata": {
        "colab": {
          "base_uri": "https://localhost:8080/",
          "height": 297
        },
        "id": "YNTmoTSitY1S",
        "outputId": "c854877a-af6c-48b5-c360-54186f9adce6"
      },
      "source": [
        "t.groupby('segment')['monetary'].agg(['mean','count'])"
      ],
      "execution_count": 54,
      "outputs": [
        {
          "output_type": "execute_result",
          "data": {
            "text/html": [
              "<div>\n",
              "<style scoped>\n",
              "    .dataframe tbody tr th:only-of-type {\n",
              "        vertical-align: middle;\n",
              "    }\n",
              "\n",
              "    .dataframe tbody tr th {\n",
              "        vertical-align: top;\n",
              "    }\n",
              "\n",
              "    .dataframe thead th {\n",
              "        text-align: right;\n",
              "    }\n",
              "</style>\n",
              "<table border=\"1\" class=\"dataframe\">\n",
              "  <thead>\n",
              "    <tr style=\"text-align: right;\">\n",
              "      <th></th>\n",
              "      <th>mean</th>\n",
              "      <th>count</th>\n",
              "    </tr>\n",
              "    <tr>\n",
              "      <th>segment</th>\n",
              "      <th></th>\n",
              "      <th></th>\n",
              "    </tr>\n",
              "  </thead>\n",
              "  <tbody>\n",
              "    <tr>\n",
              "      <th>Can't Loose Them</th>\n",
              "      <td>2399.799870</td>\n",
              "      <td>1307</td>\n",
              "    </tr>\n",
              "    <tr>\n",
              "      <th>Champions</th>\n",
              "      <td>979.344811</td>\n",
              "      <td>418</td>\n",
              "    </tr>\n",
              "    <tr>\n",
              "      <th>Loyal</th>\n",
              "      <td>656.788071</td>\n",
              "      <td>476</td>\n",
              "    </tr>\n",
              "    <tr>\n",
              "      <th>Needs Attention</th>\n",
              "      <td>230.661849</td>\n",
              "      <td>438</td>\n",
              "    </tr>\n",
              "    <tr>\n",
              "      <th>Potential</th>\n",
              "      <td>456.758162</td>\n",
              "      <td>500</td>\n",
              "    </tr>\n",
              "    <tr>\n",
              "      <th>Promising</th>\n",
              "      <td>332.846186</td>\n",
              "      <td>409</td>\n",
              "    </tr>\n",
              "    <tr>\n",
              "      <th>Require Activation</th>\n",
              "      <td>133.005271</td>\n",
              "      <td>387</td>\n",
              "    </tr>\n",
              "  </tbody>\n",
              "</table>\n",
              "</div>"
            ],
            "text/plain": [
              "                           mean  count\n",
              "segment                               \n",
              "Can't Loose Them    2399.799870   1307\n",
              "Champions            979.344811    418\n",
              "Loyal                656.788071    476\n",
              "Needs Attention      230.661849    438\n",
              "Potential            456.758162    500\n",
              "Promising            332.846186    409\n",
              "Require Activation   133.005271    387"
            ]
          },
          "metadata": {},
          "execution_count": 54
        }
      ]
    },
    {
      "cell_type": "markdown",
      "metadata": {
        "id": "sZJxeqsOui_s"
      },
      "source": [
        "recency frequency monetary\n",
        "\n",
        "r (как давно что-то покупал? Чем более недавно, тем лучше) 1-4\n",
        "\n",
        "f (как часто покупал ранее? Чем чаще, тем лучше) 1-4\n",
        "\n",
        "m (как много денег потратил на нас? Чем больше, тем лучше) 1-4"
      ]
    },
    {
      "cell_type": "code",
      "metadata": {
        "colab": {
          "base_uri": "https://localhost:8080/"
        },
        "id": "ZdhMMBlHtYwt",
        "outputId": "84a4258c-03a5-491f-e45a-56346e2c96f0"
      },
      "source": [
        "t['recency'].rank(pct=True,ascending=False)"
      ],
      "execution_count": 55,
      "outputs": [
        {
          "output_type": "execute_result",
          "data": {
            "text/plain": [
              "0       0.055909\n",
              "1       0.992630\n",
              "2       0.593393\n",
              "3       0.077510\n",
              "4       0.628208\n",
              "          ...   \n",
              "3930    0.113850\n",
              "3931    0.275476\n",
              "3932    0.400508\n",
              "3933    0.940661\n",
              "3934    0.952732\n",
              "Name: recency, Length: 3935, dtype: float64"
            ]
          },
          "metadata": {},
          "execution_count": 55
        }
      ]
    },
    {
      "cell_type": "code",
      "metadata": {
        "id": "820sLHxYtYzD"
      },
      "source": [
        "d = pd.DataFrame([1,2,3,4,4,4,5,6])"
      ],
      "execution_count": 56,
      "outputs": []
    },
    {
      "cell_type": "code",
      "metadata": {
        "id": "Gs4WflSktYud"
      },
      "source": [
        "d['rnk'] = d[0].rank(method='max')"
      ],
      "execution_count": 57,
      "outputs": []
    },
    {
      "cell_type": "code",
      "metadata": {
        "colab": {
          "base_uri": "https://localhost:8080/",
          "height": 297
        },
        "id": "ey-NYMy4tYr0",
        "outputId": "6a3db8cb-becb-4ec2-bb4a-1042d4b22d2a"
      },
      "source": [
        "d"
      ],
      "execution_count": 58,
      "outputs": [
        {
          "output_type": "execute_result",
          "data": {
            "text/html": [
              "<div>\n",
              "<style scoped>\n",
              "    .dataframe tbody tr th:only-of-type {\n",
              "        vertical-align: middle;\n",
              "    }\n",
              "\n",
              "    .dataframe tbody tr th {\n",
              "        vertical-align: top;\n",
              "    }\n",
              "\n",
              "    .dataframe thead th {\n",
              "        text-align: right;\n",
              "    }\n",
              "</style>\n",
              "<table border=\"1\" class=\"dataframe\">\n",
              "  <thead>\n",
              "    <tr style=\"text-align: right;\">\n",
              "      <th></th>\n",
              "      <th>0</th>\n",
              "      <th>rnk</th>\n",
              "    </tr>\n",
              "  </thead>\n",
              "  <tbody>\n",
              "    <tr>\n",
              "      <th>0</th>\n",
              "      <td>1</td>\n",
              "      <td>1.0</td>\n",
              "    </tr>\n",
              "    <tr>\n",
              "      <th>1</th>\n",
              "      <td>2</td>\n",
              "      <td>2.0</td>\n",
              "    </tr>\n",
              "    <tr>\n",
              "      <th>2</th>\n",
              "      <td>3</td>\n",
              "      <td>3.0</td>\n",
              "    </tr>\n",
              "    <tr>\n",
              "      <th>3</th>\n",
              "      <td>4</td>\n",
              "      <td>6.0</td>\n",
              "    </tr>\n",
              "    <tr>\n",
              "      <th>4</th>\n",
              "      <td>4</td>\n",
              "      <td>6.0</td>\n",
              "    </tr>\n",
              "    <tr>\n",
              "      <th>5</th>\n",
              "      <td>4</td>\n",
              "      <td>6.0</td>\n",
              "    </tr>\n",
              "    <tr>\n",
              "      <th>6</th>\n",
              "      <td>5</td>\n",
              "      <td>7.0</td>\n",
              "    </tr>\n",
              "    <tr>\n",
              "      <th>7</th>\n",
              "      <td>6</td>\n",
              "      <td>8.0</td>\n",
              "    </tr>\n",
              "  </tbody>\n",
              "</table>\n",
              "</div>"
            ],
            "text/plain": [
              "   0  rnk\n",
              "0  1  1.0\n",
              "1  2  2.0\n",
              "2  3  3.0\n",
              "3  4  6.0\n",
              "4  4  6.0\n",
              "5  4  6.0\n",
              "6  5  7.0\n",
              "7  6  8.0"
            ]
          },
          "metadata": {},
          "execution_count": 58
        }
      ]
    },
    {
      "cell_type": "code",
      "metadata": {
        "id": "jZNqpbQHu2Ko"
      },
      "source": [
        "t['r_pct'] = t['recency'].rank(pct=True, ascending=False)\n",
        "t['f_pct'] = t['frequency'].rank(pct=True)\n",
        "t['m_pct'] = t['monetary'].rank(pct=True)"
      ],
      "execution_count": 59,
      "outputs": []
    },
    {
      "cell_type": "code",
      "metadata": {
        "id": "WuhpSCvNu2JB"
      },
      "source": [
        "t['rfm_pct'] = t[['r_pct','f_pct','m_pct']].sum(axis = 1)\n",
        "\n",
        "# axis = 1 сложение по столбцам"
      ],
      "execution_count": 60,
      "outputs": []
    },
    {
      "cell_type": "code",
      "metadata": {
        "colab": {
          "base_uri": "https://localhost:8080/",
          "height": 419
        },
        "id": "aCAiYxLcu2Gu",
        "outputId": "68c0fa93-d3e1-46d5-96b4-58d01495a568"
      },
      "source": [
        "t"
      ],
      "execution_count": 61,
      "outputs": [
        {
          "output_type": "execute_result",
          "data": {
            "text/html": [
              "<div>\n",
              "<style scoped>\n",
              "    .dataframe tbody tr th:only-of-type {\n",
              "        vertical-align: middle;\n",
              "    }\n",
              "\n",
              "    .dataframe tbody tr th {\n",
              "        vertical-align: top;\n",
              "    }\n",
              "\n",
              "    .dataframe thead th {\n",
              "        text-align: right;\n",
              "    }\n",
              "</style>\n",
              "<table border=\"1\" class=\"dataframe\">\n",
              "  <thead>\n",
              "    <tr style=\"text-align: right;\">\n",
              "      <th></th>\n",
              "      <th>customerid</th>\n",
              "      <th>reg_date</th>\n",
              "      <th>last_purchase</th>\n",
              "      <th>monetary</th>\n",
              "      <th>frequency</th>\n",
              "      <th>month</th>\n",
              "      <th>recency</th>\n",
              "      <th>target</th>\n",
              "      <th>r</th>\n",
              "      <th>f</th>\n",
              "      <th>m</th>\n",
              "      <th>rfm_score</th>\n",
              "      <th>RFM_Score</th>\n",
              "      <th>segment</th>\n",
              "      <th>r_pct</th>\n",
              "      <th>f_pct</th>\n",
              "      <th>m_pct</th>\n",
              "      <th>rfm_pct</th>\n",
              "    </tr>\n",
              "  </thead>\n",
              "  <tbody>\n",
              "    <tr>\n",
              "      <th>0</th>\n",
              "      <td>12346.0</td>\n",
              "      <td>2011-01-18 10:01:00</td>\n",
              "      <td>2011-01-18 10:17:00</td>\n",
              "      <td>0.00</td>\n",
              "      <td>2</td>\n",
              "      <td>2011-11-01</td>\n",
              "      <td>286.571528</td>\n",
              "      <td>NaN</td>\n",
              "      <td>1</td>\n",
              "      <td>2</td>\n",
              "      <td>1</td>\n",
              "      <td>1.333333</td>\n",
              "      <td>4</td>\n",
              "      <td>Needs Attention</td>\n",
              "      <td>0.055909</td>\n",
              "      <td>0.439136</td>\n",
              "      <td>0.012706</td>\n",
              "      <td>0.507751</td>\n",
              "    </tr>\n",
              "    <tr>\n",
              "      <th>1</th>\n",
              "      <td>12347.0</td>\n",
              "      <td>2010-12-07 14:57:00</td>\n",
              "      <td>2011-10-31 12:25:00</td>\n",
              "      <td>4085.18</td>\n",
              "      <td>6</td>\n",
              "      <td>2011-11-01</td>\n",
              "      <td>0.482639</td>\n",
              "      <td>NaN</td>\n",
              "      <td>4</td>\n",
              "      <td>3</td>\n",
              "      <td>4</td>\n",
              "      <td>3.666667</td>\n",
              "      <td>11</td>\n",
              "      <td>Can't Loose Them</td>\n",
              "      <td>0.992630</td>\n",
              "      <td>0.821474</td>\n",
              "      <td>0.950445</td>\n",
              "      <td>2.764549</td>\n",
              "    </tr>\n",
              "    <tr>\n",
              "      <th>2</th>\n",
              "      <td>12348.0</td>\n",
              "      <td>2010-12-16 19:09:00</td>\n",
              "      <td>2011-09-25 13:13:00</td>\n",
              "      <td>1797.24</td>\n",
              "      <td>4</td>\n",
              "      <td>2011-11-01</td>\n",
              "      <td>36.449306</td>\n",
              "      <td>NaN</td>\n",
              "      <td>3</td>\n",
              "      <td>3</td>\n",
              "      <td>4</td>\n",
              "      <td>3.333333</td>\n",
              "      <td>10</td>\n",
              "      <td>Can't Loose Them</td>\n",
              "      <td>0.593393</td>\n",
              "      <td>0.695299</td>\n",
              "      <td>0.816773</td>\n",
              "      <td>2.105464</td>\n",
              "    </tr>\n",
              "    <tr>\n",
              "      <th>3</th>\n",
              "      <td>12350.0</td>\n",
              "      <td>2011-02-02 16:01:00</td>\n",
              "      <td>2011-02-02 16:01:00</td>\n",
              "      <td>334.40</td>\n",
              "      <td>1</td>\n",
              "      <td>2011-11-01</td>\n",
              "      <td>271.332639</td>\n",
              "      <td>NaN</td>\n",
              "      <td>1</td>\n",
              "      <td>1</td>\n",
              "      <td>2</td>\n",
              "      <td>1.333333</td>\n",
              "      <td>4</td>\n",
              "      <td>Needs Attention</td>\n",
              "      <td>0.077510</td>\n",
              "      <td>0.170267</td>\n",
              "      <td>0.326048</td>\n",
              "      <td>0.573825</td>\n",
              "    </tr>\n",
              "    <tr>\n",
              "      <th>4</th>\n",
              "      <td>12352.0</td>\n",
              "      <td>2011-02-16 12:33:00</td>\n",
              "      <td>2011-09-28 14:58:00</td>\n",
              "      <td>1233.68</td>\n",
              "      <td>10</td>\n",
              "      <td>2011-11-01</td>\n",
              "      <td>33.376389</td>\n",
              "      <td>311.73</td>\n",
              "      <td>3</td>\n",
              "      <td>4</td>\n",
              "      <td>3</td>\n",
              "      <td>3.333333</td>\n",
              "      <td>10</td>\n",
              "      <td>Can't Loose Them</td>\n",
              "      <td>0.628208</td>\n",
              "      <td>0.919060</td>\n",
              "      <td>0.723761</td>\n",
              "      <td>2.271029</td>\n",
              "    </tr>\n",
              "    <tr>\n",
              "      <th>...</th>\n",
              "      <td>...</td>\n",
              "      <td>...</td>\n",
              "      <td>...</td>\n",
              "      <td>...</td>\n",
              "      <td>...</td>\n",
              "      <td>...</td>\n",
              "      <td>...</td>\n",
              "      <td>...</td>\n",
              "      <td>...</td>\n",
              "      <td>...</td>\n",
              "      <td>...</td>\n",
              "      <td>...</td>\n",
              "      <td>...</td>\n",
              "      <td>...</td>\n",
              "      <td>...</td>\n",
              "      <td>...</td>\n",
              "      <td>...</td>\n",
              "      <td>...</td>\n",
              "    </tr>\n",
              "    <tr>\n",
              "      <th>3930</th>\n",
              "      <td>18280.0</td>\n",
              "      <td>2011-03-07 09:52:00</td>\n",
              "      <td>2011-03-07 09:52:00</td>\n",
              "      <td>180.60</td>\n",
              "      <td>1</td>\n",
              "      <td>2011-11-01</td>\n",
              "      <td>238.588889</td>\n",
              "      <td>NaN</td>\n",
              "      <td>1</td>\n",
              "      <td>1</td>\n",
              "      <td>1</td>\n",
              "      <td>1.000000</td>\n",
              "      <td>3</td>\n",
              "      <td>Require Activation</td>\n",
              "      <td>0.113850</td>\n",
              "      <td>0.170267</td>\n",
              "      <td>0.155527</td>\n",
              "      <td>0.439644</td>\n",
              "    </tr>\n",
              "    <tr>\n",
              "      <th>3931</th>\n",
              "      <td>18281.0</td>\n",
              "      <td>2011-06-12 10:53:00</td>\n",
              "      <td>2011-06-12 10:53:00</td>\n",
              "      <td>80.82</td>\n",
              "      <td>1</td>\n",
              "      <td>2011-11-01</td>\n",
              "      <td>141.546528</td>\n",
              "      <td>NaN</td>\n",
              "      <td>2</td>\n",
              "      <td>1</td>\n",
              "      <td>1</td>\n",
              "      <td>1.333333</td>\n",
              "      <td>4</td>\n",
              "      <td>Needs Attention</td>\n",
              "      <td>0.275476</td>\n",
              "      <td>0.170267</td>\n",
              "      <td>0.039898</td>\n",
              "      <td>0.485642</td>\n",
              "    </tr>\n",
              "    <tr>\n",
              "      <th>3932</th>\n",
              "      <td>18282.0</td>\n",
              "      <td>2011-08-05 13:35:00</td>\n",
              "      <td>2011-08-09 15:10:00</td>\n",
              "      <td>98.76</td>\n",
              "      <td>2</td>\n",
              "      <td>2011-11-01</td>\n",
              "      <td>83.368056</td>\n",
              "      <td>NaN</td>\n",
              "      <td>2</td>\n",
              "      <td>2</td>\n",
              "      <td>1</td>\n",
              "      <td>1.666667</td>\n",
              "      <td>5</td>\n",
              "      <td>Promising</td>\n",
              "      <td>0.400508</td>\n",
              "      <td>0.439136</td>\n",
              "      <td>0.052605</td>\n",
              "      <td>0.892249</td>\n",
              "    </tr>\n",
              "    <tr>\n",
              "      <th>3933</th>\n",
              "      <td>18283.0</td>\n",
              "      <td>2011-01-06 14:14:00</td>\n",
              "      <td>2011-10-27 14:38:00</td>\n",
              "      <td>1235.32</td>\n",
              "      <td>11</td>\n",
              "      <td>2011-11-01</td>\n",
              "      <td>4.390278</td>\n",
              "      <td>651.56</td>\n",
              "      <td>4</td>\n",
              "      <td>4</td>\n",
              "      <td>3</td>\n",
              "      <td>3.666667</td>\n",
              "      <td>11</td>\n",
              "      <td>Can't Loose Them</td>\n",
              "      <td>0.940661</td>\n",
              "      <td>0.933926</td>\n",
              "      <td>0.724269</td>\n",
              "      <td>2.598856</td>\n",
              "    </tr>\n",
              "    <tr>\n",
              "      <th>3934</th>\n",
              "      <td>18287.0</td>\n",
              "      <td>2011-05-22 10:39:00</td>\n",
              "      <td>2011-10-28 09:29:00</td>\n",
              "      <td>1837.28</td>\n",
              "      <td>3</td>\n",
              "      <td>2011-11-01</td>\n",
              "      <td>3.604861</td>\n",
              "      <td>NaN</td>\n",
              "      <td>4</td>\n",
              "      <td>2</td>\n",
              "      <td>4</td>\n",
              "      <td>3.333333</td>\n",
              "      <td>10</td>\n",
              "      <td>Can't Loose Them</td>\n",
              "      <td>0.952732</td>\n",
              "      <td>0.596442</td>\n",
              "      <td>0.820839</td>\n",
              "      <td>2.370013</td>\n",
              "    </tr>\n",
              "  </tbody>\n",
              "</table>\n",
              "<p>3935 rows × 18 columns</p>\n",
              "</div>"
            ],
            "text/plain": [
              "      customerid             reg_date  ...     m_pct   rfm_pct\n",
              "0        12346.0  2011-01-18 10:01:00  ...  0.012706  0.507751\n",
              "1        12347.0  2010-12-07 14:57:00  ...  0.950445  2.764549\n",
              "2        12348.0  2010-12-16 19:09:00  ...  0.816773  2.105464\n",
              "3        12350.0  2011-02-02 16:01:00  ...  0.326048  0.573825\n",
              "4        12352.0  2011-02-16 12:33:00  ...  0.723761  2.271029\n",
              "...          ...                  ...  ...       ...       ...\n",
              "3930     18280.0  2011-03-07 09:52:00  ...  0.155527  0.439644\n",
              "3931     18281.0  2011-06-12 10:53:00  ...  0.039898  0.485642\n",
              "3932     18282.0  2011-08-05 13:35:00  ...  0.052605  0.892249\n",
              "3933     18283.0  2011-01-06 14:14:00  ...  0.724269  2.598856\n",
              "3934     18287.0  2011-05-22 10:39:00  ...  0.820839  2.370013\n",
              "\n",
              "[3935 rows x 18 columns]"
            ]
          },
          "metadata": {},
          "execution_count": 61
        }
      ]
    },
    {
      "cell_type": "code",
      "metadata": {
        "id": "wI_OKF2vu1xQ"
      },
      "source": [
        ""
      ],
      "execution_count": 61,
      "outputs": []
    },
    {
      "cell_type": "markdown",
      "metadata": {
        "id": "LXn0cgY2xsgu"
      },
      "source": [
        "# RFM sql"
      ]
    },
    {
      "cell_type": "markdown",
      "metadata": {
        "id": "jDzY6B8-yULG"
      },
      "source": [
        "## Recency"
      ]
    },
    {
      "cell_type": "code",
      "metadata": {
        "id": "ylfIEQZJxwgf"
      },
      "source": [
        "sql = '''\n",
        "SELECT \n",
        "  t.r,\n",
        "  COUNT(*) \n",
        "FROM\n",
        "  (SELECT \n",
        "    t.*,\n",
        "    NTILE(4) OVER (ORDER BY t.recency DESC) AS r\n",
        "   FROM\n",
        "    customer t) t\n",
        "GROUP BY \n",
        "  1\n",
        " '''"
      ],
      "execution_count": 62,
      "outputs": []
    },
    {
      "cell_type": "code",
      "metadata": {
        "colab": {
          "base_uri": "https://localhost:8080/",
          "height": 173
        },
        "id": "T6LSpiROxwdT",
        "outputId": "0e8a7b51-f893-4982-d2f2-f5c1a0337674"
      },
      "source": [
        "select(sql)"
      ],
      "execution_count": 63,
      "outputs": [
        {
          "output_type": "execute_result",
          "data": {
            "text/html": [
              "<div>\n",
              "<style scoped>\n",
              "    .dataframe tbody tr th:only-of-type {\n",
              "        vertical-align: middle;\n",
              "    }\n",
              "\n",
              "    .dataframe tbody tr th {\n",
              "        vertical-align: top;\n",
              "    }\n",
              "\n",
              "    .dataframe thead th {\n",
              "        text-align: right;\n",
              "    }\n",
              "</style>\n",
              "<table border=\"1\" class=\"dataframe\">\n",
              "  <thead>\n",
              "    <tr style=\"text-align: right;\">\n",
              "      <th></th>\n",
              "      <th>r</th>\n",
              "      <th>COUNT(*)</th>\n",
              "    </tr>\n",
              "  </thead>\n",
              "  <tbody>\n",
              "    <tr>\n",
              "      <th>0</th>\n",
              "      <td>1</td>\n",
              "      <td>984</td>\n",
              "    </tr>\n",
              "    <tr>\n",
              "      <th>1</th>\n",
              "      <td>2</td>\n",
              "      <td>984</td>\n",
              "    </tr>\n",
              "    <tr>\n",
              "      <th>2</th>\n",
              "      <td>3</td>\n",
              "      <td>984</td>\n",
              "    </tr>\n",
              "    <tr>\n",
              "      <th>3</th>\n",
              "      <td>4</td>\n",
              "      <td>983</td>\n",
              "    </tr>\n",
              "  </tbody>\n",
              "</table>\n",
              "</div>"
            ],
            "text/plain": [
              "   r  COUNT(*)\n",
              "0  1       984\n",
              "1  2       984\n",
              "2  3       984\n",
              "3  4       983"
            ]
          },
          "metadata": {},
          "execution_count": 63
        }
      ]
    },
    {
      "cell_type": "markdown",
      "metadata": {
        "id": "9svo2icryoTy"
      },
      "source": [
        "# Pivot table RFM"
      ]
    },
    {
      "cell_type": "code",
      "metadata": {
        "colab": {
          "base_uri": "https://localhost:8080/",
          "height": 204
        },
        "id": "EvKCEzoVxwYp",
        "outputId": "aa2fe866-a461-4223-effb-206f2de1f868"
      },
      "source": [
        "t.pivot_table(index='f',columns='r',values='monetary',aggfunc='sum')"
      ],
      "execution_count": 64,
      "outputs": [
        {
          "output_type": "execute_result",
          "data": {
            "text/html": [
              "<div>\n",
              "<style scoped>\n",
              "    .dataframe tbody tr th:only-of-type {\n",
              "        vertical-align: middle;\n",
              "    }\n",
              "\n",
              "    .dataframe tbody tr th {\n",
              "        vertical-align: top;\n",
              "    }\n",
              "\n",
              "    .dataframe thead th {\n",
              "        text-align: right;\n",
              "    }\n",
              "</style>\n",
              "<table border=\"1\" class=\"dataframe\">\n",
              "  <thead>\n",
              "    <tr style=\"text-align: right;\">\n",
              "      <th>r</th>\n",
              "      <th>1</th>\n",
              "      <th>2</th>\n",
              "      <th>3</th>\n",
              "      <th>4</th>\n",
              "    </tr>\n",
              "    <tr>\n",
              "      <th>f</th>\n",
              "      <th></th>\n",
              "      <th></th>\n",
              "      <th></th>\n",
              "      <th></th>\n",
              "    </tr>\n",
              "  </thead>\n",
              "  <tbody>\n",
              "    <tr>\n",
              "      <th>1</th>\n",
              "      <td>173455.080</td>\n",
              "      <td>93840.87</td>\n",
              "      <td>103849.131</td>\n",
              "      <td>71046.26</td>\n",
              "    </tr>\n",
              "    <tr>\n",
              "      <th>2</th>\n",
              "      <td>149795.381</td>\n",
              "      <td>266158.92</td>\n",
              "      <td>234848.141</td>\n",
              "      <td>201137.25</td>\n",
              "    </tr>\n",
              "    <tr>\n",
              "      <th>3</th>\n",
              "      <td>63802.860</td>\n",
              "      <td>287989.92</td>\n",
              "      <td>386605.081</td>\n",
              "      <td>346290.83</td>\n",
              "    </tr>\n",
              "    <tr>\n",
              "      <th>4</th>\n",
              "      <td>27635.610</td>\n",
              "      <td>230306.10</td>\n",
              "      <td>639572.730</td>\n",
              "      <td>1099217.62</td>\n",
              "    </tr>\n",
              "  </tbody>\n",
              "</table>\n",
              "</div>"
            ],
            "text/plain": [
              "r           1          2           3           4\n",
              "f                                               \n",
              "1  173455.080   93840.87  103849.131    71046.26\n",
              "2  149795.381  266158.92  234848.141   201137.25\n",
              "3   63802.860  287989.92  386605.081   346290.83\n",
              "4   27635.610  230306.10  639572.730  1099217.62"
            ]
          },
          "metadata": {},
          "execution_count": 64
        }
      ]
    },
    {
      "cell_type": "code",
      "metadata": {
        "colab": {
          "base_uri": "https://localhost:8080/",
          "height": 545
        },
        "id": "JCsuDecSxwWh",
        "outputId": "b61c90a1-0995-414b-a8e2-121af38e14e8"
      },
      "source": [
        "t.groupby(['f','r'])['monetary'].sum().reset_index()"
      ],
      "execution_count": 65,
      "outputs": [
        {
          "output_type": "execute_result",
          "data": {
            "text/html": [
              "<div>\n",
              "<style scoped>\n",
              "    .dataframe tbody tr th:only-of-type {\n",
              "        vertical-align: middle;\n",
              "    }\n",
              "\n",
              "    .dataframe tbody tr th {\n",
              "        vertical-align: top;\n",
              "    }\n",
              "\n",
              "    .dataframe thead th {\n",
              "        text-align: right;\n",
              "    }\n",
              "</style>\n",
              "<table border=\"1\" class=\"dataframe\">\n",
              "  <thead>\n",
              "    <tr style=\"text-align: right;\">\n",
              "      <th></th>\n",
              "      <th>f</th>\n",
              "      <th>r</th>\n",
              "      <th>monetary</th>\n",
              "    </tr>\n",
              "  </thead>\n",
              "  <tbody>\n",
              "    <tr>\n",
              "      <th>0</th>\n",
              "      <td>1</td>\n",
              "      <td>1</td>\n",
              "      <td>173455.080</td>\n",
              "    </tr>\n",
              "    <tr>\n",
              "      <th>1</th>\n",
              "      <td>1</td>\n",
              "      <td>2</td>\n",
              "      <td>93840.870</td>\n",
              "    </tr>\n",
              "    <tr>\n",
              "      <th>2</th>\n",
              "      <td>1</td>\n",
              "      <td>3</td>\n",
              "      <td>103849.131</td>\n",
              "    </tr>\n",
              "    <tr>\n",
              "      <th>3</th>\n",
              "      <td>1</td>\n",
              "      <td>4</td>\n",
              "      <td>71046.260</td>\n",
              "    </tr>\n",
              "    <tr>\n",
              "      <th>4</th>\n",
              "      <td>2</td>\n",
              "      <td>1</td>\n",
              "      <td>149795.381</td>\n",
              "    </tr>\n",
              "    <tr>\n",
              "      <th>5</th>\n",
              "      <td>2</td>\n",
              "      <td>2</td>\n",
              "      <td>266158.920</td>\n",
              "    </tr>\n",
              "    <tr>\n",
              "      <th>6</th>\n",
              "      <td>2</td>\n",
              "      <td>3</td>\n",
              "      <td>234848.141</td>\n",
              "    </tr>\n",
              "    <tr>\n",
              "      <th>7</th>\n",
              "      <td>2</td>\n",
              "      <td>4</td>\n",
              "      <td>201137.250</td>\n",
              "    </tr>\n",
              "    <tr>\n",
              "      <th>8</th>\n",
              "      <td>3</td>\n",
              "      <td>1</td>\n",
              "      <td>63802.860</td>\n",
              "    </tr>\n",
              "    <tr>\n",
              "      <th>9</th>\n",
              "      <td>3</td>\n",
              "      <td>2</td>\n",
              "      <td>287989.920</td>\n",
              "    </tr>\n",
              "    <tr>\n",
              "      <th>10</th>\n",
              "      <td>3</td>\n",
              "      <td>3</td>\n",
              "      <td>386605.081</td>\n",
              "    </tr>\n",
              "    <tr>\n",
              "      <th>11</th>\n",
              "      <td>3</td>\n",
              "      <td>4</td>\n",
              "      <td>346290.830</td>\n",
              "    </tr>\n",
              "    <tr>\n",
              "      <th>12</th>\n",
              "      <td>4</td>\n",
              "      <td>1</td>\n",
              "      <td>27635.610</td>\n",
              "    </tr>\n",
              "    <tr>\n",
              "      <th>13</th>\n",
              "      <td>4</td>\n",
              "      <td>2</td>\n",
              "      <td>230306.100</td>\n",
              "    </tr>\n",
              "    <tr>\n",
              "      <th>14</th>\n",
              "      <td>4</td>\n",
              "      <td>3</td>\n",
              "      <td>639572.730</td>\n",
              "    </tr>\n",
              "    <tr>\n",
              "      <th>15</th>\n",
              "      <td>4</td>\n",
              "      <td>4</td>\n",
              "      <td>1099217.620</td>\n",
              "    </tr>\n",
              "  </tbody>\n",
              "</table>\n",
              "</div>"
            ],
            "text/plain": [
              "    f  r     monetary\n",
              "0   1  1   173455.080\n",
              "1   1  2    93840.870\n",
              "2   1  3   103849.131\n",
              "3   1  4    71046.260\n",
              "4   2  1   149795.381\n",
              "5   2  2   266158.920\n",
              "6   2  3   234848.141\n",
              "7   2  4   201137.250\n",
              "8   3  1    63802.860\n",
              "9   3  2   287989.920\n",
              "10  3  3   386605.081\n",
              "11  3  4   346290.830\n",
              "12  4  1    27635.610\n",
              "13  4  2   230306.100\n",
              "14  4  3   639572.730\n",
              "15  4  4  1099217.620"
            ]
          },
          "metadata": {},
          "execution_count": 65
        }
      ]
    },
    {
      "cell_type": "markdown",
      "metadata": {
        "id": "_uRzsdPSy2n6"
      },
      "source": [
        "# Visual"
      ]
    },
    {
      "cell_type": "code",
      "metadata": {
        "colab": {
          "base_uri": "https://localhost:8080/",
          "height": 265
        },
        "id": "ROO7Jl0oxwUN",
        "outputId": "35bbd2e6-64ab-453c-c034-6fd77a026761"
      },
      "source": [
        "import numpy as np; np.random.seed(0)\n",
        "import seaborn as sns\n",
        "uniform_data = np.random.rand(10, 12)\n",
        "ax = sns.heatmap(uniform_data)"
      ],
      "execution_count": 66,
      "outputs": [
        {
          "output_type": "display_data",
          "data": {
            "image/png": "[encoded data removed]",
            "text/plain": [
              "<Figure size 432x288 with 2 Axes>"
            ]
          },
          "metadata": {}
        }
      ]
    },
    {
      "cell_type": "code",
      "metadata": {
        "colab": {
          "base_uri": "https://localhost:8080/",
          "height": 307
        },
        "id": "KnXe9SYCy1dN",
        "outputId": "b42408c2-4a82-4d03-a312-1176067616f5"
      },
      "source": [
        "sns.heatmap(t.pivot_table(index='f',columns='r',values='monetary',aggfunc='sum'))"
      ],
      "execution_count": 67,
      "outputs": [
        {
          "output_type": "execute_result",
          "data": {
            "text/plain": [
              "<matplotlib.axes._subplots.AxesSubplot at 0x7f3f1dc28c90>"
            ]
          },
          "metadata": {},
          "execution_count": 67
        },
        {
          "output_type": "display_data",
          "data": {
            "image/png": "[encoded data removed]",
            "text/plain": [
              "<Figure size 432x288 with 2 Axes>"
            ]
          },
          "metadata": {}
        }
      ]
    },
    {
      "cell_type": "code",
      "metadata": {
        "colab": {
          "base_uri": "https://localhost:8080/",
          "height": 298
        },
        "id": "nboW_H9Wy1a_",
        "outputId": "9d3855d6-3ace-42bb-ea24-b47c524c738b"
      },
      "source": [
        "sns.heatmap(t.pivot_table(index='f',columns='r',values='target',aggfunc='sum'))"
      ],
      "execution_count": 68,
      "outputs": [
        {
          "output_type": "execute_result",
          "data": {
            "text/plain": [
              "<matplotlib.axes._subplots.AxesSubplot at 0x7f3f0603d390>"
            ]
          },
          "metadata": {},
          "execution_count": 68
        },
        {
          "output_type": "display_data",
          "data": {
            "image/png": "[encoded data removed]",
            "text/plain": [
              "<Figure size 432x288 with 2 Axes>"
            ]
          },
          "metadata": {}
        }
      ]
    },
    {
      "cell_type": "code",
      "metadata": {
        "id": "zVAB-dCBy1Yj"
      },
      "source": [
        "t['has_purchase'] = (t['target'] > 0) * 1"
      ],
      "execution_count": 69,
      "outputs": []
    },
    {
      "cell_type": "code",
      "metadata": {
        "colab": {
          "base_uri": "https://localhost:8080/"
        },
        "id": "PtejSFMFy1WG",
        "outputId": "f4d46748-4773-4a9b-bb3d-e34eb0af3c3e"
      },
      "source": [
        "t['has_purchase'].mean()"
      ],
      "execution_count": 70,
      "outputs": [
        {
          "output_type": "execute_result",
          "data": {
            "text/plain": [
              "0.3232528589580686"
            ]
          },
          "metadata": {},
          "execution_count": 70
        }
      ]
    },
    {
      "cell_type": "code",
      "metadata": {
        "colab": {
          "base_uri": "https://localhost:8080/",
          "height": 296
        },
        "id": "w4koxGpty1Tj",
        "outputId": "dfb2cc45-6117-45a5-dd50-35a33c232841"
      },
      "source": [
        "sns.heatmap(t.pivot_table(index='f',columns='r',values='has_purchase',aggfunc='mean'))"
      ],
      "execution_count": 71,
      "outputs": [
        {
          "output_type": "execute_result",
          "data": {
            "text/plain": [
              "<matplotlib.axes._subplots.AxesSubplot at 0x7f3f05f76450>"
            ]
          },
          "metadata": {},
          "execution_count": 71
        },
        {
          "output_type": "display_data",
          "data": {
            "image/png": "[encoded data removed]",
            "text/plain": [
              "<Figure size 432x288 with 2 Axes>"
            ]
          },
          "metadata": {}
        }
      ]
    },
    {
      "cell_type": "code",
      "metadata": {
        "colab": {
          "base_uri": "https://localhost:8080/",
          "height": 204
        },
        "id": "HUJUIjI9PqXZ",
        "outputId": "9cd16e97-b17b-4f4f-9437-2df1d71d3634"
      },
      "source": [
        "t.pivot_table(index='f',columns='r',values='has_purchase',aggfunc='mean')"
      ],
      "execution_count": 72,
      "outputs": [
        {
          "output_type": "execute_result",
          "data": {
            "text/html": [
              "<div>\n",
              "<style scoped>\n",
              "    .dataframe tbody tr th:only-of-type {\n",
              "        vertical-align: middle;\n",
              "    }\n",
              "\n",
              "    .dataframe tbody tr th {\n",
              "        vertical-align: top;\n",
              "    }\n",
              "\n",
              "    .dataframe thead th {\n",
              "        text-align: right;\n",
              "    }\n",
              "</style>\n",
              "<table border=\"1\" class=\"dataframe\">\n",
              "  <thead>\n",
              "    <tr style=\"text-align: right;\">\n",
              "      <th>r</th>\n",
              "      <th>1</th>\n",
              "      <th>2</th>\n",
              "      <th>3</th>\n",
              "      <th>4</th>\n",
              "    </tr>\n",
              "    <tr>\n",
              "      <th>f</th>\n",
              "      <th></th>\n",
              "      <th></th>\n",
              "      <th></th>\n",
              "      <th></th>\n",
              "    </tr>\n",
              "  </thead>\n",
              "  <tbody>\n",
              "    <tr>\n",
              "      <th>1</th>\n",
              "      <td>0.139647</td>\n",
              "      <td>0.175258</td>\n",
              "      <td>0.173729</td>\n",
              "      <td>0.222222</td>\n",
              "    </tr>\n",
              "    <tr>\n",
              "      <th>2</th>\n",
              "      <td>0.175862</td>\n",
              "      <td>0.225131</td>\n",
              "      <td>0.367893</td>\n",
              "      <td>0.363296</td>\n",
              "    </tr>\n",
              "    <tr>\n",
              "      <th>3</th>\n",
              "      <td>0.305085</td>\n",
              "      <td>0.334884</td>\n",
              "      <td>0.474359</td>\n",
              "      <td>0.417040</td>\n",
              "    </tr>\n",
              "    <tr>\n",
              "      <th>4</th>\n",
              "      <td>0.166667</td>\n",
              "      <td>0.621053</td>\n",
              "      <td>0.683721</td>\n",
              "      <td>0.672131</td>\n",
              "    </tr>\n",
              "  </tbody>\n",
              "</table>\n",
              "</div>"
            ],
            "text/plain": [
              "r         1         2         3         4\n",
              "f                                        \n",
              "1  0.139647  0.175258  0.173729  0.222222\n",
              "2  0.175862  0.225131  0.367893  0.363296\n",
              "3  0.305085  0.334884  0.474359  0.417040\n",
              "4  0.166667  0.621053  0.683721  0.672131"
            ]
          },
          "metadata": {},
          "execution_count": 72
        }
      ]
    },
    {
      "cell_type": "code",
      "metadata": {
        "colab": {
          "base_uri": "https://localhost:8080/"
        },
        "id": "5RIBQrgcPqQx",
        "outputId": "de84c1fb-8979-4244-d2b6-bfe5a7fb14cb"
      },
      "source": [
        "t['has_purchase'].sum()"
      ],
      "execution_count": 73,
      "outputs": [
        {
          "output_type": "execute_result",
          "data": {
            "text/plain": [
              "1272"
            ]
          },
          "metadata": {},
          "execution_count": 73
        }
      ]
    },
    {
      "cell_type": "code",
      "metadata": {
        "colab": {
          "base_uri": "https://localhost:8080/"
        },
        "id": "zyYBDDbw0Nr4",
        "outputId": "4e72fd58-b0e2-4d02-982c-94cfdd2cf24d"
      },
      "source": [
        "len(t)"
      ],
      "execution_count": 74,
      "outputs": [
        {
          "output_type": "execute_result",
          "data": {
            "text/plain": [
              "3935"
            ]
          },
          "metadata": {},
          "execution_count": 74
        }
      ]
    },
    {
      "cell_type": "code",
      "metadata": {
        "colab": {
          "base_uri": "https://localhost:8080/"
        },
        "id": "PVuViCDq0Oef",
        "outputId": "5efaea4c-6a61-4d7b-f067-779003f6b3c0"
      },
      "source": [
        "t.sample(frac=0.2)['has_purchase'].sum()/t['has_purchase'].sum()"
      ],
      "execution_count": 75,
      "outputs": [
        {
          "output_type": "execute_result",
          "data": {
            "text/plain": [
              "0.20125786163522014"
            ]
          },
          "metadata": {},
          "execution_count": 75
        }
      ]
    },
    {
      "cell_type": "code",
      "metadata": {
        "id": "k0wQ55wv0P73"
      },
      "source": [
        "t.sort_values('rfm_score', ascending=False, inplace=True)"
      ],
      "execution_count": 76,
      "outputs": []
    },
    {
      "cell_type": "code",
      "metadata": {
        "colab": {
          "base_uri": "https://localhost:8080/",
          "height": 589
        },
        "id": "8m50Oblz0SkV",
        "outputId": "f3ef2d2d-99c8-4e0d-9104-515db6f95acb"
      },
      "source": [
        "t"
      ],
      "execution_count": 77,
      "outputs": [
        {
          "output_type": "execute_result",
          "data": {
            "text/html": [
              "<div>\n",
              "<style scoped>\n",
              "    .dataframe tbody tr th:only-of-type {\n",
              "        vertical-align: middle;\n",
              "    }\n",
              "\n",
              "    .dataframe tbody tr th {\n",
              "        vertical-align: top;\n",
              "    }\n",
              "\n",
              "    .dataframe thead th {\n",
              "        text-align: right;\n",
              "    }\n",
              "</style>\n",
              "<table border=\"1\" class=\"dataframe\">\n",
              "  <thead>\n",
              "    <tr style=\"text-align: right;\">\n",
              "      <th></th>\n",
              "      <th>customerid</th>\n",
              "      <th>reg_date</th>\n",
              "      <th>last_purchase</th>\n",
              "      <th>monetary</th>\n",
              "      <th>frequency</th>\n",
              "      <th>month</th>\n",
              "      <th>recency</th>\n",
              "      <th>target</th>\n",
              "      <th>r</th>\n",
              "      <th>f</th>\n",
              "      <th>m</th>\n",
              "      <th>rfm_score</th>\n",
              "      <th>RFM_Score</th>\n",
              "      <th>segment</th>\n",
              "      <th>r_pct</th>\n",
              "      <th>f_pct</th>\n",
              "      <th>m_pct</th>\n",
              "      <th>rfm_pct</th>\n",
              "      <th>has_purchase</th>\n",
              "    </tr>\n",
              "  </thead>\n",
              "  <tbody>\n",
              "    <tr>\n",
              "      <th>1172</th>\n",
              "      <td>14085.0</td>\n",
              "      <td>2010-12-06 12:39:00</td>\n",
              "      <td>2011-10-25 16:20:00</td>\n",
              "      <td>3525.98</td>\n",
              "      <td>15</td>\n",
              "      <td>2011-11-01</td>\n",
              "      <td>6.319444</td>\n",
              "      <td>278.82</td>\n",
              "      <td>4</td>\n",
              "      <td>4</td>\n",
              "      <td>4</td>\n",
              "      <td>4.0</td>\n",
              "      <td>12</td>\n",
              "      <td>Can't Loose Them</td>\n",
              "      <td>0.908259</td>\n",
              "      <td>0.967471</td>\n",
              "      <td>0.934435</td>\n",
              "      <td>2.810165</td>\n",
              "      <td>1</td>\n",
              "    </tr>\n",
              "    <tr>\n",
              "      <th>1187</th>\n",
              "      <td>14112.0</td>\n",
              "      <td>2011-03-09 11:28:00</td>\n",
              "      <td>2011-10-30 16:00:00</td>\n",
              "      <td>2613.15</td>\n",
              "      <td>10</td>\n",
              "      <td>2011-11-01</td>\n",
              "      <td>1.333333</td>\n",
              "      <td>161.02</td>\n",
              "      <td>4</td>\n",
              "      <td>4</td>\n",
              "      <td>4</td>\n",
              "      <td>4.0</td>\n",
              "      <td>12</td>\n",
              "      <td>Can't Loose Them</td>\n",
              "      <td>0.984244</td>\n",
              "      <td>0.919060</td>\n",
              "      <td>0.889962</td>\n",
              "      <td>2.793266</td>\n",
              "      <td>1</td>\n",
              "    </tr>\n",
              "    <tr>\n",
              "      <th>2113</th>\n",
              "      <td>15505.0</td>\n",
              "      <td>2011-07-07 13:33:00</td>\n",
              "      <td>2011-10-18 07:56:00</td>\n",
              "      <td>3497.14</td>\n",
              "      <td>7</td>\n",
              "      <td>2011-11-01</td>\n",
              "      <td>13.669444</td>\n",
              "      <td>NaN</td>\n",
              "      <td>4</td>\n",
              "      <td>4</td>\n",
              "      <td>4</td>\n",
              "      <td>4.0</td>\n",
              "      <td>12</td>\n",
              "      <td>Can't Loose Them</td>\n",
              "      <td>0.809911</td>\n",
              "      <td>0.855400</td>\n",
              "      <td>0.933418</td>\n",
              "      <td>2.598729</td>\n",
              "      <td>0</td>\n",
              "    </tr>\n",
              "    <tr>\n",
              "      <th>2098</th>\n",
              "      <td>15482.0</td>\n",
              "      <td>2010-12-16 10:08:00</td>\n",
              "      <td>2011-10-25 17:32:00</td>\n",
              "      <td>2503.50</td>\n",
              "      <td>8</td>\n",
              "      <td>2011-11-01</td>\n",
              "      <td>6.269444</td>\n",
              "      <td>4065.22</td>\n",
              "      <td>4</td>\n",
              "      <td>4</td>\n",
              "      <td>4</td>\n",
              "      <td>4.0</td>\n",
              "      <td>12</td>\n",
              "      <td>Can't Loose Them</td>\n",
              "      <td>0.909530</td>\n",
              "      <td>0.882211</td>\n",
              "      <td>0.883100</td>\n",
              "      <td>2.674841</td>\n",
              "      <td>1</td>\n",
              "    </tr>\n",
              "    <tr>\n",
              "      <th>3337</th>\n",
              "      <td>17365.0</td>\n",
              "      <td>2011-01-11 12:11:00</td>\n",
              "      <td>2011-10-20 12:07:00</td>\n",
              "      <td>4375.19</td>\n",
              "      <td>7</td>\n",
              "      <td>2011-11-01</td>\n",
              "      <td>11.495139</td>\n",
              "      <td>426.37</td>\n",
              "      <td>4</td>\n",
              "      <td>4</td>\n",
              "      <td>4</td>\n",
              "      <td>4.0</td>\n",
              "      <td>12</td>\n",
              "      <td>Can't Loose Them</td>\n",
              "      <td>0.844473</td>\n",
              "      <td>0.855400</td>\n",
              "      <td>0.957814</td>\n",
              "      <td>2.657687</td>\n",
              "      <td>1</td>\n",
              "    </tr>\n",
              "    <tr>\n",
              "      <th>...</th>\n",
              "      <td>...</td>\n",
              "      <td>...</td>\n",
              "      <td>...</td>\n",
              "      <td>...</td>\n",
              "      <td>...</td>\n",
              "      <td>...</td>\n",
              "      <td>...</td>\n",
              "      <td>...</td>\n",
              "      <td>...</td>\n",
              "      <td>...</td>\n",
              "      <td>...</td>\n",
              "      <td>...</td>\n",
              "      <td>...</td>\n",
              "      <td>...</td>\n",
              "      <td>...</td>\n",
              "      <td>...</td>\n",
              "      <td>...</td>\n",
              "      <td>...</td>\n",
              "      <td>...</td>\n",
              "    </tr>\n",
              "    <tr>\n",
              "      <th>2475</th>\n",
              "      <td>16061.0</td>\n",
              "      <td>2011-03-15 14:41:00</td>\n",
              "      <td>2011-03-15 14:41:00</td>\n",
              "      <td>-29.95</td>\n",
              "      <td>1</td>\n",
              "      <td>2011-11-01</td>\n",
              "      <td>230.388194</td>\n",
              "      <td>NaN</td>\n",
              "      <td>1</td>\n",
              "      <td>1</td>\n",
              "      <td>1</td>\n",
              "      <td>1.0</td>\n",
              "      <td>3</td>\n",
              "      <td>Require Activation</td>\n",
              "      <td>0.125794</td>\n",
              "      <td>0.170267</td>\n",
              "      <td>0.007116</td>\n",
              "      <td>0.303177</td>\n",
              "      <td>0</td>\n",
              "    </tr>\n",
              "    <tr>\n",
              "      <th>3533</th>\n",
              "      <td>17670.0</td>\n",
              "      <td>2011-04-26 09:12:00</td>\n",
              "      <td>2011-04-26 09:12:00</td>\n",
              "      <td>205.70</td>\n",
              "      <td>1</td>\n",
              "      <td>2011-11-01</td>\n",
              "      <td>188.616667</td>\n",
              "      <td>NaN</td>\n",
              "      <td>1</td>\n",
              "      <td>1</td>\n",
              "      <td>1</td>\n",
              "      <td>1.0</td>\n",
              "      <td>3</td>\n",
              "      <td>Require Activation</td>\n",
              "      <td>0.191105</td>\n",
              "      <td>0.170267</td>\n",
              "      <td>0.181703</td>\n",
              "      <td>0.543075</td>\n",
              "      <td>0</td>\n",
              "    </tr>\n",
              "    <tr>\n",
              "      <th>2484</th>\n",
              "      <td>16078.0</td>\n",
              "      <td>2011-03-01 09:47:00</td>\n",
              "      <td>2011-03-01 09:47:00</td>\n",
              "      <td>79.20</td>\n",
              "      <td>1</td>\n",
              "      <td>2011-11-01</td>\n",
              "      <td>244.592361</td>\n",
              "      <td>NaN</td>\n",
              "      <td>1</td>\n",
              "      <td>1</td>\n",
              "      <td>1</td>\n",
              "      <td>1.0</td>\n",
              "      <td>3</td>\n",
              "      <td>Require Activation</td>\n",
              "      <td>0.104956</td>\n",
              "      <td>0.170267</td>\n",
              "      <td>0.038374</td>\n",
              "      <td>0.313596</td>\n",
              "      <td>0</td>\n",
              "    </tr>\n",
              "    <tr>\n",
              "      <th>2497</th>\n",
              "      <td>16097.0</td>\n",
              "      <td>2011-04-13 13:47:00</td>\n",
              "      <td>2011-04-13 13:47:00</td>\n",
              "      <td>185.05</td>\n",
              "      <td>1</td>\n",
              "      <td>2011-11-01</td>\n",
              "      <td>201.425694</td>\n",
              "      <td>NaN</td>\n",
              "      <td>1</td>\n",
              "      <td>1</td>\n",
              "      <td>1</td>\n",
              "      <td>1.0</td>\n",
              "      <td>3</td>\n",
              "      <td>Require Activation</td>\n",
              "      <td>0.174079</td>\n",
              "      <td>0.170267</td>\n",
              "      <td>0.159085</td>\n",
              "      <td>0.503431</td>\n",
              "      <td>0</td>\n",
              "    </tr>\n",
              "    <tr>\n",
              "      <th>1536</th>\n",
              "      <td>14627.0</td>\n",
              "      <td>2011-02-01 10:49:00</td>\n",
              "      <td>2011-02-01 10:49:00</td>\n",
              "      <td>-21.85</td>\n",
              "      <td>1</td>\n",
              "      <td>2011-11-01</td>\n",
              "      <td>272.549306</td>\n",
              "      <td>NaN</td>\n",
              "      <td>1</td>\n",
              "      <td>1</td>\n",
              "      <td>1</td>\n",
              "      <td>1.0</td>\n",
              "      <td>3</td>\n",
              "      <td>Require Activation</td>\n",
              "      <td>0.073698</td>\n",
              "      <td>0.170267</td>\n",
              "      <td>0.007624</td>\n",
              "      <td>0.251588</td>\n",
              "      <td>0</td>\n",
              "    </tr>\n",
              "  </tbody>\n",
              "</table>\n",
              "<p>3935 rows × 19 columns</p>\n",
              "</div>"
            ],
            "text/plain": [
              "      customerid             reg_date  ...   rfm_pct  has_purchase\n",
              "1172     14085.0  2010-12-06 12:39:00  ...  2.810165             1\n",
              "1187     14112.0  2011-03-09 11:28:00  ...  2.793266             1\n",
              "2113     15505.0  2011-07-07 13:33:00  ...  2.598729             0\n",
              "2098     15482.0  2010-12-16 10:08:00  ...  2.674841             1\n",
              "3337     17365.0  2011-01-11 12:11:00  ...  2.657687             1\n",
              "...          ...                  ...  ...       ...           ...\n",
              "2475     16061.0  2011-03-15 14:41:00  ...  0.303177             0\n",
              "3533     17670.0  2011-04-26 09:12:00  ...  0.543075             0\n",
              "2484     16078.0  2011-03-01 09:47:00  ...  0.313596             0\n",
              "2497     16097.0  2011-04-13 13:47:00  ...  0.503431             0\n",
              "1536     14627.0  2011-02-01 10:49:00  ...  0.251588             0\n",
              "\n",
              "[3935 rows x 19 columns]"
            ]
          },
          "metadata": {},
          "execution_count": 77
        }
      ]
    }
  ]
}